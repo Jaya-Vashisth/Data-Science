{
 "cells": [
  {
   "cell_type": "markdown",
   "id": "9665149c",
   "metadata": {},
   "source": [
    "## Create a NLP Pipeline to 'Clean' the Reviews Data\n",
    "- Load Input File and Read Reviews\n",
    "- Tokenize\n",
    "- Remove Stopwards\n",
    "- Perform stemming\n",
    "- Write cleaned data to output file"
   ]
  },
  {
   "cell_type": "code",
   "execution_count": 1,
   "id": "39fd2ee2",
   "metadata": {},
   "outputs": [],
   "source": [
    "import numpy as np\n",
    "import pandas as pd\n"
   ]
  },
  {
   "cell_type": "code",
   "execution_count": 8,
   "id": "787641bd",
   "metadata": {},
   "outputs": [],
   "source": [
    "file = pd.read_csv('Train.csv')\n",
    "file\n",
    "review = file['review']"
   ]
  },
  {
   "cell_type": "code",
   "execution_count": 3,
   "id": "784f4737",
   "metadata": {},
   "outputs": [],
   "source": [
    "from nltk.tokenize import RegexpTokenizer\n",
    "from nltk.stem.porter import PorterStemmer\n",
    "from nltk.corpus import stopwords"
   ]
  },
  {
   "cell_type": "code",
   "execution_count": 4,
   "id": "82f7a4db",
   "metadata": {},
   "outputs": [],
   "source": [
    "import nltk"
   ]
  },
  {
   "cell_type": "code",
   "execution_count": 5,
   "id": "4a7be03d",
   "metadata": {},
   "outputs": [
    {
     "name": "stderr",
     "output_type": "stream",
     "text": [
      "[nltk_data] Downloading package stopwords to\n",
      "[nltk_data]     C:\\Users\\Dell\\AppData\\Roaming\\nltk_data...\n",
      "[nltk_data]   Unzipping corpora\\stopwords.zip.\n"
     ]
    },
    {
     "data": {
      "text/plain": [
       "True"
      ]
     },
     "execution_count": 5,
     "metadata": {},
     "output_type": "execute_result"
    }
   ],
   "source": [
    "nltk.download('stopwords')"
   ]
  },
  {
   "cell_type": "code",
   "execution_count": 7,
   "id": "eb6d1242",
   "metadata": {},
   "outputs": [],
   "source": [
    "#init objects\n",
    "\n",
    "tokenizer = RegexpTokenizer(r'\\w+')\n",
    "en_stopwords = set(stopwords.words('english'))\n",
    "ps = PorterStemmer()"
   ]
  },
  {
   "cell_type": "code",
   "execution_count": 9,
   "id": "ad84bab0",
   "metadata": {},
   "outputs": [
    {
     "data": {
      "text/plain": [
       "0        mature intelligent and highly charged melodram...\n",
       "1        http://video.google.com/videoplay?docid=211772...\n",
       "2        Title: Opera (1987) Director: Dario Argento Ca...\n",
       "3        I think a lot of people just wrote this off as...\n",
       "4        This is a story of two dogs and a cat looking ...\n",
       "                               ...                        \n",
       "39995    There are similarities between Ray Lawrence's ...\n",
       "39996    For starters, I once met the director when he ...\n",
       "39997    Much of \"Over Her Dead Body\" is so painfully u...\n",
       "39998    \"Lifeforce\" is a truly bizarre adaptation of t...\n",
       "39999    I saw this movie at a screener and its the bes...\n",
       "Name: review, Length: 40000, dtype: object"
      ]
     },
     "execution_count": 9,
     "metadata": {},
     "output_type": "execute_result"
    }
   ],
   "source": [
    "review"
   ]
  },
  {
   "cell_type": "code",
   "execution_count": 10,
   "id": "7d5147da",
   "metadata": {},
   "outputs": [],
   "source": [
    "def getstemmedReview(review):\n",
    "    \n",
    "    review = review.lower()\n",
    "    review = review.replace('<br/><br/>', ' ')\n",
    "    \n",
    "    #tokenize\n",
    "    tokens = tokenizer.tokenize(review)\n",
    "    new_tokens = [token for token in tokens if token not in en_stopwords]\n",
    "    stemmed_token = [ps.stem(token) for token in new_token]\n",
    "    \n",
    "    cleaned_review = ' '.join(stemmed_token)\n",
    "    return cleaned_review"
   ]
  },
  {
   "cell_type": "code",
   "execution_count": null,
   "id": "dbc87f21",
   "metadata": {},
   "outputs": [],
   "source": [
    "\n",
    "    "
   ]
  }
 ],
 "metadata": {
  "kernelspec": {
   "display_name": "Python 3 (ipykernel)",
   "language": "python",
   "name": "python3"
  },
  "language_info": {
   "codemirror_mode": {
    "name": "ipython",
    "version": 3
   },
   "file_extension": ".py",
   "mimetype": "text/x-python",
   "name": "python",
   "nbconvert_exporter": "python",
   "pygments_lexer": "ipython3",
   "version": "3.11.4"
  }
 },
 "nbformat": 4,
 "nbformat_minor": 5
}
