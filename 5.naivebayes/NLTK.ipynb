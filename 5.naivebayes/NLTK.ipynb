{
  "nbformat": 4,
  "nbformat_minor": 0,
  "metadata": {
    "colab": {
      "provenance": []
    },
    "kernelspec": {
      "name": "python3",
      "display_name": "Python 3"
    },
    "language_info": {
      "name": "python"
    }
  },
  "cells": [
    {
      "cell_type": "code",
      "execution_count": 1,
      "metadata": {
        "id": "-sd6cgnivfPK"
      },
      "outputs": [],
      "source": [
        "import nltk"
      ]
    },
    {
      "cell_type": "code",
      "source": [
        "from nltk.corpus import brown\n"
      ],
      "metadata": {
        "id": "IwY90J7DvqJk"
      },
      "execution_count": 2,
      "outputs": []
    },
    {
      "cell_type": "code",
      "source": [
        "nltk.download('brown')"
      ],
      "metadata": {
        "colab": {
          "base_uri": "https://localhost:8080/"
        },
        "id": "ga1IvaTMwK1k",
        "outputId": "e9068d12-077f-4b3d-93a0-264e4d39dfeb"
      },
      "execution_count": 3,
      "outputs": [
        {
          "output_type": "stream",
          "name": "stderr",
          "text": [
            "[nltk_data] Downloading package brown to /root/nltk_data...\n",
            "[nltk_data]   Unzipping corpora/brown.zip.\n"
          ]
        },
        {
          "output_type": "execute_result",
          "data": {
            "text/plain": [
              "True"
            ]
          },
          "metadata": {},
          "execution_count": 3
        }
      ]
    },
    {
      "cell_type": "code",
      "source": [
        "from nltk.corpus import brown\n",
        "brown.words()"
      ],
      "metadata": {
        "colab": {
          "base_uri": "https://localhost:8080/"
        },
        "id": "5frSnoCQwC7q",
        "outputId": "dab95ca7-7a02-4764-e91b-8e02fb3e416b"
      },
      "execution_count": 4,
      "outputs": [
        {
          "output_type": "execute_result",
          "data": {
            "text/plain": [
              "['The', 'Fulton', 'County', 'Grand', 'Jury', 'said', ...]"
            ]
          },
          "metadata": {},
          "execution_count": 4
        }
      ]
    },
    {
      "cell_type": "code",
      "source": [
        "brown.categories()"
      ],
      "metadata": {
        "colab": {
          "base_uri": "https://localhost:8080/"
        },
        "id": "xJ9JsC2PwaWn",
        "outputId": "fec09f20-a461-4da2-f545-ef919d8b8a77"
      },
      "execution_count": 5,
      "outputs": [
        {
          "output_type": "execute_result",
          "data": {
            "text/plain": [
              "['adventure',\n",
              " 'belles_lettres',\n",
              " 'editorial',\n",
              " 'fiction',\n",
              " 'government',\n",
              " 'hobbies',\n",
              " 'humor',\n",
              " 'learned',\n",
              " 'lore',\n",
              " 'mystery',\n",
              " 'news',\n",
              " 'religion',\n",
              " 'reviews',\n",
              " 'romance',\n",
              " 'science_fiction']"
            ]
          },
          "metadata": {},
          "execution_count": 5
        }
      ]
    },
    {
      "cell_type": "code",
      "source": [
        "data = brown.sents(categories = 'adventure')"
      ],
      "metadata": {
        "id": "97HW2kJgwwpt"
      },
      "execution_count": 6,
      "outputs": []
    },
    {
      "cell_type": "code",
      "source": [
        "len(data)\n"
      ],
      "metadata": {
        "colab": {
          "base_uri": "https://localhost:8080/"
        },
        "id": "WofqmcVQxICs",
        "outputId": "0fc5f41c-f071-4526-c38c-3be263b419bb"
      },
      "execution_count": 7,
      "outputs": [
        {
          "output_type": "execute_result",
          "data": {
            "text/plain": [
              "4637"
            ]
          },
          "metadata": {},
          "execution_count": 7
        }
      ]
    },
    {
      "cell_type": "code",
      "source": [
        "\n",
        "# sentece from adventure category\n",
        "' '.join(data[1])"
      ],
      "metadata": {
        "colab": {
          "base_uri": "https://localhost:8080/",
          "height": 36
        },
        "id": "4ZXKdixixKhi",
        "outputId": "a3d86189-8a87-4b73-93e3-f53cec9da465"
      },
      "execution_count": 8,
      "outputs": [
        {
          "output_type": "execute_result",
          "data": {
            "text/plain": [
              "'He was well rid of her .'"
            ],
            "application/vnd.google.colaboratory.intrinsic+json": {
              "type": "string"
            }
          },
          "metadata": {},
          "execution_count": 8
        }
      ]
    },
    {
      "cell_type": "code",
      "source": [],
      "metadata": {
        "id": "qg7a0p7hxf0a"
      },
      "execution_count": 8,
      "outputs": []
    },
    {
      "cell_type": "markdown",
      "source": [],
      "metadata": {
        "id": "CtLD1hnQ2fQz"
      }
    },
    {
      "cell_type": "markdown",
      "source": [
        "Bag of words Pipeline\n",
        "- Get the Data/Corpus\n",
        "- Tokenisationn , stopward removal\n",
        "- Stemming\n",
        "- Building a Vocab\n",
        "- Vecotorization\n",
        "- Classification"
      ],
      "metadata": {
        "id": "mTVgHQPc2fWy"
      }
    },
    {
      "cell_type": "code",
      "source": [],
      "metadata": {
        "id": "J26CEClm2xZ1"
      },
      "execution_count": 8,
      "outputs": []
    },
    {
      "cell_type": "markdown",
      "source": [
        "Tokenisation & Stopward Removal\n",
        "\n"
      ],
      "metadata": {
        "id": "1e7Vq7Tp6Dun"
      }
    },
    {
      "cell_type": "code",
      "source": [
        "from nltk.tokenize import sent_tokenize, word_tokenize\n",
        "nltk.download('punkt')"
      ],
      "metadata": {
        "colab": {
          "base_uri": "https://localhost:8080/"
        },
        "id": "brc8ZUri6Idx",
        "outputId": "8b454b9a-0481-4af1-c093-b5364eafb39d"
      },
      "execution_count": 9,
      "outputs": [
        {
          "output_type": "stream",
          "name": "stderr",
          "text": [
            "[nltk_data] Downloading package punkt to /root/nltk_data...\n",
            "[nltk_data]   Unzipping tokenizers/punkt.zip.\n"
          ]
        },
        {
          "output_type": "execute_result",
          "data": {
            "text/plain": [
              "True"
            ]
          },
          "metadata": {},
          "execution_count": 9
        }
      ]
    },
    {
      "cell_type": "code",
      "source": [
        "Document = \"\"\"Is was a very pleasant day. The weather was cool and there were light showers. I went to the market to buy some fruits.\"\"\"\n",
        "\n",
        "sentence = \"Send all the 50 documents related to chapters 1,2,3 at jaya@gmail.com\""
      ],
      "metadata": {
        "id": "WJpDW2J57GFg"
      },
      "execution_count": 10,
      "outputs": []
    },
    {
      "cell_type": "code",
      "source": [
        "sents = sent_tokenize(Document)\n",
        "print(sents)"
      ],
      "metadata": {
        "colab": {
          "base_uri": "https://localhost:8080/"
        },
        "id": "b_b5NS4x68UR",
        "outputId": "c04dcdeb-ad64-4e9b-a3b8-fafc1d1506d8"
      },
      "execution_count": 11,
      "outputs": [
        {
          "output_type": "stream",
          "name": "stdout",
          "text": [
            "['Is was a very pleasant day.', 'The weather was cool and there were light showers.', 'I went to the market to buy some fruits.']\n"
          ]
        }
      ]
    },
    {
      "cell_type": "code",
      "source": [
        "words = word_tokenize(sentence)"
      ],
      "metadata": {
        "id": "sEz-DRqW7Xhl"
      },
      "execution_count": 12,
      "outputs": []
    },
    {
      "cell_type": "code",
      "source": [
        "print(words)"
      ],
      "metadata": {
        "colab": {
          "base_uri": "https://localhost:8080/"
        },
        "id": "W-v-KljL8mvb",
        "outputId": "264afcc0-4e47-41ee-f505-25aa0a590b4a"
      },
      "execution_count": 13,
      "outputs": [
        {
          "output_type": "stream",
          "name": "stdout",
          "text": [
            "['Send', 'all', 'the', '50', 'documents', 'related', 'to', 'chapters', '1,2,3', 'at', 'jaya', '@', 'gmail.com']\n"
          ]
        }
      ]
    },
    {
      "cell_type": "code",
      "source": [
        "## Stopwords"
      ],
      "metadata": {
        "id": "ZYNjbdMs8qnD"
      },
      "execution_count": null,
      "outputs": []
    },
    {
      "cell_type": "code",
      "source": [
        "from nltk.corpus import stopwords\n",
        "nltk.download('stopwords')"
      ],
      "metadata": {
        "colab": {
          "base_uri": "https://localhost:8080/"
        },
        "id": "CYEMvt6v8_cI",
        "outputId": "8abca7f4-3b81-45f1-a6ee-31da1cdc9422"
      },
      "execution_count": null,
      "outputs": [
        {
          "output_type": "stream",
          "name": "stderr",
          "text": [
            "[nltk_data] Downloading package stopwords to /root/nltk_data...\n",
            "[nltk_data]   Unzipping corpora/stopwords.zip.\n"
          ]
        },
        {
          "output_type": "execute_result",
          "data": {
            "text/plain": [
              "True"
            ]
          },
          "metadata": {},
          "execution_count": 15
        }
      ]
    },
    {
      "cell_type": "code",
      "source": [
        "sw = set(stopwords.words('english'))"
      ],
      "metadata": {
        "id": "Ej3BX0dF9UoQ"
      },
      "execution_count": null,
      "outputs": []
    },
    {
      "cell_type": "code",
      "source": [
        "print(sw)"
      ],
      "metadata": {
        "colab": {
          "base_uri": "https://localhost:8080/"
        },
        "id": "bEvT_Olv9h7I",
        "outputId": "9646e6ab-6519-4e63-9313-8420ea978154"
      },
      "execution_count": null,
      "outputs": [
        {
          "output_type": "stream",
          "name": "stdout",
          "text": [
            "{'hasn', 'do', 'to', 'whom', 'between', 'all', \"hasn't\", 'before', 'as', 'not', 'any', 'ourselves', 'at', 'just', 'should', 'does', 'her', 'those', \"shouldn't\", 'him', 'after', 'yourself', 'herself', 'if', 'of', \"should've\", 'once', 'are', 'ours', 'that', 'your', 's', \"doesn't\", 'isn', \"that'll\", 'again', 'these', \"hadn't\", 'haven', 'above', 'themselves', 'i', 'here', 'no', 'wouldn', 'his', 'by', 'while', 'yours', 'you', 'why', 'over', 'other', \"couldn't\", 'them', 'did', 'be', 'nor', 'doing', 'aren', 'up', \"you've\", 'y', \"mightn't\", 'they', \"needn't\", 'most', 'same', 'o', 'mightn', 'in', 'than', \"you're\", 'an', 'very', 'itself', 'which', 'each', 'but', 'through', 've', \"wouldn't\", 'below', \"you'd\", 'it', \"she's\", 'more', 'such', 'being', 'myself', 'won', 'has', 'can', 'for', 'ain', 'didn', 'shan', 'am', 'until', 'now', \"don't\", 'their', 'during', 'who', 'had', 'down', 'how', 'my', \"shan't\", \"isn't\", \"you'll\", \"weren't\", 'into', 'was', 'have', 'mustn', 'theirs', 'a', \"it's\", 'hadn', 'from', 'then', 'off', 'hers', 'is', 'against', 'with', 'we', 'he', 'few', 'm', 't', 'only', \"aren't\", 'wasn', 'been', 'needn', 'our', 'on', 'weren', \"mustn't\", 'having', 'because', \"haven't\", 'what', 'the', 'there', \"won't\", 'couldn', 'ma', 'about', 'so', 'too', 'doesn', 'own', 'me', 'were', 'where', 'some', 'll', 'its', 'she', 'under', 'or', 'yourselves', 're', 'will', \"wasn't\", \"didn't\", 'when', 'shouldn', 'and', 'out', 'this', 'further', 'don', 'himself', 'both', 'd'}\n"
          ]
        }
      ]
    },
    {
      "cell_type": "code",
      "source": [
        "def remove_stopwords(text, stopwords):\n",
        "  useful_words = [w for w in text if w not in stopwords]\n",
        "\n",
        "  return useful_words"
      ],
      "metadata": {
        "id": "h5rUEK_69pIN"
      },
      "execution_count": null,
      "outputs": []
    },
    {
      "cell_type": "code",
      "source": [
        "# should be in small letters\n",
        "text = 'i am not bothered about him very much'\n",
        "useful_text = remove_stopwords(text.split(), sw)"
      ],
      "metadata": {
        "id": "Wk7xyb2W-UNT"
      },
      "execution_count": null,
      "outputs": []
    },
    {
      "cell_type": "code",
      "source": [
        "print(useful_text)"
      ],
      "metadata": {
        "colab": {
          "base_uri": "https://localhost:8080/"
        },
        "id": "jP0Oj66a-isO",
        "outputId": "e5200b92-5ba3-4108-fdae-8fc1a19d4a9c"
      },
      "execution_count": null,
      "outputs": [
        {
          "output_type": "stream",
          "name": "stdout",
          "text": [
            "['bothered', 'much']\n"
          ]
        }
      ]
    },
    {
      "cell_type": "code",
      "source": [
        "sentence = 'Send all the 50 documents related to chapter 1,2,3 at jaya@gmail.com'"
      ],
      "metadata": {
        "id": "8lGzAzmH-mT2"
      },
      "execution_count": 14,
      "outputs": []
    },
    {
      "cell_type": "code",
      "source": [
        "#take help from regexpal\n",
        "from nltk.tokenize import RegexpTokenizer"
      ],
      "metadata": {
        "id": "r6u4M_oNFj4Y"
      },
      "execution_count": 15,
      "outputs": []
    },
    {
      "cell_type": "code",
      "source": [
        "tokenizer = RegexpTokenizer('[a-zA-Z@.]+')\n",
        "useful_text = tokenizer.tokenize(sentence)"
      ],
      "metadata": {
        "id": "mO1lv2XaFonQ"
      },
      "execution_count": 19,
      "outputs": []
    },
    {
      "cell_type": "code",
      "source": [
        "useful_text"
      ],
      "metadata": {
        "colab": {
          "base_uri": "https://localhost:8080/"
        },
        "id": "MCZV7P3YF4Qo",
        "outputId": "8bb78683-87ec-4cfa-8cb2-5c97b75dec00"
      },
      "execution_count": 20,
      "outputs": [
        {
          "output_type": "execute_result",
          "data": {
            "text/plain": [
              "['Send',\n",
              " 'all',\n",
              " 'the',\n",
              " 'documents',\n",
              " 'related',\n",
              " 'to',\n",
              " 'chapter',\n",
              " 'at',\n",
              " 'jaya@gmail.com']"
            ]
          },
          "metadata": {},
          "execution_count": 20
        }
      ]
    },
    {
      "cell_type": "code",
      "source": [],
      "metadata": {
        "id": "a0BcklnOF7-U"
      },
      "execution_count": null,
      "outputs": []
    },
    {
      "cell_type": "markdown",
      "source": [
        "Stemming\n",
        "- Process that transorms particulars word into their radical form.\n",
        "- Preserve the sematics of the sentence without increasing the number of unique tokens\n",
        "- Example = jumps, jumping, jumped, jump"
      ],
      "metadata": {
        "id": "q5uhnBaUGRIl"
      }
    },
    {
      "cell_type": "code",
      "source": [
        "text = \"\"\"Foxes love to make jumps.The quick brown fox was seen jumping over the lovely dog from a 6ft feet high wall\"\"\""
      ],
      "metadata": {
        "id": "ZqG_9O5GGhof"
      },
      "execution_count": 22,
      "outputs": []
    },
    {
      "cell_type": "code",
      "source": [
        "from nltk.stem.snowball import SnowballStemmer, PorterStemmer\n",
        "from nltk.stem.lancaster import LancasterStemmer"
      ],
      "metadata": {
        "id": "5qyXEq6qGx-n"
      },
      "execution_count": 23,
      "outputs": []
    },
    {
      "cell_type": "code",
      "source": [
        "ps = PorterStemmer()"
      ],
      "metadata": {
        "id": "y1upHbjxHDbw"
      },
      "execution_count": 24,
      "outputs": []
    },
    {
      "cell_type": "code",
      "source": [
        "ps.stem('jumping')"
      ],
      "metadata": {
        "colab": {
          "base_uri": "https://localhost:8080/",
          "height": 36
        },
        "id": "DOG7esTfHDuL",
        "outputId": "cf287a94-e745-4d6a-93e6-a504c54b99d3"
      },
      "execution_count": 25,
      "outputs": [
        {
          "output_type": "execute_result",
          "data": {
            "text/plain": [
              "'jump'"
            ],
            "application/vnd.google.colaboratory.intrinsic+json": {
              "type": "string"
            }
          },
          "metadata": {},
          "execution_count": 25
        }
      ]
    },
    {
      "cell_type": "code",
      "source": [
        "ps.stem('lovely')"
      ],
      "metadata": {
        "colab": {
          "base_uri": "https://localhost:8080/",
          "height": 36
        },
        "id": "5Oz7nZw5HJFY",
        "outputId": "5388a9d8-fcb2-4dfe-8ace-2f21c929216b"
      },
      "execution_count": 26,
      "outputs": [
        {
          "output_type": "execute_result",
          "data": {
            "text/plain": [
              "'love'"
            ],
            "application/vnd.google.colaboratory.intrinsic+json": {
              "type": "string"
            }
          },
          "metadata": {},
          "execution_count": 26
        }
      ]
    },
    {
      "cell_type": "code",
      "source": [
        "ss = SnowballStemmer('english')"
      ],
      "metadata": {
        "id": "WeDwfhRTHQtQ"
      },
      "execution_count": 27,
      "outputs": []
    },
    {
      "cell_type": "code",
      "source": [
        "ss.stem('lovely')"
      ],
      "metadata": {
        "colab": {
          "base_uri": "https://localhost:8080/",
          "height": 36
        },
        "id": "CvDfkgeQHidy",
        "outputId": "ee935d13-dee1-486f-9b34-298b95ac9b02"
      },
      "execution_count": 28,
      "outputs": [
        {
          "output_type": "execute_result",
          "data": {
            "text/plain": [
              "'love'"
            ],
            "application/vnd.google.colaboratory.intrinsic+json": {
              "type": "string"
            }
          },
          "metadata": {},
          "execution_count": 28
        }
      ]
    },
    {
      "cell_type": "code",
      "source": [
        "#lemmatization\n",
        "from nltk.stem import WordNetLemmatizer\n",
        "wn = WordNetLemmatizer()\n",
        "wn.lemmatize('jumping')"
      ],
      "metadata": {
        "id": "4S1LBNNEHkNH"
      },
      "execution_count": null,
      "outputs": []
    },
    {
      "cell_type": "code",
      "source": [
        "#convert given words into vector\n"
      ],
      "metadata": {
        "id": "LCJik5RcIFNY"
      },
      "execution_count": 29,
      "outputs": []
    },
    {
      "cell_type": "markdown",
      "source": [
        "Building a Vocab & Vectorization"
      ],
      "metadata": {
        "id": "728HHol9IMT8"
      }
    },
    {
      "cell_type": "code",
      "source": [
        "corpus = [\n",
        "    'Indian cricket team will wins World cup, says capt. Virat Kohli. Work cup will be held at Sri Lanka',\n",
        "    'We will win next Lok Sabha Elections, says confident Indian PM',\n",
        "    'The nobel laurate won the hearts of the people.',\n",
        "    'The movie Raazi is an exciting Indian Spy thriller based upon a rea story.'\n",
        "]"
      ],
      "metadata": {
        "id": "G6YJPgYUIQ4F"
      },
      "execution_count": 30,
      "outputs": []
    },
    {
      "cell_type": "code",
      "source": [
        "from sklearn.feature_extraction.text import CountVectorizer"
      ],
      "metadata": {
        "id": "ocBCsQ3EI5zN"
      },
      "execution_count": 31,
      "outputs": []
    },
    {
      "cell_type": "code",
      "source": [
        "cv = CountVectorizer()"
      ],
      "metadata": {
        "id": "t7AF4Oc6JhgI"
      },
      "execution_count": 34,
      "outputs": []
    },
    {
      "cell_type": "code",
      "source": [
        "vectorized_corpus = cv.fit_transform(corpus)"
      ],
      "metadata": {
        "id": "GV2RYfFKJjwR"
      },
      "execution_count": 35,
      "outputs": []
    },
    {
      "cell_type": "code",
      "source": [
        "vectorized_corpus = vectorized_corpus.toarray()"
      ],
      "metadata": {
        "id": "i_FvQur1J3jI"
      },
      "execution_count": 37,
      "outputs": []
    },
    {
      "cell_type": "code",
      "source": [
        "vectorized_corpus[0]"
      ],
      "metadata": {
        "colab": {
          "base_uri": "https://localhost:8080/"
        },
        "id": "Yx_fr56DJ9gY",
        "outputId": "e67056d8-c220-488b-f9df-df9987b8537a"
      },
      "execution_count": 38,
      "outputs": [
        {
          "output_type": "execute_result",
          "data": {
            "text/plain": [
              "array([0, 1, 0, 1, 1, 0, 1, 2, 0, 0, 0, 1, 1, 0, 1, 1, 0, 0, 0, 0, 0, 0,\n",
              "       0, 0, 0, 0, 0, 1, 0, 1, 0, 1, 0, 0, 0, 1, 0, 2, 0, 1, 0, 1, 1])"
            ]
          },
          "metadata": {},
          "execution_count": 38
        }
      ]
    },
    {
      "cell_type": "code",
      "source": [
        "cv.vocabulary_"
      ],
      "metadata": {
        "colab": {
          "base_uri": "https://localhost:8080/"
        },
        "id": "edM1cgTjKNHL",
        "outputId": "352c098c-110e-4c5e-bbaa-8166035d2232"
      },
      "execution_count": 39,
      "outputs": [
        {
          "output_type": "execute_result",
          "data": {
            "text/plain": [
              "{'indian': 12,\n",
              " 'cricket': 6,\n",
              " 'team': 31,\n",
              " 'will': 37,\n",
              " 'wins': 39,\n",
              " 'world': 42,\n",
              " 'cup': 7,\n",
              " 'says': 27,\n",
              " 'capt': 4,\n",
              " 'virat': 35,\n",
              " 'kohli': 14,\n",
              " 'work': 41,\n",
              " 'be': 3,\n",
              " 'held': 11,\n",
              " 'at': 1,\n",
              " 'sri': 29,\n",
              " 'lanka': 15,\n",
              " 'we': 36,\n",
              " 'win': 38,\n",
              " 'next': 19,\n",
              " 'lok': 17,\n",
              " 'sabha': 26,\n",
              " 'elections': 8,\n",
              " 'confident': 5,\n",
              " 'pm': 23,\n",
              " 'the': 32,\n",
              " 'nobel': 20,\n",
              " 'laurate': 16,\n",
              " 'won': 40,\n",
              " 'hearts': 10,\n",
              " 'of': 21,\n",
              " 'people': 22,\n",
              " 'movie': 18,\n",
              " 'raazi': 24,\n",
              " 'is': 13,\n",
              " 'an': 0,\n",
              " 'exciting': 9,\n",
              " 'spy': 28,\n",
              " 'thriller': 33,\n",
              " 'based': 2,\n",
              " 'upon': 34,\n",
              " 'rea': 25,\n",
              " 'story': 30}"
            ]
          },
          "metadata": {},
          "execution_count": 39
        }
      ]
    },
    {
      "cell_type": "code",
      "source": [
        "#converting bag of words in a sentence\n",
        "numbers = vectorized_corpus[2]\n",
        "numbers\n"
      ],
      "metadata": {
        "colab": {
          "base_uri": "https://localhost:8080/"
        },
        "id": "kfd0s3oyKOws",
        "outputId": "974abed1-b6bd-4499-a5fa-507ab1c95756"
      },
      "execution_count": 53,
      "outputs": [
        {
          "output_type": "execute_result",
          "data": {
            "text/plain": [
              "array([0, 0, 0, 0, 0, 0, 0, 0, 0, 0, 1, 0, 0, 0, 0, 0, 1, 0, 0, 0, 1, 1,\n",
              "       1, 0, 0, 0, 0, 0, 0, 0, 0, 0, 3, 0, 0, 0, 0, 0, 0, 0, 1, 0, 0])"
            ]
          },
          "metadata": {},
          "execution_count": 53
        }
      ]
    },
    {
      "cell_type": "code",
      "source": [
        "s = cv.inverse_transform(vectorized_corpus)\n",
        "s"
      ],
      "metadata": {
        "colab": {
          "base_uri": "https://localhost:8080/"
        },
        "id": "Aat8-T-BLMGn",
        "outputId": "62f29b07-c53e-4c03-c627-3b2b99216fb3"
      },
      "execution_count": 59,
      "outputs": [
        {
          "output_type": "execute_result",
          "data": {
            "text/plain": [
              "[array(['at', 'be', 'capt', 'cricket', 'cup', 'held', 'indian', 'kohli',\n",
              "        'lanka', 'says', 'sri', 'team', 'virat', 'will', 'wins', 'work',\n",
              "        'world'], dtype='<U9'),\n",
              " array(['confident', 'elections', 'indian', 'lok', 'next', 'pm', 'sabha',\n",
              "        'says', 'we', 'will', 'win'], dtype='<U9'),\n",
              " array(['hearts', 'laurate', 'nobel', 'of', 'people', 'the', 'won'],\n",
              "       dtype='<U9'),\n",
              " array(['an', 'based', 'exciting', 'indian', 'is', 'movie', 'raazi', 'rea',\n",
              "        'spy', 'story', 'the', 'thriller', 'upon'], dtype='<U9')]"
            ]
          },
          "metadata": {},
          "execution_count": 59
        }
      ]
    },
    {
      "cell_type": "code",
      "source": [
        "\n",
        " ## Bigram = two conjuctive word can be used as a single feature"
      ],
      "metadata": {
        "id": "HLTsPjUYLZI-"
      },
      "execution_count": 60,
      "outputs": []
    },
    {
      "cell_type": "code",
      "source": [
        "sent_1 = ['this is good movie']\n",
        "sent_2 = ['this is not good movie']\n",
        "\n",
        "sent_3 = ['this is good movie but actor is not present']"
      ],
      "metadata": {
        "id": "WzIIQGehRyEB"
      },
      "execution_count": 94,
      "outputs": []
    },
    {
      "cell_type": "code",
      "source": [
        "cv = CountVectorizer(ngram_range = (1,3))"
      ],
      "metadata": {
        "id": "QVQbZKi4SsyG"
      },
      "execution_count": 95,
      "outputs": []
    },
    {
      "cell_type": "code",
      "source": [
        "docs =  [sent_1[0],sent_3[0]]\n",
        "cv.fit_transform(docs).toarray()"
      ],
      "metadata": {
        "colab": {
          "base_uri": "https://localhost:8080/"
        },
        "id": "evet7Q8yS04D",
        "outputId": "0fded613-7118-419f-913d-61fddc2283df"
      },
      "execution_count": 96,
      "outputs": [
        {
          "output_type": "execute_result",
          "data": {
            "text/plain": [
              "array([[0, 0, 0, 0, 0, 0, 1, 1, 0, 1, 1, 1, 0, 0, 1, 0, 0, 0, 0, 0, 1, 1,\n",
              "        1],\n",
              "       [1, 1, 1, 1, 1, 1, 1, 1, 1, 2, 1, 1, 1, 1, 1, 1, 1, 1, 1, 1, 1, 1,\n",
              "        1]])"
            ]
          },
          "metadata": {},
          "execution_count": 96
        }
      ]
    },
    {
      "cell_type": "code",
      "source": [
        "cv.vocabulary_"
      ],
      "metadata": {
        "colab": {
          "base_uri": "https://localhost:8080/"
        },
        "id": "v7VIhCH3TNNK",
        "outputId": "f3c74cca-92ab-4339-a7ab-1e77fabbb4e0"
      },
      "execution_count": 97,
      "outputs": [
        {
          "output_type": "execute_result",
          "data": {
            "text/plain": [
              "{'this': 20,\n",
              " 'is': 9,\n",
              " 'good': 6,\n",
              " 'movie': 14,\n",
              " 'this is': 21,\n",
              " 'is good': 10,\n",
              " 'good movie': 7,\n",
              " 'this is good': 22,\n",
              " 'is good movie': 11,\n",
              " 'but': 3,\n",
              " 'actor': 0,\n",
              " 'not': 17,\n",
              " 'present': 19,\n",
              " 'movie but': 15,\n",
              " 'but actor': 4,\n",
              " 'actor is': 1,\n",
              " 'is not': 12,\n",
              " 'not present': 18,\n",
              " 'good movie but': 8,\n",
              " 'movie but actor': 16,\n",
              " 'but actor is': 5,\n",
              " 'actor is not': 2,\n",
              " 'is not present': 13}"
            ]
          },
          "metadata": {},
          "execution_count": 97
        }
      ]
    },
    {
      "cell_type": "code",
      "source": [
        "# TF-IDF Normalisation\n",
        "# avoid features that occur very often, because they contain less info"
      ],
      "metadata": {
        "id": "Y9a5hlLWTSft"
      },
      "execution_count": 98,
      "outputs": []
    },
    {
      "cell_type": "code",
      "source": [
        "sent_1 = 'this is good movie'\n",
        "sent_2 = 'this is not good movie'\n",
        "sent_3 = 'this was good movie'\n",
        "\n",
        "corpus = [sent_1, sent_2,sent_3]"
      ],
      "metadata": {
        "id": "zRVGMcXHVhwF"
      },
      "execution_count": 109,
      "outputs": []
    },
    {
      "cell_type": "code",
      "source": [
        "from sklearn.feature_extraction.text import TfidfVectorizer"
      ],
      "metadata": {
        "id": "UKqTEQ1pVl0t"
      },
      "execution_count": 110,
      "outputs": []
    },
    {
      "cell_type": "code",
      "source": [
        "tfidf = TfidfVectorizer()"
      ],
      "metadata": {
        "id": "gl2rWkZWVsWa"
      },
      "execution_count": 111,
      "outputs": []
    },
    {
      "cell_type": "code",
      "source": [
        "vc = tfidf.fit_transform(corpus).toarray()"
      ],
      "metadata": {
        "id": "odzRLJkdVvst"
      },
      "execution_count": 112,
      "outputs": []
    },
    {
      "cell_type": "code",
      "source": [
        "vc"
      ],
      "metadata": {
        "colab": {
          "base_uri": "https://localhost:8080/"
        },
        "id": "_h1pwvrjVz9q",
        "outputId": "d7961580-bde1-4bcc-a139-842c1cd226b7"
      },
      "execution_count": 115,
      "outputs": [
        {
          "output_type": "execute_result",
          "data": {
            "text/plain": [
              "array([[0.46333427, 0.59662724, 0.46333427, 0.        , 0.46333427,\n",
              "        0.        ],\n",
              "       [0.3645444 , 0.46941728, 0.3645444 , 0.61722732, 0.3645444 ,\n",
              "        0.        ],\n",
              "       [0.41285857, 0.        , 0.41285857, 0.        , 0.41285857,\n",
              "        0.69903033]])"
            ]
          },
          "metadata": {},
          "execution_count": 115
        }
      ]
    },
    {
      "cell_type": "code",
      "source": [
        "tfidf.vocabulary_"
      ],
      "metadata": {
        "colab": {
          "base_uri": "https://localhost:8080/"
        },
        "id": "vbjjpE8kXdkn",
        "outputId": "71b7a9f3-ae89-4963-c9bc-7a096f4f5966"
      },
      "execution_count": 116,
      "outputs": [
        {
          "output_type": "execute_result",
          "data": {
            "text/plain": [
              "{'this': 4, 'is': 1, 'good': 0, 'movie': 2, 'not': 3, 'was': 5}"
            ]
          },
          "metadata": {},
          "execution_count": 116
        }
      ]
    },
    {
      "cell_type": "code",
      "source": [],
      "metadata": {
        "id": "xarvN3uEXo2I"
      },
      "execution_count": 114,
      "outputs": []
    }
  ]
}