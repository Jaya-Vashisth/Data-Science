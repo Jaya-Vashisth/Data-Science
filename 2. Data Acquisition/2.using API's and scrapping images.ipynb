{
 "cells": [
  {
   "cell_type": "markdown",
   "id": "cdc08829",
   "metadata": {},
   "source": [
    "# Using Web API's\n",
    "- Application Programming Interface - Set of routines over web server.\n",
    "- Connects Application & Database\n",
    "- Specify Data with URL\n",
    "- Retrieve Data & Parse it\n",
    "- API may return data in JSON , XML data formats"
   ]
  },
  {
   "cell_type": "code",
   "execution_count": 1,
   "id": "11d24364",
   "metadata": {},
   "outputs": [],
   "source": [
    "from urllib.request import urlopen"
   ]
  },
  {
   "cell_type": "code",
   "execution_count": 2,
   "id": "e8c301de",
   "metadata": {},
   "outputs": [],
   "source": [
    "# api url with the get parameter\n",
    "\n",
    "api_url = \"https://api.openweathermap.org/data/2.5/weather?q=London,uk&appid=c4828e7bc158f7b4b8ffe2339284f262\""
   ]
  },
  {
   "cell_type": "code",
   "execution_count": 6,
   "id": "fe91b6d0",
   "metadata": {},
   "outputs": [
    {
     "name": "stdout",
     "output_type": "stream",
     "text": [
      "b'{\"coord\":{\"lon\":-0.1257,\"lat\":51.5085},\"weather\":[{\"id\":804,\"main\":\"Clouds\",\"description\":\"overcast clouds\",\"icon\":\"04d\"}],\"base\":\"stations\",\"main\":{\"temp\":289.37,\"feels_like\":289.32,\"temp_min\":287.16,\"temp_max\":290.93,\"pressure\":1003,\"humidity\":87},\"visibility\":10000,\"wind\":{\"speed\":3.09,\"deg\":270},\"clouds\":{\"all\":100},\"dt\":1690185128,\"sys\":{\"type\":2,\"id\":2075535,\"country\":\"GB\",\"sunrise\":1690171914,\"sunset\":1690228906},\"timezone\":3600,\"id\":2643743,\"name\":\"London\",\"cod\":200}'\n"
     ]
    }
   ],
   "source": [
    "url_result = urlopen(api_url)\n",
    "\n",
    "data = url_result.read()\n",
    "\n",
    "print(data)"
   ]
  },
  {
   "cell_type": "code",
   "execution_count": 7,
   "id": "060a76ab",
   "metadata": {},
   "outputs": [
    {
     "name": "stdout",
     "output_type": "stream",
     "text": [
      "<class 'bytes'>\n"
     ]
    }
   ],
   "source": [
    "print(type(data))"
   ]
  },
  {
   "cell_type": "code",
   "execution_count": 8,
   "id": "cc11c515",
   "metadata": {},
   "outputs": [],
   "source": [
    "import json"
   ]
  },
  {
   "cell_type": "code",
   "execution_count": 10,
   "id": "4e2e9e71",
   "metadata": {},
   "outputs": [],
   "source": [
    "# convert byte data in json data\n",
    "json_data = json.loads(data)"
   ]
  },
  {
   "cell_type": "code",
   "execution_count": 23,
   "id": "545a3663",
   "metadata": {},
   "outputs": [
    {
     "name": "stdout",
     "output_type": "stream",
     "text": [
      "{'coord': {'lon': -0.1257, 'lat': 51.5085}, 'weather': [{'id': 804, 'main': 'Clouds', 'description': 'overcast clouds', 'icon': '04d'}], 'base': 'stations', 'main': {'temp': 289.37, 'feels_like': 289.32, 'temp_min': 287.16, 'temp_max': 290.93, 'pressure': 1003, 'humidity': 87}, 'visibility': 10000, 'wind': {'speed': 3.09, 'deg': 270}, 'clouds': {'all': 100}, 'dt': 1690185128, 'sys': {'type': 2, 'id': 2075535, 'country': 'GB', 'sunrise': 1690171914, 'sunset': 1690228906}, 'timezone': 3600, 'id': 2643743, 'name': 'London', 'cod': 200}\n"
     ]
    }
   ],
   "source": [
    "print(json_data)"
   ]
  },
  {
   "cell_type": "code",
   "execution_count": 13,
   "id": "21591913",
   "metadata": {},
   "outputs": [
    {
     "data": {
      "text/plain": [
       "{'lon': -0.1257, 'lat': 51.5085}"
      ]
     },
     "execution_count": 13,
     "metadata": {},
     "output_type": "execute_result"
    }
   ],
   "source": [
    "json_data['coord']"
   ]
  },
  {
   "cell_type": "code",
   "execution_count": 18,
   "id": "49c0ad7b",
   "metadata": {},
   "outputs": [
    {
     "data": {
      "text/plain": [
       "dict_keys(['coord', 'weather', 'base', 'main', 'visibility', 'wind', 'clouds', 'dt', 'sys', 'timezone', 'id', 'name', 'cod'])"
      ]
     },
     "execution_count": 18,
     "metadata": {},
     "output_type": "execute_result"
    }
   ],
   "source": [
    "json_data.keys()"
   ]
  },
  {
   "cell_type": "code",
   "execution_count": 20,
   "id": "ec68ca57",
   "metadata": {},
   "outputs": [
    {
     "name": "stdout",
     "output_type": "stream",
     "text": [
      "{\"coord\": {\"lon\": -0.1257, \"lat\": 51.5085}, \"weather\": [{\"id\": 804, \"main\": \"Clouds\", \"description\": \"overcast clouds\", \"icon\": \"04d\"}], \"base\": \"stations\", \"main\": {\"temp\": 289.37, \"feels_like\": 289.32, \"temp_min\": 287.16, \"temp_max\": 290.93, \"pressure\": 1003, \"humidity\": 87}, \"visibility\": 10000, \"wind\": {\"speed\": 3.09, \"deg\": 270}, \"clouds\": {\"all\": 100}, \"dt\": 1690185128, \"sys\": {\"type\": 2, \"id\": 2075535, \"country\": \"GB\", \"sunrise\": 1690171914, \"sunset\": 1690228906}, \"timezone\": 3600, \"id\": 2643743, \"name\": \"London\", \"cod\": 200}\n"
     ]
    }
   ],
   "source": [
    "# converting json data into string\n",
    "\n",
    "json_string = json.dumps(json_data)\n",
    "print(json_string)"
   ]
  },
  {
   "cell_type": "code",
   "execution_count": 21,
   "id": "0d5adb83",
   "metadata": {},
   "outputs": [
    {
     "data": {
      "text/plain": [
       "str"
      ]
     },
     "execution_count": 21,
     "metadata": {},
     "output_type": "execute_result"
    }
   ],
   "source": [
    "type(json_string)"
   ]
  },
  {
   "cell_type": "markdown",
   "id": "a9cd49a2",
   "metadata": {},
   "source": [
    "# Request Liberary"
   ]
  },
  {
   "cell_type": "code",
   "execution_count": 24,
   "id": "2d0c520a",
   "metadata": {},
   "outputs": [
    {
     "name": "stdout",
     "output_type": "stream",
     "text": [
      "Defaulting to user installation because normal site-packages is not writeable\n",
      "Collecting requests\n",
      "  Downloading requests-2.31.0-py3-none-any.whl (62 kB)\n",
      "                                              0.0/62.6 kB ? eta -:--:--\n",
      "                                              0.0/62.6 kB ? eta -:--:--\n",
      "     --------------------------               41.0/62.6 kB ? eta -:--:--\n",
      "     -------------------------------------  61.4/62.6 kB 825.8 kB/s eta 0:00:01\n",
      "     -------------------------------------- 62.6/62.6 kB 670.9 kB/s eta 0:00:00\n",
      "Collecting charset-normalizer<4,>=2 (from requests)\n",
      "  Downloading charset_normalizer-3.2.0-cp311-cp311-win_amd64.whl (96 kB)\n",
      "                                              0.0/96.6 kB ? eta -:--:--\n",
      "     ----------------                         41.0/96.6 kB ? eta -:--:--\n",
      "     -------------------------                61.4/96.6 kB 3.2 MB/s eta 0:00:01\n",
      "     ---------------------------------------- 96.6/96.6 kB 1.1 MB/s eta 0:00:00\n",
      "Requirement already satisfied: idna<4,>=2.5 in c:\\users\\dell\\appdata\\roaming\\python\\python311\\site-packages (from requests) (3.4)\n",
      "Collecting urllib3<3,>=1.21.1 (from requests)\n",
      "  Downloading urllib3-2.0.4-py3-none-any.whl (123 kB)\n",
      "                                              0.0/123.9 kB ? eta -:--:--\n",
      "     ----------------------                  71.7/123.9 kB 3.8 MB/s eta 0:00:01\n",
      "     -------------------------------------- 123.9/123.9 kB 1.8 MB/s eta 0:00:00\n",
      "Collecting certifi>=2017.4.17 (from requests)\n",
      "  Downloading certifi-2023.7.22-py3-none-any.whl (158 kB)\n",
      "                                              0.0/158.3 kB ? eta -:--:--\n",
      "     ----------------------                  92.2/158.3 kB 5.1 MB/s eta 0:00:01\n",
      "     -------------------------------------- 158.3/158.3 kB 1.9 MB/s eta 0:00:00\n",
      "Installing collected packages: urllib3, charset-normalizer, certifi, requests\n",
      "Successfully installed certifi-2023.7.22 charset-normalizer-3.2.0 requests-2.31.0 urllib3-2.0.4\n"
     ]
    },
    {
     "name": "stderr",
     "output_type": "stream",
     "text": [
      "  WARNING: The script normalizer.exe is installed in 'C:\\Users\\Dell\\AppData\\Roaming\\Python\\Python311\\Scripts' which is not on PATH.\n",
      "  Consider adding this directory to PATH or, if you prefer to suppress this warning, use --no-warn-script-location.\n",
      "\n",
      "[notice] A new release of pip is available: 23.1.2 -> 23.2\n",
      "[notice] To update, run: python.exe -m pip install --upgrade pip\n"
     ]
    }
   ],
   "source": [
    "# !pip install requests"
   ]
  },
  {
   "cell_type": "code",
   "execution_count": 26,
   "id": "9ef00697",
   "metadata": {},
   "outputs": [],
   "source": [
    "import requests"
   ]
  },
  {
   "cell_type": "code",
   "execution_count": 37,
   "id": "fdd0c511",
   "metadata": {},
   "outputs": [],
   "source": [
    "url = \"http://graph.facebook.com/10/picture?type=large\""
   ]
  },
  {
   "cell_type": "code",
   "execution_count": 38,
   "id": "24d998ab",
   "metadata": {},
   "outputs": [],
   "source": [
    "# made get request\n",
    "r = requests.get(url)"
   ]
  },
  {
   "cell_type": "code",
   "execution_count": 39,
   "id": "59443cc6",
   "metadata": {},
   "outputs": [
    {
     "name": "stdout",
     "output_type": "stream",
     "text": [
      "b'\\xff\\xd8\\xff\\xe0\\x00\\x10JFIF\\x00\\x01\\x01\\x00\\x00\\x01\\x00\\x01\\x00\\x00\\xff\\xed\\x00\\x9cPhotoshop 3.0\\x008BIM\\x04\\x04\\x00\\x00\\x00\\x00\\x00\\x80\\x1c\\x02g\\x00\\x14Oo_4h-UroqduidscdVKp\\x1c\\x02(\\x00bFBMD0a000a820100009c0200006d03000090030000c30300004804000037050000e10500001f06000074060000ef070000\\xff\\xdb\\x00C\\x00\\x06\\x04\\x05\\x06\\x05\\x04\\x06\\x06\\x05\\x06\\x07\\x07\\x06\\x08\\n\\x10\\n\\n\\t\\t\\n\\x14\\x0e\\x0f\\x0c\\x10\\x17\\x14\\x18\\x18\\x17\\x14\\x16\\x16\\x1a\\x1d%\\x1f\\x1a\\x1b#\\x1c\\x16\\x16 , #&\\')*)\\x19\\x1f-0-(0%()(\\xff\\xdb\\x00C\\x01\\x07\\x07\\x07\\n\\x08\\n\\x13\\n\\n\\x13(\\x1a\\x16\\x1a((((((((((((((((((((((((((((((((((((((((((((((((((\\xff\\xc2\\x00\\x11\\x08\\x00\\xc8\\x00\\xc8\\x03\\x01\"\\x00\\x02\\x11\\x01\\x03\\x11\\x01\\xff\\xc4\\x00\\x1a\\x00\\x01\\x01\\x01\\x01\\x01\\x01\\x01\\x00\\x00\\x00\\x00\\x00\\x00\\x00\\x00\\x00\\x00\\x04\\x05\\x01\\x03\\x02\\x06\\xff\\xc4\\x00\\x15\\x01\\x01\\x01\\x00\\x00\\x00\\x00\\x00\\x00\\x00\\x00\\x00\\x00\\x00\\x00\\x00\\x00\\x00\\x01\\xff\\xda\\x00\\x0c\\x03\\x01\\x00\\x02\\x10\\x03\\x10\\x00\\x00\\x01\\xfd\\xc8\\xb0\\x00\\x00\\x00\\x00\\x00\\x00\\x00\\x00\\x00\\x00\\x00\\x01\\xdf\\xadB*)G\\x97\\xcf\\xb9r|\\xb6#\\xb27x\\x00\\x00\\x00\\x00\\x00\\x03\\xd4\\xd0\\xf6%\\x00\\x00\\'\\xcc\\xdb\\xc8\\xb3\\xcc\\x00\\x00\\x00\\x00\\x00\\xaeKK\\x84\\xa0\\x00\\x03/S1\\'\\x14\\x00\\x00\\x00\\x00\\n\\xe4\\xbc\\xb0J\\x00\\x002\\xb5s\\xd2A@\\x00\\x00\\x00\\x00\\xd5\\xca\\xd1*\\x12\\x80\\x00\\t\\xa9\\x89!\\x14\\x00\\x00\\x00\\x00\\x0f\\xbf\\x81\\xb3\\xf5-R\\x80\\x00\\x1eYu\\xc5`\\x00\\x00\\x00\\x00\\x00\\x07\\xb6\\xae%\\xe5\\x82P\\x1c\\xecD\\xbee\\x80\\x00\\x00\\x00\\x00\\x00\\x0b\\xa1\\xd2)\\x12\\x80\\x8a\\xd9\\x8c\\xd1`\\x00\\x00\\x00\\x00\\x00}\\xdaK\\xa9\\xd4\\xa0\\x00\\xe7FW\\x8e\\xdc\\x96g\\xbe\\xfe\\x00\\x00\\x00\\x01a-\\xb5\\xf69\\xd1@\\x00\\x00\\x00\\xe4\\x96\\x0co\\x9d\\xa8l\\x8c\\x00>\\xbetOObP\\x00\\x00\\x00\\x00\\x00\\x00<s6eL\\xe1]\\xd9\\x0e\\x89@\\x00\\x00\\x00\\x00\\x00\\x00p1\\x85\\x9f\\xff\\xc4\\x00%\\x10\\x00\\x02\\x01\\x02\\x06\\x02\\x02\\x03\\x00\\x00\\x00\\x00\\x00\\x00\\x00\\x00\\x01\\x02\\x03\\x000\\x04\\x11\\x12 !@\"3\\x102\\x131P\\xff\\xda\\x00\\x08\\x01\\x01\\x00\\x01\\x05\\x02\\xfe\\xe2\\xc2M\\x08V\\xbf\\x1a\\xd1\\x89M:\\x14=$]E\\x14(\\xd8\\xeb\\xa9L\\x06\\x8f\\x1d\\x18\\x97J\\xef\\x995\\x0b\\xf1\\x8c\\xde\\xcb\\x8c\\x9e\\xf6\\x1f\\xedfoe\\xec7\\xee\\xcc\\xfe\\xcb\\xd8\\x7f\\xb5\\x99\\xbd\\x97\\xa0KS\\xa6W\\xe2\\xf5\\xd9\\xc4}/a\\xcf\\x8d\\x9cA\\xbe\\xacT\\xa9\\xd4\\xbb\\xe4m*Nf\\xfe\\x1c\\xf8o\\xc4\\x9e\\x8cM\\xa5\\xb7\\x1e\\x03\\xb6\\xa6\\xe8\\xe1\\xc9\\xdd\\x89\\xe9\\xe1\\xb7bzxq\\xe1\\xb7\\x10<:1\\xa1r8\\x1bO\"D(o*\\x96\\xa4\\x86\\xd3\\xc3L\\xa5m\\x80M$48\\xb8y\\xa7\\x86\\x88\"\\xc2C@\\x01\\xd0 \\x1axv\\x81\\x99\\x8e0\\xbdI#\\rDd~ \\\\\\x87Vu\\xcc|\\x0e\\x07T\\xf2+\\xff\\xc4\\x00\\x14\\x11\\x01\\x00\\x00\\x00\\x00\\x00\\x00\\x00\\x00\\x00\\x00\\x00\\x00\\x00\\x00\\x00p\\xff\\xda\\x00\\x08\\x01\\x03\\x01\\x01?\\x01)\\xff\\xc4\\x00\\x16\\x11\\x00\\x03\\x00\\x00\\x00\\x00\\x00\\x00\\x00\\x00\\x00\\x00\\x00\\x00\\x00\\x00\\x010p\\xff\\xda\\x00\\x08\\x01\\x02\\x01\\x01?\\x01\\x8e\\x16\\xff\\x00\\xff\\xc4\\x00#\\x10\\x00\\x01\\x04\\x01\\x04\\x02\\x03\\x01\\x00\\x00\\x00\\x00\\x00\\x00\\x00\\x00\\x01\\x00\\x11!0@ \"Qa\\x12A\\x101P2\\xff\\xda\\x00\\x08\\x01\\x01\\x00\\x06?\\x02\\xfd\\xc9\\x85\\xca\\xfeB\\xfa\\xc4`\\xa3K(8]\\xd0\\xfe\\xf0\\x05F\\xf3Q\\xbc\\xd4o5\\x1b\\xfc\\xaa\\xf2\\xbcd\\xb5@^\\xe1\\x03C\\xa78\\r\\xc5\\x00`\\xf5C\\xe1\\x11\\xebP\\xe3\\x0c\\xea\\x1f\\x97\\xd5\\x1d_\\x0bu[T\\xd7\\x0br\\x8b%mSF\\xe5\\x18\\x12\\xb6\\xe9`\\xbb\\xc4\\xed1\\xf9~q\\x9f\\x8c\\xbf\\xff\\xc4\\x00$\\x10\\x01\\x00\\x01\\x03\\x04\\x02\\x02\\x03\\x01\\x00\\x00\\x00\\x00\\x00\\x00\\x00\\x01\\x11\\x00!10@AQ a\\x10\\xb1Pq\\x81\\xa1\\xff\\xda\\x00\\x08\\x01\\x01\\x00\\x01?!\\xfc\\xd8+\\x01-e\\xa5\\x03\\x99\\xfe\\xbe\\x10\\xee\\x1f\\xaa\\x8878viY\\n\\x1f\\xdf\\x10eD3zh*\\x12\\x1d\\x8c\\x7fk\\xba\\x16\\x16\\x1b\\x08\\xf7\\x19\\xd2\\x8a\\xfb\\xd77\\xba?\\x07\\x8f\\xf8\\x8dwk\\xd6\\x92\\x9d~\\x00\\x9d\\xde4\\xa5A\\xcb}w?\\xafK\\xed\\xd7\\x99\\xf2\\x1d/\\xbb\\xd8L\\xf7\\x86\\x869-3dv\\x12.\\xcd\\x0f\\xb2\\xd8\\xdd\\xdc\\xac\\xd1\\x7f$\"\\xe0\\xa9-\\x91\\xc2a\\x8f$\\xdb7l\\xc5\\x9f\\x90\\xb3\\xd9\\xc1>\\xdf)\\'\\xd3\\xb2\\xe9\\x1c\\x9a\\x00\\x06\\x0f  \\xe1\\xae\\xd1\\xc1\\xd7B\\x0c\\xd0\\x97R\\xf5A\\x04\\x18\\xd0I!\\xc5\\x0bu\\x0fT\\x84\\x18\\xd3v\\x0c\\xb4%\\xdc\\xfa(\\x02\\x04\\x1a\\x80\\x10$\\xa1n\\xe3\\xd3N\\xc1\\x87\\xcc\\xbe)\\x9b\\xdb\\xea\\x89\\x81\\x06\\xc0\\x98\\x12S\\x17\\xbf\\xd56\\xcf\\x83\\x15\\xc5\\xa0{\\xef\\xb4\\x07\\xae\\xf4\\xcda>o\\xbc\\xfd6\\xd6\\xde~\\x01(wB\\x00\\xe3l$\\x1ei!N\\xab\\xff\\xda\\x00\\x0c\\x03\\x01\\x00\\x02\\x00\\x03\\x00\\x00\\x00\\x10\\xfb\\xef\\xbe\\xfb\\xef\\xbe\\xfb\\xef\\xbe\\xfb\\xef\\xbe\\xfa\\xef\\xecWo\\xbe\\xfb\\xef\\xbe\\xfb\\xa7<\\xf3\\xc6~\\xfb\\xef\\xbe\\xfb\\xea\\xbc\\xf3\\xcf;\\xfb\\xef\\xbe\\xfb\\xef\\xbe\\xf3\\xcf<\\xff\\x00\\xef\\xbe\\xfb\\xef\\xbe\\xe7\\xcf<\\xf2\\xbf\\xbe\\xfb\\xef\\xbe\\xfb\\xe7<\\xf3\\xcb~\\xfb\\xef\\xbe\\xfb\\xef\\x99\\xf3\\xce\\x1e\\xfb\\xef\\xbe\\xfb\\xef\\xbe\\xf3\\xcf>\\xfb\\xef\\xbe\\xfb\\xef\\xbe\\xc9o<\\xf1\\x1d\\xbe\\xfb\\xef\\xbe\\x9f\\xcf<\\xf3\\xcf,\\xd7\\xef\\xaas\\xcf<\\xf3\\xcf<\\xf3\\xc2\\xfew\\xcf<\\xf3\\xcf<\\xf3\\xcf<\\x0b\\xff\\xc4\\x00\\x1a\\x11\\x00\\x02\\x03\\x01\\x01\\x00\\x00\\x00\\x00\\x00\\x00\\x00\\x00\\x00\\x00\\x00\\x010\\x10\\x11 \\x00@\\xff\\xda\\x00\\x08\\x01\\x03\\x01\\x01?\\x10\\xf0\\x81\\xd5\\x14\\xe2\\x81\\x92\\x81\\x92\\x81\\x92\\xd2\\x90\\xd1%5\\x9a\\xdd\"\\xa4,\\xc0o\\xff\\xc4\\x00\\x1b\\x11\\x01\\x00\\x03\\x01\\x01\\x01\\x01\\x00\\x00\\x00\\x00\\x00\\x00\\x00\\x00\\x00\\x01\\x11 0\\x00\\x101@\\xff\\xda\\x00\\x08\\x01\\x02\\x01\\x01?\\x10\\xfc+\\x1d=<;\\x18?*`\\xd4\\xc1\\xa9\\x8bC\\x14\\xf4\\xc9\\xf4\\xc6yf\\x83i\\xe5\\xbc\\xf0\\xfa\\xb1\\x98\\xee\\xff\\xc4\\x00*\\x10\\x01\\x00\\x01\\x02\\x04\\x05\\x03\\x05\\x01\\x01\\x00\\x00\\x00\\x00\\x00\\x00\\x01\\x11\\x001!0AQ @a\\x81\\xa1q\\xc1\\xf0\\x10\\x91\\xb1\\xd1\\xe1\\xf1P\\xff\\xda\\x00\\x08\\x01\\x01\\x00\\x01?\\x10\\xff\\x00\\xb6iI`%\\xa8\\xa4\\x1d\\xae\\xd6\\xbb\\xba\\xc3\\xf1A\\xdb\\xb8M$\\twQW\\x8a\\xd8\\xd7\\x93\\x19\\xea.\\x81Wr\\xd5]\\xe1p\\xe2q\\x1d\\x9a`\\x8b\\xd8\\x8aR\\xe0\\xc1\\x1eD$\\x1f\\x122\\rG\\x0eH\\xd4\\xdb\\x90\\x9a\\xc9\\x94\\xbd\\x0cr\\x80\\x1c\\x01G\\xa5\\xf3\\xe4\\xf9\\x15\\xca1\\xd5\\x07\\xc6\\x7f\\x86{\\xe5|\\x06\\xd9\\xf1n\\xa7\\xe7\\xfb\\x95\\xe8\\x04<\\x19\\xf2\\xf3\\x81\\r\\x11\\x95$\\xc4\\xc2:9\\xf3\\x1d\\xa1\\xe7)\\xc1\\xeas\\xc56\\xeb\\xb3\\xf1\\xca<\\x07\\x1b\\xff\\x00\\x07\\xbey\\x85\\xc6\\xc8\\xd9(\\x85\"\\x13\\x1bdI\\x81 \\x02\\xebO\\xc4\\xde\\xe4\\'\\x8b\\xf8\\x1c\\x7fy\\x18\\xa3\\xd5\\xfe\\x0f~F\\x1b\\xe0\\x18\\xd2\\x00\\x88\\x8e\"q*`\\x12\\xad2\\xf8\\x0e\\x01\\xb1\\xa7$\\x83L,\\xb4\\x99\\xe2\\x18(\\x91M\\xd3\\x93\\xf5\\xb2\\x1e8\\xbd\\x0c\\xa7\\x8eO\\x13\\x17\\x9e\\xd6\\xf6\\xe2\\xc0\\xc5\\xa7\\xb5\\xbd\\xf9 \\x10\"\\xff\\x00\\x8fZ\\x10\\xe0 8\\x849\\x08JA\"\\xaf\\xfa\\xf5\\xcf\\x92\\x95\\xab\\xa1\\xde\\xa0\\xfa)o\\xed\\x01\\x00\\x0b\\x06@0\\n\\xb8\\xd4\\x9fU-\\xfc\\xa9)Z:=\\xf2\\xe7w\\xa5\\xa5@Hv\\xbe\\xf4$\\x01`#1H\\x12\\xe2MHHv\\xbe\\xf5;\\xbdmx\\xc2\\x80*\\xd85\\xa8GF\\xdb\\xf7hI\\xc3C\\x90Rt\\xd1\\xa9FF\\xfb\\xf6h)\\x02%\\xc7N\\x01\\xa2T\\x05\\x12Xk\\xfe\\x9c\\xa3$\\x82\\xb7\\xedCD\\xa8O\\xa9Cmt\\xe5\\x85\\r\\xbd\\xd4\\xfa1\\x97PP\\xd8@\\x0eXl \\x8d3\\x97P\\xd7\\xff\\xd9'\n"
     ]
    }
   ],
   "source": [
    "#content is in binary \n",
    "print(r.content)"
   ]
  },
  {
   "cell_type": "code",
   "execution_count": 40,
   "id": "86ec2927",
   "metadata": {},
   "outputs": [],
   "source": [
    "# 'wb' represent write binary \n",
    "with open(\"sample_pic.jpg\",'wb') as f:\n",
    "    f.write(r.content  )"
   ]
  },
  {
   "cell_type": "markdown",
   "id": "03591e50",
   "metadata": {},
   "source": [
    "#  scraping images"
   ]
  },
  {
   "cell_type": "code",
   "execution_count": 41,
   "id": "eea11d41",
   "metadata": {},
   "outputs": [
    {
     "name": "stdout",
     "output_type": "stream",
     "text": [
      "Defaulting to user installation because normal site-packages is not writeable\n",
      "Collecting html5lib\n",
      "  Downloading html5lib-1.1-py2.py3-none-any.whl (112 kB)\n",
      "                                              0.0/112.2 kB ? eta -:--:--\n",
      "     -------------                         41.0/112.2 kB 991.0 kB/s eta 0:00:01\n",
      "     -------------------------------------- 112.2/112.2 kB 1.3 MB/s eta 0:00:00\n",
      "Requirement already satisfied: six>=1.9 in c:\\users\\dell\\appdata\\roaming\\python\\python311\\site-packages (from html5lib) (1.16.0)\n",
      "Requirement already satisfied: webencodings in c:\\users\\dell\\appdata\\roaming\\python\\python311\\site-packages (from html5lib) (0.5.1)\n",
      "Installing collected packages: html5lib\n",
      "Successfully installed html5lib-1.1\n"
     ]
    },
    {
     "name": "stderr",
     "output_type": "stream",
     "text": [
      "\n",
      "[notice] A new release of pip is available: 23.1.2 -> 23.2\n",
      "[notice] To update, run: python.exe -m pip install --upgrade pip\n"
     ]
    }
   ],
   "source": [
    "# !pip install html5lib"
   ]
  },
  {
   "cell_type": "code",
   "execution_count": 42,
   "id": "8c7cf62d",
   "metadata": {},
   "outputs": [],
   "source": [
    "import bs4"
   ]
  },
  {
   "cell_type": "code",
   "execution_count": 43,
   "id": "9d08e60d",
   "metadata": {},
   "outputs": [],
   "source": [
    "url = \"https://www.passiton.com/inspirational-quotes?page=2\""
   ]
  },
  {
   "cell_type": "code",
   "execution_count": 44,
   "id": "c4eba24f",
   "metadata": {},
   "outputs": [],
   "source": [
    "result = requests.get(url)"
   ]
  },
  {
   "cell_type": "code",
   "execution_count": 46,
   "id": "a30a76a2",
   "metadata": {},
   "outputs": [
    {
     "data": {
      "text/plain": [
       "b'<!DOCTYPE html>\\n<html class=\"no-js\" dir=\"ltr\" lang=\"en-US\">\\n<head>\\n  <meta charset=\"utf-8\">\\n  <meta http-equiv=\"content-type\" content=\"text/html; charset=utf-8\" />\\n  <meta http-equiv=\"X-UA-Compatible\" content=\"IE=edge\" />\\n  <meta name=\"viewport\" content=\"width=device-width,initial-scale=1.0\" />\\n  <title>Inspirational Quotes - Motivational Quotes - | The Foundation for a Better Life</title>\\n<meta name=\"description\" content=\"Find the perfect quotation from our hand-picked collection of inspiring quotes by hundreds of authors.\">\\n<meta name=\"keywords\" content=\"pass, it, on, passiton, values, kindness\">\\n<meta name=\"twitter:site_name\" content=\"The Foundation for a Better Life\">\\n<meta name=\"twitter:site\" content=\"@passiton_values\">\\n<meta name=\"twitter:card\" content=\"summary\">\\n<meta name=\"twitter:description\" content=\"Thank you for visiting.\">\\n<meta name=\"twitter:image\" content=\"https://www.passiton.com/passiton_fbl.jpg\">\\n<meta property=\"og:url\" content=\"https://www.passiton.com/inspirational-quotes?page=2\">\\n<meta property=\"og:site_name\" content=\"The Foundation for a Better Life\">\\n<meta property=\"og:title\" content=\"Welcome to PassItOn.com\">\\n<meta property=\"og:image\" content=\"https://www.passiton.com/passiton_fbl.jpg\">\\n<meta property=\"og:description\" content=\"Thank you for visiting.\">\\n<meta property=\"og:type\" content=\"website\">\\n  <link rel=\"apple-touch-icon\" sizes=\"180x180\" href=\"/apple-touch-icon.png\">\\n  <link rel=\"icon\" type=\"image/png\" sizes=\"32x32\" href=\"/favicon-32x32.png\">\\n  <link rel=\"icon\" type=\"image/png\" sizes=\"16x16\" href=\"/favicon-16x16.png\">\\n  <link rel=\"manifest\" href=\"/site.webmanifest\">\\n  <link rel=\"mask-icon\" href=\"/safari-pinned-tab.svg\" color=\"#c8102e\">\\n  <meta name=\"msapplication-TileColor\" content=\"#ffffff\">\\n  <meta name=\"theme-color\" content=\"#ffffff\">\\n  <link rel=\"stylesheet\" href=\"https://stackpath.bootstrapcdn.com/bootstrap/4.3.1/css/bootstrap.min.css\" integrity=\"sha384-ggOyR0iXCbMQv3Xipma34MD+dH/1fQ784/j6cY/iJTQUOhcWr7x9JvoRxT2MZw1T\" crossorigin=\"anonymous\">\\n  <link rel=\"stylesheet\" href=\"/assets/application-cf5c35e709dae070fc47b66735d9d9e769d3f3727881e1797288ea9f2ec0454c.css\" data-turbo-track=\"reload\" />\\n  <meta name=\"csrf-param\" content=\"authenticity_token\" />\\n<meta name=\"csrf-token\" content=\"1AVkJwJKb11Zy2UaixAgPTQvQHAG5ftaBJvA4k2xz-82ftgjW0eyLrS9d9f33wETRuoySCmdO_HKzN0E2WedTQ\" />\\n  \\n  <!-- Global site tag (gtag.js) - Google Analytics -->\\n  <script async src=\"https://www.googletagmanager.com/gtag/js?id=UA-1179606-29\"></script>\\n  <script>\\n    window.dataLayer = window.dataLayer || [];\\n    function gtag(){dataLayer.push(arguments);}\\n    gtag(\\'js\\', new Date());\\n    gtag(\\'config\\', \\'UA-1179606-29\\');\\n  </script>\\n\\n  <!-- Facebook Pixel Code -->\\n  <script>\\n  !function(f,b,e,v,n,t,s)\\n  {if(f.fbq)return;n=f.fbq=function(){n.callMethod?\\n  n.callMethod.apply(n,arguments):n.queue.push(arguments)};\\n  if(!f._fbq)f._fbq=n;n.push=n;n.loaded=!0;n.version=\\'2.0\\';\\n  n.queue=[];t=b.createElement(e);t.async=!0;\\n  t.src=v;s=b.getElementsByTagName(e)[0];\\n  s.parentNode.insertBefore(t,s)}(window,document,\\'script\\',\\n  \\'https://connect.facebook.net/en_US/fbevents.js\\');\\n   fbq(\\'init\\', \\'900394648046390\\');\\n  fbq(\\'track\\', \\'PageView\\');\\n  </script>\\n  <noscript>\\n   <img height=\"1\" width=\"1\"\\n  src=\"https://www.facebook.com/tr?id=900394648046390&ev=PageView\\n  &noscript=1\"/>\\n  </noscript>\\n  <!-- End Facebook Pixel Code -->\\n\\n  <script>\\n    window.fbAsyncInit = function() {\\n      FB.init({\\n        appId            : \\'483774921971842\\',\\n        autoLogAppEvents : true,\\n        xfbml            : true,\\n        version          : \\'v6.0\\'\\n      });\\n    };\\n  </script>\\n  <script async defer src=\"https://connect.facebook.net/en_US/sdk.js\"></script>\\n  <meta property=\"fb:app_id\" content=\"483774921971842\" />\\n  <link rel=\"alternate\" type=\"application/rss+xml\" title=\"RSS\" href=\"https://www.passiton.com/inspirational-quotes.atom\" />\\n\\n  <!-- Google Tag Manager -->\\n  <script>(function(w,d,s,l,i){w[l]=w[l]||[];w[l].push({\\'gtm.start\\':\\n  new Date().getTime(),event:\\'gtm.js\\'});var f=d.getElementsByTagName(s)[0],\\n  j=d.createElement(s),dl=l!=\\'dataLayer\\'?\\'&l=\\'+l:\\'\\';j.async=true;j.src=\\n  \\'https://www.googletagmanager.com/gtm.js?id=\\'+i+dl;f.parentNode.insertBefore(j,f);\\n  })(window,document,\\'script\\',\\'dataLayer\\',\\'GTM-WGXT9QJ\\');</script>\\n  <!-- End Google Tag Manager -->\\n</head>\\n<body class=\\'no-transition quotes_index\\'>\\n  <!-- Google Tag Manager (noscript) -->\\n  <noscript><iframe src=\"https://www.googletagmanager.com/ns.html?id=GTM-WGXT9QJ\"\\n  height=\"0\" width=\"0\" style=\"display:none;visibility:hidden\"></iframe></noscript>\\n  <!-- End Google Tag Manager (noscript) -->\\n          <header>\\n          <nav class=\"navbar navbar-default bootsnav background-transparent header-dark white-link navbar-fixed-top navbar-expand-lg nav-box-width\">\\n            <div class=\"container-fluid nav-header-container\">\\n\\n              <div class=\"col-auto pl-0\">\\n                <a class=\"logo\" title=\"Pass It On\\xc2\\xae\" href=\"/\"><img data-rjs=\"/assets/site/logo@2x-a5b7e9de4b8595ff3fc94c64e245592585dda8a14753ab6d4ce6a8e56155f543.png\" class=\"logo-dark\" alt=\"Pass It On\" src=\"/assets/site/logo-addf119432237cf6c743df6160193cf0c428b2bb9f6f258fef3f3fa1c710dd59.png\" /><img data-rjs=\"/assets/site/logo-white@2x-d49e37762eb5c6805d094397a8bca8b53d38c872c1fc54195093caff0208ad77.png\" class=\"logo-light default\" alt=\"Pass It On\" src=\"/assets/site/logo-white-cc0fccfb11de6149582eafd4805e8422c93875f0df879d387c1ac38a36dbead8.png\" /></a>\\n              </div>\\n\\n              <div class=\"col accordion-menu pr-0 pr-md-3\">\\n                <button type=\"button\" class=\"navbar-toggler collapsed\" data-toggle=\"collapse\" data-target=\"#navbar-collapse-toggle-1\">\\n                  <span class=\"sr-only\">toggle navigation</span><span class=\"icon-bar\"></span><span class=\"icon-bar\"></span><span class=\"icon-bar\"></span>\\n                </button>\\n                <div class=\"navbar-collapse collapse justify-content-end\" id=\"navbar-collapse-toggle-1\">\\n                  <ul id=\"accordion\" class=\"nav navbar-nav navbar-left no-margin alt-font text-normal\" data-in=\"fadeIn\" data-out=\"fadeOut\">\\n                    <li><a href=\"/inspirational-quotes\">Quotes</a></li>\\n                    <li class=\"dropdown simple-dropdown\"><a href=\"/inspirational-stories-tv-spots\">Videos <i class=\\'fas fa-caret-down d-none d-lg-inline\\' aria-hidden=\\'true\\'></i></a><i class=\"fas fa-caret-down dropdown-toggle\" data-toggle=\"dropdown\" aria-hidden=\"true\"></i>\\n                      <ul class=\"dropdown-menu\" role=\"menu\">\\n                        <li><a href=\"/inspirational-stories-tv-spots\">Official Pass It On\\xc2\\xae Videos</a></li>\\n                        <li><a href=\"/artcenter-psas\">ArtCenter College of Design PSAs</a></li>\\n                      </ul>\\n                    </li>\\n                    <li class=\"dropdown simple-dropdown\"><a href=\"/inspirational-sayings-billboards\">Billboards <i class=\\'fas fa-caret-down d-none d-lg-inline\\' aria-hidden=\\'true\\'></i></a><i class=\"fas fa-caret-down dropdown-toggle\" data-toggle=\"dropdown\" aria-hidden=\"true\"></i>\\n                      <ul class=\"dropdown-menu\" role=\"menu\">\\n                        <li><a href=\"/inspirational-sayings-billboards\">Official Billboards</a></li>\\n                        <li><a href=\"/is-in-you\">Is In You\\xc2\\xae Billboards</a></li>\\n                        <li><a href=\"/your-billboards\">Create Your Own Billboard</a></li>\\n                      </ul>\\n                    </li>\\n                    <li><a href=\"/share-your-values\">Submit</a></li>\\n                    <li><a href=\"/positive-good-news-columns\">Newspapers</a></li>\\n                    <li><a href=\"/radio\">Radio</a></li>\\n                    <li><a href=\"/passiton-blog\">Blog</a></li>\\n                    <li><a href=\"/poster-requests/new\">Schools</a></li>\\n                    <li class=\"dropdown simple-dropdown\"><a href=\"#\"><i class=\\'fas fa-globe d-none d-lg-inline text-normal\\' aria-hidden=\\'true\\'></i> <i class=\\'fas fa-caret-down d-none d-lg-inline\\' aria-hidden=\\'true\\'></i></a><i class=\"fas fa-caret-down dropdown-toggle\" data-toggle=\"dropdown\" aria-hidden=\"true\"></i>\\n                      <ul class=\"dropdown-menu\" role=\"menu\">\\n                        <li><a target=\"_blank\" href=\"https://www.pasala.org/\">Spanish | Espa\\xc3\\xb1ol</a></li>\\n                        <li><a target=\"_blank\" href=\"https://www.umavidamelhor.org/\">Portuguese | Portugu\\xc3\\xaas</a></li>\\n                        <li><a target=\"_blank\" href=\"https://www.values.cn.com/\">Chinese | \\xe4\\xb8\\xad\\xe6\\x96\\x87</a></li>\\n                      </ul>\\n                    </li>\\n                  </ul>\\n                </div>\\n              </div>\\n              <div class=\"col-auto pr-0\">\\n                <div class=\"header-searchbar\">\\n                  <a href=\"#search-header\" class=\"header-search-form\" aria-label=\\'search form\\'><i class=\"fas fa-search search-button\"></i></a>\\n                  <form id=\"search-header\" method=\"post\" action=\"/search\" name=\"search-header\" class=\"mfp-hide search-form-result\">\\n                    <div class=\"search-form position-relative\">\\n                      <button type=\"submit\" aria-label=\"Search\" class=\"fas fa-search close-search search-button\"></button>\\n                      <input type=\"text\" name=\"q\" class=\"search-input\" placeholder=\"Search passiton.com...\" autocomplete=\"off\">\\n                    </div>\\n                  </form>\\n                </div>\\n              </div>\\n            </div>\\n          </nav>\\n\\n        </header>\\n\\n  \\n\\n<section class=\"parallax padding-six-all bg-black\" data-stellar-background-ratio=\"0.2\" style=\"background-image:url(\\'/assets/backgrounds/flowers-7e362d59b798265063c210d16ea800b6fb4c3b13e462fbfe195df7c70c9811ce.jpg\\');\">\\n  <div class=\"container\">\\n    <div class=\"row justify-content-center\">\\n      <div class=\"col-12 col-lg-10 text-center\">\\n        <div class=\"shadow bg-extra-dark-gray padding-two-all border-radius-6 width-70 lg-width-80 sm-width-100 mx-auto lg-padding-30px-all sm-padding-15px-all sm-margin-40px-top\">\\n          <h6 class=\"font-weight-300 text-white-2 margin-20px-bottom sm-margin-15px-bottom\">Get our FREE daily quote emails!</h6>\\n          <p class=\"text-medium text-white-2 width-70 mx-auto margin-40px-bottom sm-width-100 sm-margin-15px-bottom\">Get a daily inspirational quote in your inbox each weekday! Enter your email below to subscribe.</p>\\n\\n          <form class=\"simple_form search-box3 margin-10px-bottom\" id=\"new_user\" novalidate=\"novalidate\" action=\"/users\" accept-charset=\"UTF-8\" method=\"post\"><input type=\"hidden\" name=\"authenticity_token\" value=\"XXc8KC8xCSu2PntxDeY4ejDxXgjNHAFAW4mO-ocRi09tmK8G2WnWPV0_k77FUMk8YLYjte6yTwmQ14bP5nGqbQ\" autocomplete=\"off\" />\\n          \\n          <script src=\"https://www.recaptcha.net/recaptcha/api.js?render=6Ldta8EUAAAAACp3yt76yG8QWMdQkpDBkP1bcHi6\"   ></script>\\n        <script>\\n          // Define function so that we can call it again later if we need to reset it\\n          // This executes reCAPTCHA and then calls our callback.\\n          function executeRecaptchaForSignup() {\\n            grecaptcha.ready(function() {\\n              grecaptcha.execute(\\'6Ldta8EUAAAAACp3yt76yG8QWMdQkpDBkP1bcHi6\\', {action: \\'signup\\'}).then(function(token) {\\n                setInputWithRecaptchaResponseTokenForSignup(\\'g-recaptcha-response-data-signup\\', token)\\n              });\\n            });\\n          };\\n          // Invoke immediately\\n          executeRecaptchaForSignup()\\n\\n          // Async variant so you can await this function from another async function (no need for\\n          // an explicit callback function then!)\\n          // Returns a Promise that resolves with the response token.\\n          async function executeRecaptchaForSignupAsync() {\\n            return new Promise((resolve, reject) => {\\n             grecaptcha.ready(async function() {\\n                resolve(await grecaptcha.execute(\\'6Ldta8EUAAAAACp3yt76yG8QWMdQkpDBkP1bcHi6\\', {action: \\'signup\\'}))\\n              });\\n            })\\n          };\\n\\n                    var setInputWithRecaptchaResponseTokenForSignup = function(id, token) {\\n            var element = document.getElementById(id);\\n            element.value = token;\\n          }\\n\\n        </script>\\n<input type=\"hidden\" name=\"g-recaptcha-response-data[signup]\" id=\"g-recaptcha-response-data-signup\" data-sitekey=\"6Ldta8EUAAAAACp3yt76yG8QWMdQkpDBkP1bcHi6\" class=\"g-recaptcha g-recaptcha-response \"/>\\n\\n          <div class=\"input-group add-on width-75 mx-auto sm-width-100\">\\n            <input label=\"false\" class=\"string email optional form-control text-white\" type=\"text\" placeholder=\"you@youremail.com\" value=\"\" name=\"user[email]\" id=\"user_email\" />\\n            <div class=\"input-group-append\">\\n              <button type=\"submit\" class=\"btn btn-default\" aria-label=\"Submit\"><i class=\"ti-arrow-right text-small m-0\"></i></button>\\n            </div>\\n          </div>\\n</form>\\n\\n        </div>\\n      </div>\\n    </div>\\n  </div>\\n</section>\\n\\n\\n<section class=\"half-section bg-extra-dark-gray half-section\">\\n  <div class=\"container\">\\n\\n    <div class=\"row m-0\">\\n      <div class=\"col-12 d-flex flex-column justify-content-center text-center wow fadeIn\" data-wow-delay=\"0.2s\">\\n        <h5 class=\"text-white alt-font font-weight-400 letter-spacing-1 margin-10px-bottom\">INSPIRATIONAL QUOTES</h5>\\n        <span class=\"text-white-2 opacity8 alt-font mb-0 padding-20px-bottom\">Find the perfect quote... and Pass It On\\xc2\\xae</span>\\n\\n        <form class=\"search-box2 margin-30px-bottom\" action=\"/inspirational-quotes\" method=\"get\">\\n          <div class=\"input-group add-on width-75 mx-auto sm-width-100\">\\n            <input name=\"q\" type=\"text\" value=\\'\\' placeholder=\"Search our inspiring quotes...\" class=\"form-control text-white-2\" />\\n            <div class=\"input-group-append\">\\n              <button type=\"submit\" class=\"btn btn-default\" aria-label=\"Search\"><i class=\"ti-search text-small m-0\"></i></button>\\n            </div>\\n          </div>\\n        </form>\\n\\n      </div>\\n    </div>\\n\\n    <div class=\"row m-0\">\\n      <div class=\"col-8 d-flex flex-column justify-content-top text-center\">\\n        <div class=\\'row\\' id=\\'all_quotes\\'>\\n\\n          <div class=\"col-6 col-lg-4 text-center margin-30px-bottom sm-margin-30px-top\">\\n\\n            <a href=\"/inspirational-quotes/6906-dont-be-pushed-by-your-problems-be-led-by-your\"><img alt=\"Don&#39;t be pushed by your problems, be led by your dreams. #&lt;Author:0x000055c3978d5710&gt;\" class=\"margin-10px-bottom shadow\" src=\"https://assets.passiton.com/quotes/quote_artwork/6906/medium/20230607_wednesday_quote.jpg\" width=\"310\" height=\"310\" /></a>\\n            <h5 class=\\'value_on_red\\'><a href=\"/inspirational-quotes/6906-dont-be-pushed-by-your-problems-be-led-by-your\">LIVE YOUR DREAMS</a></h5>\\n\\n          </div>\\n\\n\\n          <div class=\"col-6 col-lg-4 text-center margin-30px-bottom sm-margin-30px-top\">\\n\\n            <a href=\"/inspirational-quotes/8223-no-matter-where-you-re-from-your-dreams-are\"><img alt=\"No matter where you\\xe2\\x80\\x99re from, your dreams are valid. #&lt;Author:0x000055c397991190&gt;\" class=\"margin-10px-bottom shadow\" src=\"https://assets.passiton.com/quotes/quote_artwork/8223/medium/20230606_tuesday_quote.jpg\" width=\"310\" height=\"310\" /></a>\\n            <h5 class=\\'value_on_red\\'><a href=\"/inspirational-quotes/8223-no-matter-where-you-re-from-your-dreams-are\">LIVE YOUR DREAMS</a></h5>\\n\\n          </div>\\n\\n\\n          <div class=\"col-6 col-lg-4 text-center margin-30px-bottom sm-margin-30px-top\">\\n\\n            <a href=\"/inspirational-quotes/4386-make-no-small-plans-for-they-have-no-power-to\"><img alt=\"Make no small plans for they have no power to stir the soul. #&lt;Author:0x000055c39794ad80&gt;\" class=\"margin-10px-bottom shadow\" src=\"https://assets.passiton.com/quotes/quote_artwork/4386/medium/20230605_monday_quote.jpg\" width=\"310\" height=\"310\" /></a>\\n            <h5 class=\\'value_on_red\\'><a href=\"/inspirational-quotes/4386-make-no-small-plans-for-they-have-no-power-to\">LIVE YOUR DREAMS</a></h5>\\n\\n          </div>\\n\\n\\n          <div class=\"col-6 col-lg-4 text-center margin-30px-bottom sm-margin-30px-top\">\\n\\n            <a href=\"/inspirational-quotes/4298-appreciation-is-a-wonderful-thing-it-makes\"><img alt=\"Appreciation is a wonderful thing. It makes what is excellent in others belong to us as well. #&lt;Author:0x000055c397a1a198&gt;\" class=\"margin-10px-bottom shadow\" src=\"https://assets.passiton.com/quotes/quote_artwork/4298/medium/20230602_friday_quote.jpg\" width=\"310\" height=\"310\" /></a>\\n            <h5 class=\\'value_on_red\\'><a href=\"/inspirational-quotes/4298-appreciation-is-a-wonderful-thing-it-makes\">APPRECIATION</a></h5>\\n\\n          </div>\\n\\n\\n          <div class=\"col-6 col-lg-4 text-center margin-30px-bottom sm-margin-30px-top\">\\n\\n            <a href=\"/inspirational-quotes/6601-enjoy-the-little-things-in-life-for-one-day\"><img alt=\"Enjoy the little things in life, for one day you may look back and realize they were the big things. #&lt;Author:0x000055c3979cef18&gt;\" class=\"margin-10px-bottom shadow\" src=\"https://assets.passiton.com/quotes/quote_artwork/6601/medium/20230601_thursday_quote.jpg\" width=\"310\" height=\"310\" /></a>\\n            <h5 class=\\'value_on_red\\'><a href=\"/inspirational-quotes/6601-enjoy-the-little-things-in-life-for-one-day\">APPRECIATION</a></h5>\\n\\n          </div>\\n\\n\\n          <div class=\"col-6 col-lg-4 text-center margin-30px-bottom sm-margin-30px-top\">\\n\\n            <a href=\"/inspirational-quotes/6378-now-is-no-time-to-think-of-what-you-do-not\"><img alt=\"Now is no time to think of what you do not have. Think of what you can do with what there is.  #&lt;Author:0x000055c397aa0fb8&gt;\" class=\"margin-10px-bottom shadow\" src=\"https://assets.passiton.com/quotes/quote_artwork/6378/medium/20230531_wednesday_quote.jpg\" width=\"310\" height=\"310\" /></a>\\n            <h5 class=\\'value_on_red\\'><a href=\"/inspirational-quotes/6378-now-is-no-time-to-think-of-what-you-do-not\">APPRECIATION</a></h5>\\n\\n          </div>\\n\\n\\n          <div class=\"col-6 col-lg-4 text-center margin-30px-bottom sm-margin-30px-top\">\\n\\n            <a href=\"/inspirational-quotes/8381-strive-to-find-things-to-be-thankful-for-and\"><img alt=\"Strive to find things to be thankful for, and just look for the good in who you are. #&lt;Author:0x000055c397a6c880&gt;\" class=\"margin-10px-bottom shadow\" src=\"https://assets.passiton.com/quotes/quote_artwork/8381/medium/20230530_tuesday_quote.jpg\" width=\"310\" height=\"310\" /></a>\\n            <h5 class=\\'value_on_red\\'><a href=\"/inspirational-quotes/8381-strive-to-find-things-to-be-thankful-for-and\">APPRECIATION</a></h5>\\n\\n          </div>\\n\\n\\n          <div class=\"col-6 col-lg-4 text-center margin-30px-bottom sm-margin-30px-top\">\\n\\n            <a href=\"/inspirational-quotes/7426-as-we-express-our-gratitude-we-must-never\"><img alt=\"As we express our gratitude, we must never forget that the highest appreciation is not to utter words, but to live by them. #&lt;Author:0x000055c397a3f7b8&gt;\" class=\"margin-10px-bottom shadow\" src=\"https://assets.passiton.com/quotes/quote_artwork/7426/medium/20230529_monday_quote.jpg\" width=\"310\" height=\"310\" /></a>\\n            <h5 class=\\'value_on_red\\'><a href=\"/inspirational-quotes/7426-as-we-express-our-gratitude-we-must-never\">APPRECIATION</a></h5>\\n\\n          </div>\\n\\n\\n          <div class=\"col-6 col-lg-4 text-center margin-30px-bottom sm-margin-30px-top\">\\n\\n            <a href=\"/inspirational-quotes/8224-of-all-the-paths-you-take-in-life-make-sure-a\"><img alt=\"Of all the paths you take in life, make sure a few of them are dirt. #&lt;Author:0x000055c397ad7860&gt;\" class=\"margin-10px-bottom shadow\" src=\"https://assets.passiton.com/quotes/quote_artwork/8224/medium/20230526_friday_quote.jpg\" width=\"310\" height=\"310\" /></a>\\n            <h5 class=\\'value_on_red\\'><a href=\"/inspirational-quotes/8224-of-all-the-paths-you-take-in-life-make-sure-a\">GET OUTSIDE</a></h5>\\n\\n          </div>\\n\\n\\n          <div class=\"col-6 col-lg-4 text-center margin-30px-bottom sm-margin-30px-top\">\\n\\n            <a href=\"/inspirational-quotes/8380-the-wilderness-holds-answers-to-questions-we\"><img alt=\"The wilderness holds answers to questions we have not yet learned to ask. #&lt;Author:0x000055c397aaf5e0&gt;\" class=\"margin-10px-bottom shadow\" src=\"https://assets.passiton.com/quotes/quote_artwork/8380/medium/20230525_thursday_quote.jpg\" width=\"310\" height=\"310\" /></a>\\n            <h5 class=\\'value_on_red\\'><a href=\"/inspirational-quotes/8380-the-wilderness-holds-answers-to-questions-we\">GET OUTSIDE</a></h5>\\n\\n          </div>\\n\\n\\n          <div class=\"col-6 col-lg-4 text-center margin-30px-bottom sm-margin-30px-top\">\\n\\n            <a href=\"/inspirational-quotes/8131-nature-brings-solace-in-all-troubles\"><img alt=\"Nature brings solace in all troubles. #&lt;Author:0x000055c396c918a0&gt;\" class=\"margin-10px-bottom shadow\" src=\"https://assets.passiton.com/quotes/quote_artwork/8131/medium/20230524_wednesday_quote.jpg\" width=\"310\" height=\"310\" /></a>\\n            <h5 class=\\'value_on_red\\'><a href=\"/inspirational-quotes/8131-nature-brings-solace-in-all-troubles\">GET OUTSIDE</a></h5>\\n\\n          </div>\\n\\n\\n          <div class=\"col-6 col-lg-4 text-center margin-30px-bottom sm-margin-30px-top\">\\n\\n            <a href=\"/inspirational-quotes/7511-to-be-whole-to-be-complete-wildness-reminds\"><img alt=\"To be whole. To be complete. Wildness reminds us what it means to be human, what we are connected to rather than what we are separate from. #&lt;Author:0x000055c39785a4e8&gt;\" class=\"margin-10px-bottom shadow\" src=\"https://assets.passiton.com/quotes/quote_artwork/7511/medium/20230523_tuesday_quote.jpg\" width=\"310\" height=\"310\" /></a>\\n            <h5 class=\\'value_on_red\\'><a href=\"/inspirational-quotes/7511-to-be-whole-to-be-complete-wildness-reminds\">GET OUTSIDE</a></h5>\\n\\n          </div>\\n\\n\\n          <div class=\"col-6 col-lg-4 text-center margin-30px-bottom sm-margin-30px-top\">\\n\\n            <a href=\"/inspirational-quotes/7928-the-world-is-incomprehensibly-beautiful-an\"><img alt=\"The world is incomprehensibly beautiful\\xe2\\x80\\x94an endless prospect of magic and wonder. #&lt;Author:0x000055c39813bb48&gt;\" class=\"margin-10px-bottom shadow\" src=\"https://assets.passiton.com/quotes/quote_artwork/7928/medium/20230522_monday_quote.jpg\" width=\"310\" height=\"310\" /></a>\\n            <h5 class=\\'value_on_red\\'><a href=\"/inspirational-quotes/7928-the-world-is-incomprehensibly-beautiful-an\">GET OUTSIDE</a></h5>\\n\\n          </div>\\n\\n\\n          <div class=\"col-6 col-lg-4 text-center margin-30px-bottom sm-margin-30px-top\">\\n\\n            <a href=\"/inspirational-quotes/6256-love-and-kindness-are-never-wasted-they-always\"><img alt=\"Love and kindness are never wasted. They always make a difference. #&lt;Author:0x000055c3975aace8&gt;\" class=\"margin-10px-bottom shadow\" src=\"https://assets.passiton.com/quotes/quote_artwork/6256/medium/20230519_friday_quote.jpg\" width=\"310\" height=\"310\" /></a>\\n            <h5 class=\\'value_on_red\\'><a href=\"/inspirational-quotes/6256-love-and-kindness-are-never-wasted-they-always\">LOVE</a></h5>\\n\\n          </div>\\n\\n\\n          <div class=\"col-6 col-lg-4 text-center margin-30px-bottom sm-margin-30px-top\">\\n\\n            <a href=\"/inspirational-quotes/7221-nobody-has-ever-measured-not-even-poets-how\"><img alt=\"Nobody has ever measured, not even poets, how much the heart can hold. #&lt;Author:0x000055c3981ba3d0&gt;\" class=\"margin-10px-bottom shadow\" src=\"https://assets.passiton.com/quotes/quote_artwork/7221/medium/20230518_thursday_quote.jpg\" width=\"310\" height=\"310\" /></a>\\n            <h5 class=\\'value_on_red\\'><a href=\"/inspirational-quotes/7221-nobody-has-ever-measured-not-even-poets-how\">LOVE</a></h5>\\n\\n          </div>\\n\\n\\n          <div class=\"col-6 col-lg-4 text-center margin-30px-bottom sm-margin-30px-top\">\\n\\n            <a href=\"/inspirational-quotes/7444-where-there-is-love-there-is-life\"><img alt=\"Where there is love there is life. #&lt;Author:0x000055c3981897a8&gt;\" class=\"margin-10px-bottom shadow\" src=\"https://assets.passiton.com/quotes/quote_artwork/7444/medium/20230517_wednesday_quote.jpg\" width=\"310\" height=\"310\" /></a>\\n            <h5 class=\\'value_on_red\\'><a href=\"/inspirational-quotes/7444-where-there-is-love-there-is-life\">LOVE</a></h5>\\n\\n          </div>\\n\\n\\n          <div class=\"col-6 col-lg-4 text-center margin-30px-bottom sm-margin-30px-top\">\\n\\n            <a href=\"/inspirational-quotes/8190-the-best-thing-to-hold-onto-in-life-is-each-other\"><img alt=\"The best thing to hold onto in life is each other. #&lt;Author:0x000055c398151420&gt;\" class=\"margin-10px-bottom shadow\" src=\"https://assets.passiton.com/quotes/quote_artwork/8190/medium/20230516_tuesday_quote.jpg\" width=\"310\" height=\"310\" /></a>\\n            <h5 class=\\'value_on_red\\'><a href=\"/inspirational-quotes/8190-the-best-thing-to-hold-onto-in-life-is-each-other\">LOVE</a></h5>\\n\\n          </div>\\n\\n\\n          <div class=\"col-6 col-lg-4 text-center margin-30px-bottom sm-margin-30px-top\">\\n\\n            <a href=\"/inspirational-quotes/3420-the-highest-vocation-we-can-have-is-love\"><img alt=\"The highest vocation we can have is love. #&lt;Author:0x000055c398200740&gt;\" class=\"margin-10px-bottom shadow\" src=\"https://assets.passiton.com/quotes/quote_artwork/3420/medium/20230515_monday_quote.jpg\" width=\"310\" height=\"310\" /></a>\\n            <h5 class=\\'value_on_red\\'><a href=\"/inspirational-quotes/3420-the-highest-vocation-we-can-have-is-love\">LOVE</a></h5>\\n\\n          </div>\\n\\n\\n          <div class=\"col-6 col-lg-4 text-center margin-30px-bottom sm-margin-30px-top\">\\n\\n            <a href=\"/inspirational-quotes/8285-use-your-voice-for-kindness-your-ears-for\"><img alt=\"Use your voice for kindness, your ears for compassion, your hands for charity, your mind for truth, and your heart for love. #&lt;Author:0x000055c3981d3b78&gt;\" class=\"margin-10px-bottom shadow\" src=\"https://assets.passiton.com/quotes/quote_artwork/8285/medium/20230512_friday_quote.jpg\" width=\"310\" height=\"310\" /></a>\\n            <h5 class=\\'value_on_red\\'><a href=\"/inspirational-quotes/8285-use-your-voice-for-kindness-your-ears-for\">COMPASSION</a></h5>\\n\\n          </div>\\n\\n\\n          <div class=\"col-6 col-lg-4 text-center margin-30px-bottom sm-margin-30px-top\">\\n\\n            <a href=\"/inspirational-quotes/8200-there-never-was-any-heart-truly-great-and\"><img alt=\"There never was any heart truly great and generous, that was not also tender and compassionate. #&lt;Author:0x00007f6d300a3ad0&gt;\" class=\"margin-10px-bottom shadow\" src=\"https://assets.passiton.com/quotes/quote_artwork/8200/medium/20230511_thursday_quote.jpg\" width=\"310\" height=\"310\" /></a>\\n            <h5 class=\\'value_on_red\\'><a href=\"/inspirational-quotes/8200-there-never-was-any-heart-truly-great-and\">COMPASSION</a></h5>\\n\\n          </div>\\n\\n\\n          <div class=\"col-6 col-lg-4 text-center margin-30px-bottom sm-margin-30px-top\">\\n\\n            <a href=\"/inspirational-quotes/4435-if-you-are-going-to-be-compassionate-be\"><img alt=\"If you are going to be compassionate, be prepared for action! #&lt;Author:0x000055c398232150&gt;\" class=\"margin-10px-bottom shadow\" src=\"https://assets.passiton.com/quotes/quote_artwork/4435/medium/20230510_wednesday_quote.jpg\" width=\"310\" height=\"310\" /></a>\\n            <h5 class=\\'value_on_red\\'><a href=\"/inspirational-quotes/4435-if-you-are-going-to-be-compassionate-be\">COMPASSION</a></h5>\\n\\n          </div>\\n\\n\\n          <div class=\"col-6 col-lg-4 text-center margin-30px-bottom sm-margin-30px-top\">\\n\\n            <a href=\"/inspirational-quotes/5157-what-do-we-live-for-if-it-is-not-to-make-life\"><img alt=\"What do we live for; if it is not to make life less difficult for each other?\\r\\n #&lt;Author:0x00007f6d31354e68&gt;\" class=\"margin-10px-bottom shadow\" src=\"https://assets.passiton.com/quotes/quote_artwork/5157/medium/20230509_tuesday_quote.jpg\" width=\"310\" height=\"310\" /></a>\\n            <h5 class=\\'value_on_red\\'><a href=\"/inspirational-quotes/5157-what-do-we-live-for-if-it-is-not-to-make-life\">COMPASSION</a></h5>\\n\\n          </div>\\n\\n\\n          <div class=\"col-6 col-lg-4 text-center margin-30px-bottom sm-margin-30px-top\">\\n\\n            <a href=\"/inspirational-quotes/4043-compassion-is-the-greatest-form-of-love-humans\"><img alt=\"Compassion is the greatest form of love humans have to offer. #&lt;Author:0x00007f6d30422210&gt;\" class=\"margin-10px-bottom shadow\" src=\"https://assets.passiton.com/quotes/quote_artwork/4043/medium/20230508_monday_quote.jpg\" width=\"310\" height=\"310\" /></a>\\n            <h5 class=\\'value_on_red\\'><a href=\"/inspirational-quotes/4043-compassion-is-the-greatest-form-of-love-humans\">COMPASSION</a></h5>\\n\\n          </div>\\n\\n\\n          <div class=\"col-6 col-lg-4 text-center margin-30px-bottom sm-margin-30px-top\">\\n\\n            <a href=\"/inspirational-quotes/8140-when-you-take-care-of-yourself-you-re-a-better\"><img alt=\"When you take care of yourself, you\\xe2\\x80\\x99re a better person for others. When you feel good about yourself, you treat others better.  #&lt;Author:0x00007f6d306e3580&gt;\" class=\"margin-10px-bottom shadow\" src=\"https://assets.passiton.com/quotes/quote_artwork/8140/medium/20230505_friday_quote.jpg\" width=\"310\" height=\"310\" /></a>\\n            <h5 class=\\'value_on_red\\'><a href=\"/inspirational-quotes/8140-when-you-take-care-of-yourself-you-re-a-better\">SELF-CARE</a></h5>\\n\\n          </div>\\n\\n\\n          <div class=\"col-6 col-lg-4 text-center margin-30px-bottom sm-margin-30px-top\">\\n\\n            <a href=\"/inspirational-quotes/7237-if-your-compassion-does-not-include-yourself\"><img alt=\"If your compassion does not include yourself, it is incomplete. #&lt;Author:0x00007f6d306ca9e0&gt;\" class=\"margin-10px-bottom shadow\" src=\"https://assets.passiton.com/quotes/quote_artwork/7237/medium/20230504_thursday_quote.jpg\" width=\"310\" height=\"310\" /></a>\\n            <h5 class=\\'value_on_red\\'><a href=\"/inspirational-quotes/7237-if-your-compassion-does-not-include-yourself\">SELF-CARE</a></h5>\\n\\n          </div>\\n\\n\\n          <div class=\"col-6 col-lg-4 text-center margin-30px-bottom sm-margin-30px-top\">\\n\\n            <a href=\"/inspirational-quotes/6899-adopt-the-pace-of-nature-her-secret-is-patience\"><img alt=\"Adopt the pace of nature: her secret is patience. #&lt;Author:0x00007f6d3135e8c8&gt;\" class=\"margin-10px-bottom shadow\" src=\"https://assets.passiton.com/quotes/quote_artwork/6899/medium/20230503_wednesday_quote.jpg\" width=\"310\" height=\"310\" /></a>\\n            <h5 class=\\'value_on_red\\'><a href=\"/inspirational-quotes/6899-adopt-the-pace-of-nature-her-secret-is-patience\">SELF-CARE</a></h5>\\n\\n          </div>\\n\\n\\n          <div class=\"col-6 col-lg-4 text-center margin-30px-bottom sm-margin-30px-top\">\\n\\n            <a href=\"/inspirational-quotes/8260-self-care-is-not-self-indulgence-it-is\"><img alt=\"Self-care is not self-indulgence, it is self-preservation. #&lt;Author:0x00007f6d314b41f0&gt;\" class=\"margin-10px-bottom shadow\" src=\"https://assets.passiton.com/quotes/quote_artwork/8260/medium/20230502_tuesday_quote.jpg\" width=\"310\" height=\"310\" /></a>\\n            <h5 class=\\'value_on_red\\'><a href=\"/inspirational-quotes/8260-self-care-is-not-self-indulgence-it-is\">SELF-CARE</a></h5>\\n\\n          </div>\\n\\n\\n          <div class=\"col-6 col-lg-4 text-center margin-30px-bottom sm-margin-30px-top\">\\n\\n            <a href=\"/inspirational-quotes/8259-rest-and-self-care-are-so-important-when-you\"><img alt=\"Rest and self-care are so important. When you take time to replenish your spirit, it allows you to serve from the overflow. You cannot serve from an empty vessel. #&lt;Author:0x00007f6d3149c5c8&gt;\" class=\"margin-10px-bottom shadow\" src=\"https://assets.passiton.com/quotes/quote_artwork/8259/medium/20230501_monday_quote.jpg\" width=\"310\" height=\"310\" /></a>\\n            <h5 class=\\'value_on_red\\'><a href=\"/inspirational-quotes/8259-rest-and-self-care-are-so-important-when-you\">SELF-CARE</a></h5>\\n\\n          </div>\\n\\n\\n          <div class=\"col-6 col-lg-4 text-center margin-30px-bottom sm-margin-30px-top\">\\n\\n            <a href=\"/inspirational-quotes/7992-you-are-a-match-for-your-mountain\"><img alt=\"You are a match for your mountain. #&lt;Author:0x00007f6d314f5650&gt;\" class=\"margin-10px-bottom shadow\" src=\"https://assets.passiton.com/quotes/quote_artwork/7992/medium/20230428_friday_quote.jpg\" width=\"310\" height=\"310\" /></a>\\n            <h5 class=\\'value_on_red\\'><a href=\"/inspirational-quotes/7992-you-are-a-match-for-your-mountain\">OVERCOMING</a></h5>\\n\\n          </div>\\n\\n\\n          <div class=\"col-6 col-lg-4 text-center margin-30px-bottom sm-margin-30px-top\">\\n\\n            <a href=\"/inspirational-quotes/7994-the-gem-cannot-be-polished-without-friction\"><img alt=\"The gem cannot be polished without friction, nor a person perfected without trials.  #&lt;Author:0x00007f6d314de608&gt;\" class=\"margin-10px-bottom shadow\" src=\"https://assets.passiton.com/quotes/quote_artwork/7994/medium/20230427_thursday_quote.jpg\" width=\"310\" height=\"310\" /></a>\\n            <h5 class=\\'value_on_red\\'><a href=\"/inspirational-quotes/7994-the-gem-cannot-be-polished-without-friction\">OVERCOMING</a></h5>\\n\\n          </div>\\n\\n\\n          <div class=\"col-6 col-lg-4 text-center margin-30px-bottom sm-margin-30px-top\">\\n\\n            <a href=\"/inspirational-quotes/7875-use-what-you-ve-been-through-as-fuel-believe\"><img alt=\"Use what you\\xe2\\x80\\x99ve been through as fuel, believe in yourself and be unstoppable! #&lt;Author:0x00007f6d314c7458&gt;\" class=\"margin-10px-bottom shadow\" src=\"https://assets.passiton.com/quotes/quote_artwork/7875/medium/20230426_wednesday_quote.jpg\" width=\"310\" height=\"310\" /></a>\\n            <h5 class=\\'value_on_red\\'><a href=\"/inspirational-quotes/7875-use-what-you-ve-been-through-as-fuel-believe\">OVERCOMING</a></h5>\\n\\n          </div>\\n\\n\\n          <div class=\"col-6 col-lg-4 text-center margin-30px-bottom sm-margin-30px-top\">\\n\\n            <a href=\"/inspirational-quotes/3663-although-the-world-is-full-of-suffering-its\"><img alt=\"Although the world is full of suffering, it&#39;s full also of the overcoming it. #&lt;Author:0x00007f6d3151f5b8&gt;\" class=\"margin-10px-bottom shadow\" src=\"https://assets.passiton.com/quotes/quote_artwork/3663/medium/20230425_tuesday_quote.jpg\" width=\"310\" height=\"310\" /></a>\\n            <h5 class=\\'value_on_red\\'><a href=\"/inspirational-quotes/3663-although-the-world-is-full-of-suffering-its\">OVERCOMING</a></h5>\\n\\n          </div>\\n\\n\\n          <div class=\"col-6 col-lg-4 text-center margin-30px-bottom sm-margin-30px-top\">\\n\\n            <a href=\"/inspirational-quotes/7991-i-will-love-the-light-for-it-shows-me-the-way\"><img alt=\"I will love the light for it shows me the way, yet I will endure the darkness because it shows me the stars #&lt;Author:0x00007f6d31505690&gt;\" class=\"margin-10px-bottom shadow\" src=\"https://assets.passiton.com/quotes/quote_artwork/7991/medium/20230424_monday_quote.jpg\" width=\"310\" height=\"310\" /></a>\\n            <h5 class=\\'value_on_red\\'><a href=\"/inspirational-quotes/7991-i-will-love-the-light-for-it-shows-me-the-way\">OVERCOMING</a></h5>\\n\\n          </div>\\n\\n        </div>\\n      </div>\\n      <div class=\"col-4 d-flex flex-column text-center\">\\n        <div class=\\'row\\' id=\\'all_quotes\\'>\\n          <span style=\\'font-size:  20px;\\' class=\"text-white text-left alt-font font-weight-400 letter-spacing-1 margin-20px-bottom\">We publish our quotes and other inspirational stories on Facebook. Please \\'like\\' our page to get daily inspiration.</span>\\n          <div class=\"fb-page\" data-href=\"https://www.facebook.com/valuescom\" data-tabs=\"timeline\" data-width=\"\" data-height=\"3000\" data-small-header=\"true\" data-adapt-container-width=\"true\" data-hide-cover=\"false\" data-show-facepile=\"true\"><blockquote cite=\"https://www.facebook.com/valuescom\" class=\"fb-xfbml-parse-ignore\"><a href=\"https://www.facebook.com/valuescom\">Foundation for A Better Life</a></blockquote></div>\\n        </div>\\n      </div>\\n    </div>\\n\\n    <div class=\"row\">\\n      <div class=\"col-12 text-center\">\\n          <nav class=\"pagination\" role=\"navigation\" aria-label=\"pager\">\\n    <span class=\"first\">\\n  <a href=\"/inspirational-quotes\">&laquo; First</a>\\n</span>\\n\\n    <span class=\"prev\">\\n  <a rel=\"prev\" href=\"/inspirational-quotes\">&lsaquo; Prev</a>\\n</span>\\n\\n        <span class=\"page\">\\n  <a rel=\"prev\" href=\"/inspirational-quotes\">1</a>\\n</span>\\n\\n        <span class=\"page current\">\\n  2\\n</span>\\n\\n        <span class=\"page\">\\n  <a rel=\"next\" href=\"/inspirational-quotes?page=3\">3</a>\\n</span>\\n\\n        <span class=\"page\">\\n  <a href=\"/inspirational-quotes?page=4\">4</a>\\n</span>\\n\\n        <span class=\"page\">\\n  <a href=\"/inspirational-quotes?page=5\">5</a>\\n</span>\\n\\n        <span class=\"page\">\\n  <a href=\"/inspirational-quotes?page=6\">6</a>\\n</span>\\n\\n        <span class=\"page gap\">&hellip;</span>\\n\\n      <span class=\"next\">\\n  <a rel=\"next\" href=\"/inspirational-quotes?page=3\">Next &rsaquo;</a>\\n</span>\\n\\n      <span class=\"last\">\\n  <a href=\"/inspirational-quotes?page=77\">Last &raquo;</a>\\n</span>\\n\\n  </nav>\\n\\n      </div>\\n    </div>\\n\\n  </div>\\n</section>\\n  <footer class=\"footer-classic-dark bg-extra-dark-gray padding-five-bottom sm-padding-30px-bottom\">\\n  <div class=\"bg-dark-footer padding-50px-tb sm-padding-30px-tb\">\\n    <div class=\"container\">\\n      <div class=\"row align-items-center\">\\n\\n        <div class=\"col-lg-4 col-md-4 sm-text-center lg-text-left alt-font sm-margin-15px-bottom\">\\n          <a href=\"/\"><img style=\"max-width: 200px;\" data-rjs=\"/assets/site/passiton_fbl_logo-130047b5350655ed0505fbb6bf8d137784664a78481a2ed020a9b5b73c7ec3d9.png\" alt=\"PassItOn.com The Foundation for a Better Life\" class=\"footer_logo\" src=\"/assets/site/passiton_fbl_logo-130047b5350655ed0505fbb6bf8d137784664a78481a2ed020a9b5b73c7ec3d9.png\" /></a>\\n        </div>\\n\\n        <div class=\"col-lg-4 col-md-4 text-center sm-margin-10px-bottom\">\\n        </div>\\n\\n        <div class=\"col-lg-4 col-md-4 text-center\">\\n          <span class=\"alt-font margin-20px-right text-light-gray\">Follow us on social</span>\\n          <div class=\"social-icon-style-8 d-inline-block vertical-align-middle\">\\n            <ul class=\"small-icon mb-0\">\\n              <li><a class=\"facebook text-white-2\" href=\"https://www.facebook.com/valuescom\" target=\"_blank\" aria-label=\\'facebook\\'><i class=\"fab fa-facebook-f\" aria-hidden=\"true\"></i></a></li>\\n              <li><a class=\"twitter text-white-2\" href=\"https://twitter.com/passiton_values\" target=\"_blank\" aria-label=\\'twitter\\'><i class=\"fab fa-twitter\"></i></a></li>\\n              <li><a class=\"instagram text-white-2\" href=\"https://www.instagram.com/passiton_values/\" target=\"_blank\" aria-label=\\'instagram\\'><i class=\"fab fa-instagram no-margin-right\" aria-hidden=\"true\"></i></a></li>\\n              <li><a class=\"pinterest text-white-2\" href=\"https://www.pinterest.com/passiton_values/\" target=\"_blank\" aria-label=\\'pinterest\\'><i class=\"fab fa-pinterest no-margin-right\" aria-hidden=\"true\"></i></a></li>\\n              <li><a class=\"youtube text-white-2\" href=\"https://www.youtube.com/c/passiton_values\" target=\"_blank\" aria-label=\\'youtube\\'><i class=\"fab fa-youtube no-margin-right\" aria-hidden=\"true\"></i></a></li>\\n            </ul>\\n          </div>\\n        </div>\\n\\n      </div>\\n    </div>\\n  </div>\\n  <div class=\"footer-widget-area padding-five-top padding-30px-bottom sm-padding-30px-top\">\\n    <div class=\"container\">\\n      <div class=\"row\">\\n\\n        <div class=\"col-lg-3 col-md-6 widget border-right border-color-medium-dark-gray padding-45px-left md-padding-15px-left md-no-border-right md-margin-30px-bottom text-center text-md-left\">\\n          <div class=\"widget-title alt-font text-small text-medium-gray text-uppercase margin-10px-bottom font-weight-600\">Pass It On</div>\\n          <ul class=\"list-unstyled\">\\n            <li><a class=\"text-small text-light-gray\" href=\"/share-your-values\">Help Us Inspire Others</a></li>\\n          </ul>\\n\\n          <div class=\"widget-title alt-font text-small text-medium-gray text-uppercase margin-10px-bottom font-weight-600\">About Us</div>\\n          <ul class=\"list-unstyled\">\\n            <li><a class=\"text-small text-light-gray\" href=\"/who-we-are\">About The Foundation for a Better Life</a></li>\\n            <li><a class=\"text-small text-light-gray\" href=\"/faqs\">FAQs</a></li>\\n            <li><a class=\"text-small text-light-gray\" href=\"/foundation-recognition\">Foundation Recognition</a></li>\\n            <li><a class=\"text-small text-light-gray\" href=\"/contact-us\">Contact Us</a></li>\\n          </ul>\\n        </div>\\n\\n        <div class=\"col-lg-3 col-md-6 widget border-right border-color-medium-dark-gray padding-45px-left md-padding-15px-left md-no-border-right md-margin-30px-bottom text-center text-md-left\">\\n          <div class=\"widget-title alt-font text-small text-medium-gray text-uppercase margin-10px-bottom font-weight-600\">Be Inspired</div>\\n          <ul class=\"list-unstyled\">\\n            <li><a class=\"text-small text-light-gray\" href=\"/teaching-values\">Teaching Values</a></li>\\n            <li><a class=\"text-small text-light-gray\" href=\"/inspirational-quotes\">Inspirational Quotations</a></li>\\n            <li><a class=\"text-small text-light-gray\" href=\"/inspirational-stories-tv-spots\">Pass It On\\xc2\\xae Videos</a></li>\\n            <li><a class=\"text-small text-light-gray\" href=\"/artcenter-psas\">ArtCenter College of Design PSAs</a></li>\\n            <li><a class=\"text-small text-light-gray\" href=\"/positive-good-news-columns\">Free Newspaper Stories</a></li>\\n            <li><a class=\"text-small text-light-gray\" href=\"/your-everyday-heroes\">Who&#39;s Your Hero Stories</a></li>\\n            <li><a class=\"text-small text-light-gray\" href=\"/inspirational-sayings-billboards\">Official Billboard Campaign</a></li>\\n            <li><a class=\"text-small text-light-gray\" href=\"/your-billboards\">Create Your Own Billboard</a></li>\\n            <li><a class=\"text-small text-light-gray\" href=\"/radio\">Radio Ads</a></li>\\n            <li><a class=\"text-small text-light-gray\" href=\"/passiton-blog\">Pass It On\\xc2\\xae Blog</a></li>\\n            <li><a class=\"text-small text-light-gray\" href=\"/inspirational-audio-stories\">Podcasts</a></li>\\n            <li><a class=\"text-small text-light-gray\" href=\"/pass-it-on-ecards\">Send an Ecard</a></li>\\n          </ul>\\n        </div>\\n\\n        <div class=\"col-lg-3 col-md-6 widget border-right border-color-medium-dark-gray padding-45px-left md-padding-15px-left md-no-border-right md-margin-30px-bottom text-center text-md-left\">\\n          <div class=\"widget-title alt-font text-small text-medium-gray text-uppercase margin-10px-bottom font-weight-600\">For Schools</div>\\n          <ul class=\"list-unstyled\">\\n            <li><a class=\"text-small text-light-gray\" href=\"/poster-requests/new\">Free Posters for Schools</a></li>\\n            <li><a class=\"text-small text-light-gray\" href=\"/pass-it-on-downloads\">Downloads</a></li>\\n          </ul>\\n        </div>\\n\\n        <div class=\"col-lg-3 col-md-6 widget padding-45px-left md-padding-15px-left md-no-border-right md-margin-30px-bottom text-center text-md-left\">\\n          <div class=\"widget-title alt-font text-small text-medium-gray text-uppercase margin-10px-bottom font-weight-600\">For Media Companies</div>\\n          <ul class=\"list-unstyled\">\\n            <li><a class=\"text-small text-light-gray\" href=\"/for-media-companies\">For Media Companies</a></li>\\n            <li><a class=\"text-small text-light-gray\" href=\"https://www.passiton-media.com\">Broadcast Quality PSA Downloads</a></li>\\n            <li><a class=\"text-small text-light-gray\" href=\"https://www.passiton-media.com\">Pass It On Radio Ads</a></li>\\n            <li><a class=\"text-small text-light-gray\" href=\"https://www.passiton-media.com\">Live Reads</a></li>\\n            <li><a class=\"text-small text-light-gray\" href=\"https://www.passiton-media.com\">Out of Home Materials</a></li>\\n          </ul>\\n          <div class=\\'row sm-margin-30px-top\\'>\\n            <div class=\\'col-lg-4\\'>\\n              <a href=\"/\"><img style=\"max-width: 70px;\" alt=\"values.com logo\" src=\"/assets/site/values_logo-d2f298a8d307ac7a45b2651f13796052ecfd37d37d73b102f7c910ee6e2eabc2.png\" /></a>\\n            </div>\\n            <div class=\\'col-lg-7\\'>\\n              <p class=\\'text-light-gray text-small padding-10px-top\\'>VALUES.COM<small>\\xc2\\xae</small> is now PassItOn.com<small>\\xc2\\xae</small></p>\\n            </div>\\n          </div>\\n        </div>\\n\\n      </div>\\n    </div>\\n  </div>\\n  <div class=\"container\">\\n    <div class=\"footer-bottom border-top border-color-medium-dark-gray padding-30px-top\">\\n      <div class=\"row\">\\n        <div class=\"col-lg-6 col-md-6 text-small text-light-gray text-md-left text-center\">\\xc2\\xa92000-2023 The Foundation for a Better Life.</div>\\n        <div class=\"col-lg-6 col-md-6 text-small text-light-gray text-md-right text-center\"><a class=\"text-light-gray\" href=\"/privacy-policy\">Privacy Policy</a>&nbsp;&nbsp;&nbsp;|&nbsp;&nbsp;&nbsp;<a class=\"text-light-gray\" href=\"/terms-of-use\">Terms of Use</a></div>\\n      </div>\\n    </div>\\n  </div>\\n</footer>\\n  <a class=\"scroll-top-arrow\" href=\"javascript:void(0);\"><i class=\"ti-arrow-up\"></i></a>\\n  <script src=\"/assets/application-30dfed5778a067e363e091307a799084a79fa584e947b3d1f8912c481cf4455b.js\" data-turbo-track=\"reload\"></script>\\n  <script src=\"/assets/popups-04905ba3b1e1bf128b5e9e81389fb56e9b64a1e509c0f95f5e99887410b34026.js\" data-turbo-track=\"reload\"></script>\\n  <script src=\"https://cdnjs.cloudflare.com/ajax/libs/popper.js/1.14.7/umd/popper.min.js\" integrity=\"sha384-UO2eT0CpHqdSJQ6hJty5KVphtPhzWj9WO1clHTMGa3JDZwrnQq4sF86dIHNDz0W1\" crossorigin=\"anonymous\"></script>\\n  <script src=\"https://stackpath.bootstrapcdn.com/bootstrap/4.3.1/js/bootstrap.min.js\" integrity=\"sha384-JjSmVgyd0p3pXB1rRibZUAYoIIy6OrQ6VrjIEaFf/nJGzIxFDsf4x0xIM+B07jRM\" crossorigin=\"anonymous\"></script>\\n  <script src=\"https://cdnjs.cloudflare.com/ajax/libs/jquery-jcrop/0.9.15/js/jquery.Jcrop.min.js\"></script>\\n  \\n  <div id=\\'please_like_us_on_facebook\\' class=\\'zoom-anim-dialog mfp-hide col-xl-6 col-lg-6 col-md-7 col-11 mx-auto bg-white text-center modal-popup-main padding-50px-all\\'>\\n    <span class=\\'text-extra-dark-gray text-uppercase alt-font text-extra-large font-weight-600 margin-15px-bottom d-block\\'>LIKE US ON FACEBOOK FOR A DAILY DOSE OF POSITIVITY</span>\\n    <iframe src=\\'https://www.facebook.com/plugins/like.php?href=https%3A%2F%2Fwww.facebook.com%2Fvaluescom&width=450&layout=standard&action=like&size=large&share=true&height=45&appId\\' width=\\'450\\' height=\\'45\\' style=\\'border:none;overflow:hidden;font-size:1.4rem;\\' scrolling=\\'no\\' frameborder=\\'0\\' allowfullscreen=\\'true\\' allow=\\'autoplay; clipboard-write; encrypted-media; picture-in-picture; web-share\\'></iframe>\\n    <p class=\\'padding-20px-all font-weight-600\\'>Click the like button above to access our facebook page, then \\xe2\\x80\\x98like us\\xe2\\x80\\x99 to get a dose of positivity in your feed.</p>\\n    <a class=\\'text-small alt-font popup-modal-dismiss text-decoration-underline\\' href=\"#\">No thanks</a>\\n  </div>\\n  <div id=\\'subscribe_to_our_newsletter\\' class=\\'zoom-anim-dialog mfp-hide col-xl-6 col-lg-6 col-md-7 col-11 mx-auto bg-white text-center modal-popup-main padding-50px-all\\'>\\n\\n    <h6 class=\"font-weight-300 text-extra-dark-gray margin-20px-bottom sm-margin-15px-bottom\">DAILY INSPIRATION</h6>\\n    <p class=\"text-medium text-extra-dark-gray width-70 mx-auto margin-40px-bottom sm-width-100 sm-margin-15px-bottom\">Get PassItOn\\xe2\\x80\\x99s daily inspirational quote & weekly blog in your inbox each weekday! Enter your email below to subscribe. It\\'s free!</p>\\n\\n    <form class=\"simple_form search-box2 margin-10px-bottom\" id=\"new_user\" novalidate=\"novalidate\" action=\"/users\" accept-charset=\"UTF-8\" method=\"post\"><input type=\"hidden\" name=\"authenticity_token\" value=\"-ae2tWGXeDKh5MsdBrq_an9LcpbkNiHvLbGAOr4OKdrJSCWbl8-nJErlI9LODE4sLwwPK8eYb6bm74gP324I-A\" autocomplete=\"off\" />\\n    \\n    <script src=\"https://www.recaptcha.net/recaptcha/api.js?render=6Ldta8EUAAAAACp3yt76yG8QWMdQkpDBkP1bcHi6\"   ></script>\\n        <script>\\n          // Define function so that we can call it again later if we need to reset it\\n          // This executes reCAPTCHA and then calls our callback.\\n          function executeRecaptchaForSignup() {\\n            grecaptcha.ready(function() {\\n              grecaptcha.execute(\\'6Ldta8EUAAAAACp3yt76yG8QWMdQkpDBkP1bcHi6\\', {action: \\'signup\\'}).then(function(token) {\\n                setInputWithRecaptchaResponseTokenForSignup(\\'g-recaptcha-response-data-signup\\', token)\\n              });\\n            });\\n          };\\n          // Invoke immediately\\n          executeRecaptchaForSignup()\\n\\n          // Async variant so you can await this function from another async function (no need for\\n          // an explicit callback function then!)\\n          // Returns a Promise that resolves with the response token.\\n          async function executeRecaptchaForSignupAsync() {\\n            return new Promise((resolve, reject) => {\\n             grecaptcha.ready(async function() {\\n                resolve(await grecaptcha.execute(\\'6Ldta8EUAAAAACp3yt76yG8QWMdQkpDBkP1bcHi6\\', {action: \\'signup\\'}))\\n              });\\n            })\\n          };\\n\\n                    var setInputWithRecaptchaResponseTokenForSignup = function(id, token) {\\n            var element = document.getElementById(id);\\n            element.value = token;\\n          }\\n\\n        </script>\\n<input type=\"hidden\" name=\"g-recaptcha-response-data[signup]\" id=\"g-recaptcha-response-data-signup\" data-sitekey=\"6Ldta8EUAAAAACp3yt76yG8QWMdQkpDBkP1bcHi6\" class=\"g-recaptcha g-recaptcha-response \"/>\\n\\n    <div class=\"input-group add-on width-75 mx-auto sm-width-100\">\\n      <input label=\"false\" class=\"string email optional form-control text-black\" type=\"text\" value=\"\" name=\"user[email]\" id=\"user_email\" />\\n      <div class=\"input-group-append\">\\n        <button type=\"submit\" class=\"btn btn-default\" aria-label=\"Submit\"><i class=\"ti-arrow-right text-small m-0\"></i></button>\\n      </div>\\n    </div>\\n</form>\\n\\n\\n    <a class=\\'text-small alt-font popup-modal-dismiss text-decoration-underline\\' href=\"#\">No thanks</a>\\n  </div>\\n</body>\\n</html>'"
      ]
     },
     "execution_count": 46,
     "metadata": {},
     "output_type": "execute_result"
    }
   ],
   "source": [
    "result.content"
   ]
  },
  {
   "cell_type": "code",
   "execution_count": 48,
   "id": "858b7697",
   "metadata": {},
   "outputs": [],
   "source": [
    "# html parser\n",
    "soup = bs4.BeautifulSoup(result.content, 'html.parser')"
   ]
  },
  {
   "cell_type": "code",
   "execution_count": 49,
   "id": "130b70b2",
   "metadata": {},
   "outputs": [
    {
     "data": {
      "text/plain": [
       "<!DOCTYPE html>\n",
       "\n",
       "<html class=\"no-js\" dir=\"ltr\" lang=\"en-US\">\n",
       "<head>\n",
       "<meta charset=\"utf-8\"/>\n",
       "<meta content=\"text/html; charset=utf-8\" http-equiv=\"content-type\">\n",
       "<meta content=\"IE=edge\" http-equiv=\"X-UA-Compatible\"/>\n",
       "<meta content=\"width=device-width,initial-scale=1.0\" name=\"viewport\"/>\n",
       "<title>Inspirational Quotes - Motivational Quotes - | The Foundation for a Better Life</title>\n",
       "<meta content=\"Find the perfect quotation from our hand-picked collection of inspiring quotes by hundreds of authors.\" name=\"description\"/>\n",
       "<meta content=\"pass, it, on, passiton, values, kindness\" name=\"keywords\"/>\n",
       "<meta content=\"The Foundation for a Better Life\" name=\"twitter:site_name\"/>\n",
       "<meta content=\"@passiton_values\" name=\"twitter:site\"/>\n",
       "<meta content=\"summary\" name=\"twitter:card\"/>\n",
       "<meta content=\"Thank you for visiting.\" name=\"twitter:description\"/>\n",
       "<meta content=\"https://www.passiton.com/passiton_fbl.jpg\" name=\"twitter:image\"/>\n",
       "<meta content=\"https://www.passiton.com/inspirational-quotes?page=2\" property=\"og:url\"/>\n",
       "<meta content=\"The Foundation for a Better Life\" property=\"og:site_name\"/>\n",
       "<meta content=\"Welcome to PassItOn.com\" property=\"og:title\"/>\n",
       "<meta content=\"https://www.passiton.com/passiton_fbl.jpg\" property=\"og:image\"/>\n",
       "<meta content=\"Thank you for visiting.\" property=\"og:description\"/>\n",
       "<meta content=\"website\" property=\"og:type\"/>\n",
       "<link href=\"/apple-touch-icon.png\" rel=\"apple-touch-icon\" sizes=\"180x180\"/>\n",
       "<link href=\"/favicon-32x32.png\" rel=\"icon\" sizes=\"32x32\" type=\"image/png\"/>\n",
       "<link href=\"/favicon-16x16.png\" rel=\"icon\" sizes=\"16x16\" type=\"image/png\"/>\n",
       "<link href=\"/site.webmanifest\" rel=\"manifest\"/>\n",
       "<link color=\"#c8102e\" href=\"/safari-pinned-tab.svg\" rel=\"mask-icon\"/>\n",
       "<meta content=\"#ffffff\" name=\"msapplication-TileColor\"/>\n",
       "<meta content=\"#ffffff\" name=\"theme-color\"/>\n",
       "<link crossorigin=\"anonymous\" href=\"https://stackpath.bootstrapcdn.com/bootstrap/4.3.1/css/bootstrap.min.css\" integrity=\"sha384-ggOyR0iXCbMQv3Xipma34MD+dH/1fQ784/j6cY/iJTQUOhcWr7x9JvoRxT2MZw1T\" rel=\"stylesheet\"/>\n",
       "<link data-turbo-track=\"reload\" href=\"/assets/application-cf5c35e709dae070fc47b66735d9d9e769d3f3727881e1797288ea9f2ec0454c.css\" rel=\"stylesheet\">\n",
       "<meta content=\"authenticity_token\" name=\"csrf-param\">\n",
       "<meta content=\"1AVkJwJKb11Zy2UaixAgPTQvQHAG5ftaBJvA4k2xz-82ftgjW0eyLrS9d9f33wETRuoySCmdO_HKzN0E2WedTQ\" name=\"csrf-token\">\n",
       "<!-- Global site tag (gtag.js) - Google Analytics -->\n",
       "<script async=\"\" src=\"https://www.googletagmanager.com/gtag/js?id=UA-1179606-29\"></script>\n",
       "<script>\n",
       "    window.dataLayer = window.dataLayer || [];\n",
       "    function gtag(){dataLayer.push(arguments);}\n",
       "    gtag('js', new Date());\n",
       "    gtag('config', 'UA-1179606-29');\n",
       "  </script>\n",
       "<!-- Facebook Pixel Code -->\n",
       "<script>\n",
       "  !function(f,b,e,v,n,t,s)\n",
       "  {if(f.fbq)return;n=f.fbq=function(){n.callMethod?\n",
       "  n.callMethod.apply(n,arguments):n.queue.push(arguments)};\n",
       "  if(!f._fbq)f._fbq=n;n.push=n;n.loaded=!0;n.version='2.0';\n",
       "  n.queue=[];t=b.createElement(e);t.async=!0;\n",
       "  t.src=v;s=b.getElementsByTagName(e)[0];\n",
       "  s.parentNode.insertBefore(t,s)}(window,document,'script',\n",
       "  'https://connect.facebook.net/en_US/fbevents.js');\n",
       "   fbq('init', '900394648046390');\n",
       "  fbq('track', 'PageView');\n",
       "  </script>\n",
       "<noscript>\n",
       "<img height=\"1\" src=\"https://www.facebook.com/tr?id=900394648046390&amp;ev=PageView\n",
       "  &amp;noscript=1\" width=\"1\"/>\n",
       "</noscript>\n",
       "<!-- End Facebook Pixel Code -->\n",
       "<script>\n",
       "    window.fbAsyncInit = function() {\n",
       "      FB.init({\n",
       "        appId            : '483774921971842',\n",
       "        autoLogAppEvents : true,\n",
       "        xfbml            : true,\n",
       "        version          : 'v6.0'\n",
       "      });\n",
       "    };\n",
       "  </script>\n",
       "<script async=\"\" defer=\"\" src=\"https://connect.facebook.net/en_US/sdk.js\"></script>\n",
       "<meta content=\"483774921971842\" property=\"fb:app_id\">\n",
       "<link href=\"https://www.passiton.com/inspirational-quotes.atom\" rel=\"alternate\" title=\"RSS\" type=\"application/rss+xml\">\n",
       "<!-- Google Tag Manager -->\n",
       "<script>(function(w,d,s,l,i){w[l]=w[l]||[];w[l].push({'gtm.start':\n",
       "  new Date().getTime(),event:'gtm.js'});var f=d.getElementsByTagName(s)[0],\n",
       "  j=d.createElement(s),dl=l!='dataLayer'?'&l='+l:'';j.async=true;j.src=\n",
       "  'https://www.googletagmanager.com/gtm.js?id='+i+dl;f.parentNode.insertBefore(j,f);\n",
       "  })(window,document,'script','dataLayer','GTM-WGXT9QJ');</script>\n",
       "<!-- End Google Tag Manager -->\n",
       "</link></meta></meta></meta></link></meta></head>\n",
       "<body class=\"no-transition quotes_index\">\n",
       "<!-- Google Tag Manager (noscript) -->\n",
       "<noscript><iframe height=\"0\" src=\"https://www.googletagmanager.com/ns.html?id=GTM-WGXT9QJ\" style=\"display:none;visibility:hidden\" width=\"0\"></iframe></noscript>\n",
       "<!-- End Google Tag Manager (noscript) -->\n",
       "<header>\n",
       "<nav class=\"navbar navbar-default bootsnav background-transparent header-dark white-link navbar-fixed-top navbar-expand-lg nav-box-width\">\n",
       "<div class=\"container-fluid nav-header-container\">\n",
       "<div class=\"col-auto pl-0\">\n",
       "<a class=\"logo\" href=\"/\" title=\"Pass It On®\"><img alt=\"Pass It On\" class=\"logo-dark\" data-rjs=\"/assets/site/logo@2x-a5b7e9de4b8595ff3fc94c64e245592585dda8a14753ab6d4ce6a8e56155f543.png\" src=\"/assets/site/logo-addf119432237cf6c743df6160193cf0c428b2bb9f6f258fef3f3fa1c710dd59.png\"/><img alt=\"Pass It On\" class=\"logo-light default\" data-rjs=\"/assets/site/logo-white@2x-d49e37762eb5c6805d094397a8bca8b53d38c872c1fc54195093caff0208ad77.png\" src=\"/assets/site/logo-white-cc0fccfb11de6149582eafd4805e8422c93875f0df879d387c1ac38a36dbead8.png\"/></a>\n",
       "</div>\n",
       "<div class=\"col accordion-menu pr-0 pr-md-3\">\n",
       "<button class=\"navbar-toggler collapsed\" data-target=\"#navbar-collapse-toggle-1\" data-toggle=\"collapse\" type=\"button\">\n",
       "<span class=\"sr-only\">toggle navigation</span><span class=\"icon-bar\"></span><span class=\"icon-bar\"></span><span class=\"icon-bar\"></span>\n",
       "</button>\n",
       "<div class=\"navbar-collapse collapse justify-content-end\" id=\"navbar-collapse-toggle-1\">\n",
       "<ul class=\"nav navbar-nav navbar-left no-margin alt-font text-normal\" data-in=\"fadeIn\" data-out=\"fadeOut\" id=\"accordion\">\n",
       "<li><a href=\"/inspirational-quotes\">Quotes</a></li>\n",
       "<li class=\"dropdown simple-dropdown\"><a href=\"/inspirational-stories-tv-spots\">Videos <i aria-hidden=\"true\" class=\"fas fa-caret-down d-none d-lg-inline\"></i></a><i aria-hidden=\"true\" class=\"fas fa-caret-down dropdown-toggle\" data-toggle=\"dropdown\"></i>\n",
       "<ul class=\"dropdown-menu\" role=\"menu\">\n",
       "<li><a href=\"/inspirational-stories-tv-spots\">Official Pass It On® Videos</a></li>\n",
       "<li><a href=\"/artcenter-psas\">ArtCenter College of Design PSAs</a></li>\n",
       "</ul>\n",
       "</li>\n",
       "<li class=\"dropdown simple-dropdown\"><a href=\"/inspirational-sayings-billboards\">Billboards <i aria-hidden=\"true\" class=\"fas fa-caret-down d-none d-lg-inline\"></i></a><i aria-hidden=\"true\" class=\"fas fa-caret-down dropdown-toggle\" data-toggle=\"dropdown\"></i>\n",
       "<ul class=\"dropdown-menu\" role=\"menu\">\n",
       "<li><a href=\"/inspirational-sayings-billboards\">Official Billboards</a></li>\n",
       "<li><a href=\"/is-in-you\">Is In You® Billboards</a></li>\n",
       "<li><a href=\"/your-billboards\">Create Your Own Billboard</a></li>\n",
       "</ul>\n",
       "</li>\n",
       "<li><a href=\"/share-your-values\">Submit</a></li>\n",
       "<li><a href=\"/positive-good-news-columns\">Newspapers</a></li>\n",
       "<li><a href=\"/radio\">Radio</a></li>\n",
       "<li><a href=\"/passiton-blog\">Blog</a></li>\n",
       "<li><a href=\"/poster-requests/new\">Schools</a></li>\n",
       "<li class=\"dropdown simple-dropdown\"><a href=\"#\"><i aria-hidden=\"true\" class=\"fas fa-globe d-none d-lg-inline text-normal\"></i> <i aria-hidden=\"true\" class=\"fas fa-caret-down d-none d-lg-inline\"></i></a><i aria-hidden=\"true\" class=\"fas fa-caret-down dropdown-toggle\" data-toggle=\"dropdown\"></i>\n",
       "<ul class=\"dropdown-menu\" role=\"menu\">\n",
       "<li><a href=\"https://www.pasala.org/\" target=\"_blank\">Spanish | Español</a></li>\n",
       "<li><a href=\"https://www.umavidamelhor.org/\" target=\"_blank\">Portuguese | Português</a></li>\n",
       "<li><a href=\"https://www.values.cn.com/\" target=\"_blank\">Chinese | 中文</a></li>\n",
       "</ul>\n",
       "</li>\n",
       "</ul>\n",
       "</div>\n",
       "</div>\n",
       "<div class=\"col-auto pr-0\">\n",
       "<div class=\"header-searchbar\">\n",
       "<a aria-label=\"search form\" class=\"header-search-form\" href=\"#search-header\"><i class=\"fas fa-search search-button\"></i></a>\n",
       "<form action=\"/search\" class=\"mfp-hide search-form-result\" id=\"search-header\" method=\"post\" name=\"search-header\">\n",
       "<div class=\"search-form position-relative\">\n",
       "<button aria-label=\"Search\" class=\"fas fa-search close-search search-button\" type=\"submit\"></button>\n",
       "<input autocomplete=\"off\" class=\"search-input\" name=\"q\" placeholder=\"Search passiton.com...\" type=\"text\"/>\n",
       "</div>\n",
       "</form>\n",
       "</div>\n",
       "</div>\n",
       "</div>\n",
       "</nav>\n",
       "</header>\n",
       "<section class=\"parallax padding-six-all bg-black\" data-stellar-background-ratio=\"0.2\" style=\"background-image:url('/assets/backgrounds/flowers-7e362d59b798265063c210d16ea800b6fb4c3b13e462fbfe195df7c70c9811ce.jpg');\">\n",
       "<div class=\"container\">\n",
       "<div class=\"row justify-content-center\">\n",
       "<div class=\"col-12 col-lg-10 text-center\">\n",
       "<div class=\"shadow bg-extra-dark-gray padding-two-all border-radius-6 width-70 lg-width-80 sm-width-100 mx-auto lg-padding-30px-all sm-padding-15px-all sm-margin-40px-top\">\n",
       "<h6 class=\"font-weight-300 text-white-2 margin-20px-bottom sm-margin-15px-bottom\">Get our FREE daily quote emails!</h6>\n",
       "<p class=\"text-medium text-white-2 width-70 mx-auto margin-40px-bottom sm-width-100 sm-margin-15px-bottom\">Get a daily inspirational quote in your inbox each weekday! Enter your email below to subscribe.</p>\n",
       "<form accept-charset=\"UTF-8\" action=\"/users\" class=\"simple_form search-box3 margin-10px-bottom\" id=\"new_user\" method=\"post\" novalidate=\"novalidate\"><input autocomplete=\"off\" name=\"authenticity_token\" type=\"hidden\" value=\"XXc8KC8xCSu2PntxDeY4ejDxXgjNHAFAW4mO-ocRi09tmK8G2WnWPV0_k77FUMk8YLYjte6yTwmQ14bP5nGqbQ\">\n",
       "<script src=\"https://www.recaptcha.net/recaptcha/api.js?render=6Ldta8EUAAAAACp3yt76yG8QWMdQkpDBkP1bcHi6\"></script>\n",
       "<script>\n",
       "          // Define function so that we can call it again later if we need to reset it\n",
       "          // This executes reCAPTCHA and then calls our callback.\n",
       "          function executeRecaptchaForSignup() {\n",
       "            grecaptcha.ready(function() {\n",
       "              grecaptcha.execute('6Ldta8EUAAAAACp3yt76yG8QWMdQkpDBkP1bcHi6', {action: 'signup'}).then(function(token) {\n",
       "                setInputWithRecaptchaResponseTokenForSignup('g-recaptcha-response-data-signup', token)\n",
       "              });\n",
       "            });\n",
       "          };\n",
       "          // Invoke immediately\n",
       "          executeRecaptchaForSignup()\n",
       "\n",
       "          // Async variant so you can await this function from another async function (no need for\n",
       "          // an explicit callback function then!)\n",
       "          // Returns a Promise that resolves with the response token.\n",
       "          async function executeRecaptchaForSignupAsync() {\n",
       "            return new Promise((resolve, reject) => {\n",
       "             grecaptcha.ready(async function() {\n",
       "                resolve(await grecaptcha.execute('6Ldta8EUAAAAACp3yt76yG8QWMdQkpDBkP1bcHi6', {action: 'signup'}))\n",
       "              });\n",
       "            })\n",
       "          };\n",
       "\n",
       "                    var setInputWithRecaptchaResponseTokenForSignup = function(id, token) {\n",
       "            var element = document.getElementById(id);\n",
       "            element.value = token;\n",
       "          }\n",
       "\n",
       "        </script>\n",
       "<input class=\"g-recaptcha g-recaptcha-response\" data-sitekey=\"6Ldta8EUAAAAACp3yt76yG8QWMdQkpDBkP1bcHi6\" id=\"g-recaptcha-response-data-signup\" name=\"g-recaptcha-response-data[signup]\" type=\"hidden\"/>\n",
       "<div class=\"input-group add-on width-75 mx-auto sm-width-100\">\n",
       "<input class=\"string email optional form-control text-white\" id=\"user_email\" label=\"false\" name=\"user[email]\" placeholder=\"you@youremail.com\" type=\"text\" value=\"\"/>\n",
       "<div class=\"input-group-append\">\n",
       "<button aria-label=\"Submit\" class=\"btn btn-default\" type=\"submit\"><i class=\"ti-arrow-right text-small m-0\"></i></button>\n",
       "</div>\n",
       "</div>\n",
       "</input></form>\n",
       "</div>\n",
       "</div>\n",
       "</div>\n",
       "</div>\n",
       "</section>\n",
       "<section class=\"half-section bg-extra-dark-gray half-section\">\n",
       "<div class=\"container\">\n",
       "<div class=\"row m-0\">\n",
       "<div class=\"col-12 d-flex flex-column justify-content-center text-center wow fadeIn\" data-wow-delay=\"0.2s\">\n",
       "<h5 class=\"text-white alt-font font-weight-400 letter-spacing-1 margin-10px-bottom\">INSPIRATIONAL QUOTES</h5>\n",
       "<span class=\"text-white-2 opacity8 alt-font mb-0 padding-20px-bottom\">Find the perfect quote... and Pass It On®</span>\n",
       "<form action=\"/inspirational-quotes\" class=\"search-box2 margin-30px-bottom\" method=\"get\">\n",
       "<div class=\"input-group add-on width-75 mx-auto sm-width-100\">\n",
       "<input class=\"form-control text-white-2\" name=\"q\" placeholder=\"Search our inspiring quotes...\" type=\"text\" value=\"\"/>\n",
       "<div class=\"input-group-append\">\n",
       "<button aria-label=\"Search\" class=\"btn btn-default\" type=\"submit\"><i class=\"ti-search text-small m-0\"></i></button>\n",
       "</div>\n",
       "</div>\n",
       "</form>\n",
       "</div>\n",
       "</div>\n",
       "<div class=\"row m-0\">\n",
       "<div class=\"col-8 d-flex flex-column justify-content-top text-center\">\n",
       "<div class=\"row\" id=\"all_quotes\">\n",
       "<div class=\"col-6 col-lg-4 text-center margin-30px-bottom sm-margin-30px-top\">\n",
       "<a href=\"/inspirational-quotes/6906-dont-be-pushed-by-your-problems-be-led-by-your\"><img alt=\"Don't be pushed by your problems, be led by your dreams. #&lt;Author:0x000055c3978d5710&gt;\" class=\"margin-10px-bottom shadow\" height=\"310\" src=\"https://assets.passiton.com/quotes/quote_artwork/6906/medium/20230607_wednesday_quote.jpg\" width=\"310\"/></a>\n",
       "<h5 class=\"value_on_red\"><a href=\"/inspirational-quotes/6906-dont-be-pushed-by-your-problems-be-led-by-your\">LIVE YOUR DREAMS</a></h5>\n",
       "</div>\n",
       "<div class=\"col-6 col-lg-4 text-center margin-30px-bottom sm-margin-30px-top\">\n",
       "<a href=\"/inspirational-quotes/8223-no-matter-where-you-re-from-your-dreams-are\"><img alt=\"No matter where you’re from, your dreams are valid. #&lt;Author:0x000055c397991190&gt;\" class=\"margin-10px-bottom shadow\" height=\"310\" src=\"https://assets.passiton.com/quotes/quote_artwork/8223/medium/20230606_tuesday_quote.jpg\" width=\"310\"/></a>\n",
       "<h5 class=\"value_on_red\"><a href=\"/inspirational-quotes/8223-no-matter-where-you-re-from-your-dreams-are\">LIVE YOUR DREAMS</a></h5>\n",
       "</div>\n",
       "<div class=\"col-6 col-lg-4 text-center margin-30px-bottom sm-margin-30px-top\">\n",
       "<a href=\"/inspirational-quotes/4386-make-no-small-plans-for-they-have-no-power-to\"><img alt=\"Make no small plans for they have no power to stir the soul. #&lt;Author:0x000055c39794ad80&gt;\" class=\"margin-10px-bottom shadow\" height=\"310\" src=\"https://assets.passiton.com/quotes/quote_artwork/4386/medium/20230605_monday_quote.jpg\" width=\"310\"/></a>\n",
       "<h5 class=\"value_on_red\"><a href=\"/inspirational-quotes/4386-make-no-small-plans-for-they-have-no-power-to\">LIVE YOUR DREAMS</a></h5>\n",
       "</div>\n",
       "<div class=\"col-6 col-lg-4 text-center margin-30px-bottom sm-margin-30px-top\">\n",
       "<a href=\"/inspirational-quotes/4298-appreciation-is-a-wonderful-thing-it-makes\"><img alt=\"Appreciation is a wonderful thing. It makes what is excellent in others belong to us as well. #&lt;Author:0x000055c397a1a198&gt;\" class=\"margin-10px-bottom shadow\" height=\"310\" src=\"https://assets.passiton.com/quotes/quote_artwork/4298/medium/20230602_friday_quote.jpg\" width=\"310\"/></a>\n",
       "<h5 class=\"value_on_red\"><a href=\"/inspirational-quotes/4298-appreciation-is-a-wonderful-thing-it-makes\">APPRECIATION</a></h5>\n",
       "</div>\n",
       "<div class=\"col-6 col-lg-4 text-center margin-30px-bottom sm-margin-30px-top\">\n",
       "<a href=\"/inspirational-quotes/6601-enjoy-the-little-things-in-life-for-one-day\"><img alt=\"Enjoy the little things in life, for one day you may look back and realize they were the big things. #&lt;Author:0x000055c3979cef18&gt;\" class=\"margin-10px-bottom shadow\" height=\"310\" src=\"https://assets.passiton.com/quotes/quote_artwork/6601/medium/20230601_thursday_quote.jpg\" width=\"310\"/></a>\n",
       "<h5 class=\"value_on_red\"><a href=\"/inspirational-quotes/6601-enjoy-the-little-things-in-life-for-one-day\">APPRECIATION</a></h5>\n",
       "</div>\n",
       "<div class=\"col-6 col-lg-4 text-center margin-30px-bottom sm-margin-30px-top\">\n",
       "<a href=\"/inspirational-quotes/6378-now-is-no-time-to-think-of-what-you-do-not\"><img alt=\"Now is no time to think of what you do not have. Think of what you can do with what there is.  #&lt;Author:0x000055c397aa0fb8&gt;\" class=\"margin-10px-bottom shadow\" height=\"310\" src=\"https://assets.passiton.com/quotes/quote_artwork/6378/medium/20230531_wednesday_quote.jpg\" width=\"310\"/></a>\n",
       "<h5 class=\"value_on_red\"><a href=\"/inspirational-quotes/6378-now-is-no-time-to-think-of-what-you-do-not\">APPRECIATION</a></h5>\n",
       "</div>\n",
       "<div class=\"col-6 col-lg-4 text-center margin-30px-bottom sm-margin-30px-top\">\n",
       "<a href=\"/inspirational-quotes/8381-strive-to-find-things-to-be-thankful-for-and\"><img alt=\"Strive to find things to be thankful for, and just look for the good in who you are. #&lt;Author:0x000055c397a6c880&gt;\" class=\"margin-10px-bottom shadow\" height=\"310\" src=\"https://assets.passiton.com/quotes/quote_artwork/8381/medium/20230530_tuesday_quote.jpg\" width=\"310\"/></a>\n",
       "<h5 class=\"value_on_red\"><a href=\"/inspirational-quotes/8381-strive-to-find-things-to-be-thankful-for-and\">APPRECIATION</a></h5>\n",
       "</div>\n",
       "<div class=\"col-6 col-lg-4 text-center margin-30px-bottom sm-margin-30px-top\">\n",
       "<a href=\"/inspirational-quotes/7426-as-we-express-our-gratitude-we-must-never\"><img alt=\"As we express our gratitude, we must never forget that the highest appreciation is not to utter words, but to live by them. #&lt;Author:0x000055c397a3f7b8&gt;\" class=\"margin-10px-bottom shadow\" height=\"310\" src=\"https://assets.passiton.com/quotes/quote_artwork/7426/medium/20230529_monday_quote.jpg\" width=\"310\"/></a>\n",
       "<h5 class=\"value_on_red\"><a href=\"/inspirational-quotes/7426-as-we-express-our-gratitude-we-must-never\">APPRECIATION</a></h5>\n",
       "</div>\n",
       "<div class=\"col-6 col-lg-4 text-center margin-30px-bottom sm-margin-30px-top\">\n",
       "<a href=\"/inspirational-quotes/8224-of-all-the-paths-you-take-in-life-make-sure-a\"><img alt=\"Of all the paths you take in life, make sure a few of them are dirt. #&lt;Author:0x000055c397ad7860&gt;\" class=\"margin-10px-bottom shadow\" height=\"310\" src=\"https://assets.passiton.com/quotes/quote_artwork/8224/medium/20230526_friday_quote.jpg\" width=\"310\"/></a>\n",
       "<h5 class=\"value_on_red\"><a href=\"/inspirational-quotes/8224-of-all-the-paths-you-take-in-life-make-sure-a\">GET OUTSIDE</a></h5>\n",
       "</div>\n",
       "<div class=\"col-6 col-lg-4 text-center margin-30px-bottom sm-margin-30px-top\">\n",
       "<a href=\"/inspirational-quotes/8380-the-wilderness-holds-answers-to-questions-we\"><img alt=\"The wilderness holds answers to questions we have not yet learned to ask. #&lt;Author:0x000055c397aaf5e0&gt;\" class=\"margin-10px-bottom shadow\" height=\"310\" src=\"https://assets.passiton.com/quotes/quote_artwork/8380/medium/20230525_thursday_quote.jpg\" width=\"310\"/></a>\n",
       "<h5 class=\"value_on_red\"><a href=\"/inspirational-quotes/8380-the-wilderness-holds-answers-to-questions-we\">GET OUTSIDE</a></h5>\n",
       "</div>\n",
       "<div class=\"col-6 col-lg-4 text-center margin-30px-bottom sm-margin-30px-top\">\n",
       "<a href=\"/inspirational-quotes/8131-nature-brings-solace-in-all-troubles\"><img alt=\"Nature brings solace in all troubles. #&lt;Author:0x000055c396c918a0&gt;\" class=\"margin-10px-bottom shadow\" height=\"310\" src=\"https://assets.passiton.com/quotes/quote_artwork/8131/medium/20230524_wednesday_quote.jpg\" width=\"310\"/></a>\n",
       "<h5 class=\"value_on_red\"><a href=\"/inspirational-quotes/8131-nature-brings-solace-in-all-troubles\">GET OUTSIDE</a></h5>\n",
       "</div>\n",
       "<div class=\"col-6 col-lg-4 text-center margin-30px-bottom sm-margin-30px-top\">\n",
       "<a href=\"/inspirational-quotes/7511-to-be-whole-to-be-complete-wildness-reminds\"><img alt=\"To be whole. To be complete. Wildness reminds us what it means to be human, what we are connected to rather than what we are separate from. #&lt;Author:0x000055c39785a4e8&gt;\" class=\"margin-10px-bottom shadow\" height=\"310\" src=\"https://assets.passiton.com/quotes/quote_artwork/7511/medium/20230523_tuesday_quote.jpg\" width=\"310\"/></a>\n",
       "<h5 class=\"value_on_red\"><a href=\"/inspirational-quotes/7511-to-be-whole-to-be-complete-wildness-reminds\">GET OUTSIDE</a></h5>\n",
       "</div>\n",
       "<div class=\"col-6 col-lg-4 text-center margin-30px-bottom sm-margin-30px-top\">\n",
       "<a href=\"/inspirational-quotes/7928-the-world-is-incomprehensibly-beautiful-an\"><img alt=\"The world is incomprehensibly beautiful—an endless prospect of magic and wonder. #&lt;Author:0x000055c39813bb48&gt;\" class=\"margin-10px-bottom shadow\" height=\"310\" src=\"https://assets.passiton.com/quotes/quote_artwork/7928/medium/20230522_monday_quote.jpg\" width=\"310\"/></a>\n",
       "<h5 class=\"value_on_red\"><a href=\"/inspirational-quotes/7928-the-world-is-incomprehensibly-beautiful-an\">GET OUTSIDE</a></h5>\n",
       "</div>\n",
       "<div class=\"col-6 col-lg-4 text-center margin-30px-bottom sm-margin-30px-top\">\n",
       "<a href=\"/inspirational-quotes/6256-love-and-kindness-are-never-wasted-they-always\"><img alt=\"Love and kindness are never wasted. They always make a difference. #&lt;Author:0x000055c3975aace8&gt;\" class=\"margin-10px-bottom shadow\" height=\"310\" src=\"https://assets.passiton.com/quotes/quote_artwork/6256/medium/20230519_friday_quote.jpg\" width=\"310\"/></a>\n",
       "<h5 class=\"value_on_red\"><a href=\"/inspirational-quotes/6256-love-and-kindness-are-never-wasted-they-always\">LOVE</a></h5>\n",
       "</div>\n",
       "<div class=\"col-6 col-lg-4 text-center margin-30px-bottom sm-margin-30px-top\">\n",
       "<a href=\"/inspirational-quotes/7221-nobody-has-ever-measured-not-even-poets-how\"><img alt=\"Nobody has ever measured, not even poets, how much the heart can hold. #&lt;Author:0x000055c3981ba3d0&gt;\" class=\"margin-10px-bottom shadow\" height=\"310\" src=\"https://assets.passiton.com/quotes/quote_artwork/7221/medium/20230518_thursday_quote.jpg\" width=\"310\"/></a>\n",
       "<h5 class=\"value_on_red\"><a href=\"/inspirational-quotes/7221-nobody-has-ever-measured-not-even-poets-how\">LOVE</a></h5>\n",
       "</div>\n",
       "<div class=\"col-6 col-lg-4 text-center margin-30px-bottom sm-margin-30px-top\">\n",
       "<a href=\"/inspirational-quotes/7444-where-there-is-love-there-is-life\"><img alt=\"Where there is love there is life. #&lt;Author:0x000055c3981897a8&gt;\" class=\"margin-10px-bottom shadow\" height=\"310\" src=\"https://assets.passiton.com/quotes/quote_artwork/7444/medium/20230517_wednesday_quote.jpg\" width=\"310\"/></a>\n",
       "<h5 class=\"value_on_red\"><a href=\"/inspirational-quotes/7444-where-there-is-love-there-is-life\">LOVE</a></h5>\n",
       "</div>\n",
       "<div class=\"col-6 col-lg-4 text-center margin-30px-bottom sm-margin-30px-top\">\n",
       "<a href=\"/inspirational-quotes/8190-the-best-thing-to-hold-onto-in-life-is-each-other\"><img alt=\"The best thing to hold onto in life is each other. #&lt;Author:0x000055c398151420&gt;\" class=\"margin-10px-bottom shadow\" height=\"310\" src=\"https://assets.passiton.com/quotes/quote_artwork/8190/medium/20230516_tuesday_quote.jpg\" width=\"310\"/></a>\n",
       "<h5 class=\"value_on_red\"><a href=\"/inspirational-quotes/8190-the-best-thing-to-hold-onto-in-life-is-each-other\">LOVE</a></h5>\n",
       "</div>\n",
       "<div class=\"col-6 col-lg-4 text-center margin-30px-bottom sm-margin-30px-top\">\n",
       "<a href=\"/inspirational-quotes/3420-the-highest-vocation-we-can-have-is-love\"><img alt=\"The highest vocation we can have is love. #&lt;Author:0x000055c398200740&gt;\" class=\"margin-10px-bottom shadow\" height=\"310\" src=\"https://assets.passiton.com/quotes/quote_artwork/3420/medium/20230515_monday_quote.jpg\" width=\"310\"/></a>\n",
       "<h5 class=\"value_on_red\"><a href=\"/inspirational-quotes/3420-the-highest-vocation-we-can-have-is-love\">LOVE</a></h5>\n",
       "</div>\n",
       "<div class=\"col-6 col-lg-4 text-center margin-30px-bottom sm-margin-30px-top\">\n",
       "<a href=\"/inspirational-quotes/8285-use-your-voice-for-kindness-your-ears-for\"><img alt=\"Use your voice for kindness, your ears for compassion, your hands for charity, your mind for truth, and your heart for love. #&lt;Author:0x000055c3981d3b78&gt;\" class=\"margin-10px-bottom shadow\" height=\"310\" src=\"https://assets.passiton.com/quotes/quote_artwork/8285/medium/20230512_friday_quote.jpg\" width=\"310\"/></a>\n",
       "<h5 class=\"value_on_red\"><a href=\"/inspirational-quotes/8285-use-your-voice-for-kindness-your-ears-for\">COMPASSION</a></h5>\n",
       "</div>\n",
       "<div class=\"col-6 col-lg-4 text-center margin-30px-bottom sm-margin-30px-top\">\n",
       "<a href=\"/inspirational-quotes/8200-there-never-was-any-heart-truly-great-and\"><img alt=\"There never was any heart truly great and generous, that was not also tender and compassionate. #&lt;Author:0x00007f6d300a3ad0&gt;\" class=\"margin-10px-bottom shadow\" height=\"310\" src=\"https://assets.passiton.com/quotes/quote_artwork/8200/medium/20230511_thursday_quote.jpg\" width=\"310\"/></a>\n",
       "<h5 class=\"value_on_red\"><a href=\"/inspirational-quotes/8200-there-never-was-any-heart-truly-great-and\">COMPASSION</a></h5>\n",
       "</div>\n",
       "<div class=\"col-6 col-lg-4 text-center margin-30px-bottom sm-margin-30px-top\">\n",
       "<a href=\"/inspirational-quotes/4435-if-you-are-going-to-be-compassionate-be\"><img alt=\"If you are going to be compassionate, be prepared for action! #&lt;Author:0x000055c398232150&gt;\" class=\"margin-10px-bottom shadow\" height=\"310\" src=\"https://assets.passiton.com/quotes/quote_artwork/4435/medium/20230510_wednesday_quote.jpg\" width=\"310\"/></a>\n",
       "<h5 class=\"value_on_red\"><a href=\"/inspirational-quotes/4435-if-you-are-going-to-be-compassionate-be\">COMPASSION</a></h5>\n",
       "</div>\n",
       "<div class=\"col-6 col-lg-4 text-center margin-30px-bottom sm-margin-30px-top\">\n",
       "<a href=\"/inspirational-quotes/5157-what-do-we-live-for-if-it-is-not-to-make-life\"><img alt=\"What do we live for; if it is not to make life less difficult for each other?\n",
       " #&lt;Author:0x00007f6d31354e68&gt;\" class=\"margin-10px-bottom shadow\" height=\"310\" src=\"https://assets.passiton.com/quotes/quote_artwork/5157/medium/20230509_tuesday_quote.jpg\" width=\"310\"/></a>\n",
       "<h5 class=\"value_on_red\"><a href=\"/inspirational-quotes/5157-what-do-we-live-for-if-it-is-not-to-make-life\">COMPASSION</a></h5>\n",
       "</div>\n",
       "<div class=\"col-6 col-lg-4 text-center margin-30px-bottom sm-margin-30px-top\">\n",
       "<a href=\"/inspirational-quotes/4043-compassion-is-the-greatest-form-of-love-humans\"><img alt=\"Compassion is the greatest form of love humans have to offer. #&lt;Author:0x00007f6d30422210&gt;\" class=\"margin-10px-bottom shadow\" height=\"310\" src=\"https://assets.passiton.com/quotes/quote_artwork/4043/medium/20230508_monday_quote.jpg\" width=\"310\"/></a>\n",
       "<h5 class=\"value_on_red\"><a href=\"/inspirational-quotes/4043-compassion-is-the-greatest-form-of-love-humans\">COMPASSION</a></h5>\n",
       "</div>\n",
       "<div class=\"col-6 col-lg-4 text-center margin-30px-bottom sm-margin-30px-top\">\n",
       "<a href=\"/inspirational-quotes/8140-when-you-take-care-of-yourself-you-re-a-better\"><img alt=\"When you take care of yourself, you’re a better person for others. When you feel good about yourself, you treat others better.  #&lt;Author:0x00007f6d306e3580&gt;\" class=\"margin-10px-bottom shadow\" height=\"310\" src=\"https://assets.passiton.com/quotes/quote_artwork/8140/medium/20230505_friday_quote.jpg\" width=\"310\"/></a>\n",
       "<h5 class=\"value_on_red\"><a href=\"/inspirational-quotes/8140-when-you-take-care-of-yourself-you-re-a-better\">SELF-CARE</a></h5>\n",
       "</div>\n",
       "<div class=\"col-6 col-lg-4 text-center margin-30px-bottom sm-margin-30px-top\">\n",
       "<a href=\"/inspirational-quotes/7237-if-your-compassion-does-not-include-yourself\"><img alt=\"If your compassion does not include yourself, it is incomplete. #&lt;Author:0x00007f6d306ca9e0&gt;\" class=\"margin-10px-bottom shadow\" height=\"310\" src=\"https://assets.passiton.com/quotes/quote_artwork/7237/medium/20230504_thursday_quote.jpg\" width=\"310\"/></a>\n",
       "<h5 class=\"value_on_red\"><a href=\"/inspirational-quotes/7237-if-your-compassion-does-not-include-yourself\">SELF-CARE</a></h5>\n",
       "</div>\n",
       "<div class=\"col-6 col-lg-4 text-center margin-30px-bottom sm-margin-30px-top\">\n",
       "<a href=\"/inspirational-quotes/6899-adopt-the-pace-of-nature-her-secret-is-patience\"><img alt=\"Adopt the pace of nature: her secret is patience. #&lt;Author:0x00007f6d3135e8c8&gt;\" class=\"margin-10px-bottom shadow\" height=\"310\" src=\"https://assets.passiton.com/quotes/quote_artwork/6899/medium/20230503_wednesday_quote.jpg\" width=\"310\"/></a>\n",
       "<h5 class=\"value_on_red\"><a href=\"/inspirational-quotes/6899-adopt-the-pace-of-nature-her-secret-is-patience\">SELF-CARE</a></h5>\n",
       "</div>\n",
       "<div class=\"col-6 col-lg-4 text-center margin-30px-bottom sm-margin-30px-top\">\n",
       "<a href=\"/inspirational-quotes/8260-self-care-is-not-self-indulgence-it-is\"><img alt=\"Self-care is not self-indulgence, it is self-preservation. #&lt;Author:0x00007f6d314b41f0&gt;\" class=\"margin-10px-bottom shadow\" height=\"310\" src=\"https://assets.passiton.com/quotes/quote_artwork/8260/medium/20230502_tuesday_quote.jpg\" width=\"310\"/></a>\n",
       "<h5 class=\"value_on_red\"><a href=\"/inspirational-quotes/8260-self-care-is-not-self-indulgence-it-is\">SELF-CARE</a></h5>\n",
       "</div>\n",
       "<div class=\"col-6 col-lg-4 text-center margin-30px-bottom sm-margin-30px-top\">\n",
       "<a href=\"/inspirational-quotes/8259-rest-and-self-care-are-so-important-when-you\"><img alt=\"Rest and self-care are so important. When you take time to replenish your spirit, it allows you to serve from the overflow. You cannot serve from an empty vessel. #&lt;Author:0x00007f6d3149c5c8&gt;\" class=\"margin-10px-bottom shadow\" height=\"310\" src=\"https://assets.passiton.com/quotes/quote_artwork/8259/medium/20230501_monday_quote.jpg\" width=\"310\"/></a>\n",
       "<h5 class=\"value_on_red\"><a href=\"/inspirational-quotes/8259-rest-and-self-care-are-so-important-when-you\">SELF-CARE</a></h5>\n",
       "</div>\n",
       "<div class=\"col-6 col-lg-4 text-center margin-30px-bottom sm-margin-30px-top\">\n",
       "<a href=\"/inspirational-quotes/7992-you-are-a-match-for-your-mountain\"><img alt=\"You are a match for your mountain. #&lt;Author:0x00007f6d314f5650&gt;\" class=\"margin-10px-bottom shadow\" height=\"310\" src=\"https://assets.passiton.com/quotes/quote_artwork/7992/medium/20230428_friday_quote.jpg\" width=\"310\"/></a>\n",
       "<h5 class=\"value_on_red\"><a href=\"/inspirational-quotes/7992-you-are-a-match-for-your-mountain\">OVERCOMING</a></h5>\n",
       "</div>\n",
       "<div class=\"col-6 col-lg-4 text-center margin-30px-bottom sm-margin-30px-top\">\n",
       "<a href=\"/inspirational-quotes/7994-the-gem-cannot-be-polished-without-friction\"><img alt=\"The gem cannot be polished without friction, nor a person perfected without trials.  #&lt;Author:0x00007f6d314de608&gt;\" class=\"margin-10px-bottom shadow\" height=\"310\" src=\"https://assets.passiton.com/quotes/quote_artwork/7994/medium/20230427_thursday_quote.jpg\" width=\"310\"/></a>\n",
       "<h5 class=\"value_on_red\"><a href=\"/inspirational-quotes/7994-the-gem-cannot-be-polished-without-friction\">OVERCOMING</a></h5>\n",
       "</div>\n",
       "<div class=\"col-6 col-lg-4 text-center margin-30px-bottom sm-margin-30px-top\">\n",
       "<a href=\"/inspirational-quotes/7875-use-what-you-ve-been-through-as-fuel-believe\"><img alt=\"Use what you’ve been through as fuel, believe in yourself and be unstoppable! #&lt;Author:0x00007f6d314c7458&gt;\" class=\"margin-10px-bottom shadow\" height=\"310\" src=\"https://assets.passiton.com/quotes/quote_artwork/7875/medium/20230426_wednesday_quote.jpg\" width=\"310\"/></a>\n",
       "<h5 class=\"value_on_red\"><a href=\"/inspirational-quotes/7875-use-what-you-ve-been-through-as-fuel-believe\">OVERCOMING</a></h5>\n",
       "</div>\n",
       "<div class=\"col-6 col-lg-4 text-center margin-30px-bottom sm-margin-30px-top\">\n",
       "<a href=\"/inspirational-quotes/3663-although-the-world-is-full-of-suffering-its\"><img alt=\"Although the world is full of suffering, it's full also of the overcoming it. #&lt;Author:0x00007f6d3151f5b8&gt;\" class=\"margin-10px-bottom shadow\" height=\"310\" src=\"https://assets.passiton.com/quotes/quote_artwork/3663/medium/20230425_tuesday_quote.jpg\" width=\"310\"/></a>\n",
       "<h5 class=\"value_on_red\"><a href=\"/inspirational-quotes/3663-although-the-world-is-full-of-suffering-its\">OVERCOMING</a></h5>\n",
       "</div>\n",
       "<div class=\"col-6 col-lg-4 text-center margin-30px-bottom sm-margin-30px-top\">\n",
       "<a href=\"/inspirational-quotes/7991-i-will-love-the-light-for-it-shows-me-the-way\"><img alt=\"I will love the light for it shows me the way, yet I will endure the darkness because it shows me the stars #&lt;Author:0x00007f6d31505690&gt;\" class=\"margin-10px-bottom shadow\" height=\"310\" src=\"https://assets.passiton.com/quotes/quote_artwork/7991/medium/20230424_monday_quote.jpg\" width=\"310\"/></a>\n",
       "<h5 class=\"value_on_red\"><a href=\"/inspirational-quotes/7991-i-will-love-the-light-for-it-shows-me-the-way\">OVERCOMING</a></h5>\n",
       "</div>\n",
       "</div>\n",
       "</div>\n",
       "<div class=\"col-4 d-flex flex-column text-center\">\n",
       "<div class=\"row\" id=\"all_quotes\">\n",
       "<span class=\"text-white text-left alt-font font-weight-400 letter-spacing-1 margin-20px-bottom\" style=\"font-size:  20px;\">We publish our quotes and other inspirational stories on Facebook. Please 'like' our page to get daily inspiration.</span>\n",
       "<div class=\"fb-page\" data-adapt-container-width=\"true\" data-height=\"3000\" data-hide-cover=\"false\" data-href=\"https://www.facebook.com/valuescom\" data-show-facepile=\"true\" data-small-header=\"true\" data-tabs=\"timeline\" data-width=\"\"><blockquote cite=\"https://www.facebook.com/valuescom\" class=\"fb-xfbml-parse-ignore\"><a href=\"https://www.facebook.com/valuescom\">Foundation for A Better Life</a></blockquote></div>\n",
       "</div>\n",
       "</div>\n",
       "</div>\n",
       "<div class=\"row\">\n",
       "<div class=\"col-12 text-center\">\n",
       "<nav aria-label=\"pager\" class=\"pagination\" role=\"navigation\">\n",
       "<span class=\"first\">\n",
       "<a href=\"/inspirational-quotes\">« First</a>\n",
       "</span>\n",
       "<span class=\"prev\">\n",
       "<a href=\"/inspirational-quotes\" rel=\"prev\">‹ Prev</a>\n",
       "</span>\n",
       "<span class=\"page\">\n",
       "<a href=\"/inspirational-quotes\" rel=\"prev\">1</a>\n",
       "</span>\n",
       "<span class=\"page current\">\n",
       "  2\n",
       "</span>\n",
       "<span class=\"page\">\n",
       "<a href=\"/inspirational-quotes?page=3\" rel=\"next\">3</a>\n",
       "</span>\n",
       "<span class=\"page\">\n",
       "<a href=\"/inspirational-quotes?page=4\">4</a>\n",
       "</span>\n",
       "<span class=\"page\">\n",
       "<a href=\"/inspirational-quotes?page=5\">5</a>\n",
       "</span>\n",
       "<span class=\"page\">\n",
       "<a href=\"/inspirational-quotes?page=6\">6</a>\n",
       "</span>\n",
       "<span class=\"page gap\">…</span>\n",
       "<span class=\"next\">\n",
       "<a href=\"/inspirational-quotes?page=3\" rel=\"next\">Next ›</a>\n",
       "</span>\n",
       "<span class=\"last\">\n",
       "<a href=\"/inspirational-quotes?page=77\">Last »</a>\n",
       "</span>\n",
       "</nav>\n",
       "</div>\n",
       "</div>\n",
       "</div>\n",
       "</section>\n",
       "<footer class=\"footer-classic-dark bg-extra-dark-gray padding-five-bottom sm-padding-30px-bottom\">\n",
       "<div class=\"bg-dark-footer padding-50px-tb sm-padding-30px-tb\">\n",
       "<div class=\"container\">\n",
       "<div class=\"row align-items-center\">\n",
       "<div class=\"col-lg-4 col-md-4 sm-text-center lg-text-left alt-font sm-margin-15px-bottom\">\n",
       "<a href=\"/\"><img alt=\"PassItOn.com The Foundation for a Better Life\" class=\"footer_logo\" data-rjs=\"/assets/site/passiton_fbl_logo-130047b5350655ed0505fbb6bf8d137784664a78481a2ed020a9b5b73c7ec3d9.png\" src=\"/assets/site/passiton_fbl_logo-130047b5350655ed0505fbb6bf8d137784664a78481a2ed020a9b5b73c7ec3d9.png\" style=\"max-width: 200px;\"/></a>\n",
       "</div>\n",
       "<div class=\"col-lg-4 col-md-4 text-center sm-margin-10px-bottom\">\n",
       "</div>\n",
       "<div class=\"col-lg-4 col-md-4 text-center\">\n",
       "<span class=\"alt-font margin-20px-right text-light-gray\">Follow us on social</span>\n",
       "<div class=\"social-icon-style-8 d-inline-block vertical-align-middle\">\n",
       "<ul class=\"small-icon mb-0\">\n",
       "<li><a aria-label=\"facebook\" class=\"facebook text-white-2\" href=\"https://www.facebook.com/valuescom\" target=\"_blank\"><i aria-hidden=\"true\" class=\"fab fa-facebook-f\"></i></a></li>\n",
       "<li><a aria-label=\"twitter\" class=\"twitter text-white-2\" href=\"https://twitter.com/passiton_values\" target=\"_blank\"><i class=\"fab fa-twitter\"></i></a></li>\n",
       "<li><a aria-label=\"instagram\" class=\"instagram text-white-2\" href=\"https://www.instagram.com/passiton_values/\" target=\"_blank\"><i aria-hidden=\"true\" class=\"fab fa-instagram no-margin-right\"></i></a></li>\n",
       "<li><a aria-label=\"pinterest\" class=\"pinterest text-white-2\" href=\"https://www.pinterest.com/passiton_values/\" target=\"_blank\"><i aria-hidden=\"true\" class=\"fab fa-pinterest no-margin-right\"></i></a></li>\n",
       "<li><a aria-label=\"youtube\" class=\"youtube text-white-2\" href=\"https://www.youtube.com/c/passiton_values\" target=\"_blank\"><i aria-hidden=\"true\" class=\"fab fa-youtube no-margin-right\"></i></a></li>\n",
       "</ul>\n",
       "</div>\n",
       "</div>\n",
       "</div>\n",
       "</div>\n",
       "</div>\n",
       "<div class=\"footer-widget-area padding-five-top padding-30px-bottom sm-padding-30px-top\">\n",
       "<div class=\"container\">\n",
       "<div class=\"row\">\n",
       "<div class=\"col-lg-3 col-md-6 widget border-right border-color-medium-dark-gray padding-45px-left md-padding-15px-left md-no-border-right md-margin-30px-bottom text-center text-md-left\">\n",
       "<div class=\"widget-title alt-font text-small text-medium-gray text-uppercase margin-10px-bottom font-weight-600\">Pass It On</div>\n",
       "<ul class=\"list-unstyled\">\n",
       "<li><a class=\"text-small text-light-gray\" href=\"/share-your-values\">Help Us Inspire Others</a></li>\n",
       "</ul>\n",
       "<div class=\"widget-title alt-font text-small text-medium-gray text-uppercase margin-10px-bottom font-weight-600\">About Us</div>\n",
       "<ul class=\"list-unstyled\">\n",
       "<li><a class=\"text-small text-light-gray\" href=\"/who-we-are\">About The Foundation for a Better Life</a></li>\n",
       "<li><a class=\"text-small text-light-gray\" href=\"/faqs\">FAQs</a></li>\n",
       "<li><a class=\"text-small text-light-gray\" href=\"/foundation-recognition\">Foundation Recognition</a></li>\n",
       "<li><a class=\"text-small text-light-gray\" href=\"/contact-us\">Contact Us</a></li>\n",
       "</ul>\n",
       "</div>\n",
       "<div class=\"col-lg-3 col-md-6 widget border-right border-color-medium-dark-gray padding-45px-left md-padding-15px-left md-no-border-right md-margin-30px-bottom text-center text-md-left\">\n",
       "<div class=\"widget-title alt-font text-small text-medium-gray text-uppercase margin-10px-bottom font-weight-600\">Be Inspired</div>\n",
       "<ul class=\"list-unstyled\">\n",
       "<li><a class=\"text-small text-light-gray\" href=\"/teaching-values\">Teaching Values</a></li>\n",
       "<li><a class=\"text-small text-light-gray\" href=\"/inspirational-quotes\">Inspirational Quotations</a></li>\n",
       "<li><a class=\"text-small text-light-gray\" href=\"/inspirational-stories-tv-spots\">Pass It On® Videos</a></li>\n",
       "<li><a class=\"text-small text-light-gray\" href=\"/artcenter-psas\">ArtCenter College of Design PSAs</a></li>\n",
       "<li><a class=\"text-small text-light-gray\" href=\"/positive-good-news-columns\">Free Newspaper Stories</a></li>\n",
       "<li><a class=\"text-small text-light-gray\" href=\"/your-everyday-heroes\">Who's Your Hero Stories</a></li>\n",
       "<li><a class=\"text-small text-light-gray\" href=\"/inspirational-sayings-billboards\">Official Billboard Campaign</a></li>\n",
       "<li><a class=\"text-small text-light-gray\" href=\"/your-billboards\">Create Your Own Billboard</a></li>\n",
       "<li><a class=\"text-small text-light-gray\" href=\"/radio\">Radio Ads</a></li>\n",
       "<li><a class=\"text-small text-light-gray\" href=\"/passiton-blog\">Pass It On® Blog</a></li>\n",
       "<li><a class=\"text-small text-light-gray\" href=\"/inspirational-audio-stories\">Podcasts</a></li>\n",
       "<li><a class=\"text-small text-light-gray\" href=\"/pass-it-on-ecards\">Send an Ecard</a></li>\n",
       "</ul>\n",
       "</div>\n",
       "<div class=\"col-lg-3 col-md-6 widget border-right border-color-medium-dark-gray padding-45px-left md-padding-15px-left md-no-border-right md-margin-30px-bottom text-center text-md-left\">\n",
       "<div class=\"widget-title alt-font text-small text-medium-gray text-uppercase margin-10px-bottom font-weight-600\">For Schools</div>\n",
       "<ul class=\"list-unstyled\">\n",
       "<li><a class=\"text-small text-light-gray\" href=\"/poster-requests/new\">Free Posters for Schools</a></li>\n",
       "<li><a class=\"text-small text-light-gray\" href=\"/pass-it-on-downloads\">Downloads</a></li>\n",
       "</ul>\n",
       "</div>\n",
       "<div class=\"col-lg-3 col-md-6 widget padding-45px-left md-padding-15px-left md-no-border-right md-margin-30px-bottom text-center text-md-left\">\n",
       "<div class=\"widget-title alt-font text-small text-medium-gray text-uppercase margin-10px-bottom font-weight-600\">For Media Companies</div>\n",
       "<ul class=\"list-unstyled\">\n",
       "<li><a class=\"text-small text-light-gray\" href=\"/for-media-companies\">For Media Companies</a></li>\n",
       "<li><a class=\"text-small text-light-gray\" href=\"https://www.passiton-media.com\">Broadcast Quality PSA Downloads</a></li>\n",
       "<li><a class=\"text-small text-light-gray\" href=\"https://www.passiton-media.com\">Pass It On Radio Ads</a></li>\n",
       "<li><a class=\"text-small text-light-gray\" href=\"https://www.passiton-media.com\">Live Reads</a></li>\n",
       "<li><a class=\"text-small text-light-gray\" href=\"https://www.passiton-media.com\">Out of Home Materials</a></li>\n",
       "</ul>\n",
       "<div class=\"row sm-margin-30px-top\">\n",
       "<div class=\"col-lg-4\">\n",
       "<a href=\"/\"><img alt=\"values.com logo\" src=\"/assets/site/values_logo-d2f298a8d307ac7a45b2651f13796052ecfd37d37d73b102f7c910ee6e2eabc2.png\" style=\"max-width: 70px;\"/></a>\n",
       "</div>\n",
       "<div class=\"col-lg-7\">\n",
       "<p class=\"text-light-gray text-small padding-10px-top\">VALUES.COM<small>®</small> is now PassItOn.com<small>®</small></p>\n",
       "</div>\n",
       "</div>\n",
       "</div>\n",
       "</div>\n",
       "</div>\n",
       "</div>\n",
       "<div class=\"container\">\n",
       "<div class=\"footer-bottom border-top border-color-medium-dark-gray padding-30px-top\">\n",
       "<div class=\"row\">\n",
       "<div class=\"col-lg-6 col-md-6 text-small text-light-gray text-md-left text-center\">©2000-2023 The Foundation for a Better Life.</div>\n",
       "<div class=\"col-lg-6 col-md-6 text-small text-light-gray text-md-right text-center\"><a class=\"text-light-gray\" href=\"/privacy-policy\">Privacy Policy</a>   |   <a class=\"text-light-gray\" href=\"/terms-of-use\">Terms of Use</a></div>\n",
       "</div>\n",
       "</div>\n",
       "</div>\n",
       "</footer>\n",
       "<a class=\"scroll-top-arrow\" href=\"javascript:void(0);\"><i class=\"ti-arrow-up\"></i></a>\n",
       "<script data-turbo-track=\"reload\" src=\"/assets/application-30dfed5778a067e363e091307a799084a79fa584e947b3d1f8912c481cf4455b.js\"></script>\n",
       "<script data-turbo-track=\"reload\" src=\"/assets/popups-04905ba3b1e1bf128b5e9e81389fb56e9b64a1e509c0f95f5e99887410b34026.js\"></script>\n",
       "<script crossorigin=\"anonymous\" integrity=\"sha384-UO2eT0CpHqdSJQ6hJty5KVphtPhzWj9WO1clHTMGa3JDZwrnQq4sF86dIHNDz0W1\" src=\"https://cdnjs.cloudflare.com/ajax/libs/popper.js/1.14.7/umd/popper.min.js\"></script>\n",
       "<script crossorigin=\"anonymous\" integrity=\"sha384-JjSmVgyd0p3pXB1rRibZUAYoIIy6OrQ6VrjIEaFf/nJGzIxFDsf4x0xIM+B07jRM\" src=\"https://stackpath.bootstrapcdn.com/bootstrap/4.3.1/js/bootstrap.min.js\"></script>\n",
       "<script src=\"https://cdnjs.cloudflare.com/ajax/libs/jquery-jcrop/0.9.15/js/jquery.Jcrop.min.js\"></script>\n",
       "<div class=\"zoom-anim-dialog mfp-hide col-xl-6 col-lg-6 col-md-7 col-11 mx-auto bg-white text-center modal-popup-main padding-50px-all\" id=\"please_like_us_on_facebook\">\n",
       "<span class=\"text-extra-dark-gray text-uppercase alt-font text-extra-large font-weight-600 margin-15px-bottom d-block\">LIKE US ON FACEBOOK FOR A DAILY DOSE OF POSITIVITY</span>\n",
       "<iframe allow=\"autoplay; clipboard-write; encrypted-media; picture-in-picture; web-share\" allowfullscreen=\"true\" frameborder=\"0\" height=\"45\" scrolling=\"no\" src=\"https://www.facebook.com/plugins/like.php?href=https%3A%2F%2Fwww.facebook.com%2Fvaluescom&amp;width=450&amp;layout=standard&amp;action=like&amp;size=large&amp;share=true&amp;height=45&amp;appId\" style=\"border:none;overflow:hidden;font-size:1.4rem;\" width=\"450\"></iframe>\n",
       "<p class=\"padding-20px-all font-weight-600\">Click the like button above to access our facebook page, then ‘like us’ to get a dose of positivity in your feed.</p>\n",
       "<a class=\"text-small alt-font popup-modal-dismiss text-decoration-underline\" href=\"#\">No thanks</a>\n",
       "</div>\n",
       "<div class=\"zoom-anim-dialog mfp-hide col-xl-6 col-lg-6 col-md-7 col-11 mx-auto bg-white text-center modal-popup-main padding-50px-all\" id=\"subscribe_to_our_newsletter\">\n",
       "<h6 class=\"font-weight-300 text-extra-dark-gray margin-20px-bottom sm-margin-15px-bottom\">DAILY INSPIRATION</h6>\n",
       "<p class=\"text-medium text-extra-dark-gray width-70 mx-auto margin-40px-bottom sm-width-100 sm-margin-15px-bottom\">Get PassItOn’s daily inspirational quote &amp; weekly blog in your inbox each weekday! Enter your email below to subscribe. It's free!</p>\n",
       "<form accept-charset=\"UTF-8\" action=\"/users\" class=\"simple_form search-box2 margin-10px-bottom\" id=\"new_user\" method=\"post\" novalidate=\"novalidate\"><input autocomplete=\"off\" name=\"authenticity_token\" type=\"hidden\" value=\"-ae2tWGXeDKh5MsdBrq_an9LcpbkNiHvLbGAOr4OKdrJSCWbl8-nJErlI9LODE4sLwwPK8eYb6bm74gP324I-A\"/>\n",
       "<script src=\"https://www.recaptcha.net/recaptcha/api.js?render=6Ldta8EUAAAAACp3yt76yG8QWMdQkpDBkP1bcHi6\"></script>\n",
       "<script>\n",
       "          // Define function so that we can call it again later if we need to reset it\n",
       "          // This executes reCAPTCHA and then calls our callback.\n",
       "          function executeRecaptchaForSignup() {\n",
       "            grecaptcha.ready(function() {\n",
       "              grecaptcha.execute('6Ldta8EUAAAAACp3yt76yG8QWMdQkpDBkP1bcHi6', {action: 'signup'}).then(function(token) {\n",
       "                setInputWithRecaptchaResponseTokenForSignup('g-recaptcha-response-data-signup', token)\n",
       "              });\n",
       "            });\n",
       "          };\n",
       "          // Invoke immediately\n",
       "          executeRecaptchaForSignup()\n",
       "\n",
       "          // Async variant so you can await this function from another async function (no need for\n",
       "          // an explicit callback function then!)\n",
       "          // Returns a Promise that resolves with the response token.\n",
       "          async function executeRecaptchaForSignupAsync() {\n",
       "            return new Promise((resolve, reject) => {\n",
       "             grecaptcha.ready(async function() {\n",
       "                resolve(await grecaptcha.execute('6Ldta8EUAAAAACp3yt76yG8QWMdQkpDBkP1bcHi6', {action: 'signup'}))\n",
       "              });\n",
       "            })\n",
       "          };\n",
       "\n",
       "                    var setInputWithRecaptchaResponseTokenForSignup = function(id, token) {\n",
       "            var element = document.getElementById(id);\n",
       "            element.value = token;\n",
       "          }\n",
       "\n",
       "        </script>\n",
       "<input class=\"g-recaptcha g-recaptcha-response\" data-sitekey=\"6Ldta8EUAAAAACp3yt76yG8QWMdQkpDBkP1bcHi6\" id=\"g-recaptcha-response-data-signup\" name=\"g-recaptcha-response-data[signup]\" type=\"hidden\"/>\n",
       "<div class=\"input-group add-on width-75 mx-auto sm-width-100\">\n",
       "<input class=\"string email optional form-control text-black\" id=\"user_email\" label=\"false\" name=\"user[email]\" type=\"text\" value=\"\"/>\n",
       "<div class=\"input-group-append\">\n",
       "<button aria-label=\"Submit\" class=\"btn btn-default\" type=\"submit\"><i class=\"ti-arrow-right text-small m-0\"></i></button>\n",
       "</div>\n",
       "</div>\n",
       "</form>\n",
       "<a class=\"text-small alt-font popup-modal-dismiss text-decoration-underline\" href=\"#\">No thanks</a>\n",
       "</div>\n",
       "</body>\n",
       "</html>"
      ]
     },
     "execution_count": 49,
     "metadata": {},
     "output_type": "execute_result"
    }
   ],
   "source": [
    "soup"
   ]
  },
  {
   "cell_type": "code",
   "execution_count": 82,
   "id": "639f214a",
   "metadata": {},
   "outputs": [],
   "source": [
    "# got list of the div of images\n",
    "div_element = soup.findAll('div', {'class':\"col-6 col-lg-4 text-center margin-30px-bottom sm-margin-30px-top\"})"
   ]
  },
  {
   "cell_type": "code",
   "execution_count": 85,
   "id": "555b66d2",
   "metadata": {},
   "outputs": [],
   "source": [
    "# first div \n",
    "div = div_element[0]"
   ]
  },
  {
   "cell_type": "code",
   "execution_count": 98,
   "id": "a372e9be",
   "metadata": {},
   "outputs": [],
   "source": [
    "# fetching and writing in jpg \n",
    "with open('inspiration.jpg','wb') as file:\n",
    "    \n",
    "    # image url is in tag div.a.img under source attribute\n",
    "    img_url = div.a.img.attrs['src']\n",
    "    \n",
    "    # get request for image \n",
    "    response = requests.get(img_url)\n",
    "    \n",
    "    # content of the image writen in jpg file\n",
    "    file.write(response.content)"
   ]
  },
  {
   "cell_type": "code",
   "execution_count": 100,
   "id": "0d3a81e0",
   "metadata": {},
   "outputs": [],
   "source": [
    "# code to get all the images present on the webpage at a time\n",
    "\n",
    "for i,div in enumerate(div_element):\n",
    "    \n",
    "    with open('inspiration{}.jpg'.format(i),'wb') as file:\n",
    "        \n",
    "        img_url = div.a.img.attrs['src']\n",
    "        response = requests.get(img_url)\n",
    "        file.write(response.content)"
   ]
  },
  {
   "cell_type": "code",
   "execution_count": null,
   "id": "5147c9d6",
   "metadata": {},
   "outputs": [],
   "source": []
  }
 ],
 "metadata": {
  "kernelspec": {
   "display_name": "Python 3 (ipykernel)",
   "language": "python",
   "name": "python3"
  },
  "language_info": {
   "codemirror_mode": {
    "name": "ipython",
    "version": 3
   },
   "file_extension": ".py",
   "mimetype": "text/x-python",
   "name": "python",
   "nbconvert_exporter": "python",
   "pygments_lexer": "ipython3",
   "version": "3.11.4"
  }
 },
 "nbformat": 4,
 "nbformat_minor": 5
}
