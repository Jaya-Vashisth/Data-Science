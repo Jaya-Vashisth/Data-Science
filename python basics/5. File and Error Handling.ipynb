{
 "cells": [
  {
   "cell_type": "markdown",
   "id": "5d0367f1",
   "metadata": {},
   "source": [
    "# Accesing files"
   ]
  },
  {
   "cell_type": "markdown",
   "id": "02101ec3",
   "metadata": {},
   "source": [
    "## 1.Text files"
   ]
  },
  {
   "cell_type": "markdown",
   "id": "2121381c",
   "metadata": {},
   "source": [
    "### Opening a file"
   ]
  },
  {
   "cell_type": "code",
   "execution_count": 11,
   "id": "6b2c3877",
   "metadata": {},
   "outputs": [],
   "source": [
    "file = open(\"textfile.txt\", \"r\")"
   ]
  },
  {
   "cell_type": "code",
   "execution_count": 12,
   "id": "4a93112e",
   "metadata": {},
   "outputs": [
    {
     "data": {
      "text/plain": [
       "'This'"
      ]
     },
     "execution_count": 12,
     "metadata": {},
     "output_type": "execute_result"
    }
   ],
   "source": [
    "file.read(4)  # read only 4 bite"
   ]
  },
  {
   "cell_type": "markdown",
   "id": "3e0c4c65",
   "metadata": {},
   "source": [
    "### CLosing a file"
   ]
  },
  {
   "cell_type": "code",
   "execution_count": 13,
   "id": "eb087cda",
   "metadata": {},
   "outputs": [],
   "source": [
    "file.close()"
   ]
  },
  {
   "cell_type": "markdown",
   "id": "33346875",
   "metadata": {},
   "source": [
    "### Writing to a file"
   ]
  },
  {
   "cell_type": "code",
   "execution_count": 14,
   "id": "5bf42111",
   "metadata": {},
   "outputs": [],
   "source": [
    "file = open(\"something.txt\", \"w\")"
   ]
  },
  {
   "cell_type": "code",
   "execution_count": 15,
   "id": "dc47e71f",
   "metadata": {},
   "outputs": [
    {
     "data": {
      "text/plain": [
       "25"
      ]
     },
     "execution_count": 15,
     "metadata": {},
     "output_type": "execute_result"
    }
   ],
   "source": [
    "file.write(\"Hello from the other side\")"
   ]
  },
  {
   "cell_type": "code",
   "execution_count": 16,
   "id": "56586511",
   "metadata": {},
   "outputs": [],
   "source": [
    "file.close()"
   ]
  },
  {
   "cell_type": "markdown",
   "id": "b70f69c9",
   "metadata": {},
   "source": [
    "### Reading from a file"
   ]
  },
  {
   "cell_type": "code",
   "execution_count": 17,
   "id": "740894d2",
   "metadata": {},
   "outputs": [],
   "source": [
    "file = open(\"textfile.txt\", \"r\")"
   ]
  },
  {
   "cell_type": "code",
   "execution_count": 19,
   "id": "0dc15d8d",
   "metadata": {},
   "outputs": [
    {
     "data": {
      "text/plain": [
       "'Opened in read mode\\n'"
      ]
     },
     "execution_count": 19,
     "metadata": {},
     "output_type": "execute_result"
    }
   ],
   "source": [
    "file.readline() # read a line at a time"
   ]
  },
  {
   "cell_type": "code",
   "execution_count": 20,
   "id": "98703a57",
   "metadata": {},
   "outputs": [
    {
     "data": {
      "text/plain": [
       "['hello\\n', 'this is Otis here!\\n']"
      ]
     },
     "execution_count": 20,
     "metadata": {},
     "output_type": "execute_result"
    }
   ],
   "source": [
    "file.readlines() # return a list of lines of all the lines"
   ]
  },
  {
   "cell_type": "markdown",
   "id": "7dfe0e43",
   "metadata": {},
   "source": [
    "### Moving the cursor\n",
    "- Seeking: takes the file handle to the nth byte from the beginning"
   ]
  },
  {
   "cell_type": "code",
   "execution_count": 21,
   "id": "3d564c45",
   "metadata": {},
   "outputs": [],
   "source": [
    "file = open(\"textfile.txt\", \"r\")"
   ]
  },
  {
   "cell_type": "code",
   "execution_count": 22,
   "id": "e3ba2829",
   "metadata": {},
   "outputs": [
    {
     "data": {
      "text/plain": [
       "'This '"
      ]
     },
     "execution_count": 22,
     "metadata": {},
     "output_type": "execute_result"
    }
   ],
   "source": [
    "file.read(5)"
   ]
  },
  {
   "cell_type": "code",
   "execution_count": 23,
   "id": "46ed3da2",
   "metadata": {},
   "outputs": [
    {
     "data": {
      "text/plain": [
       "'is text file.\\nOpened in read mode.\\nhello.\\nthis is Otis here!\\n'"
      ]
     },
     "execution_count": 23,
     "metadata": {},
     "output_type": "execute_result"
    }
   ],
   "source": [
    "file.read()"
   ]
  },
  {
   "cell_type": "code",
   "execution_count": 24,
   "id": "e02740e6",
   "metadata": {},
   "outputs": [
    {
     "data": {
      "text/plain": [
       "''"
      ]
     },
     "execution_count": 24,
     "metadata": {},
     "output_type": "execute_result"
    }
   ],
   "source": [
    "file.read()"
   ]
  },
  {
   "cell_type": "code",
   "execution_count": 25,
   "id": "84a17af8",
   "metadata": {},
   "outputs": [
    {
     "data": {
      "text/plain": [
       "0"
      ]
     },
     "execution_count": 25,
     "metadata": {},
     "output_type": "execute_result"
    }
   ],
   "source": [
    "file.seek(0)  # seek cursor at 0th byte"
   ]
  },
  {
   "cell_type": "code",
   "execution_count": 26,
   "id": "3d4391a6",
   "metadata": {},
   "outputs": [
    {
     "data": {
      "text/plain": [
       "'This is text file.\\nOpened in read mode.\\nhello.\\nthis is Otis here!\\n'"
      ]
     },
     "execution_count": 26,
     "metadata": {},
     "output_type": "execute_result"
    }
   ],
   "source": [
    "file.read()"
   ]
  },
  {
   "cell_type": "code",
   "execution_count": 27,
   "id": "6038b29f",
   "metadata": {},
   "outputs": [],
   "source": [
    "file.close()"
   ]
  },
  {
   "cell_type": "markdown",
   "id": "6eba902e",
   "metadata": {},
   "source": [
    "## Smarter way of opening files\n",
    "with the \"with\" statment , you get better syntax and exception handling.\n",
    "\n",
    "\n",
    "\"The with statment simplies exception handling by encapsulating common preparation and cleanup tasks\".\n",
    "\n",
    "\n",
    "In addition , it will atuomatically close the file. The with statemnet provides a way for ensuring that a clean-up is always used."
   ]
  },
  {
   "cell_type": "code",
   "execution_count": 31,
   "id": "36513deb",
   "metadata": {},
   "outputs": [
    {
     "name": "stdout",
     "output_type": "stream",
     "text": [
      "This is text file.\n",
      "Opened in read mode.\n",
      "hello.\n",
      "this is Otis here!\n",
      "\n",
      "ile.\n",
      "Opened in read mode.\n",
      "hello.\n",
      "this is Otis here!\n",
      "\n"
     ]
    }
   ],
   "source": [
    "with open(\"textfile.txt\", \"r\") as file:   # file will be opened in this block only\n",
    "    print(file.read())\n",
    "    file.seek(14)\n",
    "    print(file.read())"
   ]
  },
  {
   "cell_type": "markdown",
   "id": "e3ff5bb5",
   "metadata": {},
   "source": [
    "## 2. Json File\n",
    "- json.dump(obj, fileobj) : Serializes obj as JSON formatted stream to fileobj.\n",
    "- json.dumps(objs) : serializes obj as JSON formatted string.\n",
    "- json.load(JSONfile) : De-serializes JSONfile to a python object.\n",
    "- json.loads(JSONfile) : De-searializes JSONfile(type:string) to a Python object."
   ]
  },
  {
   "cell_type": "code",
   "execution_count": 33,
   "id": "215981dc",
   "metadata": {},
   "outputs": [
    {
     "name": "stdout",
     "output_type": "stream",
     "text": [
      "{\n",
      "    \"name\" : \"Otis\",\n",
      "    \"marks\" : 90 ,\n",
      "    \"subjects\" : [\"english\", \"maths\"]\n",
      "    \n",
      "}\n"
     ]
    }
   ],
   "source": [
    "# but values cannot be access using keys\n",
    "with open(\"data.json\", 'r') as file:\n",
    "    print(file.read())"
   ]
  },
  {
   "cell_type": "code",
   "execution_count": 34,
   "id": "569c53e0",
   "metadata": {},
   "outputs": [],
   "source": [
    "import json"
   ]
  },
  {
   "cell_type": "code",
   "execution_count": 37,
   "id": "cca310e2",
   "metadata": {},
   "outputs": [
    {
     "name": "stdout",
     "output_type": "stream",
     "text": [
      "<class 'dict'>\n",
      "Otis\n",
      "90\n",
      "english\n"
     ]
    }
   ],
   "source": [
    "#deserialization of data usin json method\n",
    "\n",
    "\n",
    "with open(\"data.json\", 'r') as file:\n",
    "    d = json.load(file)\n",
    "    print(type(d))\n",
    "    print(d['name'])\n",
    "    print(d['marks'])\n",
    "    print(d['subjects'][0])"
   ]
  },
  {
   "cell_type": "code",
   "execution_count": 38,
   "id": "005d67e9",
   "metadata": {},
   "outputs": [
    {
     "name": "stdout",
     "output_type": "stream",
     "text": [
      "{\n",
      "    \"name\" : \"Otis\",\n",
      "    \"marks\" : 90 ,\n",
      "    \"subjects\" : [\"english\", \"maths\"]\n",
      "    \n",
      "}\n",
      "{'name': 'Otis', 'marks': 90, 'subjects': ['english', 'maths']}\n"
     ]
    }
   ],
   "source": [
    "with open(\"data.json\", 'r') as file:\n",
    "    data = file.read()   #stored as string\n",
    "    print(data)\n",
    "    d = json.loads(data)  # to parse a string\n",
    "    print(d)"
   ]
  },
  {
   "cell_type": "code",
   "execution_count": 39,
   "id": "5deaf17c",
   "metadata": {},
   "outputs": [],
   "source": [
    "d = {'name': 'Otis', 'marks': 90, 'subjects': ['english', 'maths']}"
   ]
  },
  {
   "cell_type": "code",
   "execution_count": 40,
   "id": "5b7f5d29",
   "metadata": {},
   "outputs": [
    {
     "data": {
      "text/plain": [
       "'Otis'"
      ]
     },
     "execution_count": 40,
     "metadata": {},
     "output_type": "execute_result"
    }
   ],
   "source": [
    "d['name']"
   ]
  },
  {
   "cell_type": "code",
   "execution_count": 41,
   "id": "98bd5418",
   "metadata": {},
   "outputs": [],
   "source": [
    "# converting dictionary in json string\n",
    "\n",
    "string = json.dumps(d)"
   ]
  },
  {
   "cell_type": "code",
   "execution_count": 42,
   "id": "cfdc0c7e",
   "metadata": {},
   "outputs": [
    {
     "name": "stdout",
     "output_type": "stream",
     "text": [
      "{\"name\": \"Otis\", \"marks\": 90, \"subjects\": [\"english\", \"maths\"]}\n"
     ]
    }
   ],
   "source": [
    "print(string)  # json representation of dictionary data"
   ]
  },
  {
   "cell_type": "code",
   "execution_count": 43,
   "id": "fac8bf15",
   "metadata": {},
   "outputs": [],
   "source": [
    "# another way which also write in a json file\n",
    "\n",
    "with open ( \"data2.json\", \"w\") as file:\n",
    "    json.dump(d, file)                "
   ]
  },
  {
   "cell_type": "markdown",
   "id": "fb26f652",
   "metadata": {},
   "source": [
    "# Errors and Exceptions"
   ]
  },
  {
   "cell_type": "code",
   "execution_count": 47,
   "id": "ef07e74b",
   "metadata": {},
   "outputs": [],
   "source": [
    "# try and except statement\n",
    "\n",
    "def div(a, b):\n",
    "    try:\n",
    "        print(a/b)\n",
    "    except:\n",
    "        print(\"error !\")\n",
    "    print(\"Hello\")\n",
    "    "
   ]
  },
  {
   "cell_type": "code",
   "execution_count": 48,
   "id": "fbc42282",
   "metadata": {},
   "outputs": [
    {
     "name": "stdout",
     "output_type": "stream",
     "text": [
      "error !\n",
      "Hello\n"
     ]
    }
   ],
   "source": [
    "div(10, 0)"
   ]
  },
  {
   "cell_type": "code",
   "execution_count": 50,
   "id": "79e098a4",
   "metadata": {},
   "outputs": [
    {
     "name": "stdout",
     "output_type": "stream",
     "text": [
      "Value error occured\n"
     ]
    }
   ],
   "source": [
    "try : \n",
    "    # print(10/0)\n",
    "    a = int(\"Otis\")\n",
    "    print(a)\n",
    "\n",
    "# devide by zero\n",
    "except ZeroDivisionError:\n",
    "    print(\"you were trying to devide by zero\")\n",
    "    \n",
    "# string is given in integer value    \n",
    "except ValueError:\n",
    "    print(\"Value error occured\")   \n",
    "    \n",
    "# all other exception\n",
    "except :\n",
    "    print(\"Some error occured\")"
   ]
  },
  {
   "cell_type": "code",
   "execution_count": 52,
   "id": "ad7b0fe4",
   "metadata": {},
   "outputs": [
    {
     "name": "stdout",
     "output_type": "stream",
     "text": [
      "division by zero\n"
     ]
    }
   ],
   "source": [
    "try:\n",
    "    print(10/0)\n",
    "except Exception as e :  # base class for all exception\n",
    "    print(str(e))"
   ]
  },
  {
   "cell_type": "markdown",
   "id": "b0703985",
   "metadata": {},
   "source": [
    "### Raise"
   ]
  },
  {
   "cell_type": "code",
   "execution_count": 56,
   "id": "f7dce5ab",
   "metadata": {},
   "outputs": [
    {
     "name": "stdout",
     "output_type": "stream",
     "text": [
      "('My custon error', 1, 2)\n"
     ]
    }
   ],
   "source": [
    "try:\n",
    "    raise Exception(\"My custon error\", 1, 2)   \n",
    "except Exception as e:\n",
    "    print(e)\n",
    "\n"
   ]
  },
  {
   "cell_type": "code",
   "execution_count": 58,
   "id": "0b3b7392",
   "metadata": {},
   "outputs": [],
   "source": [
    "# neccessary to inherit the base exception class \n",
    "class MyExcetion(Exception):\n",
    "    def __init__(self, message):\n",
    "        self.message = message\n",
    "    def __str__(self):\n",
    "        return self.message"
   ]
  },
  {
   "cell_type": "code",
   "execution_count": 59,
   "id": "20791d9d",
   "metadata": {},
   "outputs": [
    {
     "name": "stdout",
     "output_type": "stream",
     "text": [
      "some error\n"
     ]
    }
   ],
   "source": [
    "try:\n",
    "    raise MyExcetion(\"some error\")\n",
    "except Exception as e:\n",
    "    print(e)"
   ]
  },
  {
   "cell_type": "markdown",
   "id": "dc65e22d",
   "metadata": {},
   "source": [
    "- else : execute if try block don't throw error\n",
    "- finally: will always executed\n",
    "- note: Else block will execute if try block throw no exception and have no return statement\n",
    "- finally block will always execute "
   ]
  },
  {
   "cell_type": "code",
   "execution_count": null,
   "id": "8b4a360f",
   "metadata": {},
   "outputs": [],
   "source": [
    "try:\n",
    "    print(\"Hello world\")\n",
    "except:\n",
    "    print(\"Ok error ocurred\")\n",
    "else:\n",
    "    print('wah')\n",
    "finally:     # to cleanup the code\n",
    "    print(\"by by world\")"
   ]
  },
  {
   "cell_type": "code",
   "execution_count": 63,
   "id": "0d0df6b4",
   "metadata": {},
   "outputs": [],
   "source": [
    "def func():\n",
    "    try:\n",
    "        return 1\n",
    "    except:\n",
    "        return 2\n",
    "    else:\n",
    "        return 3\n",
    "    finally:\n",
    "        return 4   # 2 will be returned no matter what try block return"
   ]
  },
  {
   "cell_type": "code",
   "execution_count": 64,
   "id": "2d7de181",
   "metadata": {},
   "outputs": [
    {
     "data": {
      "text/plain": [
       "4"
      ]
     },
     "execution_count": 64,
     "metadata": {},
     "output_type": "execute_result"
    }
   ],
   "source": [
    "func()"
   ]
  },
  {
   "cell_type": "code",
   "execution_count": 66,
   "id": "ceb2f66a",
   "metadata": {},
   "outputs": [],
   "source": [
    "# as not finally statement so value returned by try block is output\n",
    "def func():\n",
    "    try:\n",
    "        return 1\n",
    "    except:\n",
    "        return 2\n",
    "    else:\n",
    "        return 3"
   ]
  },
  {
   "cell_type": "raw",
   "id": "662018e6",
   "metadata": {},
   "source": [
    "func()  "
   ]
  },
  {
   "cell_type": "code",
   "execution_count": 69,
   "id": "6761cf40",
   "metadata": {},
   "outputs": [
    {
     "name": "stdout",
     "output_type": "stream",
     "text": [
      "Hello from the other side\n"
     ]
    }
   ],
   "source": [
    "try :\n",
    "    file = open(\"something.txt\", 'r')\n",
    "    print(file.read())\n",
    "except Exception as e:\n",
    "    print(e)\n",
    "finally:\n",
    "    file.close()\n",
    "    "
   ]
  },
  {
   "cell_type": "code",
   "execution_count": 71,
   "id": "423b6a14",
   "metadata": {},
   "outputs": [
    {
     "name": "stdout",
     "output_type": "stream",
     "text": [
      "Hello from the other side\n"
     ]
    }
   ],
   "source": [
    "# for clean ups\n",
    "with open(\"something.txt\", \"r\") as file:\n",
    "    print(file.read())"
   ]
  },
  {
   "cell_type": "code",
   "execution_count": 78,
   "id": "dbf1805d",
   "metadata": {},
   "outputs": [],
   "source": [
    "class A :\n",
    "    def __init__(self,n):\n",
    "        self.n = n\n",
    "        \n",
    "    def __str__(self):\n",
    "        return str(self.n)\n",
    "    \n",
    "    # both methods are used to work with the \"with\"\n",
    "    def __enter__(self):\n",
    "        return self\n",
    "    \n",
    "    def __exit__(self,*args):\n",
    "        print(args)\n",
    "        \n",
    "        #returning true restrict to raise any exception\n",
    "        \n",
    "        #return True"
   ]
  },
  {
   "cell_type": "code",
   "execution_count": 79,
   "id": "1341c464",
   "metadata": {},
   "outputs": [
    {
     "name": "stdout",
     "output_type": "stream",
     "text": [
      "5\n",
      "(<class 'ZeroDivisionError'>, ZeroDivisionError('division by zero'), <traceback object at 0x0000016BF4F5DF40>)\n",
      "hello\n"
     ]
    }
   ],
   "source": [
    "with A(5) as a:\n",
    "    print(a)\n",
    "    \n",
    "# once the with block is executed exit function of class is called\n",
    "    raise 10/0\n",
    "    \n",
    "print(\"hello\")"
   ]
  },
  {
   "cell_type": "code",
   "execution_count": null,
   "id": "f37cf855",
   "metadata": {},
   "outputs": [],
   "source": []
  },
  {
   "cell_type": "code",
   "execution_count": null,
   "id": "e09c5d91",
   "metadata": {},
   "outputs": [],
   "source": []
  }
 ],
 "metadata": {
  "kernelspec": {
   "display_name": "Python 3 (ipykernel)",
   "language": "python",
   "name": "python3"
  },
  "language_info": {
   "codemirror_mode": {
    "name": "ipython",
    "version": 3
   },
   "file_extension": ".py",
   "mimetype": "text/x-python",
   "name": "python",
   "nbconvert_exporter": "python",
   "pygments_lexer": "ipython3",
   "version": "3.11.4"
  }
 },
 "nbformat": 4,
 "nbformat_minor": 5
}
