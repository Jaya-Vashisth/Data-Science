{
 "cells": [
  {
   "cell_type": "markdown",
   "id": "562ec3c5",
   "metadata": {},
   "source": [
    "# Pandas - Working with tabular Data\n",
    "- Dataframe - special objects to data in tabular form\n"
   ]
  },
  {
   "cell_type": "code",
   "execution_count": 83,
   "id": "49b3db89",
   "metadata": {},
   "outputs": [],
   "source": [
    "import pandas as pd\n",
    "import numpy as np"
   ]
  },
  {
   "cell_type": "code",
   "execution_count": 87,
   "id": "c150ee83",
   "metadata": {},
   "outputs": [
    {
     "data": {
      "text/plain": [
       "{'Height': array([44, 61, 66, 64, 50]),\n",
       " 'weight': array([ 85,  51,  57, 115,  71]),\n",
       " 'Power': array([208, 240, 220, 239, 235])}"
      ]
     },
     "execution_count": 87,
     "metadata": {},
     "output_type": "execute_result"
    }
   ],
   "source": [
    "pokemons = {\n",
    "    \"Height\" : np.random.randint(1, 100, 5),\n",
    "    \"weight\" : np.random.randint(50, 150, 5),\n",
    "    \"Power\" : np.random.randint(200, 250, 5)\n",
    "}\n",
    "pokemons"
   ]
  },
  {
   "cell_type": "code",
   "execution_count": 88,
   "id": "b5d23e1a",
   "metadata": {},
   "outputs": [],
   "source": [
    "df = pd.DataFrame(pokemons)"
   ]
  },
  {
   "cell_type": "code",
   "execution_count": 89,
   "id": "4d0fa538",
   "metadata": {},
   "outputs": [
    {
     "data": {
      "text/html": [
       "<div>\n",
       "<style scoped>\n",
       "    .dataframe tbody tr th:only-of-type {\n",
       "        vertical-align: middle;\n",
       "    }\n",
       "\n",
       "    .dataframe tbody tr th {\n",
       "        vertical-align: top;\n",
       "    }\n",
       "\n",
       "    .dataframe thead th {\n",
       "        text-align: right;\n",
       "    }\n",
       "</style>\n",
       "<table border=\"1\" class=\"dataframe\">\n",
       "  <thead>\n",
       "    <tr style=\"text-align: right;\">\n",
       "      <th></th>\n",
       "      <th>Height</th>\n",
       "      <th>weight</th>\n",
       "      <th>Power</th>\n",
       "    </tr>\n",
       "  </thead>\n",
       "  <tbody>\n",
       "    <tr>\n",
       "      <th>0</th>\n",
       "      <td>44</td>\n",
       "      <td>85</td>\n",
       "      <td>208</td>\n",
       "    </tr>\n",
       "    <tr>\n",
       "      <th>1</th>\n",
       "      <td>61</td>\n",
       "      <td>51</td>\n",
       "      <td>240</td>\n",
       "    </tr>\n",
       "    <tr>\n",
       "      <th>2</th>\n",
       "      <td>66</td>\n",
       "      <td>57</td>\n",
       "      <td>220</td>\n",
       "    </tr>\n",
       "    <tr>\n",
       "      <th>3</th>\n",
       "      <td>64</td>\n",
       "      <td>115</td>\n",
       "      <td>239</td>\n",
       "    </tr>\n",
       "    <tr>\n",
       "      <th>4</th>\n",
       "      <td>50</td>\n",
       "      <td>71</td>\n",
       "      <td>235</td>\n",
       "    </tr>\n",
       "  </tbody>\n",
       "</table>\n",
       "</div>"
      ],
      "text/plain": [
       "   Height  weight  Power\n",
       "0      44      85    208\n",
       "1      61      51    240\n",
       "2      66      57    220\n",
       "3      64     115    239\n",
       "4      50      71    235"
      ]
     },
     "execution_count": 89,
     "metadata": {},
     "output_type": "execute_result"
    }
   ],
   "source": [
    "df"
   ]
  },
  {
   "cell_type": "code",
   "execution_count": 90,
   "id": "717fe5c5",
   "metadata": {},
   "outputs": [
    {
     "data": {
      "text/html": [
       "<div>\n",
       "<style scoped>\n",
       "    .dataframe tbody tr th:only-of-type {\n",
       "        vertical-align: middle;\n",
       "    }\n",
       "\n",
       "    .dataframe tbody tr th {\n",
       "        vertical-align: top;\n",
       "    }\n",
       "\n",
       "    .dataframe thead th {\n",
       "        text-align: right;\n",
       "    }\n",
       "</style>\n",
       "<table border=\"1\" class=\"dataframe\">\n",
       "  <thead>\n",
       "    <tr style=\"text-align: right;\">\n",
       "      <th></th>\n",
       "      <th>Height</th>\n",
       "      <th>weight</th>\n",
       "      <th>Power</th>\n",
       "    </tr>\n",
       "  </thead>\n",
       "  <tbody>\n",
       "    <tr>\n",
       "      <th>0</th>\n",
       "      <td>44</td>\n",
       "      <td>85</td>\n",
       "      <td>208</td>\n",
       "    </tr>\n",
       "    <tr>\n",
       "      <th>1</th>\n",
       "      <td>61</td>\n",
       "      <td>51</td>\n",
       "      <td>240</td>\n",
       "    </tr>\n",
       "    <tr>\n",
       "      <th>2</th>\n",
       "      <td>66</td>\n",
       "      <td>57</td>\n",
       "      <td>220</td>\n",
       "    </tr>\n",
       "  </tbody>\n",
       "</table>\n",
       "</div>"
      ],
      "text/plain": [
       "   Height  weight  Power\n",
       "0      44      85    208\n",
       "1      61      51    240\n",
       "2      66      57    220"
      ]
     },
     "execution_count": 90,
     "metadata": {},
     "output_type": "execute_result"
    }
   ],
   "source": [
    "df.head(n = 3)"
   ]
  },
  {
   "cell_type": "code",
   "execution_count": 91,
   "id": "75ffe52e",
   "metadata": {},
   "outputs": [
    {
     "data": {
      "text/plain": [
       "Index(['Height', 'weight', 'Power'], dtype='object')"
      ]
     },
     "execution_count": 91,
     "metadata": {},
     "output_type": "execute_result"
    }
   ],
   "source": [
    "df.columns"
   ]
  },
  {
   "cell_type": "code",
   "execution_count": 15,
   "id": "dde2699d",
   "metadata": {},
   "outputs": [],
   "source": [
    "## Create a CSV file\n",
    "\n",
    "df.to_csv('Pokemon_data.csv')\n",
    "\n"
   ]
  },
  {
   "cell_type": "code",
   "execution_count": 16,
   "id": "abeca782",
   "metadata": {},
   "outputs": [],
   "source": [
    "### Reading a Data Frame\n",
    "\n",
    "df1 = pd.read_csv('pokemon_data.csv')"
   ]
  },
  {
   "cell_type": "code",
   "execution_count": 17,
   "id": "5ca6d1c7",
   "metadata": {},
   "outputs": [
    {
     "data": {
      "text/html": [
       "<div>\n",
       "<style scoped>\n",
       "    .dataframe tbody tr th:only-of-type {\n",
       "        vertical-align: middle;\n",
       "    }\n",
       "\n",
       "    .dataframe tbody tr th {\n",
       "        vertical-align: top;\n",
       "    }\n",
       "\n",
       "    .dataframe thead th {\n",
       "        text-align: right;\n",
       "    }\n",
       "</style>\n",
       "<table border=\"1\" class=\"dataframe\">\n",
       "  <thead>\n",
       "    <tr style=\"text-align: right;\">\n",
       "      <th></th>\n",
       "      <th>Unnamed: 0</th>\n",
       "      <th>Height</th>\n",
       "      <th>weight</th>\n",
       "      <th>Power</th>\n",
       "    </tr>\n",
       "  </thead>\n",
       "  <tbody>\n",
       "    <tr>\n",
       "      <th>0</th>\n",
       "      <td>0</td>\n",
       "      <td>46</td>\n",
       "      <td>142</td>\n",
       "      <td>220</td>\n",
       "    </tr>\n",
       "    <tr>\n",
       "      <th>1</th>\n",
       "      <td>1</td>\n",
       "      <td>65</td>\n",
       "      <td>61</td>\n",
       "      <td>201</td>\n",
       "    </tr>\n",
       "    <tr>\n",
       "      <th>2</th>\n",
       "      <td>2</td>\n",
       "      <td>2</td>\n",
       "      <td>139</td>\n",
       "      <td>224</td>\n",
       "    </tr>\n",
       "    <tr>\n",
       "      <th>3</th>\n",
       "      <td>3</td>\n",
       "      <td>73</td>\n",
       "      <td>139</td>\n",
       "      <td>238</td>\n",
       "    </tr>\n",
       "    <tr>\n",
       "      <th>4</th>\n",
       "      <td>4</td>\n",
       "      <td>27</td>\n",
       "      <td>82</td>\n",
       "      <td>216</td>\n",
       "    </tr>\n",
       "  </tbody>\n",
       "</table>\n",
       "</div>"
      ],
      "text/plain": [
       "   Unnamed: 0  Height  weight  Power\n",
       "0           0      46     142    220\n",
       "1           1      65      61    201\n",
       "2           2       2     139    224\n",
       "3           3      73     139    238\n",
       "4           4      27      82    216"
      ]
     },
     "execution_count": 17,
     "metadata": {},
     "output_type": "execute_result"
    }
   ],
   "source": [
    "df1.head()"
   ]
  },
  {
   "cell_type": "code",
   "execution_count": 23,
   "id": "b8b4260e",
   "metadata": {},
   "outputs": [],
   "source": [
    "df = df1.drop(columns = ['Unnamed: 0'])"
   ]
  },
  {
   "cell_type": "code",
   "execution_count": 24,
   "id": "44908ad2",
   "metadata": {},
   "outputs": [
    {
     "data": {
      "text/plain": [
       "(5, 3)"
      ]
     },
     "execution_count": 24,
     "metadata": {},
     "output_type": "execute_result"
    }
   ],
   "source": [
    "df.shape"
   ]
  },
  {
   "cell_type": "code",
   "execution_count": 5,
   "id": "c0a6bb73",
   "metadata": {},
   "outputs": [],
   "source": [
    "user_data = {\n",
    "    \"MarksA\":np.random.randint(1,100,5),\n",
    "    \"MarksB\":np.random.randint(1,100,5),\n",
    "    \"MarksC\":np.random.randint(1,100,5)\n",
    "    \n",
    "}"
   ]
  },
  {
   "cell_type": "code",
   "execution_count": 6,
   "id": "a97b2bb8",
   "metadata": {},
   "outputs": [
    {
     "data": {
      "text/plain": [
       "{'MarksA': array([ 9, 83, 51, 96, 83]),\n",
       " 'MarksB': array([76, 88, 96, 71, 26]),\n",
       " 'MarksC': array([25, 91, 31, 85, 41])}"
      ]
     },
     "execution_count": 6,
     "metadata": {},
     "output_type": "execute_result"
    }
   ],
   "source": [
    "user_data"
   ]
  },
  {
   "cell_type": "code",
   "execution_count": 7,
   "id": "d1391e50",
   "metadata": {},
   "outputs": [],
   "source": [
    "# creating table\n",
    "df = pd.DataFrame(user_data)"
   ]
  },
  {
   "cell_type": "code",
   "execution_count": 8,
   "id": "a53258b3",
   "metadata": {},
   "outputs": [
    {
     "data": {
      "text/html": [
       "<div>\n",
       "<style scoped>\n",
       "    .dataframe tbody tr th:only-of-type {\n",
       "        vertical-align: middle;\n",
       "    }\n",
       "\n",
       "    .dataframe tbody tr th {\n",
       "        vertical-align: top;\n",
       "    }\n",
       "\n",
       "    .dataframe thead th {\n",
       "        text-align: right;\n",
       "    }\n",
       "</style>\n",
       "<table border=\"1\" class=\"dataframe\">\n",
       "  <thead>\n",
       "    <tr style=\"text-align: right;\">\n",
       "      <th></th>\n",
       "      <th>MarksA</th>\n",
       "      <th>MarksB</th>\n",
       "      <th>MarksC</th>\n",
       "    </tr>\n",
       "  </thead>\n",
       "  <tbody>\n",
       "    <tr>\n",
       "      <th>0</th>\n",
       "      <td>9</td>\n",
       "      <td>76</td>\n",
       "      <td>25</td>\n",
       "    </tr>\n",
       "    <tr>\n",
       "      <th>1</th>\n",
       "      <td>83</td>\n",
       "      <td>88</td>\n",
       "      <td>91</td>\n",
       "    </tr>\n",
       "    <tr>\n",
       "      <th>2</th>\n",
       "      <td>51</td>\n",
       "      <td>96</td>\n",
       "      <td>31</td>\n",
       "    </tr>\n",
       "    <tr>\n",
       "      <th>3</th>\n",
       "      <td>96</td>\n",
       "      <td>71</td>\n",
       "      <td>85</td>\n",
       "    </tr>\n",
       "    <tr>\n",
       "      <th>4</th>\n",
       "      <td>83</td>\n",
       "      <td>26</td>\n",
       "      <td>41</td>\n",
       "    </tr>\n",
       "  </tbody>\n",
       "</table>\n",
       "</div>"
      ],
      "text/plain": [
       "   MarksA  MarksB  MarksC\n",
       "0       9      76      25\n",
       "1      83      88      91\n",
       "2      51      96      31\n",
       "3      96      71      85\n",
       "4      83      26      41"
      ]
     },
     "execution_count": 8,
     "metadata": {},
     "output_type": "execute_result"
    }
   ],
   "source": [
    "df"
   ]
  },
  {
   "cell_type": "code",
   "execution_count": 9,
   "id": "182205a1",
   "metadata": {},
   "outputs": [
    {
     "data": {
      "text/html": [
       "<div>\n",
       "<style scoped>\n",
       "    .dataframe tbody tr th:only-of-type {\n",
       "        vertical-align: middle;\n",
       "    }\n",
       "\n",
       "    .dataframe tbody tr th {\n",
       "        vertical-align: top;\n",
       "    }\n",
       "\n",
       "    .dataframe thead th {\n",
       "        text-align: right;\n",
       "    }\n",
       "</style>\n",
       "<table border=\"1\" class=\"dataframe\">\n",
       "  <thead>\n",
       "    <tr style=\"text-align: right;\">\n",
       "      <th></th>\n",
       "      <th>MarksA</th>\n",
       "      <th>MarksB</th>\n",
       "      <th>MarksC</th>\n",
       "    </tr>\n",
       "  </thead>\n",
       "  <tbody>\n",
       "    <tr>\n",
       "      <th>0</th>\n",
       "      <td>9</td>\n",
       "      <td>76</td>\n",
       "      <td>25</td>\n",
       "    </tr>\n",
       "    <tr>\n",
       "      <th>1</th>\n",
       "      <td>83</td>\n",
       "      <td>88</td>\n",
       "      <td>91</td>\n",
       "    </tr>\n",
       "    <tr>\n",
       "      <th>2</th>\n",
       "      <td>51</td>\n",
       "      <td>96</td>\n",
       "      <td>31</td>\n",
       "    </tr>\n",
       "    <tr>\n",
       "      <th>3</th>\n",
       "      <td>96</td>\n",
       "      <td>71</td>\n",
       "      <td>85</td>\n",
       "    </tr>\n",
       "    <tr>\n",
       "      <th>4</th>\n",
       "      <td>83</td>\n",
       "      <td>26</td>\n",
       "      <td>41</td>\n",
       "    </tr>\n",
       "  </tbody>\n",
       "</table>\n",
       "</div>"
      ],
      "text/plain": [
       "   MarksA  MarksB  MarksC\n",
       "0       9      76      25\n",
       "1      83      88      91\n",
       "2      51      96      31\n",
       "3      96      71      85\n",
       "4      83      26      41"
      ]
     },
     "execution_count": 9,
     "metadata": {},
     "output_type": "execute_result"
    }
   ],
   "source": [
    "df.head()"
   ]
  },
  {
   "cell_type": "code",
   "execution_count": 10,
   "id": "deb97b2f",
   "metadata": {},
   "outputs": [
    {
     "data": {
      "text/plain": [
       "Index(['MarksA', 'MarksB', 'MarksC'], dtype='object')"
      ]
     },
     "execution_count": 10,
     "metadata": {},
     "output_type": "execute_result"
    }
   ],
   "source": [
    "df.columns\n"
   ]
  },
  {
   "cell_type": "code",
   "execution_count": 12,
   "id": "5d8de1e3",
   "metadata": {},
   "outputs": [
    {
     "data": {
      "text/html": [
       "<div>\n",
       "<style scoped>\n",
       "    .dataframe tbody tr th:only-of-type {\n",
       "        vertical-align: middle;\n",
       "    }\n",
       "\n",
       "    .dataframe tbody tr th {\n",
       "        vertical-align: top;\n",
       "    }\n",
       "\n",
       "    .dataframe thead th {\n",
       "        text-align: right;\n",
       "    }\n",
       "</style>\n",
       "<table border=\"1\" class=\"dataframe\">\n",
       "  <thead>\n",
       "    <tr style=\"text-align: right;\">\n",
       "      <th></th>\n",
       "      <th>MarksA</th>\n",
       "      <th>MarksB</th>\n",
       "      <th>MarksC</th>\n",
       "    </tr>\n",
       "  </thead>\n",
       "  <tbody>\n",
       "    <tr>\n",
       "      <th>count</th>\n",
       "      <td>5.000000</td>\n",
       "      <td>5.000000</td>\n",
       "      <td>5.000000</td>\n",
       "    </tr>\n",
       "    <tr>\n",
       "      <th>mean</th>\n",
       "      <td>64.400000</td>\n",
       "      <td>71.400000</td>\n",
       "      <td>54.600000</td>\n",
       "    </tr>\n",
       "    <tr>\n",
       "      <th>std</th>\n",
       "      <td>35.139721</td>\n",
       "      <td>27.217641</td>\n",
       "      <td>31.093408</td>\n",
       "    </tr>\n",
       "    <tr>\n",
       "      <th>min</th>\n",
       "      <td>9.000000</td>\n",
       "      <td>26.000000</td>\n",
       "      <td>25.000000</td>\n",
       "    </tr>\n",
       "    <tr>\n",
       "      <th>25%</th>\n",
       "      <td>51.000000</td>\n",
       "      <td>71.000000</td>\n",
       "      <td>31.000000</td>\n",
       "    </tr>\n",
       "    <tr>\n",
       "      <th>50%</th>\n",
       "      <td>83.000000</td>\n",
       "      <td>76.000000</td>\n",
       "      <td>41.000000</td>\n",
       "    </tr>\n",
       "    <tr>\n",
       "      <th>75%</th>\n",
       "      <td>83.000000</td>\n",
       "      <td>88.000000</td>\n",
       "      <td>85.000000</td>\n",
       "    </tr>\n",
       "    <tr>\n",
       "      <th>max</th>\n",
       "      <td>96.000000</td>\n",
       "      <td>96.000000</td>\n",
       "      <td>91.000000</td>\n",
       "    </tr>\n",
       "  </tbody>\n",
       "</table>\n",
       "</div>"
      ],
      "text/plain": [
       "          MarksA     MarksB     MarksC\n",
       "count   5.000000   5.000000   5.000000\n",
       "mean   64.400000  71.400000  54.600000\n",
       "std    35.139721  27.217641  31.093408\n",
       "min     9.000000  26.000000  25.000000\n",
       "25%    51.000000  71.000000  31.000000\n",
       "50%    83.000000  76.000000  41.000000\n",
       "75%    83.000000  88.000000  85.000000\n",
       "max    96.000000  96.000000  91.000000"
      ]
     },
     "execution_count": 12,
     "metadata": {},
     "output_type": "execute_result"
    }
   ],
   "source": [
    "df.describe()"
   ]
  },
  {
   "cell_type": "code",
   "execution_count": 13,
   "id": "522b680c",
   "metadata": {},
   "outputs": [
    {
     "data": {
      "text/plain": [
       "MarksA    96\n",
       "MarksB    71\n",
       "MarksC    85\n",
       "Name: 3, dtype: int32"
      ]
     },
     "execution_count": 13,
     "metadata": {},
     "output_type": "execute_result"
    }
   ],
   "source": [
    "df.iloc[3]"
   ]
  },
  {
   "cell_type": "code",
   "execution_count": 14,
   "id": "53f12fed",
   "metadata": {},
   "outputs": [
    {
     "data": {
      "text/plain": [
       "71"
      ]
     },
     "execution_count": 14,
     "metadata": {},
     "output_type": "execute_result"
    }
   ],
   "source": [
    "df.iloc[3,1]"
   ]
  },
  {
   "cell_type": "code",
   "execution_count": 15,
   "id": "2e97e185",
   "metadata": {},
   "outputs": [
    {
     "data": {
      "text/plain": [
       "71"
      ]
     },
     "execution_count": 15,
     "metadata": {},
     "output_type": "execute_result"
    }
   ],
   "source": [
    "df.iloc[3][1]"
   ]
  },
  {
   "cell_type": "code",
   "execution_count": 17,
   "id": "df054f67",
   "metadata": {},
   "outputs": [
    {
     "data": {
      "text/plain": [
       "71"
      ]
     },
     "execution_count": 17,
     "metadata": {},
     "output_type": "execute_result"
    }
   ],
   "source": [
    "idx = df.columns.get_loc('MarksB')\n",
    "df.iloc[3,idx]"
   ]
  },
  {
   "cell_type": "code",
   "execution_count": 18,
   "id": "95c011d1",
   "metadata": {},
   "outputs": [
    {
     "data": {
      "text/html": [
       "<div>\n",
       "<style scoped>\n",
       "    .dataframe tbody tr th:only-of-type {\n",
       "        vertical-align: middle;\n",
       "    }\n",
       "\n",
       "    .dataframe tbody tr th {\n",
       "        vertical-align: top;\n",
       "    }\n",
       "\n",
       "    .dataframe thead th {\n",
       "        text-align: right;\n",
       "    }\n",
       "</style>\n",
       "<table border=\"1\" class=\"dataframe\">\n",
       "  <thead>\n",
       "    <tr style=\"text-align: right;\">\n",
       "      <th></th>\n",
       "      <th>MarksB</th>\n",
       "      <th>MarksC</th>\n",
       "    </tr>\n",
       "  </thead>\n",
       "  <tbody>\n",
       "    <tr>\n",
       "      <th>0</th>\n",
       "      <td>76</td>\n",
       "      <td>25</td>\n",
       "    </tr>\n",
       "    <tr>\n",
       "      <th>1</th>\n",
       "      <td>88</td>\n",
       "      <td>91</td>\n",
       "    </tr>\n",
       "    <tr>\n",
       "      <th>2</th>\n",
       "      <td>96</td>\n",
       "      <td>31</td>\n",
       "    </tr>\n",
       "  </tbody>\n",
       "</table>\n",
       "</div>"
      ],
      "text/plain": [
       "   MarksB  MarksC\n",
       "0      76      25\n",
       "1      88      91\n",
       "2      96      31"
      ]
     },
     "execution_count": 18,
     "metadata": {},
     "output_type": "execute_result"
    }
   ],
   "source": [
    "df.iloc[:3, [1,2]]"
   ]
  },
  {
   "cell_type": "code",
   "execution_count": 19,
   "id": "ea595fb2",
   "metadata": {},
   "outputs": [],
   "source": [
    "# sort df \n"
   ]
  },
  {
   "cell_type": "code",
   "execution_count": 20,
   "id": "06ec8b00",
   "metadata": {},
   "outputs": [
    {
     "data": {
      "text/html": [
       "<div>\n",
       "<style scoped>\n",
       "    .dataframe tbody tr th:only-of-type {\n",
       "        vertical-align: middle;\n",
       "    }\n",
       "\n",
       "    .dataframe tbody tr th {\n",
       "        vertical-align: top;\n",
       "    }\n",
       "\n",
       "    .dataframe thead th {\n",
       "        text-align: right;\n",
       "    }\n",
       "</style>\n",
       "<table border=\"1\" class=\"dataframe\">\n",
       "  <thead>\n",
       "    <tr style=\"text-align: right;\">\n",
       "      <th></th>\n",
       "      <th>MarksA</th>\n",
       "      <th>MarksB</th>\n",
       "      <th>MarksC</th>\n",
       "    </tr>\n",
       "  </thead>\n",
       "  <tbody>\n",
       "    <tr>\n",
       "      <th>0</th>\n",
       "      <td>9</td>\n",
       "      <td>76</td>\n",
       "      <td>25</td>\n",
       "    </tr>\n",
       "    <tr>\n",
       "      <th>1</th>\n",
       "      <td>83</td>\n",
       "      <td>88</td>\n",
       "      <td>91</td>\n",
       "    </tr>\n",
       "    <tr>\n",
       "      <th>2</th>\n",
       "      <td>51</td>\n",
       "      <td>96</td>\n",
       "      <td>31</td>\n",
       "    </tr>\n",
       "    <tr>\n",
       "      <th>3</th>\n",
       "      <td>96</td>\n",
       "      <td>71</td>\n",
       "      <td>85</td>\n",
       "    </tr>\n",
       "    <tr>\n",
       "      <th>4</th>\n",
       "      <td>83</td>\n",
       "      <td>26</td>\n",
       "      <td>41</td>\n",
       "    </tr>\n",
       "  </tbody>\n",
       "</table>\n",
       "</div>"
      ],
      "text/plain": [
       "   MarksA  MarksB  MarksC\n",
       "0       9      76      25\n",
       "1      83      88      91\n",
       "2      51      96      31\n",
       "3      96      71      85\n",
       "4      83      26      41"
      ]
     },
     "execution_count": 20,
     "metadata": {},
     "output_type": "execute_result"
    }
   ],
   "source": [
    "df"
   ]
  },
  {
   "cell_type": "code",
   "execution_count": 21,
   "id": "05f49a42",
   "metadata": {},
   "outputs": [
    {
     "data": {
      "text/html": [
       "<div>\n",
       "<style scoped>\n",
       "    .dataframe tbody tr th:only-of-type {\n",
       "        vertical-align: middle;\n",
       "    }\n",
       "\n",
       "    .dataframe tbody tr th {\n",
       "        vertical-align: top;\n",
       "    }\n",
       "\n",
       "    .dataframe thead th {\n",
       "        text-align: right;\n",
       "    }\n",
       "</style>\n",
       "<table border=\"1\" class=\"dataframe\">\n",
       "  <thead>\n",
       "    <tr style=\"text-align: right;\">\n",
       "      <th></th>\n",
       "      <th>MarksA</th>\n",
       "      <th>MarksB</th>\n",
       "      <th>MarksC</th>\n",
       "    </tr>\n",
       "  </thead>\n",
       "  <tbody>\n",
       "    <tr>\n",
       "      <th>3</th>\n",
       "      <td>96</td>\n",
       "      <td>71</td>\n",
       "      <td>85</td>\n",
       "    </tr>\n",
       "    <tr>\n",
       "      <th>1</th>\n",
       "      <td>83</td>\n",
       "      <td>88</td>\n",
       "      <td>91</td>\n",
       "    </tr>\n",
       "    <tr>\n",
       "      <th>4</th>\n",
       "      <td>83</td>\n",
       "      <td>26</td>\n",
       "      <td>41</td>\n",
       "    </tr>\n",
       "    <tr>\n",
       "      <th>2</th>\n",
       "      <td>51</td>\n",
       "      <td>96</td>\n",
       "      <td>31</td>\n",
       "    </tr>\n",
       "    <tr>\n",
       "      <th>0</th>\n",
       "      <td>9</td>\n",
       "      <td>76</td>\n",
       "      <td>25</td>\n",
       "    </tr>\n",
       "  </tbody>\n",
       "</table>\n",
       "</div>"
      ],
      "text/plain": [
       "   MarksA  MarksB  MarksC\n",
       "3      96      71      85\n",
       "1      83      88      91\n",
       "4      83      26      41\n",
       "2      51      96      31\n",
       "0       9      76      25"
      ]
     },
     "execution_count": 21,
     "metadata": {},
     "output_type": "execute_result"
    }
   ],
   "source": [
    "df.sort_values(by = [\"MarksA\"], ascending= False)"
   ]
  },
  {
   "cell_type": "code",
   "execution_count": 23,
   "id": "9a8c28fa",
   "metadata": {},
   "outputs": [],
   "source": [
    "df_array = df.values"
   ]
  },
  {
   "cell_type": "code",
   "execution_count": 24,
   "id": "19582073",
   "metadata": {},
   "outputs": [
    {
     "data": {
      "text/plain": [
       "array([[ 9, 76, 25],\n",
       "       [83, 88, 91],\n",
       "       [51, 96, 31],\n",
       "       [96, 71, 85],\n",
       "       [83, 26, 41]])"
      ]
     },
     "execution_count": 24,
     "metadata": {},
     "output_type": "execute_result"
    }
   ],
   "source": [
    "df_array"
   ]
  },
  {
   "cell_type": "code",
   "execution_count": 25,
   "id": "6fe260a9",
   "metadata": {},
   "outputs": [
    {
     "data": {
      "text/plain": [
       "numpy.ndarray"
      ]
     },
     "execution_count": 25,
     "metadata": {},
     "output_type": "execute_result"
    }
   ],
   "source": [
    "type(df_array)"
   ]
  },
  {
   "cell_type": "code",
   "execution_count": 26,
   "id": "1b801c1f",
   "metadata": {},
   "outputs": [
    {
     "data": {
      "text/plain": [
       "85"
      ]
     },
     "execution_count": 26,
     "metadata": {},
     "output_type": "execute_result"
    }
   ],
   "source": [
    "df_array[3,2]  # can be accessed as it now array"
   ]
  },
  {
   "cell_type": "code",
   "execution_count": 28,
   "id": "13c46fac",
   "metadata": {},
   "outputs": [],
   "source": [
    "# numpy arrays to dataframe\n",
    "new_df = pd.DataFrame(df_array, columns=\"MarksA MarkdB MarkdsC\".split(\" \"), dtype = 'int32')"
   ]
  },
  {
   "cell_type": "code",
   "execution_count": 29,
   "id": "73a11f51",
   "metadata": {},
   "outputs": [
    {
     "data": {
      "text/html": [
       "<div>\n",
       "<style scoped>\n",
       "    .dataframe tbody tr th:only-of-type {\n",
       "        vertical-align: middle;\n",
       "    }\n",
       "\n",
       "    .dataframe tbody tr th {\n",
       "        vertical-align: top;\n",
       "    }\n",
       "\n",
       "    .dataframe thead th {\n",
       "        text-align: right;\n",
       "    }\n",
       "</style>\n",
       "<table border=\"1\" class=\"dataframe\">\n",
       "  <thead>\n",
       "    <tr style=\"text-align: right;\">\n",
       "      <th></th>\n",
       "      <th>MarksA</th>\n",
       "      <th>MarkdB</th>\n",
       "      <th>MarkdsC</th>\n",
       "    </tr>\n",
       "  </thead>\n",
       "  <tbody>\n",
       "    <tr>\n",
       "      <th>0</th>\n",
       "      <td>9</td>\n",
       "      <td>76</td>\n",
       "      <td>25</td>\n",
       "    </tr>\n",
       "    <tr>\n",
       "      <th>1</th>\n",
       "      <td>83</td>\n",
       "      <td>88</td>\n",
       "      <td>91</td>\n",
       "    </tr>\n",
       "    <tr>\n",
       "      <th>2</th>\n",
       "      <td>51</td>\n",
       "      <td>96</td>\n",
       "      <td>31</td>\n",
       "    </tr>\n",
       "    <tr>\n",
       "      <th>3</th>\n",
       "      <td>96</td>\n",
       "      <td>71</td>\n",
       "      <td>85</td>\n",
       "    </tr>\n",
       "    <tr>\n",
       "      <th>4</th>\n",
       "      <td>83</td>\n",
       "      <td>26</td>\n",
       "      <td>41</td>\n",
       "    </tr>\n",
       "  </tbody>\n",
       "</table>\n",
       "</div>"
      ],
      "text/plain": [
       "   MarksA  MarkdB  MarkdsC\n",
       "0       9      76       25\n",
       "1      83      88       91\n",
       "2      51      96       31\n",
       "3      96      71       85\n",
       "4      83      26       41"
      ]
     },
     "execution_count": 29,
     "metadata": {},
     "output_type": "execute_result"
    }
   ],
   "source": [
    "new_df"
   ]
  },
  {
   "cell_type": "code",
   "execution_count": 30,
   "id": "7c0d98b1",
   "metadata": {},
   "outputs": [],
   "source": [
    " # loading and visualising MNIST dataset using pandas & matplotlib"
   ]
  },
  {
   "cell_type": "code",
   "execution_count": 31,
   "id": "d27aa6f3",
   "metadata": {},
   "outputs": [],
   "source": [
    "import matplotlib.pyplot as plt"
   ]
  },
  {
   "cell_type": "code",
   "execution_count": 36,
   "id": "0e99285c",
   "metadata": {},
   "outputs": [],
   "source": [
    "df = pd.read_csv(\"files/train.csv\")"
   ]
  },
  {
   "cell_type": "code",
   "execution_count": 37,
   "id": "1c1ac742",
   "metadata": {},
   "outputs": [
    {
     "data": {
      "text/plain": [
       "(42000, 785)"
      ]
     },
     "execution_count": 37,
     "metadata": {},
     "output_type": "execute_result"
    }
   ],
   "source": [
    "df.shape"
   ]
  },
  {
   "cell_type": "code",
   "execution_count": 38,
   "id": "c259db2c",
   "metadata": {},
   "outputs": [
    {
     "data": {
      "text/html": [
       "<div>\n",
       "<style scoped>\n",
       "    .dataframe tbody tr th:only-of-type {\n",
       "        vertical-align: middle;\n",
       "    }\n",
       "\n",
       "    .dataframe tbody tr th {\n",
       "        vertical-align: top;\n",
       "    }\n",
       "\n",
       "    .dataframe thead th {\n",
       "        text-align: right;\n",
       "    }\n",
       "</style>\n",
       "<table border=\"1\" class=\"dataframe\">\n",
       "  <thead>\n",
       "    <tr style=\"text-align: right;\">\n",
       "      <th></th>\n",
       "      <th>label</th>\n",
       "      <th>pixel0</th>\n",
       "      <th>pixel1</th>\n",
       "      <th>pixel2</th>\n",
       "      <th>pixel3</th>\n",
       "      <th>pixel4</th>\n",
       "      <th>pixel5</th>\n",
       "      <th>pixel6</th>\n",
       "      <th>pixel7</th>\n",
       "      <th>pixel8</th>\n",
       "      <th>...</th>\n",
       "      <th>pixel774</th>\n",
       "      <th>pixel775</th>\n",
       "      <th>pixel776</th>\n",
       "      <th>pixel777</th>\n",
       "      <th>pixel778</th>\n",
       "      <th>pixel779</th>\n",
       "      <th>pixel780</th>\n",
       "      <th>pixel781</th>\n",
       "      <th>pixel782</th>\n",
       "      <th>pixel783</th>\n",
       "    </tr>\n",
       "  </thead>\n",
       "  <tbody>\n",
       "    <tr>\n",
       "      <th>0</th>\n",
       "      <td>1</td>\n",
       "      <td>0</td>\n",
       "      <td>0</td>\n",
       "      <td>0</td>\n",
       "      <td>0</td>\n",
       "      <td>0</td>\n",
       "      <td>0</td>\n",
       "      <td>0</td>\n",
       "      <td>0</td>\n",
       "      <td>0</td>\n",
       "      <td>...</td>\n",
       "      <td>0</td>\n",
       "      <td>0</td>\n",
       "      <td>0</td>\n",
       "      <td>0</td>\n",
       "      <td>0</td>\n",
       "      <td>0</td>\n",
       "      <td>0</td>\n",
       "      <td>0</td>\n",
       "      <td>0</td>\n",
       "      <td>0</td>\n",
       "    </tr>\n",
       "    <tr>\n",
       "      <th>1</th>\n",
       "      <td>0</td>\n",
       "      <td>0</td>\n",
       "      <td>0</td>\n",
       "      <td>0</td>\n",
       "      <td>0</td>\n",
       "      <td>0</td>\n",
       "      <td>0</td>\n",
       "      <td>0</td>\n",
       "      <td>0</td>\n",
       "      <td>0</td>\n",
       "      <td>...</td>\n",
       "      <td>0</td>\n",
       "      <td>0</td>\n",
       "      <td>0</td>\n",
       "      <td>0</td>\n",
       "      <td>0</td>\n",
       "      <td>0</td>\n",
       "      <td>0</td>\n",
       "      <td>0</td>\n",
       "      <td>0</td>\n",
       "      <td>0</td>\n",
       "    </tr>\n",
       "    <tr>\n",
       "      <th>2</th>\n",
       "      <td>1</td>\n",
       "      <td>0</td>\n",
       "      <td>0</td>\n",
       "      <td>0</td>\n",
       "      <td>0</td>\n",
       "      <td>0</td>\n",
       "      <td>0</td>\n",
       "      <td>0</td>\n",
       "      <td>0</td>\n",
       "      <td>0</td>\n",
       "      <td>...</td>\n",
       "      <td>0</td>\n",
       "      <td>0</td>\n",
       "      <td>0</td>\n",
       "      <td>0</td>\n",
       "      <td>0</td>\n",
       "      <td>0</td>\n",
       "      <td>0</td>\n",
       "      <td>0</td>\n",
       "      <td>0</td>\n",
       "      <td>0</td>\n",
       "    </tr>\n",
       "    <tr>\n",
       "      <th>3</th>\n",
       "      <td>4</td>\n",
       "      <td>0</td>\n",
       "      <td>0</td>\n",
       "      <td>0</td>\n",
       "      <td>0</td>\n",
       "      <td>0</td>\n",
       "      <td>0</td>\n",
       "      <td>0</td>\n",
       "      <td>0</td>\n",
       "      <td>0</td>\n",
       "      <td>...</td>\n",
       "      <td>0</td>\n",
       "      <td>0</td>\n",
       "      <td>0</td>\n",
       "      <td>0</td>\n",
       "      <td>0</td>\n",
       "      <td>0</td>\n",
       "      <td>0</td>\n",
       "      <td>0</td>\n",
       "      <td>0</td>\n",
       "      <td>0</td>\n",
       "    </tr>\n",
       "    <tr>\n",
       "      <th>4</th>\n",
       "      <td>0</td>\n",
       "      <td>0</td>\n",
       "      <td>0</td>\n",
       "      <td>0</td>\n",
       "      <td>0</td>\n",
       "      <td>0</td>\n",
       "      <td>0</td>\n",
       "      <td>0</td>\n",
       "      <td>0</td>\n",
       "      <td>0</td>\n",
       "      <td>...</td>\n",
       "      <td>0</td>\n",
       "      <td>0</td>\n",
       "      <td>0</td>\n",
       "      <td>0</td>\n",
       "      <td>0</td>\n",
       "      <td>0</td>\n",
       "      <td>0</td>\n",
       "      <td>0</td>\n",
       "      <td>0</td>\n",
       "      <td>0</td>\n",
       "    </tr>\n",
       "    <tr>\n",
       "      <th>...</th>\n",
       "      <td>...</td>\n",
       "      <td>...</td>\n",
       "      <td>...</td>\n",
       "      <td>...</td>\n",
       "      <td>...</td>\n",
       "      <td>...</td>\n",
       "      <td>...</td>\n",
       "      <td>...</td>\n",
       "      <td>...</td>\n",
       "      <td>...</td>\n",
       "      <td>...</td>\n",
       "      <td>...</td>\n",
       "      <td>...</td>\n",
       "      <td>...</td>\n",
       "      <td>...</td>\n",
       "      <td>...</td>\n",
       "      <td>...</td>\n",
       "      <td>...</td>\n",
       "      <td>...</td>\n",
       "      <td>...</td>\n",
       "      <td>...</td>\n",
       "    </tr>\n",
       "    <tr>\n",
       "      <th>41995</th>\n",
       "      <td>0</td>\n",
       "      <td>0</td>\n",
       "      <td>0</td>\n",
       "      <td>0</td>\n",
       "      <td>0</td>\n",
       "      <td>0</td>\n",
       "      <td>0</td>\n",
       "      <td>0</td>\n",
       "      <td>0</td>\n",
       "      <td>0</td>\n",
       "      <td>...</td>\n",
       "      <td>0</td>\n",
       "      <td>0</td>\n",
       "      <td>0</td>\n",
       "      <td>0</td>\n",
       "      <td>0</td>\n",
       "      <td>0</td>\n",
       "      <td>0</td>\n",
       "      <td>0</td>\n",
       "      <td>0</td>\n",
       "      <td>0</td>\n",
       "    </tr>\n",
       "    <tr>\n",
       "      <th>41996</th>\n",
       "      <td>1</td>\n",
       "      <td>0</td>\n",
       "      <td>0</td>\n",
       "      <td>0</td>\n",
       "      <td>0</td>\n",
       "      <td>0</td>\n",
       "      <td>0</td>\n",
       "      <td>0</td>\n",
       "      <td>0</td>\n",
       "      <td>0</td>\n",
       "      <td>...</td>\n",
       "      <td>0</td>\n",
       "      <td>0</td>\n",
       "      <td>0</td>\n",
       "      <td>0</td>\n",
       "      <td>0</td>\n",
       "      <td>0</td>\n",
       "      <td>0</td>\n",
       "      <td>0</td>\n",
       "      <td>0</td>\n",
       "      <td>0</td>\n",
       "    </tr>\n",
       "    <tr>\n",
       "      <th>41997</th>\n",
       "      <td>7</td>\n",
       "      <td>0</td>\n",
       "      <td>0</td>\n",
       "      <td>0</td>\n",
       "      <td>0</td>\n",
       "      <td>0</td>\n",
       "      <td>0</td>\n",
       "      <td>0</td>\n",
       "      <td>0</td>\n",
       "      <td>0</td>\n",
       "      <td>...</td>\n",
       "      <td>0</td>\n",
       "      <td>0</td>\n",
       "      <td>0</td>\n",
       "      <td>0</td>\n",
       "      <td>0</td>\n",
       "      <td>0</td>\n",
       "      <td>0</td>\n",
       "      <td>0</td>\n",
       "      <td>0</td>\n",
       "      <td>0</td>\n",
       "    </tr>\n",
       "    <tr>\n",
       "      <th>41998</th>\n",
       "      <td>6</td>\n",
       "      <td>0</td>\n",
       "      <td>0</td>\n",
       "      <td>0</td>\n",
       "      <td>0</td>\n",
       "      <td>0</td>\n",
       "      <td>0</td>\n",
       "      <td>0</td>\n",
       "      <td>0</td>\n",
       "      <td>0</td>\n",
       "      <td>...</td>\n",
       "      <td>0</td>\n",
       "      <td>0</td>\n",
       "      <td>0</td>\n",
       "      <td>0</td>\n",
       "      <td>0</td>\n",
       "      <td>0</td>\n",
       "      <td>0</td>\n",
       "      <td>0</td>\n",
       "      <td>0</td>\n",
       "      <td>0</td>\n",
       "    </tr>\n",
       "    <tr>\n",
       "      <th>41999</th>\n",
       "      <td>9</td>\n",
       "      <td>0</td>\n",
       "      <td>0</td>\n",
       "      <td>0</td>\n",
       "      <td>0</td>\n",
       "      <td>0</td>\n",
       "      <td>0</td>\n",
       "      <td>0</td>\n",
       "      <td>0</td>\n",
       "      <td>0</td>\n",
       "      <td>...</td>\n",
       "      <td>0</td>\n",
       "      <td>0</td>\n",
       "      <td>0</td>\n",
       "      <td>0</td>\n",
       "      <td>0</td>\n",
       "      <td>0</td>\n",
       "      <td>0</td>\n",
       "      <td>0</td>\n",
       "      <td>0</td>\n",
       "      <td>0</td>\n",
       "    </tr>\n",
       "  </tbody>\n",
       "</table>\n",
       "<p>42000 rows × 785 columns</p>\n",
       "</div>"
      ],
      "text/plain": [
       "       label  pixel0  pixel1  pixel2  pixel3  pixel4  pixel5  pixel6  pixel7  \\\n",
       "0          1       0       0       0       0       0       0       0       0   \n",
       "1          0       0       0       0       0       0       0       0       0   \n",
       "2          1       0       0       0       0       0       0       0       0   \n",
       "3          4       0       0       0       0       0       0       0       0   \n",
       "4          0       0       0       0       0       0       0       0       0   \n",
       "...      ...     ...     ...     ...     ...     ...     ...     ...     ...   \n",
       "41995      0       0       0       0       0       0       0       0       0   \n",
       "41996      1       0       0       0       0       0       0       0       0   \n",
       "41997      7       0       0       0       0       0       0       0       0   \n",
       "41998      6       0       0       0       0       0       0       0       0   \n",
       "41999      9       0       0       0       0       0       0       0       0   \n",
       "\n",
       "       pixel8  ...  pixel774  pixel775  pixel776  pixel777  pixel778  \\\n",
       "0           0  ...         0         0         0         0         0   \n",
       "1           0  ...         0         0         0         0         0   \n",
       "2           0  ...         0         0         0         0         0   \n",
       "3           0  ...         0         0         0         0         0   \n",
       "4           0  ...         0         0         0         0         0   \n",
       "...       ...  ...       ...       ...       ...       ...       ...   \n",
       "41995       0  ...         0         0         0         0         0   \n",
       "41996       0  ...         0         0         0         0         0   \n",
       "41997       0  ...         0         0         0         0         0   \n",
       "41998       0  ...         0         0         0         0         0   \n",
       "41999       0  ...         0         0         0         0         0   \n",
       "\n",
       "       pixel779  pixel780  pixel781  pixel782  pixel783  \n",
       "0             0         0         0         0         0  \n",
       "1             0         0         0         0         0  \n",
       "2             0         0         0         0         0  \n",
       "3             0         0         0         0         0  \n",
       "4             0         0         0         0         0  \n",
       "...         ...       ...       ...       ...       ...  \n",
       "41995         0         0         0         0         0  \n",
       "41996         0         0         0         0         0  \n",
       "41997         0         0         0         0         0  \n",
       "41998         0         0         0         0         0  \n",
       "41999         0         0         0         0         0  \n",
       "\n",
       "[42000 rows x 785 columns]"
      ]
     },
     "execution_count": 38,
     "metadata": {},
     "output_type": "execute_result"
    }
   ],
   "source": [
    "df"
   ]
  },
  {
   "cell_type": "code",
   "execution_count": 39,
   "id": "8ceba74b",
   "metadata": {},
   "outputs": [],
   "source": [
    "data = df.values"
   ]
  },
  {
   "cell_type": "code",
   "execution_count": 40,
   "id": "3b205654",
   "metadata": {},
   "outputs": [
    {
     "data": {
      "text/plain": [
       "array([[1, 0, 0, ..., 0, 0, 0],\n",
       "       [0, 0, 0, ..., 0, 0, 0],\n",
       "       [1, 0, 0, ..., 0, 0, 0],\n",
       "       ...,\n",
       "       [7, 0, 0, ..., 0, 0, 0],\n",
       "       [6, 0, 0, ..., 0, 0, 0],\n",
       "       [9, 0, 0, ..., 0, 0, 0]], dtype=int64)"
      ]
     },
     "execution_count": 40,
     "metadata": {},
     "output_type": "execute_result"
    }
   ],
   "source": [
    "data"
   ]
  },
  {
   "cell_type": "code",
   "execution_count": 41,
   "id": "cfd1aa08",
   "metadata": {},
   "outputs": [
    {
     "data": {
      "text/plain": [
       "numpy.ndarray"
      ]
     },
     "execution_count": 41,
     "metadata": {},
     "output_type": "execute_result"
    }
   ],
   "source": [
    "type(data)"
   ]
  },
  {
   "cell_type": "code",
   "execution_count": 42,
   "id": "9fa65e07",
   "metadata": {},
   "outputs": [],
   "source": [
    "# separating the  values\n",
    "x_label = data[:, 1:]\n",
    "y_label = data[:,0]"
   ]
  },
  {
   "cell_type": "code",
   "execution_count": 45,
   "id": "bde8951f",
   "metadata": {},
   "outputs": [
    {
     "data": {
      "text/plain": [
       "(42000, 784)"
      ]
     },
     "execution_count": 45,
     "metadata": {},
     "output_type": "execute_result"
    }
   ],
   "source": [
    "x_label.shape"
   ]
  },
  {
   "cell_type": "code",
   "execution_count": 46,
   "id": "77734755",
   "metadata": {},
   "outputs": [
    {
     "data": {
      "text/plain": [
       "(42000,)"
      ]
     },
     "execution_count": 46,
     "metadata": {},
     "output_type": "execute_result"
    }
   ],
   "source": [
    "y_label.shape"
   ]
  },
  {
   "cell_type": "code",
   "execution_count": 48,
   "id": "c03ac84f",
   "metadata": {},
   "outputs": [
    {
     "name": "stdout",
     "output_type": "stream",
     "text": [
      "[1 0 1 ... 7 6 9]\n"
     ]
    }
   ],
   "source": [
    "print(y_label)"
   ]
  },
  {
   "cell_type": "code",
   "execution_count": 49,
   "id": "d3515e38",
   "metadata": {},
   "outputs": [],
   "source": [
    "## try to visualise one image"
   ]
  },
  {
   "cell_type": "code",
   "execution_count": 60,
   "id": "ae32ef9d",
   "metadata": {},
   "outputs": [],
   "source": [
    "x1 = x_label[0]"
   ]
  },
  {
   "cell_type": "code",
   "execution_count": 61,
   "id": "2500ca80",
   "metadata": {},
   "outputs": [],
   "source": [
    "x1 = x1.reshape(28,-1)"
   ]
  },
  {
   "cell_type": "code",
   "execution_count": 62,
   "id": "978b009d",
   "metadata": {},
   "outputs": [
    {
     "data": {
      "text/plain": [
       "(28, 28)"
      ]
     },
     "execution_count": 62,
     "metadata": {},
     "output_type": "execute_result"
    }
   ],
   "source": [
    "x1.shape"
   ]
  },
  {
   "cell_type": "code",
   "execution_count": 68,
   "id": "36e44a57",
   "metadata": {},
   "outputs": [
    {
     "data": {
      "image/png": "[encoded data removed]",
      "text/plain": [
       "<Figure size 640x480 with 1 Axes>"
      ]
     },
     "metadata": {},
     "output_type": "display_data"
    },
    {
     "data": {
      "image/png": "[encoded data removed]",
      "text/plain": [
       "<Figure size 640x480 with 1 Axes>"
      ]
     },
     "metadata": {},
     "output_type": "display_data"
    },
    {
     "data": {
      "image/png": "[encoded data removed]",
      "text/plain": [
       "<Figure size 640x480 with 1 Axes>"
      ]
     },
     "metadata": {},
     "output_type": "display_data"
    },
    {
     "data": {
      "image/png": "[encoded data removed]",
      "text/plain": [
       "<Figure size 640x480 with 1 Axes>"
      ]
     },
     "metadata": {},
     "output_type": "display_data"
    }
   ],
   "source": [
    "def drawImg(x_label, y_label , i):\n",
    "    plt.imshow(x_label[i].reshape(28,28) , cmap='gray')\n",
    "    plt.title(\"Label {}\".format(y_label[i]))\n",
    "    plt.show()\n",
    "    \n",
    "for i in range(4):\n",
    "    drawImg(x_label, y_label, i)"
   ]
  },
  {
   "cell_type": "code",
   "execution_count": 70,
   "id": "e2c6ad68",
   "metadata": {},
   "outputs": [],
   "source": [
    "# splitting the dataset\n",
    "split = int(0.80*x_label.shape[0])"
   ]
  },
  {
   "cell_type": "code",
   "execution_count": 72,
   "id": "780ac2bb",
   "metadata": {},
   "outputs": [],
   "source": [
    "X_train , Y_train= x_label[:split,:], y_label[: split]\n",
    "X_test , y_test = x_label[split: , :], y_label[split:]"
   ]
  },
  {
   "cell_type": "code",
   "execution_count": 73,
   "id": "42fe70fa",
   "metadata": {},
   "outputs": [
    {
     "name": "stdout",
     "output_type": "stream",
     "text": [
      "(33600, 784) (33600,)\n"
     ]
    }
   ],
   "source": [
    "print(X_train.shape, Y_train.shape)"
   ]
  },
  {
   "cell_type": "code",
   "execution_count": 76,
   "id": "47db624f",
   "metadata": {},
   "outputs": [
    {
     "data": {
      "image/png": "[encoded data removed]",
      "text/plain": [
       "<Figure size 1000x1000 with 25 Axes>"
      ]
     },
     "metadata": {},
     "output_type": "display_data"
    }
   ],
   "source": [
    "# visualizing the grid of 5*5 \n",
    "\n",
    "plt.figure(figsize=(10,10))\n",
    "for i in range(25):\n",
    "    plt.subplot(5,5,i+1)\n",
    "    plt.imshow(X_train[i].reshape(28,28), cmap='gray')\n",
    "    plt.title(y_label[i])\n",
    "    plt.axis('off')"
   ]
  },
  {
   "cell_type": "code",
   "execution_count": 79,
   "id": "fdbe63f0",
   "metadata": {},
   "outputs": [
    {
     "name": "stdout",
     "output_type": "stream",
     "text": [
      "Defaulting to user installation because normal site-packages is not writeable"
     ]
    },
    {
     "name": "stderr",
     "output_type": "stream",
     "text": [
      "\n",
      "[notice] A new release of pip is available: 23.1.2 -> 23.2.1\n",
      "[notice] To update, run: python.exe -m pip install --upgrade pip\n"
     ]
    },
    {
     "name": "stdout",
     "output_type": "stream",
     "text": [
      "\n",
      "Collecting scikit-learn\n",
      "  Downloading scikit_learn-1.3.0-cp311-cp311-win_amd64.whl (9.2 MB)\n",
      "                                              0.0/9.2 MB ? eta -:--:--\n",
      "                                              0.0/9.2 MB 1.4 MB/s eta 0:00:07\n",
      "                                              0.0/9.2 MB 1.4 MB/s eta 0:00:07\n",
      "                                              0.0/9.2 MB 1.4 MB/s eta 0:00:07\n",
      "                                              0.1/9.2 MB 525.1 kB/s eta 0:00:18\n",
      "                                              0.1/9.2 MB 481.4 kB/s eta 0:00:19\n",
      "                                              0.2/9.2 MB 612.6 kB/s eta 0:00:15\n",
      "                                              0.2/9.2 MB 612.6 kB/s eta 0:00:15\n",
      "                                              0.2/9.2 MB 612.6 kB/s eta 0:00:15\n",
      "     -                                        0.2/9.2 MB 554.9 kB/s eta 0:00:17\n",
      "     -                                        0.3/9.2 MB 700.2 kB/s eta 0:00:13\n",
      "     --                                       0.5/9.2 MB 942.1 kB/s eta 0:00:10\n",
      "     --                                       0.5/9.2 MB 942.1 kB/s eta 0:00:10\n",
      "     --                                       0.5/9.2 MB 942.1 kB/s eta 0:00:10\n",
      "     --                                       0.5/9.2 MB 832.0 kB/s eta 0:00:11\n",
      "     --                                       0.6/9.2 MB 903.1 kB/s eta 0:00:10\n",
      "     ---                                      0.7/9.2 MB 934.7 kB/s eta 0:00:10\n",
      "     ---                                      0.7/9.2 MB 928.4 kB/s eta 0:00:10\n",
      "     ---                                      0.7/9.2 MB 928.4 kB/s eta 0:00:10\n",
      "     ---                                      0.7/9.2 MB 928.4 kB/s eta 0:00:10\n",
      "     ---                                      0.9/9.2 MB 932.9 kB/s eta 0:00:09\n",
      "     ----                                     0.9/9.2 MB 962.6 kB/s eta 0:00:09\n",
      "     ----                                     1.0/9.2 MB 972.8 kB/s eta 0:00:09\n",
      "     ----                                     1.0/9.2 MB 972.8 kB/s eta 0:00:09\n",
      "     ----                                     1.0/9.2 MB 972.8 kB/s eta 0:00:09\n",
      "     ----                                     1.1/9.2 MB 997.1 kB/s eta 0:00:09\n",
      "     -----                                    1.2/9.2 MB 987.4 kB/s eta 0:00:09\n",
      "     -----                                    1.2/9.2 MB 970.9 kB/s eta 0:00:09\n",
      "     -----                                    1.2/9.2 MB 970.9 kB/s eta 0:00:09\n",
      "     -----                                    1.2/9.2 MB 970.9 kB/s eta 0:00:09\n",
      "     -----                                    1.4/9.2 MB 979.8 kB/s eta 0:00:08\n",
      "     ------                                   1.4/9.2 MB 969.1 kB/s eta 0:00:09\n",
      "     ------                                   1.5/9.2 MB 972.9 kB/s eta 0:00:08\n",
      "     ------                                   1.5/9.2 MB 972.9 kB/s eta 0:00:08\n",
      "     ------                                   1.5/9.2 MB 972.9 kB/s eta 0:00:08\n",
      "     ------                                   1.6/9.2 MB 967.8 kB/s eta 0:00:08\n",
      "     -------                                  1.7/9.2 MB 992.2 kB/s eta 0:00:08\n",
      "     -------                                  1.8/9.2 MB 1.0 MB/s eta 0:00:08\n",
      "     -------                                  1.8/9.2 MB 1.0 MB/s eta 0:00:08\n",
      "     -------                                  1.8/9.2 MB 1.0 MB/s eta 0:00:08\n",
      "     -------                                  1.8/9.2 MB 964.0 kB/s eta 0:00:08\n",
      "     --------                                 2.0/9.2 MB 1.0 MB/s eta 0:00:07\n",
      "     ---------                                2.1/9.2 MB 1.1 MB/s eta 0:00:07\n",
      "     ---------                                2.1/9.2 MB 1.1 MB/s eta 0:00:07\n",
      "     ---------                                2.1/9.2 MB 1.1 MB/s eta 0:00:07\n",
      "     ---------                                2.1/9.2 MB 1.1 MB/s eta 0:00:07\n",
      "     ----------                               2.3/9.2 MB 1.1 MB/s eta 0:00:07\n",
      "     ----------                               2.4/9.2 MB 1.1 MB/s eta 0:00:07\n",
      "     ----------                               2.4/9.2 MB 1.1 MB/s eta 0:00:07\n",
      "     ----------                               2.4/9.2 MB 1.1 MB/s eta 0:00:07\n",
      "     ----------                               2.4/9.2 MB 1.1 MB/s eta 0:00:07\n",
      "     -----------                              2.6/9.2 MB 1.1 MB/s eta 0:00:07\n",
      "     -----------                              2.6/9.2 MB 1.1 MB/s eta 0:00:07\n",
      "     -----------                              2.8/9.2 MB 1.1 MB/s eta 0:00:06\n",
      "     -----------                              2.8/9.2 MB 1.1 MB/s eta 0:00:06\n",
      "     -----------                              2.8/9.2 MB 1.1 MB/s eta 0:00:06\n",
      "     ------------                             2.9/9.2 MB 1.1 MB/s eta 0:00:06\n",
      "     -------------                            3.0/9.2 MB 1.1 MB/s eta 0:00:06\n",
      "     -------------                            3.1/9.2 MB 1.2 MB/s eta 0:00:06\n",
      "     -------------                            3.1/9.2 MB 1.2 MB/s eta 0:00:06\n",
      "     -------------                            3.1/9.2 MB 1.2 MB/s eta 0:00:06\n",
      "     -------------                            3.2/9.2 MB 1.1 MB/s eta 0:00:06\n",
      "     --------------                           3.4/9.2 MB 1.2 MB/s eta 0:00:05\n",
      "     ---------------                          3.5/9.2 MB 1.2 MB/s eta 0:00:05\n",
      "     ---------------                          3.5/9.2 MB 1.2 MB/s eta 0:00:05\n",
      "     ---------------                          3.5/9.2 MB 1.2 MB/s eta 0:00:05\n",
      "     ---------------                          3.5/9.2 MB 1.2 MB/s eta 0:00:05\n",
      "     ----------------                         3.8/9.2 MB 1.2 MB/s eta 0:00:05\n",
      "     ----------------                         3.8/9.2 MB 1.2 MB/s eta 0:00:05\n",
      "     ----------------                         3.8/9.2 MB 1.2 MB/s eta 0:00:05\n",
      "     ----------------                         3.8/9.2 MB 1.2 MB/s eta 0:00:05\n",
      "     ----------------                         3.8/9.2 MB 1.2 MB/s eta 0:00:05\n",
      "     ----------------                         3.8/9.2 MB 1.2 MB/s eta 0:00:05\n",
      "     ----------------                         3.8/9.2 MB 1.1 MB/s eta 0:00:05\n",
      "     -----------------                        4.1/9.2 MB 1.2 MB/s eta 0:00:05\n",
      "     -----------------                        4.1/9.2 MB 1.2 MB/s eta 0:00:05\n",
      "     -----------------                        4.1/9.2 MB 1.2 MB/s eta 0:00:05\n",
      "     -----------------                        4.1/9.2 MB 1.1 MB/s eta 0:00:05\n",
      "     ------------------                       4.3/9.2 MB 1.2 MB/s eta 0:00:05\n",
      "     -------------------                      4.5/9.2 MB 1.2 MB/s eta 0:00:04\n",
      "     -------------------                      4.5/9.2 MB 1.2 MB/s eta 0:00:04\n",
      "     -------------------                      4.5/9.2 MB 1.2 MB/s eta 0:00:04\n",
      "     -------------------                      4.5/9.2 MB 1.2 MB/s eta 0:00:04\n",
      "     ---------------------                    4.8/9.2 MB 1.3 MB/s eta 0:00:04\n",
      "     ---------------------                    5.0/9.2 MB 1.3 MB/s eta 0:00:04\n",
      "     ---------------------                    5.0/9.2 MB 1.3 MB/s eta 0:00:04\n",
      "     ---------------------                    5.0/9.2 MB 1.3 MB/s eta 0:00:04\n",
      "     ---------------------                    5.0/9.2 MB 1.3 MB/s eta 0:00:04\n",
      "     -----------------------                  5.3/9.2 MB 1.3 MB/s eta 0:00:04\n",
      "     -----------------------                  5.4/9.2 MB 1.3 MB/s eta 0:00:03\n",
      "     -----------------------                  5.5/9.2 MB 1.3 MB/s eta 0:00:03\n",
      "     -----------------------                  5.5/9.2 MB 1.3 MB/s eta 0:00:03\n",
      "     -----------------------                  5.5/9.2 MB 1.3 MB/s eta 0:00:03\n",
      "     ------------------------                 5.7/9.2 MB 1.3 MB/s eta 0:00:03\n",
      "     -------------------------                5.9/9.2 MB 1.3 MB/s eta 0:00:03\n",
      "     -------------------------                5.9/9.2 MB 1.3 MB/s eta 0:00:03\n",
      "     -------------------------                5.9/9.2 MB 1.3 MB/s eta 0:00:03\n",
      "     -------------------------                5.9/9.2 MB 1.3 MB/s eta 0:00:03\n",
      "     --------------------------               6.1/9.2 MB 1.3 MB/s eta 0:00:03\n",
      "     ---------------------------              6.3/9.2 MB 1.4 MB/s eta 0:00:03\n",
      "     ---------------------------              6.4/9.2 MB 1.4 MB/s eta 0:00:03\n",
      "     ---------------------------              6.4/9.2 MB 1.4 MB/s eta 0:00:03\n",
      "     ---------------------------              6.4/9.2 MB 1.4 MB/s eta 0:00:03\n",
      "     ---------------------------              6.4/9.2 MB 1.3 MB/s eta 0:00:03\n",
      "     -----------------------------            6.8/9.2 MB 1.4 MB/s eta 0:00:02\n",
      "     -----------------------------            6.9/9.2 MB 1.4 MB/s eta 0:00:02\n",
      "     ------------------------------           6.9/9.2 MB 1.4 MB/s eta 0:00:02\n",
      "     ------------------------------           6.9/9.2 MB 1.4 MB/s eta 0:00:02\n",
      "     ------------------------------           6.9/9.2 MB 1.4 MB/s eta 0:00:02\n",
      "     -------------------------------          7.3/9.2 MB 1.4 MB/s eta 0:00:02\n",
      "     --------------------------------         7.5/9.2 MB 1.5 MB/s eta 0:00:02\n",
      "     --------------------------------         7.5/9.2 MB 1.5 MB/s eta 0:00:02\n",
      "     --------------------------------         7.5/9.2 MB 1.5 MB/s eta 0:00:02\n",
      "     --------------------------------         7.5/9.2 MB 1.5 MB/s eta 0:00:02\n",
      "     ---------------------------------        7.8/9.2 MB 1.5 MB/s eta 0:00:01\n",
      "     ----------------------------------       8.0/9.2 MB 1.5 MB/s eta 0:00:01\n",
      "     ----------------------------------       8.0/9.2 MB 1.5 MB/s eta 0:00:01\n",
      "     ----------------------------------       8.0/9.2 MB 1.5 MB/s eta 0:00:01\n",
      "     ----------------------------------       8.0/9.2 MB 1.5 MB/s eta 0:00:01\n",
      "     -----------------------------------      8.2/9.2 MB 1.5 MB/s eta 0:00:01\n",
      "     -------------------------------------    8.5/9.2 MB 1.5 MB/s eta 0:00:01\n",
      "     -------------------------------------    8.7/9.2 MB 1.5 MB/s eta 0:00:01\n",
      "     -------------------------------------    8.7/9.2 MB 1.5 MB/s eta 0:00:01\n",
      "     -------------------------------------    8.7/9.2 MB 1.5 MB/s eta 0:00:01\n",
      "     -------------------------------------    8.7/9.2 MB 1.5 MB/s eta 0:00:01\n",
      "     ---------------------------------------  9.1/9.2 MB 1.5 MB/s eta 0:00:01\n",
      "     ---------------------------------------  9.2/9.2 MB 1.6 MB/s eta 0:00:01\n",
      "     ---------------------------------------  9.2/9.2 MB 1.6 MB/s eta 0:00:01\n",
      "     ---------------------------------------  9.2/9.2 MB 1.6 MB/s eta 0:00:01\n",
      "     ---------------------------------------- 9.2/9.2 MB 1.5 MB/s eta 0:00:00\n",
      "Requirement already satisfied: numpy>=1.17.3 in c:\\users\\dell\\appdata\\roaming\\python\\python311\\site-packages (from scikit-learn) (1.25.1)\n",
      "Collecting scipy>=1.5.0 (from scikit-learn)\n",
      "  Downloading scipy-1.11.1-cp311-cp311-win_amd64.whl (44.0 MB)\n",
      "                                              0.0/44.0 MB ? eta -:--:--\n",
      "                                              0.4/44.0 MB 9.2 MB/s eta 0:00:05\n",
      "                                              0.6/44.0 MB 7.0 MB/s eta 0:00:07\n",
      "                                              0.6/44.0 MB 6.4 MB/s eta 0:00:07\n",
      "                                              0.6/44.0 MB 6.4 MB/s eta 0:00:07\n",
      "                                              0.6/44.0 MB 6.4 MB/s eta 0:00:07\n",
      "                                              1.0/44.0 MB 3.6 MB/s eta 0:00:12\n",
      "     -                                        1.3/44.0 MB 4.0 MB/s eta 0:00:11\n",
      "     -                                        1.4/44.0 MB 4.1 MB/s eta 0:00:11\n",
      "     -                                        1.4/44.0 MB 4.1 MB/s eta 0:00:11\n",
      "     -                                        1.4/44.0 MB 4.1 MB/s eta 0:00:11\n",
      "     -                                        1.7/44.0 MB 3.3 MB/s eta 0:00:13\n",
      "     -                                        2.0/44.0 MB 3.6 MB/s eta 0:00:12\n",
      "     --                                       2.2/44.0 MB 3.8 MB/s eta 0:00:11\n",
      "     --                                       2.2/44.0 MB 3.8 MB/s eta 0:00:11\n",
      "     --                                       2.2/44.0 MB 3.8 MB/s eta 0:00:11\n",
      "     --                                       2.4/44.0 MB 3.3 MB/s eta 0:00:13\n",
      "     --                                       2.8/44.0 MB 3.6 MB/s eta 0:00:12\n",
      "     --                                       2.8/44.0 MB 3.5 MB/s eta 0:00:12\n",
      "     --                                       2.8/44.0 MB 3.5 MB/s eta 0:00:12\n",
      "     --                                       2.8/44.0 MB 3.5 MB/s eta 0:00:12\n",
      "     --                                       2.9/44.0 MB 2.9 MB/s eta 0:00:14\n",
      "     ---                                      3.3/44.0 MB 3.2 MB/s eta 0:00:13\n",
      "     ---                                      3.6/44.0 MB 3.4 MB/s eta 0:00:12\n",
      "     ---                                      3.6/44.0 MB 3.4 MB/s eta 0:00:12\n",
      "     ---                                      3.6/44.0 MB 3.4 MB/s eta 0:00:12\n",
      "     ---                                      3.6/44.0 MB 3.4 MB/s eta 0:00:12\n",
      "     ---                                      4.0/44.0 MB 3.2 MB/s eta 0:00:13\n",
      "     ---                                      4.3/44.0 MB 3.3 MB/s eta 0:00:12\n",
      "     ----                                     4.4/44.0 MB 3.3 MB/s eta 0:00:12\n",
      "     ----                                     4.4/44.0 MB 3.3 MB/s eta 0:00:12\n",
      "     ----                                     4.4/44.0 MB 3.3 MB/s eta 0:00:12\n",
      "     ----                                     4.7/44.0 MB 3.2 MB/s eta 0:00:13\n",
      "     ----                                     5.1/44.0 MB 3.3 MB/s eta 0:00:12\n",
      "     ----                                     5.3/44.0 MB 3.4 MB/s eta 0:00:12\n",
      "     ----                                     5.3/44.0 MB 3.4 MB/s eta 0:00:12\n",
      "     ----                                     5.3/44.0 MB 3.4 MB/s eta 0:00:12\n",
      "     ----                                     5.5/44.0 MB 3.2 MB/s eta 0:00:13\n",
      "     -----                                    5.9/44.0 MB 3.4 MB/s eta 0:00:12\n",
      "     -----                                    6.3/44.0 MB 3.4 MB/s eta 0:00:11\n",
      "     -----                                    6.3/44.0 MB 3.4 MB/s eta 0:00:11\n",
      "     -----                                    6.3/44.0 MB 3.4 MB/s eta 0:00:11\n",
      "     -----                                    6.4/44.0 MB 3.3 MB/s eta 0:00:12\n",
      "     ------                                   6.8/44.0 MB 3.4 MB/s eta 0:00:11\n",
      "     ------                                   7.1/44.0 MB 3.5 MB/s eta 0:00:11\n",
      "     ------                                   7.1/44.0 MB 3.5 MB/s eta 0:00:11\n",
      "     ------                                   7.1/44.0 MB 3.5 MB/s eta 0:00:11\n",
      "     ------                                   7.1/44.0 MB 3.5 MB/s eta 0:00:11\n",
      "     ------                                   7.5/44.0 MB 3.3 MB/s eta 0:00:11\n",
      "     -------                                  7.8/44.0 MB 3.4 MB/s eta 0:00:11\n",
      "     -------                                  7.8/44.0 MB 3.4 MB/s eta 0:00:11\n",
      "     -------                                  7.8/44.0 MB 3.4 MB/s eta 0:00:11\n",
      "     -------                                  7.8/44.0 MB 3.4 MB/s eta 0:00:11\n",
      "     -------                                  8.2/44.0 MB 3.3 MB/s eta 0:00:11\n",
      "     -------                                  8.4/44.0 MB 3.3 MB/s eta 0:00:11\n",
      "     -------                                  8.5/44.0 MB 3.3 MB/s eta 0:00:11\n",
      "     -------                                  8.5/44.0 MB 3.3 MB/s eta 0:00:11\n",
      "     -------                                  8.5/44.0 MB 3.3 MB/s eta 0:00:11\n",
      "     -------                                  8.8/44.0 MB 3.2 MB/s eta 0:00:11\n",
      "     --------                                 9.2/44.0 MB 3.3 MB/s eta 0:00:11\n",
      "     --------                                 9.4/44.0 MB 3.4 MB/s eta 0:00:11\n",
      "     --------                                 9.4/44.0 MB 3.4 MB/s eta 0:00:11\n",
      "     --------                                 9.4/44.0 MB 3.4 MB/s eta 0:00:11\n",
      "     --------                                 9.5/44.0 MB 3.2 MB/s eta 0:00:11\n",
      "     --------                                 9.9/44.0 MB 3.3 MB/s eta 0:00:11\n",
      "     ---------                                10.3/44.0 MB 3.4 MB/s eta 0:00:10\n",
      "     ---------                                10.3/44.0 MB 3.4 MB/s eta 0:00:10\n",
      "     ---------                                10.3/44.0 MB 3.4 MB/s eta 0:00:10\n",
      "     ---------                                10.4/44.0 MB 3.2 MB/s eta 0:00:11\n",
      "     ---------                                10.8/44.0 MB 3.3 MB/s eta 0:00:11\n",
      "     ----------                               11.2/44.0 MB 3.4 MB/s eta 0:00:10\n",
      "     ----------                               11.3/44.0 MB 3.4 MB/s eta 0:00:10\n",
      "     ----------                               11.3/44.0 MB 3.4 MB/s eta 0:00:10\n",
      "     ----------                               11.3/44.0 MB 3.4 MB/s eta 0:00:10\n",
      "     ----------                               11.7/44.0 MB 3.4 MB/s eta 0:00:10\n",
      "     -----------                              12.1/44.0 MB 3.4 MB/s eta 0:00:10\n",
      "     -----------                              12.3/44.0 MB 3.5 MB/s eta 0:00:10\n",
      "     -----------                              12.3/44.0 MB 3.5 MB/s eta 0:00:10\n",
      "     -----------                              12.3/44.0 MB 3.5 MB/s eta 0:00:10\n",
      "     -----------                              12.6/44.0 MB 3.5 MB/s eta 0:00:10\n",
      "     -----------                              13.0/44.0 MB 3.5 MB/s eta 0:00:09\n",
      "     ------------                             13.3/44.0 MB 3.7 MB/s eta 0:00:09\n",
      "     ------------                             13.3/44.0 MB 3.7 MB/s eta 0:00:09\n",
      "     ------------                             13.3/44.0 MB 3.7 MB/s eta 0:00:09\n",
      "     ------------                             13.5/44.0 MB 3.5 MB/s eta 0:00:09\n",
      "     ------------                             13.9/44.0 MB 3.7 MB/s eta 0:00:09\n",
      "     ------------                             14.2/44.0 MB 3.7 MB/s eta 0:00:08\n",
      "     ------------                             14.2/44.0 MB 3.7 MB/s eta 0:00:08\n",
      "     ------------                             14.2/44.0 MB 3.7 MB/s eta 0:00:08\n",
      "     -------------                            14.3/44.0 MB 3.5 MB/s eta 0:00:09\n",
      "     -------------                            14.7/44.0 MB 3.7 MB/s eta 0:00:08\n",
      "     -------------                            15.1/44.0 MB 3.7 MB/s eta 0:00:08\n",
      "     -------------                            15.2/44.0 MB 3.7 MB/s eta 0:00:08\n",
      "     -------------                            15.2/44.0 MB 3.7 MB/s eta 0:00:08\n",
      "     -------------                            15.2/44.0 MB 3.7 MB/s eta 0:00:08\n",
      "     --------------                           15.6/44.0 MB 3.7 MB/s eta 0:00:08\n",
      "     --------------                           15.9/44.0 MB 3.7 MB/s eta 0:00:08\n",
      "     --------------                           16.0/44.0 MB 3.7 MB/s eta 0:00:08\n",
      "     --------------                           16.0/44.0 MB 3.7 MB/s eta 0:00:08\n",
      "     --------------                           16.0/44.0 MB 3.7 MB/s eta 0:00:08\n",
      "     --------------                           16.3/44.0 MB 3.5 MB/s eta 0:00:08\n",
      "     ---------------                          16.5/44.0 MB 3.7 MB/s eta 0:00:08\n",
      "     ---------------                          16.7/44.0 MB 3.7 MB/s eta 0:00:08\n",
      "     ---------------                          16.7/44.0 MB 3.7 MB/s eta 0:00:08\n",
      "     ---------------                          16.7/44.0 MB 3.7 MB/s eta 0:00:08\n",
      "     ---------------                          16.9/44.0 MB 3.5 MB/s eta 0:00:08\n",
      "     ---------------                          17.3/44.0 MB 3.7 MB/s eta 0:00:08\n",
      "     ---------------                          17.5/44.0 MB 3.7 MB/s eta 0:00:08\n",
      "     ---------------                          17.5/44.0 MB 3.7 MB/s eta 0:00:08\n",
      "     ---------------                          17.5/44.0 MB 3.7 MB/s eta 0:00:08\n",
      "     ---------------                          17.6/44.0 MB 3.5 MB/s eta 0:00:08\n",
      "     ----------------                         18.0/44.0 MB 3.5 MB/s eta 0:00:08\n",
      "     ----------------                         18.4/44.0 MB 3.7 MB/s eta 0:00:07\n",
      "     ----------------                         18.4/44.0 MB 3.7 MB/s eta 0:00:07\n",
      "     ----------------                         18.4/44.0 MB 3.7 MB/s eta 0:00:07\n",
      "     ----------------                         18.4/44.0 MB 3.7 MB/s eta 0:00:07\n",
      "     -----------------                        18.7/44.0 MB 3.6 MB/s eta 0:00:08\n",
      "     -----------------                        19.0/44.0 MB 3.7 MB/s eta 0:00:07\n",
      "     -----------------                        19.2/44.0 MB 3.7 MB/s eta 0:00:07\n",
      "     -----------------                        19.2/44.0 MB 3.7 MB/s eta 0:00:07\n",
      "     -----------------                        19.2/44.0 MB 3.7 MB/s eta 0:00:07\n",
      "     -----------------                        19.5/44.0 MB 3.5 MB/s eta 0:00:07\n",
      "     ------------------                       19.9/44.0 MB 3.7 MB/s eta 0:00:07\n",
      "     ------------------                       20.2/44.0 MB 3.8 MB/s eta 0:00:07\n",
      "     ------------------                       20.2/44.0 MB 3.8 MB/s eta 0:00:07\n",
      "     ------------------                       20.2/44.0 MB 3.8 MB/s eta 0:00:07\n",
      "     ------------------                       20.3/44.0 MB 3.6 MB/s eta 0:00:07\n",
      "     ------------------                       20.7/44.0 MB 3.7 MB/s eta 0:00:07\n",
      "     -------------------                      21.1/44.0 MB 3.7 MB/s eta 0:00:07\n",
      "     -------------------                      21.1/44.0 MB 3.7 MB/s eta 0:00:07\n",
      "     -------------------                      21.1/44.0 MB 3.7 MB/s eta 0:00:07\n",
      "     -------------------                      21.2/44.0 MB 3.6 MB/s eta 0:00:07\n",
      "     -------------------                      21.6/44.0 MB 3.7 MB/s eta 0:00:06\n",
      "     -------------------                      22.0/44.0 MB 3.7 MB/s eta 0:00:06\n",
      "     --------------------                     22.0/44.0 MB 3.7 MB/s eta 0:00:06\n",
      "     --------------------                     22.0/44.0 MB 3.7 MB/s eta 0:00:06\n",
      "     --------------------                     22.0/44.0 MB 3.7 MB/s eta 0:00:06\n",
      "     --------------------                     22.5/44.0 MB 3.6 MB/s eta 0:00:07\n",
      "     --------------------                     22.9/44.0 MB 3.7 MB/s eta 0:00:06\n",
      "     --------------------                     23.0/44.0 MB 3.7 MB/s eta 0:00:06\n",
      "     --------------------                     23.0/44.0 MB 3.7 MB/s eta 0:00:06\n",
      "     --------------------                     23.0/44.0 MB 3.7 MB/s eta 0:00:06\n",
      "     ---------------------                    23.4/44.0 MB 3.6 MB/s eta 0:00:06\n",
      "     ---------------------                    23.7/44.0 MB 3.7 MB/s eta 0:00:06\n",
      "     ---------------------                    24.0/44.0 MB 3.7 MB/s eta 0:00:06\n",
      "     ---------------------                    24.0/44.0 MB 3.7 MB/s eta 0:00:06\n",
      "     ---------------------                    24.0/44.0 MB 3.7 MB/s eta 0:00:06\n",
      "     ---------------------                    24.2/44.0 MB 3.6 MB/s eta 0:00:06\n",
      "     ----------------------                   24.5/44.0 MB 3.7 MB/s eta 0:00:06\n",
      "     ----------------------                   24.9/44.0 MB 3.7 MB/s eta 0:00:06\n",
      "     ----------------------                   24.9/44.0 MB 3.7 MB/s eta 0:00:06\n",
      "     ----------------------                   24.9/44.0 MB 3.7 MB/s eta 0:00:06\n",
      "     ----------------------                   25.0/44.0 MB 3.5 MB/s eta 0:00:06\n",
      "     -----------------------                  25.4/44.0 MB 3.5 MB/s eta 0:00:06\n",
      "     -----------------------                  25.8/44.0 MB 3.7 MB/s eta 0:00:05\n",
      "     -----------------------                  25.9/44.0 MB 3.7 MB/s eta 0:00:05\n",
      "     -----------------------                  25.9/44.0 MB 3.7 MB/s eta 0:00:05\n",
      "     -----------------------                  25.9/44.0 MB 3.5 MB/s eta 0:00:06\n",
      "     -----------------------                  26.3/44.0 MB 3.7 MB/s eta 0:00:05\n",
      "     ------------------------                 26.7/44.0 MB 3.7 MB/s eta 0:00:05\n",
      "     ------------------------                 26.8/44.0 MB 3.8 MB/s eta 0:00:05\n",
      "     ------------------------                 26.8/44.0 MB 3.8 MB/s eta 0:00:05\n",
      "     ------------------------                 26.8/44.0 MB 3.8 MB/s eta 0:00:05\n",
      "     ------------------------                 27.1/44.0 MB 3.8 MB/s eta 0:00:05\n",
      "     -------------------------                27.5/44.0 MB 3.8 MB/s eta 0:00:05\n",
      "     -------------------------                27.7/44.0 MB 4.0 MB/s eta 0:00:05\n",
      "     -------------------------                27.7/44.0 MB 4.0 MB/s eta 0:00:05\n",
      "     -------------------------                27.7/44.0 MB 4.0 MB/s eta 0:00:05\n",
      "     -------------------------                28.0/44.0 MB 3.8 MB/s eta 0:00:05\n",
      "     -------------------------                28.4/44.0 MB 3.8 MB/s eta 0:00:05\n",
      "     --------------------------               28.6/44.0 MB 3.8 MB/s eta 0:00:05\n",
      "     --------------------------               28.6/44.0 MB 3.8 MB/s eta 0:00:05\n",
      "     --------------------------               28.6/44.0 MB 3.8 MB/s eta 0:00:05\n",
      "     --------------------------               28.8/44.0 MB 3.8 MB/s eta 0:00:04\n",
      "     --------------------------               29.1/44.0 MB 3.8 MB/s eta 0:00:04\n",
      "     --------------------------               29.5/44.0 MB 4.0 MB/s eta 0:00:04\n",
      "     --------------------------               29.5/44.0 MB 4.0 MB/s eta 0:00:04\n",
      "     --------------------------               29.5/44.0 MB 4.0 MB/s eta 0:00:04\n",
      "     --------------------------               29.5/44.0 MB 3.8 MB/s eta 0:00:04\n",
      "     ---------------------------              29.9/44.0 MB 3.8 MB/s eta 0:00:04\n",
      "     ---------------------------              30.4/44.0 MB 3.8 MB/s eta 0:00:04\n",
      "     ---------------------------              30.4/44.0 MB 4.0 MB/s eta 0:00:04\n",
      "     ---------------------------              30.4/44.0 MB 4.0 MB/s eta 0:00:04\n",
      "     ---------------------------              30.4/44.0 MB 4.0 MB/s eta 0:00:04\n",
      "     ----------------------------             30.8/44.0 MB 3.8 MB/s eta 0:00:04\n",
      "     ----------------------------             31.2/44.0 MB 3.8 MB/s eta 0:00:04\n",
      "     ----------------------------             31.4/44.0 MB 4.0 MB/s eta 0:00:04\n",
      "     ----------------------------             31.4/44.0 MB 4.0 MB/s eta 0:00:04\n",
      "     ----------------------------             31.4/44.0 MB 4.0 MB/s eta 0:00:04\n",
      "     ----------------------------             31.7/44.0 MB 3.8 MB/s eta 0:00:04\n",
      "     -----------------------------            32.1/44.0 MB 3.8 MB/s eta 0:00:04\n",
      "     -----------------------------            32.3/44.0 MB 3.8 MB/s eta 0:00:04\n",
      "     -----------------------------            32.4/44.0 MB 3.9 MB/s eta 0:00:03\n",
      "     -----------------------------            32.4/44.0 MB 3.9 MB/s eta 0:00:03\n",
      "     -----------------------------            32.6/44.0 MB 3.8 MB/s eta 0:00:03\n",
      "     ------------------------------           33.0/44.0 MB 3.8 MB/s eta 0:00:03\n",
      "     ------------------------------           33.3/44.0 MB 4.0 MB/s eta 0:00:03\n",
      "     ------------------------------           33.3/44.0 MB 4.0 MB/s eta 0:00:03\n",
      "     ------------------------------           33.3/44.0 MB 4.0 MB/s eta 0:00:03\n",
      "     ------------------------------           33.4/44.0 MB 3.8 MB/s eta 0:00:03\n",
      "     ------------------------------           33.7/44.0 MB 3.8 MB/s eta 0:00:03\n",
      "     -------------------------------          34.2/44.0 MB 3.8 MB/s eta 0:00:03\n",
      "     -------------------------------          34.2/44.0 MB 4.0 MB/s eta 0:00:03\n",
      "     -------------------------------          34.2/44.0 MB 4.0 MB/s eta 0:00:03\n",
      "     -------------------------------          34.2/44.0 MB 4.0 MB/s eta 0:00:03\n",
      "     -------------------------------          34.6/44.0 MB 3.8 MB/s eta 0:00:03\n",
      "     -------------------------------          35.0/44.0 MB 3.8 MB/s eta 0:00:03\n",
      "     --------------------------------         35.2/44.0 MB 4.0 MB/s eta 0:00:03\n",
      "     --------------------------------         35.2/44.0 MB 4.0 MB/s eta 0:00:03\n",
      "     --------------------------------         35.2/44.0 MB 4.0 MB/s eta 0:00:03\n",
      "     --------------------------------         35.5/44.0 MB 3.8 MB/s eta 0:00:03\n",
      "     --------------------------------         35.9/44.0 MB 3.8 MB/s eta 0:00:03\n",
      "     --------------------------------         36.2/44.0 MB 4.0 MB/s eta 0:00:02\n",
      "     --------------------------------         36.2/44.0 MB 4.0 MB/s eta 0:00:02\n",
      "     --------------------------------         36.2/44.0 MB 4.0 MB/s eta 0:00:02\n",
      "     ---------------------------------        36.4/44.0 MB 3.8 MB/s eta 0:00:02\n",
      "     ---------------------------------        36.8/44.0 MB 3.8 MB/s eta 0:00:02\n",
      "     ---------------------------------        37.2/44.0 MB 4.0 MB/s eta 0:00:02\n",
      "     ---------------------------------        37.2/44.0 MB 4.0 MB/s eta 0:00:02\n",
      "     ---------------------------------        37.2/44.0 MB 4.0 MB/s eta 0:00:02\n",
      "     ---------------------------------        37.3/44.0 MB 3.9 MB/s eta 0:00:02\n",
      "     ----------------------------------       37.7/44.0 MB 3.9 MB/s eta 0:00:02\n",
      "     ----------------------------------       38.1/44.0 MB 4.0 MB/s eta 0:00:02\n",
      "     ----------------------------------       38.1/44.0 MB 4.0 MB/s eta 0:00:02\n",
      "     ----------------------------------       38.1/44.0 MB 4.0 MB/s eta 0:00:02\n",
      "     ----------------------------------       38.1/44.0 MB 3.9 MB/s eta 0:00:02\n",
      "     -----------------------------------      38.6/44.0 MB 3.9 MB/s eta 0:00:02\n",
      "     -----------------------------------      39.0/44.0 MB 4.1 MB/s eta 0:00:02\n",
      "     -----------------------------------      39.0/44.0 MB 4.0 MB/s eta 0:00:02\n",
      "     -----------------------------------      39.0/44.0 MB 4.0 MB/s eta 0:00:02\n",
      "     -----------------------------------      39.0/44.0 MB 4.0 MB/s eta 0:00:02\n",
      "     -----------------------------------      39.4/44.0 MB 3.9 MB/s eta 0:00:02\n",
      "     ------------------------------------     39.8/44.0 MB 4.1 MB/s eta 0:00:02\n",
      "     ------------------------------------     40.0/44.0 MB 4.1 MB/s eta 0:00:01\n",
      "     ------------------------------------     40.0/44.0 MB 4.1 MB/s eta 0:00:01\n",
      "     ------------------------------------     40.0/44.0 MB 4.1 MB/s eta 0:00:01\n",
      "     ------------------------------------     40.3/44.0 MB 3.9 MB/s eta 0:00:01\n",
      "     ------------------------------------     40.6/44.0 MB 3.9 MB/s eta 0:00:01\n",
      "     -------------------------------------    40.7/44.0 MB 4.0 MB/s eta 0:00:01\n",
      "     -------------------------------------    40.7/44.0 MB 4.0 MB/s eta 0:00:01\n",
      "     -------------------------------------    40.7/44.0 MB 4.0 MB/s eta 0:00:01\n",
      "     -------------------------------------    40.8/44.0 MB 3.8 MB/s eta 0:00:01\n",
      "     -------------------------------------    41.2/44.0 MB 3.8 MB/s eta 0:00:01\n",
      "     -------------------------------------    41.2/44.0 MB 3.7 MB/s eta 0:00:01\n",
      "     -------------------------------------    41.2/44.0 MB 3.7 MB/s eta 0:00:01\n",
      "     -------------------------------------    41.2/44.0 MB 3.7 MB/s eta 0:00:01\n",
      "     -------------------------------------    41.3/44.0 MB 3.6 MB/s eta 0:00:01\n",
      "     --------------------------------------   41.8/44.0 MB 3.8 MB/s eta 0:00:01\n",
      "     --------------------------------------   42.2/44.0 MB 3.7 MB/s eta 0:00:01\n",
      "     --------------------------------------   42.2/44.0 MB 3.7 MB/s eta 0:00:01\n",
      "     --------------------------------------   42.2/44.0 MB 3.7 MB/s eta 0:00:01\n",
      "     --------------------------------------   42.2/44.0 MB 3.6 MB/s eta 0:00:01\n",
      "     --------------------------------------   42.6/44.0 MB 3.6 MB/s eta 0:00:01\n",
      "     ---------------------------------------  42.9/44.0 MB 3.7 MB/s eta 0:00:01\n",
      "     ---------------------------------------  42.9/44.0 MB 3.7 MB/s eta 0:00:01\n",
      "     ---------------------------------------  42.9/44.0 MB 3.7 MB/s eta 0:00:01\n",
      "     ---------------------------------------  42.9/44.0 MB 3.7 MB/s eta 0:00:01\n",
      "     ---------------------------------------  43.2/44.0 MB 3.5 MB/s eta 0:00:01\n",
      "     ---------------------------------------  43.6/44.0 MB 3.7 MB/s eta 0:00:01\n",
      "     ---------------------------------------  43.8/44.0 MB 3.7 MB/s eta 0:00:01\n",
      "     ---------------------------------------  43.8/44.0 MB 3.7 MB/s eta 0:00:01\n",
      "     ---------------------------------------  43.8/44.0 MB 3.7 MB/s eta 0:00:01\n",
      "     ---------------------------------------  44.0/44.0 MB 3.5 MB/s eta 0:00:01\n",
      "     ---------------------------------------  44.0/44.0 MB 3.5 MB/s eta 0:00:01\n",
      "     ---------------------------------------  44.0/44.0 MB 3.5 MB/s eta 0:00:01\n",
      "     ---------------------------------------  44.0/44.0 MB 3.5 MB/s eta 0:00:01\n",
      "     ---------------------------------------  44.0/44.0 MB 3.5 MB/s eta 0:00:01\n",
      "     ---------------------------------------  44.0/44.0 MB 3.5 MB/s eta 0:00:01\n",
      "     ---------------------------------------  44.0/44.0 MB 3.5 MB/s eta 0:00:01\n",
      "     ---------------------------------------  44.0/44.0 MB 3.5 MB/s eta 0:00:01\n",
      "     ---------------------------------------  44.0/44.0 MB 3.5 MB/s eta 0:00:01\n",
      "     ---------------------------------------  44.0/44.0 MB 3.5 MB/s eta 0:00:01\n",
      "     ---------------------------------------  44.0/44.0 MB 3.5 MB/s eta 0:00:01\n",
      "     ---------------------------------------  44.0/44.0 MB 3.5 MB/s eta 0:00:01\n",
      "     ---------------------------------------  44.0/44.0 MB 3.5 MB/s eta 0:00:01\n",
      "     ---------------------------------------  44.0/44.0 MB 3.5 MB/s eta 0:00:01\n",
      "     ---------------------------------------  44.0/44.0 MB 3.5 MB/s eta 0:00:01\n",
      "     ---------------------------------------  44.0/44.0 MB 3.5 MB/s eta 0:00:01\n",
      "     ---------------------------------------  44.0/44.0 MB 3.5 MB/s eta 0:00:01\n",
      "     ---------------------------------------  44.0/44.0 MB 3.5 MB/s eta 0:00:01\n",
      "     ---------------------------------------  44.0/44.0 MB 3.5 MB/s eta 0:00:01\n",
      "     ---------------------------------------  44.0/44.0 MB 3.5 MB/s eta 0:00:01\n",
      "     ---------------------------------------  44.0/44.0 MB 3.5 MB/s eta 0:00:01\n",
      "     ---------------------------------------  44.0/44.0 MB 3.5 MB/s eta 0:00:01\n",
      "     ---------------------------------------  44.0/44.0 MB 3.5 MB/s eta 0:00:01\n",
      "     ---------------------------------------  44.0/44.0 MB 3.5 MB/s eta 0:00:01\n",
      "     ---------------------------------------  44.0/44.0 MB 3.5 MB/s eta 0:00:01\n",
      "     ---------------------------------------  44.0/44.0 MB 3.5 MB/s eta 0:00:01\n",
      "     ---------------------------------------  44.0/44.0 MB 3.5 MB/s eta 0:00:01\n",
      "     ---------------------------------------  44.0/44.0 MB 3.5 MB/s eta 0:00:01\n",
      "     ---------------------------------------  44.0/44.0 MB 3.5 MB/s eta 0:00:01\n",
      "     ---------------------------------------  44.0/44.0 MB 3.5 MB/s eta 0:00:01\n",
      "     ---------------------------------------  44.0/44.0 MB 3.5 MB/s eta 0:00:01\n",
      "     ---------------------------------------  44.0/44.0 MB 3.5 MB/s eta 0:00:01\n",
      "     ---------------------------------------  44.0/44.0 MB 3.5 MB/s eta 0:00:01\n",
      "     ---------------------------------------  44.0/44.0 MB 3.5 MB/s eta 0:00:01\n",
      "     ---------------------------------------  44.0/44.0 MB 3.5 MB/s eta 0:00:01\n",
      "     ---------------------------------------  44.0/44.0 MB 3.5 MB/s eta 0:00:01\n",
      "     ---------------------------------------  44.0/44.0 MB 3.5 MB/s eta 0:00:01\n",
      "     ---------------------------------------  44.0/44.0 MB 3.5 MB/s eta 0:00:01\n",
      "     ---------------------------------------  44.0/44.0 MB 3.5 MB/s eta 0:00:01\n",
      "     ---------------------------------------  44.0/44.0 MB 3.5 MB/s eta 0:00:01\n",
      "     ---------------------------------------  44.0/44.0 MB 3.5 MB/s eta 0:00:01\n",
      "     ---------------------------------------  44.0/44.0 MB 3.5 MB/s eta 0:00:01\n",
      "     ---------------------------------------  44.0/44.0 MB 3.5 MB/s eta 0:00:01\n",
      "     ---------------------------------------  44.0/44.0 MB 3.5 MB/s eta 0:00:01\n",
      "     ---------------------------------------  44.0/44.0 MB 3.5 MB/s eta 0:00:01\n",
      "     ---------------------------------------- 44.0/44.0 MB 2.0 MB/s eta 0:00:00\n",
      "Collecting joblib>=1.1.1 (from scikit-learn)\n",
      "  Downloading joblib-1.3.1-py3-none-any.whl (301 kB)\n",
      "                                              0.0/302.0 kB ? eta -:--:--\n",
      "     -------------------------------------- 302.0/302.0 kB 9.4 MB/s eta 0:00:00\n",
      "Collecting threadpoolctl>=2.0.0 (from scikit-learn)\n",
      "  Downloading threadpoolctl-3.2.0-py3-none-any.whl (15 kB)\n",
      "Installing collected packages: threadpoolctl, scipy, joblib, scikit-learn\n",
      "Successfully installed joblib-1.3.1 scikit-learn-1.3.0 scipy-1.11.1 threadpoolctl-3.2.0\n"
     ]
    }
   ],
   "source": [
    "!pip install scikit-learn"
   ]
  },
  {
   "cell_type": "code",
   "execution_count": 80,
   "id": "990c0494",
   "metadata": {},
   "outputs": [],
   "source": [
    "from sklearn.model_selection import train_test_split"
   ]
  },
  {
   "cell_type": "code",
   "execution_count": 81,
   "id": "a063a91f",
   "metadata": {},
   "outputs": [],
   "source": [
    "xtrain , xtest, ytrain, ytest = train_test_split(x_label, y_label, train_size=0.7, random_state=43)"
   ]
  },
  {
   "cell_type": "code",
   "execution_count": 82,
   "id": "d7092e61",
   "metadata": {},
   "outputs": [
    {
     "data": {
      "image/png": "[encoded data removed]",
      "text/plain": [
       "<Figure size 1000x1000 with 25 Axes>"
      ]
     },
     "metadata": {},
     "output_type": "display_data"
    }
   ],
   "source": [
    "# visualizing the grid of 5*5 \n",
    "\n",
    "plt.figure(figsize=(10,10))\n",
    "for i in range(25):\n",
    "    plt.subplot(5,5,i+1)\n",
    "    plt.imshow(xtrain[i].reshape(28,28), cmap='gray')\n",
    "    plt.title(ytrain[i])\n",
    "    plt.axis('off')"
   ]
  },
  {
   "cell_type": "code",
   "execution_count": 92,
   "id": "1d92dce0",
   "metadata": {},
   "outputs": [
    {
     "data": {
      "text/plain": [
       "array([ True,  True, False,  True, False,  True, False])"
      ]
     },
     "execution_count": 92,
     "metadata": {},
     "output_type": "execute_result"
    }
   ],
   "source": [
    "dataset = np.array(['paul', 'jacob', 'vince', 'paul', 'miky', 'jacob', 'warren'])\n",
    "new_var = (dataset == 'paul') | (dataset == 'jacob')\n",
    "new_var"
   ]
  },
  {
   "cell_type": "code",
   "execution_count": 93,
   "id": "f17161b6",
   "metadata": {},
   "outputs": [
    {
     "name": "stdout",
     "output_type": "stream",
     "text": [
      "2\n",
      "(2, 4)\n",
      "int32\n"
     ]
    }
   ],
   "source": [
    "series = [[23,45,12,679], [14,48,69,38]]\n",
    "\n",
    "new_series = np.array(series)\n",
    "\n",
    "print (new_series.ndim)\n",
    "\n",
    "print (new_series.shape)\n",
    "\n",
    "print (new_series.dtype)"
   ]
  },
  {
   "cell_type": "code",
   "execution_count": 94,
   "id": "e5a75448",
   "metadata": {},
   "outputs": [],
   "source": [
    "di = {'one' : np.random.rand(10),\n",
    "     'two' : np.random.rand(10)}\n",
    "df = pd.DataFrame(di)"
   ]
  },
  {
   "cell_type": "code",
   "execution_count": 96,
   "id": "c99771dd",
   "metadata": {},
   "outputs": [
    {
     "data": {
      "text/plain": [
       "<Axes: >"
      ]
     },
     "execution_count": 96,
     "metadata": {},
     "output_type": "execute_result"
    },
    {
     "data": {
      "image/png": "[encoded data removed]",
      "text/plain": [
       "<Figure size 640x480 with 1 Axes>"
      ]
     },
     "metadata": {},
     "output_type": "display_data"
    }
   ],
   "source": [
    "df.plot(style=['o','rx'])"
   ]
  },
  {
   "cell_type": "code",
   "execution_count": 98,
   "id": "ade9df0a",
   "metadata": {},
   "outputs": [
    {
     "data": {
      "text/plain": [
       "<Axes: xlabel='one'>"
      ]
     },
     "execution_count": 98,
     "metadata": {},
     "output_type": "execute_result"
    },
    {
     "data": {
      "image/png": "[encoded data removed]",
      "text/plain": [
       "<Figure size 640x480 with 1 Axes>"
      ]
     },
     "metadata": {},
     "output_type": "display_data"
    }
   ],
   "source": [
    "df.plot(x='one', y='two', style='o')"
   ]
  },
  {
   "cell_type": "code",
   "execution_count": 99,
   "id": "c0086b49",
   "metadata": {},
   "outputs": [],
   "source": [
    "ser1 = pd.Series(list('abcedfghijklmnopqrstuvwxyz'))\n",
    "\n",
    "ser2 = pd.Series(np.arange(26))"
   ]
  },
  {
   "cell_type": "code",
   "execution_count": 100,
   "id": "2094e81d",
   "metadata": {},
   "outputs": [
    {
     "data": {
      "text/html": [
       "<div>\n",
       "<style scoped>\n",
       "    .dataframe tbody tr th:only-of-type {\n",
       "        vertical-align: middle;\n",
       "    }\n",
       "\n",
       "    .dataframe tbody tr th {\n",
       "        vertical-align: top;\n",
       "    }\n",
       "\n",
       "    .dataframe thead th {\n",
       "        text-align: right;\n",
       "    }\n",
       "</style>\n",
       "<table border=\"1\" class=\"dataframe\">\n",
       "  <thead>\n",
       "    <tr style=\"text-align: right;\">\n",
       "      <th></th>\n",
       "      <th>0</th>\n",
       "      <th>1</th>\n",
       "    </tr>\n",
       "  </thead>\n",
       "  <tbody>\n",
       "    <tr>\n",
       "      <th>0</th>\n",
       "      <td>a</td>\n",
       "      <td>0</td>\n",
       "    </tr>\n",
       "    <tr>\n",
       "      <th>1</th>\n",
       "      <td>b</td>\n",
       "      <td>1</td>\n",
       "    </tr>\n",
       "    <tr>\n",
       "      <th>2</th>\n",
       "      <td>c</td>\n",
       "      <td>2</td>\n",
       "    </tr>\n",
       "    <tr>\n",
       "      <th>3</th>\n",
       "      <td>e</td>\n",
       "      <td>3</td>\n",
       "    </tr>\n",
       "    <tr>\n",
       "      <th>4</th>\n",
       "      <td>d</td>\n",
       "      <td>4</td>\n",
       "    </tr>\n",
       "    <tr>\n",
       "      <th>5</th>\n",
       "      <td>f</td>\n",
       "      <td>5</td>\n",
       "    </tr>\n",
       "    <tr>\n",
       "      <th>6</th>\n",
       "      <td>g</td>\n",
       "      <td>6</td>\n",
       "    </tr>\n",
       "    <tr>\n",
       "      <th>7</th>\n",
       "      <td>h</td>\n",
       "      <td>7</td>\n",
       "    </tr>\n",
       "    <tr>\n",
       "      <th>8</th>\n",
       "      <td>i</td>\n",
       "      <td>8</td>\n",
       "    </tr>\n",
       "    <tr>\n",
       "      <th>9</th>\n",
       "      <td>j</td>\n",
       "      <td>9</td>\n",
       "    </tr>\n",
       "    <tr>\n",
       "      <th>10</th>\n",
       "      <td>k</td>\n",
       "      <td>10</td>\n",
       "    </tr>\n",
       "    <tr>\n",
       "      <th>11</th>\n",
       "      <td>l</td>\n",
       "      <td>11</td>\n",
       "    </tr>\n",
       "    <tr>\n",
       "      <th>12</th>\n",
       "      <td>m</td>\n",
       "      <td>12</td>\n",
       "    </tr>\n",
       "    <tr>\n",
       "      <th>13</th>\n",
       "      <td>n</td>\n",
       "      <td>13</td>\n",
       "    </tr>\n",
       "    <tr>\n",
       "      <th>14</th>\n",
       "      <td>o</td>\n",
       "      <td>14</td>\n",
       "    </tr>\n",
       "    <tr>\n",
       "      <th>15</th>\n",
       "      <td>p</td>\n",
       "      <td>15</td>\n",
       "    </tr>\n",
       "    <tr>\n",
       "      <th>16</th>\n",
       "      <td>q</td>\n",
       "      <td>16</td>\n",
       "    </tr>\n",
       "    <tr>\n",
       "      <th>17</th>\n",
       "      <td>r</td>\n",
       "      <td>17</td>\n",
       "    </tr>\n",
       "    <tr>\n",
       "      <th>18</th>\n",
       "      <td>s</td>\n",
       "      <td>18</td>\n",
       "    </tr>\n",
       "    <tr>\n",
       "      <th>19</th>\n",
       "      <td>t</td>\n",
       "      <td>19</td>\n",
       "    </tr>\n",
       "    <tr>\n",
       "      <th>20</th>\n",
       "      <td>u</td>\n",
       "      <td>20</td>\n",
       "    </tr>\n",
       "    <tr>\n",
       "      <th>21</th>\n",
       "      <td>v</td>\n",
       "      <td>21</td>\n",
       "    </tr>\n",
       "    <tr>\n",
       "      <th>22</th>\n",
       "      <td>w</td>\n",
       "      <td>22</td>\n",
       "    </tr>\n",
       "    <tr>\n",
       "      <th>23</th>\n",
       "      <td>x</td>\n",
       "      <td>23</td>\n",
       "    </tr>\n",
       "    <tr>\n",
       "      <th>24</th>\n",
       "      <td>y</td>\n",
       "      <td>24</td>\n",
       "    </tr>\n",
       "    <tr>\n",
       "      <th>25</th>\n",
       "      <td>z</td>\n",
       "      <td>25</td>\n",
       "    </tr>\n",
       "  </tbody>\n",
       "</table>\n",
       "</div>"
      ],
      "text/plain": [
       "    0   1\n",
       "0   a   0\n",
       "1   b   1\n",
       "2   c   2\n",
       "3   e   3\n",
       "4   d   4\n",
       "5   f   5\n",
       "6   g   6\n",
       "7   h   7\n",
       "8   i   8\n",
       "9   j   9\n",
       "10  k  10\n",
       "11  l  11\n",
       "12  m  12\n",
       "13  n  13\n",
       "14  o  14\n",
       "15  p  15\n",
       "16  q  16\n",
       "17  r  17\n",
       "18  s  18\n",
       "19  t  19\n",
       "20  u  20\n",
       "21  v  21\n",
       "22  w  22\n",
       "23  x  23\n",
       "24  y  24\n",
       "25  z  25"
      ]
     },
     "execution_count": 100,
     "metadata": {},
     "output_type": "execute_result"
    }
   ],
   "source": [
    "df = pd.concat([ser1, ser2], axis=1)\n",
    "df"
   ]
  },
  {
   "cell_type": "code",
   "execution_count": null,
   "id": "7a7390fc",
   "metadata": {},
   "outputs": [],
   "source": []
  }
 ],
 "metadata": {
  "kernelspec": {
   "display_name": "Python 3 (ipykernel)",
   "language": "python",
   "name": "python3"
  },
  "language_info": {
   "codemirror_mode": {
    "name": "ipython",
    "version": 3
   },
   "file_extension": ".py",
   "mimetype": "text/x-python",
   "name": "python",
   "nbconvert_exporter": "python",
   "pygments_lexer": "ipython3",
   "version": "3.11.4"
  }
 },
 "nbformat": 4,
 "nbformat_minor": 5
}
