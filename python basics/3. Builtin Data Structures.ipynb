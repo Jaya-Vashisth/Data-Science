{
 "cells": [
  {
   "cell_type": "markdown",
   "id": "23234ca9",
   "metadata": {},
   "source": [
    "# Data Structures\n",
    "- Int\n",
    "- Float\n",
    "- Bool\n",
    "- Strings\n",
    "- Complex\n",
    "### Derived\n",
    "- List\n",
    "- Tuple\n",
    "- Dictionary\n",
    "- Set"
   ]
  },
  {
   "cell_type": "markdown",
   "id": "52d543c9",
   "metadata": {},
   "source": [
    "### 1. String and string operation (format, strip, replace ,....)"
   ]
  },
  {
   "cell_type": "code",
   "execution_count": 1,
   "id": "3aeeaf25",
   "metadata": {},
   "outputs": [],
   "source": [
    "name = 'Otis'\n",
    "age = 16\n",
    "year = 3\n"
   ]
  },
  {
   "cell_type": "code",
   "execution_count": 6,
   "id": "4c2b38f1",
   "metadata": {},
   "outputs": [
    {
     "name": "stdout",
     "output_type": "stream",
     "text": [
      "My name is Otis. I am 16 years old. I am in 3 year.\n"
     ]
    }
   ],
   "source": [
    "print(\"My name is \" + name + \". I am \" + str(age) +\" years old. I am in \"+ str(year) + \" year.\")"
   ]
  },
  {
   "cell_type": "code",
   "execution_count": 11,
   "id": "5eaac6af",
   "metadata": {},
   "outputs": [
    {
     "name": "stdout",
     "output_type": "stream",
     "text": [
      "My name is Otis. I am 16 years old. I am in 3 year.\n"
     ]
    }
   ],
   "source": [
    "# another way\n",
    "print(\"My name is %s. I am %d years old. I am in %d year.\"%(name , age, year))"
   ]
  },
  {
   "cell_type": "code",
   "execution_count": 12,
   "id": "43b7cae8",
   "metadata": {},
   "outputs": [
    {
     "name": "stdout",
     "output_type": "stream",
     "text": [
      "My name is Otis. I am 16 years old. I am in 3 year.\n"
     ]
    }
   ],
   "source": [
    "#place holder method\n",
    "print(\"My name is {}. I am {} years old. I am in {} year.\".format(name, age, year))"
   ]
  },
  {
   "cell_type": "code",
   "execution_count": 13,
   "id": "e3b44a2b",
   "metadata": {},
   "outputs": [
    {
     "name": "stdout",
     "output_type": "stream",
     "text": [
      "My name is Otis. I am 16 old. I am in 3 year.\n"
     ]
    }
   ],
   "source": [
    "#f-strings \n",
    "print(f\"My name is {name}. I am {age} old. I am in {year} year.\")"
   ]
  },
  {
   "cell_type": "markdown",
   "id": "cdda08b1",
   "metadata": {},
   "source": [
    "#### Strip\n",
    "- remove the space "
   ]
  },
  {
   "cell_type": "code",
   "execution_count": 14,
   "id": "01b9ea0a",
   "metadata": {},
   "outputs": [],
   "source": [
    "st = \"     Good Morning.   \""
   ]
  },
  {
   "cell_type": "code",
   "execution_count": 15,
   "id": "ce01844d",
   "metadata": {},
   "outputs": [
    {
     "data": {
      "text/plain": [
       "'Good Morning.'"
      ]
     },
     "execution_count": 15,
     "metadata": {},
     "output_type": "execute_result"
    }
   ],
   "source": [
    "st.strip()"
   ]
  },
  {
   "cell_type": "code",
   "execution_count": 17,
   "id": "cdc8c615",
   "metadata": {},
   "outputs": [
    {
     "name": "stdout",
     "output_type": "stream",
     "text": [
      "Enter yes or no    yes\n"
     ]
    }
   ],
   "source": [
    "response = input(\"Enter yes or no\")"
   ]
  },
  {
   "cell_type": "code",
   "execution_count": 18,
   "id": "2ed09f1c",
   "metadata": {},
   "outputs": [
    {
     "data": {
      "text/plain": [
       "'    yes'"
      ]
     },
     "execution_count": 18,
     "metadata": {},
     "output_type": "execute_result"
    }
   ],
   "source": [
    "response"
   ]
  },
  {
   "cell_type": "code",
   "execution_count": 19,
   "id": "0d3c5800",
   "metadata": {},
   "outputs": [
    {
     "data": {
      "text/plain": [
       "'yes'"
      ]
     },
     "execution_count": 19,
     "metadata": {},
     "output_type": "execute_result"
    }
   ],
   "source": [
    "response.strip()"
   ]
  },
  {
   "cell_type": "markdown",
   "id": "e7174065",
   "metadata": {},
   "source": [
    "#### Split"
   ]
  },
  {
   "cell_type": "code",
   "execution_count": 20,
   "id": "927e4509",
   "metadata": {},
   "outputs": [],
   "source": [
    "st = \"My name is Otis\""
   ]
  },
  {
   "cell_type": "code",
   "execution_count": 21,
   "id": "8e89e86b",
   "metadata": {},
   "outputs": [
    {
     "data": {
      "text/plain": [
       "'My name is Otis'"
      ]
     },
     "execution_count": 21,
     "metadata": {},
     "output_type": "execute_result"
    }
   ],
   "source": [
    "st"
   ]
  },
  {
   "cell_type": "code",
   "execution_count": 22,
   "id": "0fe29f48",
   "metadata": {},
   "outputs": [
    {
     "data": {
      "text/plain": [
       "['My', 'name', 'is', 'Otis']"
      ]
     },
     "execution_count": 22,
     "metadata": {},
     "output_type": "execute_result"
    }
   ],
   "source": [
    "st.split(\" \")"
   ]
  },
  {
   "cell_type": "markdown",
   "id": "da7d498d",
   "metadata": {},
   "source": [
    "#### replace"
   ]
  },
  {
   "cell_type": "code",
   "execution_count": 23,
   "id": "0ac4b9f4",
   "metadata": {},
   "outputs": [
    {
     "data": {
      "text/plain": [
       "'My name is Maieve'"
      ]
     },
     "execution_count": 23,
     "metadata": {},
     "output_type": "execute_result"
    }
   ],
   "source": [
    "st.replace(\"Otis\", 'Maieve')"
   ]
  },
  {
   "cell_type": "markdown",
   "id": "82fe61e6",
   "metadata": {},
   "source": [
    "#### count"
   ]
  },
  {
   "cell_type": "code",
   "execution_count": 24,
   "id": "013d5897",
   "metadata": {},
   "outputs": [
    {
     "data": {
      "text/plain": [
       "1"
      ]
     },
     "execution_count": 24,
     "metadata": {},
     "output_type": "execute_result"
    }
   ],
   "source": [
    "st.count('a')"
   ]
  },
  {
   "cell_type": "markdown",
   "id": "ac2f1bbc",
   "metadata": {},
   "source": [
    "## 2. Lists\n",
    "\n",
    "- ordered\n",
    "- Mutable \n",
    "- accessed using index\n",
    "- Heterogenous"
   ]
  },
  {
   "cell_type": "code",
   "execution_count": 25,
   "id": "a4d3200c",
   "metadata": {},
   "outputs": [],
   "source": [
    "a = [1,2,3,4]"
   ]
  },
  {
   "cell_type": "code",
   "execution_count": 26,
   "id": "165bb772",
   "metadata": {},
   "outputs": [
    {
     "data": {
      "text/plain": [
       "[1, 2, 3, 4]"
      ]
     },
     "execution_count": 26,
     "metadata": {},
     "output_type": "execute_result"
    }
   ],
   "source": [
    "a"
   ]
  },
  {
   "cell_type": "code",
   "execution_count": 28,
   "id": "8a4f3a88",
   "metadata": {},
   "outputs": [
    {
     "data": {
      "text/plain": [
       "1"
      ]
     },
     "execution_count": 28,
     "metadata": {},
     "output_type": "execute_result"
    }
   ],
   "source": [
    "a[0]"
   ]
  },
  {
   "cell_type": "code",
   "execution_count": 29,
   "id": "00fc8246",
   "metadata": {},
   "outputs": [],
   "source": [
    "a= [\"Otis\" , 1, 1.6, print]  #hetrogenous"
   ]
  },
  {
   "cell_type": "code",
   "execution_count": 30,
   "id": "7c113433",
   "metadata": {},
   "outputs": [
    {
     "data": {
      "text/plain": [
       "1.6"
      ]
     },
     "execution_count": 30,
     "metadata": {},
     "output_type": "execute_result"
    }
   ],
   "source": [
    "a[2]"
   ]
  },
  {
   "cell_type": "code",
   "execution_count": 33,
   "id": "be59622c",
   "metadata": {},
   "outputs": [
    {
     "name": "stdout",
     "output_type": "stream",
     "text": [
      "hello world\n"
     ]
    }
   ],
   "source": [
    "a[3](\"hello world\")"
   ]
  },
  {
   "cell_type": "markdown",
   "id": "04c56778",
   "metadata": {},
   "source": [
    "### Basic operation"
   ]
  },
  {
   "cell_type": "code",
   "execution_count": 35,
   "id": "2bb02d39",
   "metadata": {},
   "outputs": [],
   "source": [
    "a = [1, 3, 4, 5]"
   ]
  },
  {
   "cell_type": "code",
   "execution_count": 36,
   "id": "97bfac8f",
   "metadata": {},
   "outputs": [
    {
     "data": {
      "text/plain": [
       "4"
      ]
     },
     "execution_count": 36,
     "metadata": {},
     "output_type": "execute_result"
    }
   ],
   "source": [
    "len(a)"
   ]
  },
  {
   "cell_type": "code",
   "execution_count": 38,
   "id": "45ad3b48",
   "metadata": {},
   "outputs": [
    {
     "data": {
      "text/plain": [
       "[1, 3, 4, 5, 1, 3, 4, 5]"
      ]
     },
     "execution_count": 38,
     "metadata": {},
     "output_type": "execute_result"
    }
   ],
   "source": [
    "a + a   # concatenation"
   ]
  },
  {
   "cell_type": "code",
   "execution_count": 40,
   "id": "0592f099",
   "metadata": {},
   "outputs": [
    {
     "data": {
      "text/plain": [
       "[1, 3, 4, 5, 1, 3, 4, 5, 1, 3, 4, 5, 1, 3, 4, 5, 1, 3, 4, 5]"
      ]
     },
     "execution_count": 40,
     "metadata": {},
     "output_type": "execute_result"
    }
   ],
   "source": [
    "a * 5  #contenation"
   ]
  },
  {
   "cell_type": "code",
   "execution_count": 43,
   "id": "43a6fb08",
   "metadata": {},
   "outputs": [
    {
     "data": {
      "text/plain": [
       "True"
      ]
     },
     "execution_count": 43,
     "metadata": {},
     "output_type": "execute_result"
    }
   ],
   "source": [
    "1 in a  #check if member or not"
   ]
  },
  {
   "cell_type": "code",
   "execution_count": 46,
   "id": "b8e47321",
   "metadata": {},
   "outputs": [
    {
     "data": {
      "text/plain": [
       "5"
      ]
     },
     "execution_count": 46,
     "metadata": {},
     "output_type": "execute_result"
    }
   ],
   "source": [
    "a[-1]   #reverse indexing"
   ]
  },
  {
   "cell_type": "code",
   "execution_count": 47,
   "id": "c40c7121",
   "metadata": {},
   "outputs": [],
   "source": [
    "a = [1, 2, 3, 4, 5]"
   ]
  },
  {
   "cell_type": "code",
   "execution_count": 48,
   "id": "9fd8d08b",
   "metadata": {},
   "outputs": [
    {
     "data": {
      "text/plain": [
       "[2, 3, 4]"
      ]
     },
     "execution_count": 48,
     "metadata": {},
     "output_type": "execute_result"
    }
   ],
   "source": [
    "a[1:4]   #index for print"
   ]
  },
  {
   "cell_type": "code",
   "execution_count": 50,
   "id": "e17c9cec",
   "metadata": {},
   "outputs": [
    {
     "data": {
      "text/plain": [
       "[1, 3, 5]"
      ]
     },
     "execution_count": 50,
     "metadata": {},
     "output_type": "execute_result"
    }
   ],
   "source": [
    "a[0:5:2] "
   ]
  },
  {
   "cell_type": "code",
   "execution_count": 54,
   "id": "17e17843",
   "metadata": {},
   "outputs": [],
   "source": [
    "a = 'Otis'"
   ]
  },
  {
   "cell_type": "code",
   "execution_count": 52,
   "id": "b39c5963",
   "metadata": {},
   "outputs": [],
   "source": []
  },
  {
   "cell_type": "code",
   "execution_count": 56,
   "id": "c7e320b4",
   "metadata": {},
   "outputs": [
    {
     "data": {
      "text/plain": [
       "'sitO'"
      ]
     },
     "execution_count": 56,
     "metadata": {},
     "output_type": "execute_result"
    }
   ],
   "source": [
    "a[::-1]  #reversing the string"
   ]
  },
  {
   "cell_type": "markdown",
   "id": "a66ccff0",
   "metadata": {},
   "source": [
    "#### Updating the list\n",
    "- insert\n",
    "- append"
   ]
  },
  {
   "cell_type": "code",
   "execution_count": 59,
   "id": "1f7608ac",
   "metadata": {},
   "outputs": [],
   "source": [
    "a = [1, 3, 5, 6]"
   ]
  },
  {
   "cell_type": "code",
   "execution_count": 61,
   "id": "f2b4d24a",
   "metadata": {},
   "outputs": [],
   "source": [
    "a.insert(1, 'Otis')  #index where it is value to be inserted"
   ]
  },
  {
   "cell_type": "code",
   "execution_count": 62,
   "id": "c52eed8f",
   "metadata": {},
   "outputs": [
    {
     "data": {
      "text/plain": [
       "[1, 'Otis', 3, 5, 6]"
      ]
     },
     "execution_count": 62,
     "metadata": {},
     "output_type": "execute_result"
    }
   ],
   "source": [
    "a"
   ]
  },
  {
   "cell_type": "code",
   "execution_count": 63,
   "id": "69e071a6",
   "metadata": {},
   "outputs": [],
   "source": [
    "a.append('Maeve')  #add object at the end of the list"
   ]
  },
  {
   "cell_type": "code",
   "execution_count": 64,
   "id": "bbdfe879",
   "metadata": {},
   "outputs": [
    {
     "data": {
      "text/plain": [
       "[1, 'Otis', 3, 5, 6, 'Maeve']"
      ]
     },
     "execution_count": 64,
     "metadata": {},
     "output_type": "execute_result"
    }
   ],
   "source": [
    "a"
   ]
  },
  {
   "cell_type": "markdown",
   "id": "13a1d6f2",
   "metadata": {},
   "source": [
    "#### Deleting list elements\n",
    "- del\n",
    "- pop\n",
    "- remove"
   ]
  },
  {
   "cell_type": "code",
   "execution_count": 65,
   "id": "ff666a6a",
   "metadata": {},
   "outputs": [],
   "source": [
    "a = [1, 3, 5, 6]"
   ]
  },
  {
   "cell_type": "code",
   "execution_count": 66,
   "id": "586ca314",
   "metadata": {},
   "outputs": [
    {
     "data": {
      "text/plain": [
       "6"
      ]
     },
     "execution_count": 66,
     "metadata": {},
     "output_type": "execute_result"
    }
   ],
   "source": [
    "a.pop()  #pop last element"
   ]
  },
  {
   "cell_type": "code",
   "execution_count": 67,
   "id": "6820c4ad",
   "metadata": {},
   "outputs": [
    {
     "data": {
      "text/plain": [
       "5"
      ]
     },
     "execution_count": 67,
     "metadata": {},
     "output_type": "execute_result"
    }
   ],
   "source": [
    "a.pop(2) #pop the element at given element"
   ]
  },
  {
   "cell_type": "code",
   "execution_count": 68,
   "id": "e07cf85e",
   "metadata": {},
   "outputs": [],
   "source": [
    "a = ['Otis', 'Maeve', 'Steve']"
   ]
  },
  {
   "cell_type": "code",
   "execution_count": 69,
   "id": "53766081",
   "metadata": {},
   "outputs": [
    {
     "data": {
      "text/plain": [
       "['Otis', 'Maeve', 'Steve']"
      ]
     },
     "execution_count": 69,
     "metadata": {},
     "output_type": "execute_result"
    }
   ],
   "source": [
    "a"
   ]
  },
  {
   "cell_type": "code",
   "execution_count": 70,
   "id": "a26997d1",
   "metadata": {},
   "outputs": [],
   "source": [
    "a.remove('Otis') #remove only first occurence"
   ]
  },
  {
   "cell_type": "code",
   "execution_count": 71,
   "id": "6ef81e8c",
   "metadata": {},
   "outputs": [
    {
     "data": {
      "text/plain": [
       "['Maeve', 'Steve']"
      ]
     },
     "execution_count": 71,
     "metadata": {},
     "output_type": "execute_result"
    }
   ],
   "source": [
    "a"
   ]
  },
  {
   "cell_type": "code",
   "execution_count": 72,
   "id": "3c7d3b7e",
   "metadata": {},
   "outputs": [],
   "source": [
    "del a[1]\n"
   ]
  },
  {
   "cell_type": "code",
   "execution_count": 73,
   "id": "8f2fab7f",
   "metadata": {},
   "outputs": [
    {
     "data": {
      "text/plain": [
       "['Maeve']"
      ]
     },
     "execution_count": 73,
     "metadata": {},
     "output_type": "execute_result"
    }
   ],
   "source": [
    "a"
   ]
  },
  {
   "cell_type": "markdown",
   "id": "c61a1562",
   "metadata": {},
   "source": [
    "#### Sorting and reversing\n",
    "- sort and sorted\n",
    "- reverse and reversed"
   ]
  },
  {
   "cell_type": "code",
   "execution_count": 78,
   "id": "1a935170",
   "metadata": {},
   "outputs": [],
   "source": [
    "a = [2, 5, 1, 3, 7]"
   ]
  },
  {
   "cell_type": "code",
   "execution_count": 79,
   "id": "5b9f1936",
   "metadata": {},
   "outputs": [
    {
     "data": {
      "text/plain": [
       "[1, 2, 3, 5, 7]"
      ]
     },
     "execution_count": 79,
     "metadata": {},
     "output_type": "execute_result"
    }
   ],
   "source": [
    "sorted(a)  #will return only sorted element but actual list remain same"
   ]
  },
  {
   "cell_type": "code",
   "execution_count": 80,
   "id": "62417302",
   "metadata": {},
   "outputs": [
    {
     "data": {
      "text/plain": [
       "[2, 5, 1, 3, 7]"
      ]
     },
     "execution_count": 80,
     "metadata": {},
     "output_type": "execute_result"
    }
   ],
   "source": [
    "a"
   ]
  },
  {
   "cell_type": "code",
   "execution_count": 81,
   "id": "f4d0e859",
   "metadata": {},
   "outputs": [],
   "source": [
    "a.sort()  #sort the list itself "
   ]
  },
  {
   "cell_type": "code",
   "execution_count": 82,
   "id": "f23b8a3a",
   "metadata": {},
   "outputs": [
    {
     "data": {
      "text/plain": [
       "[1, 2, 3, 5, 7]"
      ]
     },
     "execution_count": 82,
     "metadata": {},
     "output_type": "execute_result"
    }
   ],
   "source": [
    "a"
   ]
  },
  {
   "cell_type": "code",
   "execution_count": 84,
   "id": "59e623b6",
   "metadata": {},
   "outputs": [
    {
     "name": "stdout",
     "output_type": "stream",
     "text": [
      "7\n",
      "5\n",
      "3\n",
      "2\n",
      "1\n"
     ]
    }
   ],
   "source": [
    "for i in reversed(a):\n",
    "    print(i)"
   ]
  },
  {
   "cell_type": "code",
   "execution_count": 85,
   "id": "d136ea4c",
   "metadata": {},
   "outputs": [],
   "source": [
    "a.reverse()"
   ]
  },
  {
   "cell_type": "code",
   "execution_count": 86,
   "id": "215e2b72",
   "metadata": {},
   "outputs": [
    {
     "data": {
      "text/plain": [
       "[7, 5, 3, 2, 1]"
      ]
     },
     "execution_count": 86,
     "metadata": {},
     "output_type": "execute_result"
    }
   ],
   "source": [
    "a"
   ]
  },
  {
   "cell_type": "markdown",
   "id": "e3928c13",
   "metadata": {},
   "source": [
    "## 3.Tuples\n",
    "- used in cases where a statement or a user-defined function can saferly assume that the collection of values will not change"
   ]
  },
  {
   "cell_type": "code",
   "execution_count": 1,
   "id": "7256d105",
   "metadata": {},
   "outputs": [],
   "source": [
    "a = [1, 2, 3, 4]"
   ]
  },
  {
   "cell_type": "code",
   "execution_count": 2,
   "id": "b4fb00a1",
   "metadata": {},
   "outputs": [],
   "source": [
    "a[0] = 5\n"
   ]
  },
  {
   "cell_type": "code",
   "execution_count": 3,
   "id": "7c3a5055",
   "metadata": {},
   "outputs": [
    {
     "data": {
      "text/plain": [
       "1517610284480"
      ]
     },
     "execution_count": 3,
     "metadata": {},
     "output_type": "execute_result"
    }
   ],
   "source": [
    "id(a)"
   ]
  },
  {
   "cell_type": "code",
   "execution_count": 4,
   "id": "a241fb56",
   "metadata": {},
   "outputs": [],
   "source": [
    "a[0] = 1  #in case of list the address id will be same after changes the vlaue"
   ]
  },
  {
   "cell_type": "code",
   "execution_count": 5,
   "id": "cf62faea",
   "metadata": {},
   "outputs": [
    {
     "data": {
      "text/plain": [
       "1517610284480"
      ]
     },
     "execution_count": 5,
     "metadata": {},
     "output_type": "execute_result"
    }
   ],
   "source": [
    "id(a)"
   ]
  },
  {
   "cell_type": "code",
   "execution_count": 6,
   "id": "bd88628d",
   "metadata": {},
   "outputs": [],
   "source": [
    " a = (1, 2, 3, 4, 5)  #tuples"
   ]
  },
  {
   "cell_type": "code",
   "execution_count": null,
   "id": "1694e2a3",
   "metadata": {},
   "outputs": [],
   "source": [
    "a[0] = 1  #not possible as it is immutable"
   ]
  },
  {
   "cell_type": "code",
   "execution_count": 7,
   "id": "f7454bcd",
   "metadata": {},
   "outputs": [],
   "source": [
    "def func(*args):\n",
    "    print(args)"
   ]
  },
  {
   "cell_type": "code",
   "execution_count": 9,
   "id": "e96b095f",
   "metadata": {},
   "outputs": [
    {
     "name": "stdout",
     "output_type": "stream",
     "text": [
      "(1, 2, 3, 4)\n"
     ]
    }
   ],
   "source": [
    "func(1, 2, 3, 4)   #args is type of tuple so once argument passed can never be change"
   ]
  },
  {
   "cell_type": "code",
   "execution_count": null,
   "id": "bb3edf2e",
   "metadata": {},
   "outputs": [],
   "source": [
    "# 1. swapping the values only work for integers\n",
    "a = a + b\n",
    "b = a - b\n",
    "a = a - b\n",
    "\n"
   ]
  },
  {
   "cell_type": "code",
   "execution_count": null,
   "id": "7dd69f00",
   "metadata": {},
   "outputs": [],
   "source": [
    "# 2. using XOR\n",
    "a = a^b\n",
    "b = a^b\n",
    "a = a^b"
   ]
  },
  {
   "cell_type": "code",
   "execution_count": 10,
   "id": "2dcc74fc",
   "metadata": {},
   "outputs": [],
   "source": [
    "a = 1 , 2   #another way to inintialize tuple \n",
    "c , d  = a # unpack the value of tuple in two tuple c and d"
   ]
  },
  {
   "cell_type": "code",
   "execution_count": 12,
   "id": "66fefbd5",
   "metadata": {},
   "outputs": [
    {
     "data": {
      "text/plain": [
       "1"
      ]
     },
     "execution_count": 12,
     "metadata": {},
     "output_type": "execute_result"
    }
   ],
   "source": [
    "## number of variable on left side should be equal to number of elements in Right hand side tuple\n",
    "a = 1 , 2 , 3\n",
    "c , d = a #will through error"
   ]
  },
  {
   "cell_type": "code",
   "execution_count": 13,
   "id": "bbc2b89b",
   "metadata": {},
   "outputs": [],
   "source": [
    "#3. swapping using tuple method applicable only in python \n",
    "a = 5\n",
    "b = 9\n",
    " \n",
    "b , a = a , b"
   ]
  },
  {
   "cell_type": "code",
   "execution_count": 15,
   "id": "e351c153",
   "metadata": {},
   "outputs": [
    {
     "name": "stdout",
     "output_type": "stream",
     "text": [
      "9 5\n"
     ]
    }
   ],
   "source": [
    "print(a , b)\n"
   ]
  },
  {
   "cell_type": "markdown",
   "id": "959b7d2e",
   "metadata": {},
   "source": [
    "### Converting tuple to list and list to tuple"
   ]
  },
  {
   "cell_type": "code",
   "execution_count": 16,
   "id": "fa9d814b",
   "metadata": {},
   "outputs": [],
   "source": [
    "a = (1 , 2 , 3)"
   ]
  },
  {
   "cell_type": "code",
   "execution_count": 19,
   "id": "60b23976",
   "metadata": {},
   "outputs": [],
   "source": [
    "a = list(a)   #converting in list\n",
    "b = list(\"Otis\")\n",
    "c = list(range(10))"
   ]
  },
  {
   "cell_type": "code",
   "execution_count": 20,
   "id": "5fefac55",
   "metadata": {},
   "outputs": [
    {
     "name": "stdout",
     "output_type": "stream",
     "text": [
      "[1, 2, 3] ['O', 't', 'i', 's'] [0, 1, 2, 3, 4, 5, 6, 7, 8, 9]\n"
     ]
    }
   ],
   "source": [
    "print(a, b, c)"
   ]
  },
  {
   "cell_type": "code",
   "execution_count": 24,
   "id": "b73646ef",
   "metadata": {},
   "outputs": [],
   "source": [
    "a = tuple(a)  #converting to tuple\n",
    "b = tuple(b)\n",
    "c = tuple(c)"
   ]
  },
  {
   "cell_type": "code",
   "execution_count": 25,
   "id": "45f177c8",
   "metadata": {},
   "outputs": [
    {
     "name": "stdout",
     "output_type": "stream",
     "text": [
      "(1, 2, 3) ('O', 't', 'i', 's') (0, 1, 2, 3, 4, 5, 6, 7, 8, 9)\n"
     ]
    }
   ],
   "source": [
    "print(a, b, c)"
   ]
  },
  {
   "cell_type": "markdown",
   "id": "bc7db629",
   "metadata": {},
   "source": [
    "### Returning multiple values from a function"
   ]
  },
  {
   "cell_type": "code",
   "execution_count": 26,
   "id": "515d6ef2",
   "metadata": {},
   "outputs": [],
   "source": [
    "def addsub(a, b):\n",
    "    return a + b, a -b   #tuple is returned"
   ]
  },
  {
   "cell_type": "code",
   "execution_count": 27,
   "id": "c290244d",
   "metadata": {},
   "outputs": [],
   "source": [
    "sum , difference = addsub(9, 3)"
   ]
  },
  {
   "cell_type": "code",
   "execution_count": 28,
   "id": "fac26b40",
   "metadata": {},
   "outputs": [
    {
     "name": "stdout",
     "output_type": "stream",
     "text": [
      "12 6\n"
     ]
    }
   ],
   "source": [
    "print(sum , difference)"
   ]
  },
  {
   "cell_type": "markdown",
   "id": "bb649201",
   "metadata": {},
   "source": [
    "## 4. Dictionary\n",
    "- Store values in key-vlaue pair\n",
    "- unordered\n"
   ]
  },
  {
   "cell_type": "code",
   "execution_count": 35,
   "id": "d7b2c71a",
   "metadata": {},
   "outputs": [],
   "source": [
    "a = {\n",
    "    \"name\":\"Otis\",\n",
    "    \"marks\": 90,\n",
    "    \"subjects\": [\"eng\", \"maths\"],\n",
    "    \"friends\":{\n",
    "        \"Maeve\":\"android\"\n",
    "    }\n",
    "}"
   ]
  },
  {
   "cell_type": "code",
   "execution_count": 37,
   "id": "97e81b36",
   "metadata": {},
   "outputs": [
    {
     "data": {
      "text/plain": [
       "'Otis'"
      ]
     },
     "execution_count": 37,
     "metadata": {},
     "output_type": "execute_result"
    }
   ],
   "source": [
    "a[\"name\"]"
   ]
  },
  {
   "cell_type": "code",
   "execution_count": 38,
   "id": "d7d32891",
   "metadata": {},
   "outputs": [
    {
     "data": {
      "text/plain": [
       "{'Maeve': 'android'}"
      ]
     },
     "execution_count": 38,
     "metadata": {},
     "output_type": "execute_result"
    }
   ],
   "source": [
    "a[\"friends\"]"
   ]
  },
  {
   "cell_type": "code",
   "execution_count": 44,
   "id": "30adf7da",
   "metadata": {},
   "outputs": [
    {
     "name": "stdout",
     "output_type": "stream",
     "text": [
      "name\n",
      "marks\n",
      "subjects\n",
      "friends\n"
     ]
    }
   ],
   "source": [
    "for key in a :   #by default we can iterate through keys\n",
    "    print(key)"
   ]
  },
  {
   "cell_type": "markdown",
   "id": "845f59d9",
   "metadata": {},
   "source": [
    "### some important dict method\n",
    "- get()\n",
    "- items()\n",
    "- keys()\n",
    "- values()\n",
    "- clear()"
   ]
  },
  {
   "cell_type": "code",
   "execution_count": 45,
   "id": "216633bf",
   "metadata": {},
   "outputs": [
    {
     "name": "stdout",
     "output_type": "stream",
     "text": [
      "('name', 'Otis')\n",
      "('marks', 90)\n",
      "('subjects', ['eng', 'maths'])\n",
      "('friends', {'Maeve': 'android'})\n"
     ]
    }
   ],
   "source": [
    "for item in a.items():   #method return key-value pair in tuple form\n",
    "    print(item)"
   ]
  },
  {
   "cell_type": "code",
   "execution_count": 46,
   "id": "f2b25d37",
   "metadata": {},
   "outputs": [
    {
     "name": "stdout",
     "output_type": "stream",
     "text": [
      "name => Otis\n",
      "marks => 90\n",
      "subjects => ['eng', 'maths']\n",
      "friends => {'Maeve': 'android'}\n"
     ]
    }
   ],
   "source": [
    "for key, value in a.items(): \n",
    "    print(key, \"=>\", value)"
   ]
  },
  {
   "cell_type": "code",
   "execution_count": 47,
   "id": "a0f6ecae",
   "metadata": {},
   "outputs": [
    {
     "name": "stdout",
     "output_type": "stream",
     "text": [
      "name\n",
      "marks\n",
      "subjects\n",
      "friends\n"
     ]
    }
   ],
   "source": [
    "for key in a.keys(): #return all the keys in dict\n",
    "    print(key)"
   ]
  },
  {
   "cell_type": "code",
   "execution_count": 48,
   "id": "e985e6dc",
   "metadata": {},
   "outputs": [
    {
     "name": "stdout",
     "output_type": "stream",
     "text": [
      "Otis\n",
      "90\n",
      "['eng', 'maths']\n",
      "{'Maeve': 'android'}\n"
     ]
    }
   ],
   "source": [
    "for val in a.values(): # return all the values in dict\n",
    "    print(val)"
   ]
  },
  {
   "cell_type": "code",
   "execution_count": 49,
   "id": "074017b8",
   "metadata": {},
   "outputs": [
    {
     "data": {
      "text/plain": [
       "'Otis'"
      ]
     },
     "execution_count": 49,
     "metadata": {},
     "output_type": "execute_result"
    }
   ],
   "source": [
    "a[\"name\"]"
   ]
  },
  {
   "cell_type": "code",
   "execution_count": 50,
   "id": "0c645077",
   "metadata": {},
   "outputs": [
    {
     "data": {
      "text/plain": [
       "'Otis'"
      ]
     },
     "execution_count": 50,
     "metadata": {},
     "output_type": "execute_result"
    }
   ],
   "source": [
    "a.get(\"name\")"
   ]
  },
  {
   "cell_type": "code",
   "execution_count": 51,
   "id": "52a8b318",
   "metadata": {},
   "outputs": [
    {
     "data": {
      "text/plain": [
       "dict_keys(['name', 'marks', 'subjects', 'friends'])"
      ]
     },
     "execution_count": 51,
     "metadata": {},
     "output_type": "execute_result"
    }
   ],
   "source": [
    "a.keys()"
   ]
  },
  {
   "cell_type": "code",
   "execution_count": 52,
   "id": "47cb6664",
   "metadata": {},
   "outputs": [],
   "source": [
    "a.get(\"name1\")  #will not through any error if the key not present in the dict"
   ]
  },
  {
   "cell_type": "code",
   "execution_count": 53,
   "id": "cdafe1fe",
   "metadata": {},
   "outputs": [],
   "source": [
    "a.clear()  #delete the dict"
   ]
  },
  {
   "cell_type": "code",
   "execution_count": 54,
   "id": "eb1efb16",
   "metadata": {},
   "outputs": [
    {
     "data": {
      "text/plain": [
       "{}"
      ]
     },
     "execution_count": 54,
     "metadata": {},
     "output_type": "execute_result"
    }
   ],
   "source": [
    "a"
   ]
  },
  {
   "cell_type": "markdown",
   "id": "49fc3678",
   "metadata": {},
   "source": [
    "## Chalange"
   ]
  },
  {
   "cell_type": "code",
   "execution_count": 65,
   "id": "c5923b10",
   "metadata": {},
   "outputs": [],
   "source": [
    "students = []"
   ]
  },
  {
   "cell_type": "code",
   "execution_count": 66,
   "id": "905c140c",
   "metadata": {},
   "outputs": [
    {
     "name": "stdout",
     "output_type": "stream",
     "text": [
      "3\n"
     ]
    }
   ],
   "source": [
    "n = int(input())"
   ]
  },
  {
   "cell_type": "code",
   "execution_count": 67,
   "id": "12f628e7",
   "metadata": {},
   "outputs": [
    {
     "name": "stdout",
     "output_type": "stream",
     "text": [
      "1211\n",
      "otis\n",
      "cse\n",
      "2342\n",
      "Maeve\n",
      "Civil\n",
      "3211\n",
      "Ola\n",
      "Mechanical\n"
     ]
    }
   ],
   "source": [
    "for i in range(n):\n",
    "    roll = int(input())\n",
    "    name = input()\n",
    "    branch = input()\n",
    "    students.append({\n",
    "        \"roll-no\": roll,\n",
    "        \"name\": name,\n",
    "        \"branch\": branch\n",
    "    })"
   ]
  },
  {
   "cell_type": "code",
   "execution_count": 68,
   "id": "8a70cc35",
   "metadata": {},
   "outputs": [
    {
     "data": {
      "text/plain": [
       "[{'roll-no': 1211, 'name': 'otis', 'branch': 'cse'},\n",
       " {'roll-no': 2342, 'name': 'Maeve', 'branch': 'Civil'},\n",
       " {'roll-no': 3211, 'name': 'Ola', 'branch': 'Mechanical'}]"
      ]
     },
     "execution_count": 68,
     "metadata": {},
     "output_type": "execute_result"
    }
   ],
   "source": [
    "students"
   ]
  },
  {
   "cell_type": "markdown",
   "id": "4536b388",
   "metadata": {},
   "source": [
    "## keys in dictionary can be any immutable DS"
   ]
  },
  {
   "cell_type": "code",
   "execution_count": 69,
   "id": "27f7e822",
   "metadata": {},
   "outputs": [],
   "source": [
    "#valid as tuple are immutable\n",
    "a = {                               \n",
    "    (1,2): \"Otis\"\n",
    "}"
   ]
  },
  {
   "cell_type": "code",
   "execution_count": 70,
   "id": "d7fe5c30",
   "metadata": {},
   "outputs": [
    {
     "data": {
      "text/plain": [
       "'Otis'"
      ]
     },
     "execution_count": 70,
     "metadata": {},
     "output_type": "execute_result"
    }
   ],
   "source": [
    "a[(1,2)]"
   ]
  },
  {
   "cell_type": "markdown",
   "id": "0c072097",
   "metadata": {},
   "source": [
    "## 5. SETs\n",
    "- unordered\n",
    "- non-indexable"
   ]
  },
  {
   "cell_type": "code",
   "execution_count": 74,
   "id": "69f56a48",
   "metadata": {},
   "outputs": [],
   "source": [
    "a = {1, 2, 3, 4}  #declared as like dict but not having key-value pair"
   ]
  },
  {
   "cell_type": "code",
   "execution_count": 72,
   "id": "41bdce78",
   "metadata": {},
   "outputs": [],
   "source": [
    "a = set()  #use to create empty set"
   ]
  },
  {
   "cell_type": "code",
   "execution_count": 78,
   "id": "b62b864f",
   "metadata": {},
   "outputs": [],
   "source": [
    "b = {3, 4, 5, 6}"
   ]
  },
  {
   "cell_type": "code",
   "execution_count": 79,
   "id": "b994b074",
   "metadata": {},
   "outputs": [
    {
     "data": {
      "text/plain": [
       "{3, 4}"
      ]
     },
     "execution_count": 79,
     "metadata": {},
     "output_type": "execute_result"
    }
   ],
   "source": [
    "a.intersection(b)"
   ]
  },
  {
   "cell_type": "code",
   "execution_count": 80,
   "id": "20454d8e",
   "metadata": {},
   "outputs": [
    {
     "data": {
      "text/plain": [
       "{1, 2, 3, 4, 5, 6}"
      ]
     },
     "execution_count": 80,
     "metadata": {},
     "output_type": "execute_result"
    }
   ],
   "source": [
    "a.union(b)"
   ]
  },
  {
   "cell_type": "code",
   "execution_count": 81,
   "id": "6bb5e01d",
   "metadata": {},
   "outputs": [
    {
     "data": {
      "text/plain": [
       "{1, 2}"
      ]
     },
     "execution_count": 81,
     "metadata": {},
     "output_type": "execute_result"
    }
   ],
   "source": [
    "a - b"
   ]
  },
  {
   "cell_type": "code",
   "execution_count": null,
   "id": "9f7fe05e",
   "metadata": {},
   "outputs": [],
   "source": [
    "a[1]  #will through error as set are not indexable"
   ]
  },
  {
   "cell_type": "code",
   "execution_count": 82,
   "id": "e56bb2c0",
   "metadata": {},
   "outputs": [
    {
     "name": "stdout",
     "output_type": "stream",
     "text": [
      "1\n",
      "2\n",
      "3\n",
      "4\n"
     ]
    }
   ],
   "source": [
    "for i in a:\n",
    "    print(i)"
   ]
  },
  {
   "cell_type": "code",
   "execution_count": 83,
   "id": "e610341a",
   "metadata": {},
   "outputs": [],
   "source": [
    "a = {1, 2, 3, 4, 5, 1, 2, 3}"
   ]
  },
  {
   "cell_type": "code",
   "execution_count": 84,
   "id": "342bb263",
   "metadata": {},
   "outputs": [
    {
     "data": {
      "text/plain": [
       "{1, 2, 3, 4, 5}"
      ]
     },
     "execution_count": 84,
     "metadata": {},
     "output_type": "execute_result"
    }
   ],
   "source": [
    "a"
   ]
  },
  {
   "cell_type": "code",
   "execution_count": 85,
   "id": "f4b4c1ec",
   "metadata": {},
   "outputs": [
    {
     "data": {
      "text/plain": [
       "5"
      ]
     },
     "execution_count": 85,
     "metadata": {},
     "output_type": "execute_result"
    }
   ],
   "source": [
    "len(a)"
   ]
  },
  {
   "cell_type": "code",
   "execution_count": 88,
   "id": "0271f9ef",
   "metadata": {},
   "outputs": [],
   "source": [
    "# how to deduplicate the list\n",
    "a = [1, 2, 1, 2, 1, 1, 2, 2]"
   ]
  },
  {
   "cell_type": "code",
   "execution_count": 90,
   "id": "0fb68529",
   "metadata": {},
   "outputs": [
    {
     "data": {
      "text/plain": [
       "[1, 2]"
      ]
     },
     "execution_count": 90,
     "metadata": {},
     "output_type": "execute_result"
    }
   ],
   "source": [
    "list(set(a))  #order will may or may not be preserved"
   ]
  },
  {
   "cell_type": "markdown",
   "id": "a52717c3",
   "metadata": {},
   "source": [
    "## Comprehension Method"
   ]
  },
  {
   "cell_type": "markdown",
   "id": "8f6619f8",
   "metadata": {},
   "source": [
    "### List comprehension"
   ]
  },
  {
   "cell_type": "code",
   "execution_count": 94,
   "id": "ede2bf70",
   "metadata": {},
   "outputs": [
    {
     "data": {
      "text/plain": [
       "[0, 1, 4, 9, 16, 25, 36, 49, 64, 81]"
      ]
     },
     "execution_count": 94,
     "metadata": {},
     "output_type": "execute_result"
    }
   ],
   "source": [
    "a = []\n",
    "for i in range(10):\n",
    "    a.append(i**2)\n",
    "a"
   ]
  },
  {
   "cell_type": "code",
   "execution_count": 93,
   "id": "fa146ef6",
   "metadata": {},
   "outputs": [
    {
     "data": {
      "text/plain": [
       "[0, 1, 4, 9, 16, 25, 36, 49, 64, 81]"
      ]
     },
     "execution_count": 93,
     "metadata": {},
     "output_type": "execute_result"
    }
   ],
   "source": [
    "[b**2 for b in range(10)]  #comprehension method"
   ]
  },
  {
   "cell_type": "code",
   "execution_count": 95,
   "id": "a257dc05",
   "metadata": {},
   "outputs": [
    {
     "data": {
      "text/plain": [
       "[0, 4, 16, 36, 64]"
      ]
     },
     "execution_count": 95,
     "metadata": {},
     "output_type": "execute_result"
    }
   ],
   "source": [
    "# squares of all the even number\n",
    "[i**2 for i in range(10) if i % 2 ==0]"
   ]
  },
  {
   "cell_type": "markdown",
   "id": "ba37d96b",
   "metadata": {},
   "source": [
    "### Dict comprehension"
   ]
  },
  {
   "cell_type": "code",
   "execution_count": 97,
   "id": "893ca283",
   "metadata": {},
   "outputs": [
    {
     "data": {
      "text/plain": [
       "{0: 0, 1: 1, 2: 4, 3: 9, 4: 16, 5: 25, 6: 36, 7: 49, 8: 64, 9: 81}"
      ]
     },
     "execution_count": 97,
     "metadata": {},
     "output_type": "execute_result"
    }
   ],
   "source": [
    "{i: i**2 for i in range(10)}"
   ]
  },
  {
   "cell_type": "code",
   "execution_count": 98,
   "id": "eadaead7",
   "metadata": {},
   "outputs": [
    {
     "data": {
      "text/plain": [
       "{0: 0, 2: 4, 4: 16, 6: 36, 8: 64}"
      ]
     },
     "execution_count": 98,
     "metadata": {},
     "output_type": "execute_result"
    }
   ],
   "source": [
    "{i: i**2 for i in range(10) if i % 2 == 0}"
   ]
  },
  {
   "cell_type": "markdown",
   "id": "867e9b6a",
   "metadata": {},
   "source": [
    "### Set comprehension"
   ]
  },
  {
   "cell_type": "code",
   "execution_count": 101,
   "id": "23ea9a8e",
   "metadata": {},
   "outputs": [
    {
     "data": {
      "text/plain": [
       "{0, 4, 16, 36, 64}"
      ]
     },
     "execution_count": 101,
     "metadata": {},
     "output_type": "execute_result"
    }
   ],
   "source": [
    "{i**2 for i in range(10) if i % 2 == 0 }\n"
   ]
  },
  {
   "cell_type": "markdown",
   "id": "cff39047",
   "metadata": {},
   "source": [
    "### Tuple Comprehension"
   ]
  },
  {
   "cell_type": "code",
   "execution_count": 102,
   "id": "bf41da2a",
   "metadata": {},
   "outputs": [
    {
     "data": {
      "text/plain": [
       "<generator object <genexpr> at 0x000001615920DA40>"
      ]
     },
     "execution_count": 102,
     "metadata": {},
     "output_type": "execute_result"
    }
   ],
   "source": [
    "# this is generator expresion not tuple comprehension\n",
    "a = (i**2 for i in range(10))\n",
    "a"
   ]
  },
  {
   "cell_type": "code",
   "execution_count": null,
   "id": "259ccac3",
   "metadata": {},
   "outputs": [],
   "source": []
  }
 ],
 "metadata": {
  "kernelspec": {
   "display_name": "Python 3 (ipykernel)",
   "language": "python",
   "name": "python3"
  },
  "language_info": {
   "codemirror_mode": {
    "name": "ipython",
    "version": 3
   },
   "file_extension": ".py",
   "mimetype": "text/x-python",
   "name": "python",
   "nbconvert_exporter": "python",
   "pygments_lexer": "ipython3",
   "version": "3.11.4"
  }
 },
 "nbformat": 4,
 "nbformat_minor": 5
}
