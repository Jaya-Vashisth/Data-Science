{
 "cells": [
  {
   "cell_type": "markdown",
   "id": "47b72622",
   "metadata": {},
   "source": [
    "# Class"
   ]
  },
  {
   "cell_type": "code",
   "execution_count": 2,
   "id": "ffaf42da",
   "metadata": {},
   "outputs": [
    {
     "name": "stdout",
     "output_type": "stream",
     "text": [
      "<__main__.Person object at 0x000001E2D181CF90>\n"
     ]
    }
   ],
   "source": [
    "class Person:\n",
    "    pass\n",
    "p = Person()  #return instance of class\n",
    "print(p)"
   ]
  },
  {
   "cell_type": "markdown",
   "id": "d6482ffa",
   "metadata": {},
   "source": [
    "###  Methods"
   ]
  },
  {
   "cell_type": "markdown",
   "id": "9759799c",
   "metadata": {},
   "source": [
    "#### The__init__method"
   ]
  },
  {
   "cell_type": "code",
   "execution_count": 4,
   "id": "9b7f5eee",
   "metadata": {},
   "outputs": [
    {
     "name": "stdout",
     "output_type": "stream",
     "text": [
      "Hello, my name is Otis\n"
     ]
    }
   ],
   "source": [
    "class Person:\n",
    "    name = \"Otis\"\n",
    "    def say_hi(self):\n",
    "        print(\"Hello, my name is\", self.name)\n",
    "        \n",
    "p = Person()\n",
    "p.say_hi()"
   ]
  },
  {
   "cell_type": "code",
   "execution_count": 6,
   "id": "d317152f",
   "metadata": {},
   "outputs": [
    {
     "name": "stdout",
     "output_type": "stream",
     "text": [
      "New object is created\n",
      "Hello, my name is Otis\n"
     ]
    }
   ],
   "source": [
    "class Person:\n",
    "    \n",
    "    name = 'Otis'\n",
    "    \n",
    "#   not a constructor called as the object is instanciate\n",
    "    def __init__(self):\n",
    "        print(\"New object is created\")\n",
    "    \n",
    "    def say_hi(self):\n",
    "        print(\"Hello, my name is\", self.name)\n",
    "        \n",
    "p = Person()\n",
    "p.say_hi()"
   ]
  },
  {
   "cell_type": "code",
   "execution_count": 7,
   "id": "7be6d533",
   "metadata": {},
   "outputs": [
    {
     "name": "stdout",
     "output_type": "stream",
     "text": [
      "New object is created\n",
      "Hello, my name is Otis\n"
     ]
    }
   ],
   "source": [
    "class Person:\n",
    " \n",
    "    \n",
    "#   not a constructor called as the object is instanciate\n",
    "    def __init__(self , name):\n",
    "        self.name = name\n",
    "        print(\"New object is created\")\n",
    "    \n",
    "    def say_hi(self):\n",
    "        print(\"Hello, my name is\", self.name)\n",
    "        \n",
    "p = Person('Otis')\n",
    "p.say_hi()"
   ]
  },
  {
   "cell_type": "markdown",
   "id": "a309922b",
   "metadata": {},
   "source": [
    "#### Duders OR Magic methods"
   ]
  },
  {
   "cell_type": "code",
   "execution_count": 1,
   "id": "373ed75e",
   "metadata": {},
   "outputs": [],
   "source": [
    "class Car:\n",
    "    def __init__(self, model, mileage):\n",
    "        self.model = model\n",
    "        self.mileage = mileage\n",
    "    \n",
    "    def __str__(self):\n",
    "        return \"{} {}\".format(self.model, self.mileage)\n",
    "    \n",
    "    def __repr__(self):\n",
    "        return \"{}\".format(self.model)\n",
    "    \n",
    "    def __eq__(self, other):\n",
    "        return self.mileage == other.mileage\n",
    "    \n",
    "    def __add__(self, other):\n",
    "        return self.mileage + other.mileage"
   ]
  },
  {
   "cell_type": "code",
   "execution_count": 2,
   "id": "8015bb5c",
   "metadata": {},
   "outputs": [],
   "source": [
    "c1 = Car('a', 2)\n",
    "c2 = Car('b', 2)"
   ]
  },
  {
   "cell_type": "code",
   "execution_count": 20,
   "id": "a2fbf6b0",
   "metadata": {},
   "outputs": [
    {
     "data": {
      "text/plain": [
       "4"
      ]
     },
     "execution_count": 20,
     "metadata": {},
     "output_type": "execute_result"
    }
   ],
   "source": [
    "c1 + c2"
   ]
  },
  {
   "cell_type": "code",
   "execution_count": 3,
   "id": "24542b4b",
   "metadata": {},
   "outputs": [
    {
     "data": {
      "text/plain": [
       "a"
      ]
     },
     "execution_count": 3,
     "metadata": {},
     "output_type": "execute_result"
    }
   ],
   "source": [
    "c1"
   ]
  },
  {
   "cell_type": "code",
   "execution_count": null,
   "id": "72a37786",
   "metadata": {},
   "outputs": [],
   "source": []
  },
  {
   "cell_type": "code",
   "execution_count": null,
   "id": "a62ec7f4",
   "metadata": {},
   "outputs": [],
   "source": []
  },
  {
   "cell_type": "code",
   "execution_count": 24,
   "id": "d798cbee",
   "metadata": {},
   "outputs": [],
   "source": [
    "class Ostream:\n",
    "    def __lshift__(self, other):\n",
    "        print(other, end = '')\n",
    "        return self\n",
    "    \n",
    "cout = Ostream()\n"
   ]
  },
  {
   "cell_type": "code",
   "execution_count": 25,
   "id": "812c9318",
   "metadata": {},
   "outputs": [
    {
     "name": "stdout",
     "output_type": "stream",
     "text": [
      "Otis"
     ]
    },
    {
     "data": {
      "text/plain": [
       "<__main__.Ostream at 0x1e2d23cd310>"
      ]
     },
     "execution_count": 25,
     "metadata": {},
     "output_type": "execute_result"
    }
   ],
   "source": [
    "cout << \"Otis\""
   ]
  },
  {
   "cell_type": "markdown",
   "id": "207972d0",
   "metadata": {},
   "source": [
    "# Note :-\n",
    "- when the object is created firstly all the attributes are copied  then only the init function is called. Can be seen in below program"
   ]
  },
  {
   "cell_type": "code",
   "execution_count": 22,
   "id": "bd1c2441",
   "metadata": {},
   "outputs": [],
   "source": [
    "class Dog:\n",
    "    \n",
    "    tricks = []       # mistaken use of class variable\n",
    "    \n",
    "    def __init__(self, name):\n",
    "        self.name = name\n",
    "    \n",
    "    def add_trick(self, trick):\n",
    "        self.tricks.append(trick)"
   ]
  },
  {
   "cell_type": "code",
   "execution_count": 23,
   "id": "87221f73",
   "metadata": {},
   "outputs": [],
   "source": [
    "a = Dog('bruno')\n"
   ]
  },
  {
   "cell_type": "code",
   "execution_count": 24,
   "id": "5b9f6a98",
   "metadata": {},
   "outputs": [],
   "source": [
    "b = Dog('maxx')"
   ]
  },
  {
   "cell_type": "code",
   "execution_count": 25,
   "id": "a5b8859a",
   "metadata": {},
   "outputs": [],
   "source": [
    "a.add_trick('fetch')"
   ]
  },
  {
   "cell_type": "code",
   "execution_count": 26,
   "id": "4896acec",
   "metadata": {},
   "outputs": [],
   "source": [
    "a.add_trick('talk')"
   ]
  },
  {
   "cell_type": "code",
   "execution_count": 27,
   "id": "3722d046",
   "metadata": {},
   "outputs": [
    {
     "data": {
      "text/plain": [
       "['fetch', 'talk']"
      ]
     },
     "execution_count": 27,
     "metadata": {},
     "output_type": "execute_result"
    }
   ],
   "source": [
    "a.tricks"
   ]
  },
  {
   "cell_type": "code",
   "execution_count": 28,
   "id": "12beefe7",
   "metadata": {},
   "outputs": [
    {
     "data": {
      "text/plain": [
       "['fetch', 'talk']"
      ]
     },
     "execution_count": 28,
     "metadata": {},
     "output_type": "execute_result"
    }
   ],
   "source": [
    "b.tricks  #as trick is list and it is mutable "
   ]
  },
  {
   "cell_type": "code",
   "execution_count": 29,
   "id": "ad9bedce",
   "metadata": {},
   "outputs": [
    {
     "name": "stdout",
     "output_type": "stream",
     "text": [
      "2101624881856\n"
     ]
    }
   ],
   "source": [
    "print(id(a.tricks))"
   ]
  },
  {
   "cell_type": "code",
   "execution_count": 30,
   "id": "f3484c53",
   "metadata": {},
   "outputs": [
    {
     "name": "stdout",
     "output_type": "stream",
     "text": [
      "2101624881856\n"
     ]
    }
   ],
   "source": [
    "print(id(b.tricks))"
   ]
  },
  {
   "cell_type": "code",
   "execution_count": 13,
   "id": "d7d5c017",
   "metadata": {},
   "outputs": [],
   "source": [
    "# above problem can be solved by instantiating tricks each time in init funciton\n",
    "class Dog:\n",
    "    \n",
    "    def __init__(self, name):\n",
    "        self.name = name\n",
    "        self.tricks = []\n",
    "    \n",
    "    def add_trick(self, trick):\n",
    "        self.tricks.append(trick)"
   ]
  },
  {
   "cell_type": "markdown",
   "id": "feaccfa4",
   "metadata": {},
   "source": [
    "# Inheritance"
   ]
  },
  {
   "cell_type": "code",
   "execution_count": 17,
   "id": "65f6b219",
   "metadata": {},
   "outputs": [
    {
     "name": "stdout",
     "output_type": "stream",
     "text": [
      "(Initialized School Member Mr. Millburn)\n",
      "(Initialized Teacher Mr. Millburn)\n",
      "Name:\"Mr. Millburn\" Age: \"40\" Salary: \"30000\"\n",
      "(Initialized School Member Otis)\n",
      "(Initialized Student: Otis)\n",
      "Name:\"Otis\" Age: \"16\" Marks :\"304\"\n"
     ]
    }
   ],
   "source": [
    "class SchoolMember:\n",
    "    '''Represent a school member'''\n",
    "    def __init__(self, name, age):\n",
    "        self.name = name\n",
    "        self.age = age\n",
    "        print('(Initialized School Member {})'.format(self.name))\n",
    "    \n",
    "    def tell(self):\n",
    "        print('Name:\"{}\" Age: \"{}\"'.format(self.name, self.age), end=\" \")\n",
    "\n",
    "class Teacher(SchoolMember):\n",
    "    '''Represent a Teacher'''\n",
    "    def __init__(self, name , age, salary): \n",
    "        super().__init__(name, age)     \n",
    "        self.salary = salary\n",
    "        print('(Initialized Teacher {})'.format(self.name))\n",
    "\n",
    "    \n",
    "    def tell(self):\n",
    "        SchoolMember.tell(self)\n",
    "        print('Salary: \"{}\"'.format(self.salary))\n",
    "        \n",
    "class Student(SchoolMember):\n",
    "    '''Represent a Student'''\n",
    "    def __init__(self, name, age, marks):\n",
    "        super().__init__(name, age)\n",
    "        self.marks = marks\n",
    "        print(\"(Initialized Student: {})\".format(self.name))\n",
    "    \n",
    "    def tell(self):\n",
    "        SchoolMember.tell(self)\n",
    "        print('Marks :\"{:d}\"'.format(self.marks))\n",
    "        \n",
    "\n",
    "        \n",
    "t = Teacher('Mr. Millburn', 40, 30000)\n",
    "t.tell()\n",
    "s = Student('Otis',16,304)\n",
    "s.tell()        "
   ]
  },
  {
   "cell_type": "markdown",
   "id": "4b999ec9",
   "metadata": {},
   "source": [
    "### Method resolution order\n",
    "- C3 Realization => states that the node will be traversed only when all child are traversed"
   ]
  },
  {
   "cell_type": "code",
   "execution_count": 19,
   "id": "b7bfee11",
   "metadata": {},
   "outputs": [],
   "source": [
    "class A:\n",
    "    x = 10\n",
    "class B(A):\n",
    "    pass\n",
    "class C(A):\n",
    "    x = 5\n",
    "class D(C):\n",
    "    pass\n",
    "class E(B,D):\n",
    "    pass"
   ]
  },
  {
   "cell_type": "code",
   "execution_count": 20,
   "id": "3f2f4e44",
   "metadata": {},
   "outputs": [
    {
     "data": {
      "text/plain": [
       "5"
      ]
     },
     "execution_count": 20,
     "metadata": {},
     "output_type": "execute_result"
    }
   ],
   "source": [
    "E.x"
   ]
  },
  {
   "cell_type": "code",
   "execution_count": 21,
   "id": "60758e85",
   "metadata": {},
   "outputs": [
    {
     "data": {
      "text/plain": [
       "(__main__.E, __main__.B, __main__.D, __main__.C, __main__.A, object)"
      ]
     },
     "execution_count": 21,
     "metadata": {},
     "output_type": "execute_result"
    }
   ],
   "source": [
    "E.__mro__"
   ]
  },
  {
   "cell_type": "markdown",
   "id": "19f4a3b9",
   "metadata": {},
   "source": [
    "# Modules in Python"
   ]
  },
  {
   "cell_type": "code",
   "execution_count": 23,
   "id": "838a09f0",
   "metadata": {},
   "outputs": [
    {
     "name": "stdout",
     "output_type": "stream",
     "text": [
      "Hello World !\n"
     ]
    }
   ],
   "source": [
    "print(\"Hello World !\")"
   ]
  },
  {
   "cell_type": "code",
   "execution_count": 24,
   "id": "8fc4c6b3",
   "metadata": {},
   "outputs": [],
   "source": [
    "def func():\n",
    "    print(\"Hello\")"
   ]
  },
  {
   "cell_type": "code",
   "execution_count": 25,
   "id": "b7fe76d2",
   "metadata": {},
   "outputs": [
    {
     "name": "stdout",
     "output_type": "stream",
     "text": [
      "Hello\n"
     ]
    }
   ],
   "source": [
    "func()"
   ]
  },
  {
   "cell_type": "code",
   "execution_count": null,
   "id": "5e302eca",
   "metadata": {},
   "outputs": [],
   "source": []
  }
 ],
 "metadata": {
  "kernelspec": {
   "display_name": "Python 3 (ipykernel)",
   "language": "python",
   "name": "python3"
  },
  "language_info": {
   "codemirror_mode": {
    "name": "ipython",
    "version": 3
   },
   "file_extension": ".py",
   "mimetype": "text/x-python",
   "name": "python",
   "nbconvert_exporter": "python",
   "pygments_lexer": "ipython3",
   "version": "3.11.4"
  }
 },
 "nbformat": 4,
 "nbformat_minor": 5
}
