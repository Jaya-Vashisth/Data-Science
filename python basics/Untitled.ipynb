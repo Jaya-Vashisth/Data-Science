{
 "cells": [
  {
   "cell_type": "code",
   "execution_count": 21,
   "id": "b7d9d199",
   "metadata": {},
   "outputs": [
    {
     "data": {
      "text/plain": [
       "5"
      ]
     },
     "execution_count": 21,
     "metadata": {},
     "output_type": "execute_result"
    }
   ],
   "source": [
    "l = [2,3, 4, 5 ,6]\n",
    "\n",
    "# length of list\n",
    "len(list)"
   ]
  },
  {
   "cell_type": "code",
   "execution_count": 22,
   "id": "2342d157",
   "metadata": {},
   "outputs": [
    {
     "data": {
      "text/plain": [
       "[6, 5, 4, 3, 2]"
      ]
     },
     "execution_count": 22,
     "metadata": {},
     "output_type": "execute_result"
    }
   ],
   "source": [
    "# reverse the list\n",
    "l[::-1]"
   ]
  },
  {
   "cell_type": "code",
   "execution_count": 27,
   "id": "8de23f8c",
   "metadata": {},
   "outputs": [
    {
     "data": {
      "text/plain": [
       "2"
      ]
     },
     "execution_count": 27,
     "metadata": {},
     "output_type": "execute_result"
    }
   ],
   "source": [
    "min(l)"
   ]
  },
  {
   "cell_type": "code",
   "execution_count": 28,
   "id": "0487a546",
   "metadata": {},
   "outputs": [
    {
     "data": {
      "text/plain": [
       "6"
      ]
     },
     "execution_count": 28,
     "metadata": {},
     "output_type": "execute_result"
    }
   ],
   "source": [
    "max(l)"
   ]
  },
  {
   "cell_type": "code",
   "execution_count": 29,
   "id": "419237ab",
   "metadata": {},
   "outputs": [
    {
     "data": {
      "text/plain": [
       "20"
      ]
     },
     "execution_count": 29,
     "metadata": {},
     "output_type": "execute_result"
    }
   ],
   "source": [
    "sum(l)"
   ]
  },
  {
   "cell_type": "code",
   "execution_count": 30,
   "id": "b381b0d3",
   "metadata": {},
   "outputs": [],
   "source": [
    "average = sum(l)/ len(l)"
   ]
  },
  {
   "cell_type": "code",
   "execution_count": 31,
   "id": "979c8a3c",
   "metadata": {},
   "outputs": [
    {
     "name": "stdout",
     "output_type": "stream",
     "text": [
      "4.0\n"
     ]
    }
   ],
   "source": [
    "print(average)"
   ]
  },
  {
   "cell_type": "code",
   "execution_count": 32,
   "id": "fd513916",
   "metadata": {},
   "outputs": [],
   "source": [
    "import random"
   ]
  },
  {
   "cell_type": "code",
   "execution_count": 40,
   "id": "05c08d72",
   "metadata": {},
   "outputs": [],
   "source": [
    "random.shuffle(l)"
   ]
  },
  {
   "cell_type": "code",
   "execution_count": 41,
   "id": "fba27519",
   "metadata": {},
   "outputs": [
    {
     "data": {
      "text/plain": [
       "[4, 5, 6, 3, 2]"
      ]
     },
     "execution_count": 41,
     "metadata": {},
     "output_type": "execute_result"
    }
   ],
   "source": [
    "l"
   ]
  },
  {
   "cell_type": "code",
   "execution_count": 45,
   "id": "7d5a6b04",
   "metadata": {},
   "outputs": [
    {
     "data": {
      "text/plain": [
       "[6, 3, 2]"
      ]
     },
     "execution_count": 45,
     "metadata": {},
     "output_type": "execute_result"
    }
   ],
   "source": [
    "l[-3:]"
   ]
  },
  {
   "cell_type": "code",
   "execution_count": 46,
   "id": "069b465a",
   "metadata": {},
   "outputs": [
    {
     "data": {
      "text/plain": [
       "[4, 5, 6, 3]"
      ]
     },
     "execution_count": 46,
     "metadata": {},
     "output_type": "execute_result"
    }
   ],
   "source": [
    "l[:-1]"
   ]
  },
  {
   "cell_type": "code",
   "execution_count": 47,
   "id": "b22d7db7",
   "metadata": {},
   "outputs": [
    {
     "data": {
      "text/plain": [
       "[5, 6]"
      ]
     },
     "execution_count": 47,
     "metadata": {},
     "output_type": "execute_result"
    }
   ],
   "source": [
    "l[-4:-2]"
   ]
  },
  {
   "cell_type": "code",
   "execution_count": 49,
   "id": "7bf314e4",
   "metadata": {},
   "outputs": [
    {
     "data": {
      "text/plain": [
       "[5]"
      ]
     },
     "execution_count": 49,
     "metadata": {},
     "output_type": "execute_result"
    }
   ],
   "source": [
    "l[1:-3]"
   ]
  },
  {
   "cell_type": "code",
   "execution_count": 51,
   "id": "7a742592",
   "metadata": {},
   "outputs": [],
   "source": [
    "def extendList(val, list=[]):\n",
    "    list.append(val) \n",
    "    return list"
   ]
  },
  {
   "cell_type": "code",
   "execution_count": 52,
   "id": "19ea3d70",
   "metadata": {},
   "outputs": [],
   "source": [
    "list1 = extendList(10)\n",
    "list2 = extendList(123,[])\n",
    "list3 = extendList('a')"
   ]
  },
  {
   "cell_type": "code",
   "execution_count": 54,
   "id": "1b1b822a",
   "metadata": {},
   "outputs": [
    {
     "name": "stdout",
     "output_type": "stream",
     "text": [
      "list1 = [10, 'a']\n",
      "list2 = [123]\n",
      "list3 = [10, 'a']\n"
     ]
    }
   ],
   "source": [
    "print (\"list1 = %s\" % list1)\n",
    "print (\"list2 = %s\" % list2)\n",
    "print (\"list3 = %s\" % list3)"
   ]
  },
  {
   "cell_type": "code",
   "execution_count": 56,
   "id": "b54057dd",
   "metadata": {},
   "outputs": [
    {
     "name": "stdout",
     "output_type": "stream",
     "text": [
      "1\n"
     ]
    }
   ],
   "source": [
    "class A():\n",
    "    x = 1\n",
    "\n",
    "a = A()\n",
    "print (a.x)"
   ]
  },
  {
   "cell_type": "code",
   "execution_count": 58,
   "id": "fb285248",
   "metadata": {},
   "outputs": [
    {
     "name": "stdout",
     "output_type": "stream",
     "text": [
      "1\n",
      "1\n",
      "1\n",
      "1\n",
      "1\n",
      "1\n",
      "1\n",
      "1\n",
      "1\n",
      "1\n",
      "5\n",
      "5\n",
      "5\n",
      "5\n",
      "5\n",
      "5\n",
      "5\n",
      "5\n",
      "5\n",
      "5\n"
     ]
    }
   ],
   "source": [
    "b = [A()] * 10\n",
    "\n",
    "for ix in b:\n",
    "    print(ix.x)\n",
    "\n",
    "b[2].x = 5\n",
    "\n",
    "for ix in b:\n",
    "    print(ix.x)"
   ]
  },
  {
   "cell_type": "code",
   "execution_count": 90,
   "id": "043f2e75",
   "metadata": {},
   "outputs": [],
   "source": [
    "class Obj:\n",
    "    def __init__(self, a=0, b=1):\n",
    "        self.a = a\n",
    "        self.b = b\n",
    "        \n",
    "    def get_a(self) :\n",
    "        return self.a\n",
    "    \n",
    "    def get_b(self) :\n",
    "        return self.b\n",
    "    "
   ]
  },
  {
   "cell_type": "code",
   "execution_count": 91,
   "id": "b11409fb",
   "metadata": {},
   "outputs": [],
   "source": [
    "if __name__ == \"__main__\":\n",
    "    objects = [Obj(1, 2), Obj(5, 4), Obj(7, 3),Obj(11, 42), Obj(8, 0), Obj(5, 9)]"
   ]
  },
  {
   "cell_type": "code",
   "execution_count": 92,
   "id": "96d0c1b1",
   "metadata": {},
   "outputs": [],
   "source": [
    "o = Obj(4,5)"
   ]
  },
  {
   "cell_type": "code",
   "execution_count": 93,
   "id": "87a92640",
   "metadata": {},
   "outputs": [
    {
     "name": "stdout",
     "output_type": "stream",
     "text": [
      "<__main__.Obj object at 0x000001EAAD878F50>\n"
     ]
    }
   ],
   "source": [
    "print(o)"
   ]
  },
  {
   "cell_type": "code",
   "execution_count": 95,
   "id": "3578354c",
   "metadata": {},
   "outputs": [],
   "source": [
    "s = \"This is introduction to python for web development\"\n",
    "\n",
    "x = s.split(\" \")"
   ]
  },
  {
   "cell_type": "code",
   "execution_count": 96,
   "id": "08e8c26e",
   "metadata": {},
   "outputs": [
    {
     "data": {
      "text/plain": [
       "['This', 'is', 'introduction', 'to', 'python', 'for', 'web', 'development']"
      ]
     },
     "execution_count": 96,
     "metadata": {},
     "output_type": "execute_result"
    }
   ],
   "source": [
    "x"
   ]
  },
  {
   "cell_type": "code",
   "execution_count": 102,
   "id": "263ead08",
   "metadata": {},
   "outputs": [
    {
     "name": "stdout",
     "output_type": "stream",
     "text": [
      "@ \r\n",
      "@ @ \r\n",
      "@ @ @ \r\n",
      "@ @ @ @ \r\n",
      "@ @ @ @ @ \r\n"
     ]
    }
   ],
   "source": [
    "for i in range(0,5):\n",
    "    for j in range(0,i+1):\n",
    "        print(\"@\", end = \" \")\n",
    "    print('\\r')"
   ]
  },
  {
   "cell_type": "code",
   "execution_count": 108,
   "id": "0f50bc97",
   "metadata": {},
   "outputs": [
    {
     "name": "stdout",
     "output_type": "stream",
     "text": [
      "['b', 'cd', 'eg', 'kialaop']\n"
     ]
    }
   ],
   "source": [
    "some_string = \"bacdaegakialaop\"\n",
    "print (some_string.split('a', 3))\n"
   ]
  },
  {
   "cell_type": "code",
   "execution_count": null,
   "id": "45aa8226",
   "metadata": {},
   "outputs": [],
   "source": [
    "x = []\n",
    "x = input(\"Enter the list of integers\")\n",
    "y = []\n",
    "\n",
    "for i in range(len(x)-1):\n",
    "    if(x[i] + x[i+1] > 0):\n",
    "        y.append(x[i]) \n",
    "    else:\n",
    "        y.append(x[i])\n",
    "        return y\n"
   ]
  },
  {
   "cell_type": "code",
   "execution_count": null,
   "id": "dbade62f",
   "metadata": {},
   "outputs": [],
   "source": []
  }
 ],
 "metadata": {
  "kernelspec": {
   "display_name": "Python 3 (ipykernel)",
   "language": "python",
   "name": "python3"
  },
  "language_info": {
   "codemirror_mode": {
    "name": "ipython",
    "version": 3
   },
   "file_extension": ".py",
   "mimetype": "text/x-python",
   "name": "python",
   "nbconvert_exporter": "python",
   "pygments_lexer": "ipython3",
   "version": "3.11.4"
  }
 },
 "nbformat": 4,
 "nbformat_minor": 5
}
