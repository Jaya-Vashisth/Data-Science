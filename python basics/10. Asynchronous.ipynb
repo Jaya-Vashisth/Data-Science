{
 "cells": [
  {
   "cell_type": "markdown",
   "id": "f4529b00",
   "metadata": {},
   "source": [
    "# Asynchronous in Python"
   ]
  },
  {
   "cell_type": "markdown",
   "id": "dfdf20b9",
   "metadata": {},
   "source": [
    "## Multi Process"
   ]
  },
  {
   "cell_type": "code",
   "execution_count": 8,
   "id": "91e145d5",
   "metadata": {},
   "outputs": [],
   "source": [
    "from multiprocessing import Process "
   ]
  },
  {
   "cell_type": "code",
   "execution_count": 9,
   "id": "46fc7f46",
   "metadata": {},
   "outputs": [],
   "source": [
    "def showSquare(num = 2):\n",
    "    print(num ** 2)"
   ]
  },
  {
   "cell_type": "code",
   "execution_count": 10,
   "id": "c81a9ca8",
   "metadata": {},
   "outputs": [],
   "source": [
    "procs = []"
   ]
  },
  {
   "cell_type": "code",
   "execution_count": 11,
   "id": "72ed8972",
   "metadata": {},
   "outputs": [],
   "source": [
    "for i in range(5):\n",
    "    procs.append(Process(target = showSquare, args = (i+1, )))\n"
   ]
  },
  {
   "cell_type": "code",
   "execution_count": 12,
   "id": "649b6bf8",
   "metadata": {},
   "outputs": [
    {
     "name": "stdout",
     "output_type": "stream",
     "text": [
      "Hello\n"
     ]
    }
   ],
   "source": [
    "for proc in procs:\n",
    "    proc.start()\n",
    "print(\"Hello\")"
   ]
  },
  {
   "cell_type": "code",
   "execution_count": 13,
   "id": "51e11290",
   "metadata": {},
   "outputs": [],
   "source": [
    "for proc in procs:\n",
    "    proc.join()"
   ]
  },
  {
   "cell_type": "markdown",
   "id": "d817249d",
   "metadata": {},
   "source": [
    "# Multi Thread"
   ]
  },
  {
   "cell_type": "code",
   "execution_count": 39,
   "id": "8d5c9023",
   "metadata": {},
   "outputs": [],
   "source": [
    "from threading import Thread"
   ]
  },
  {
   "cell_type": "code",
   "execution_count": 40,
   "id": "8f8b56c7",
   "metadata": {},
   "outputs": [],
   "source": [
    "def square(n):\n",
    "    print(\"square is\", n**2)\n",
    "def cube(n):\n",
    "    print(\"cube is \", n**3)"
   ]
  },
  {
   "cell_type": "code",
   "execution_count": 41,
   "id": "e372c18e",
   "metadata": {},
   "outputs": [],
   "source": [
    "t1 = Thread(target = square, args = (4,))\n",
    "t2 = Thread(target = cube, args = (3,))"
   ]
  },
  {
   "cell_type": "code",
   "execution_count": 42,
   "id": "b761269a",
   "metadata": {},
   "outputs": [
    {
     "name": "stdout",
     "output_type": "stream",
     "text": [
      "square is 16\n",
      "cube is  27\n",
      "hello\n"
     ]
    }
   ],
   "source": [
    "t1.start()\n",
    "t2.start()\n",
    "print(\"hello\")"
   ]
  },
  {
   "cell_type": "code",
   "execution_count": 43,
   "id": "50956c06",
   "metadata": {},
   "outputs": [],
   "source": [
    "from queue import Queue"
   ]
  },
  {
   "cell_type": "code",
   "execution_count": null,
   "id": "02d4d5e1",
   "metadata": {},
   "outputs": [],
   "source": [
    "def producer(q):\n",
    "    for in range(4):\n",
    "        q.put(i)\n",
    "        print(\"publisher\", i)\n",
    "def consumer():\n",
    "    while True:\n",
    "        data = q.get()\n",
    "        "
   ]
  }
 ],
 "metadata": {
  "kernelspec": {
   "display_name": "Python 3 (ipykernel)",
   "language": "python",
   "name": "python3"
  },
  "language_info": {
   "codemirror_mode": {
    "name": "ipython",
    "version": 3
   },
   "file_extension": ".py",
   "mimetype": "text/x-python",
   "name": "python",
   "nbconvert_exporter": "python",
   "pygments_lexer": "ipython3",
   "version": "3.11.4"
  }
 },
 "nbformat": 4,
 "nbformat_minor": 5
}
