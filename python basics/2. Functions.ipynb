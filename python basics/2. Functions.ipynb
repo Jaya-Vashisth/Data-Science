{
 "cells": [
  {
   "cell_type": "markdown",
   "id": "858ce03f",
   "metadata": {},
   "source": [
    "## Function \n",
    " Syntax - def function-name (argument(s))"
   ]
  },
  {
   "cell_type": "code",
   "execution_count": 1,
   "id": "d9f051cd",
   "metadata": {},
   "outputs": [],
   "source": [
    "#defining a function sheldon_knock\n",
    "\n",
    "def sheldon_knock():\n",
    "    print(\"knock knock\")\n",
    "    print(\"knock knock\")\n",
    "    print(\"knock knock\")"
   ]
  },
  {
   "cell_type": "code",
   "execution_count": 2,
   "id": "9d5e1c90",
   "metadata": {},
   "outputs": [
    {
     "name": "stdout",
     "output_type": "stream",
     "text": [
      "knock knock\n",
      "knock knock\n",
      "knock knock\n",
      "30\n",
      "0\n",
      "1\n",
      "2\n",
      "3\n",
      "4\n",
      "5\n",
      "6\n",
      "7\n",
      "8\n",
      "9\n",
      "knock knock\n",
      "knock knock\n",
      "knock knock\n"
     ]
    }
   ],
   "source": [
    "sheldon_knock()\n",
    "print(10 + 20)\n",
    "\n",
    "for i in range(10):\n",
    "    print(i)\n",
    "sheldon_knock()"
   ]
  },
  {
   "cell_type": "markdown",
   "id": "7f207a95",
   "metadata": {},
   "source": [
    "## Function can take parameters"
   ]
  },
  {
   "cell_type": "code",
   "execution_count": 3,
   "id": "ce7d277d",
   "metadata": {},
   "outputs": [],
   "source": [
    "# with argument\n",
    "def sheldon_knock(name , number_of_time):\n",
    "    for i in range(number_of_time):\n",
    "        print(\"knock knock knock {}\".format(name))"
   ]
  },
  {
   "cell_type": "code",
   "execution_count": 4,
   "id": "596b0618",
   "metadata": {},
   "outputs": [
    {
     "name": "stdout",
     "output_type": "stream",
     "text": [
      "knock knock knock Shreya\n",
      "knock knock knock Shreya\n",
      "knock knock knock Shreya\n",
      "knock knock knock Shreya\n",
      "knock knock knock Shreya\n",
      "knock knock knock Shreya\n",
      "knock knock knock Shreya\n",
      "knock knock knock Shreya\n",
      "knock knock knock Shreya\n",
      "knock knock knock Shreya\n"
     ]
    }
   ],
   "source": [
    "sheldon_knock(\"Shreya\", 10)"
   ]
  },
  {
   "cell_type": "code",
   "execution_count": 5,
   "id": "ac13e4f9",
   "metadata": {},
   "outputs": [],
   "source": [
    "# default parameters\n",
    "\n",
    "def sheldon_knock(name , number_of_time = 3):\n",
    "    for i in range(number_of_time):\n",
    "         print(\"knock knock knock {}\".format(name))"
   ]
  },
  {
   "cell_type": "markdown",
   "id": "47b13089",
   "metadata": {},
   "source": [
    "## Return statement"
   ]
  },
  {
   "cell_type": "code",
   "execution_count": 6,
   "id": "da87601d",
   "metadata": {},
   "outputs": [],
   "source": [
    "def add(a, b):\n",
    "    return a+b\n"
   ]
  },
  {
   "cell_type": "code",
   "execution_count": 7,
   "id": "72e1f4b9",
   "metadata": {},
   "outputs": [
    {
     "name": "stdout",
     "output_type": "stream",
     "text": [
      "3\n"
     ]
    }
   ],
   "source": [
    "x = add(1, 2)\n",
    "print(x)"
   ]
  },
  {
   "cell_type": "code",
   "execution_count": 8,
   "id": "b4385dda",
   "metadata": {},
   "outputs": [],
   "source": [
    "def div(a, b):\n",
    "    try:\n",
    "        return a/b\n",
    "    except:\n",
    "        print('Error')\n",
    "    finally:\n",
    "        print('Wrapping up')\n",
    "        #return 10       #it will return 10 always no matter in try we get\n",
    "        "
   ]
  },
  {
   "cell_type": "code",
   "execution_count": 9,
   "id": "913dca1f",
   "metadata": {},
   "outputs": [
    {
     "name": "stdout",
     "output_type": "stream",
     "text": [
      "Wrapping up\n"
     ]
    },
    {
     "data": {
      "text/plain": [
       "5.0"
      ]
     },
     "execution_count": 9,
     "metadata": {},
     "output_type": "execute_result"
    }
   ],
   "source": [
    "div(10,2) #no matter what the input finally statement will always run"
   ]
  },
  {
   "cell_type": "code",
   "execution_count": 10,
   "id": "91264ede",
   "metadata": {},
   "outputs": [
    {
     "name": "stdout",
     "output_type": "stream",
     "text": [
      "Error\n",
      "Wrapping up\n"
     ]
    }
   ],
   "source": [
    "div(10,0)  # final statement run too"
   ]
  },
  {
   "cell_type": "markdown",
   "id": "37dec35f",
   "metadata": {},
   "source": [
    "## Local and Global variables"
   ]
  },
  {
   "cell_type": "code",
   "execution_count": 11,
   "id": "fe8e7679",
   "metadata": {},
   "outputs": [],
   "source": [
    "x = 10\n",
    "def show():\n",
    "    # x+=5   'error' as we are assigning value in local variable before assignment\n",
    "    x = 5       #local varable\n",
    "    print(x)"
   ]
  },
  {
   "cell_type": "code",
   "execution_count": 12,
   "id": "4e42d086",
   "metadata": {},
   "outputs": [
    {
     "name": "stdout",
     "output_type": "stream",
     "text": [
      "5\n",
      "10\n"
     ]
    }
   ],
   "source": [
    "show()   #local\n",
    "print(x) #global"
   ]
  },
  {
   "cell_type": "code",
   "execution_count": 13,
   "id": "5fcfece0",
   "metadata": {},
   "outputs": [],
   "source": [
    "x = 10\n",
    "def show():\n",
    "    global x\n",
    "    x += 5      \n",
    "    print(x)"
   ]
  },
  {
   "cell_type": "code",
   "execution_count": 14,
   "id": "6611681c",
   "metadata": {},
   "outputs": [
    {
     "name": "stdout",
     "output_type": "stream",
     "text": [
      "15\n",
      "15\n"
     ]
    }
   ],
   "source": [
    "show()   \n",
    "print(x) "
   ]
  },
  {
   "cell_type": "code",
   "execution_count": 15,
   "id": "e4557ddb",
   "metadata": {},
   "outputs": [],
   "source": [
    "x = 10\n",
    "def show():\n",
    "    y = 'local'     \n",
    "    print(x)    #global variable is accessed\n",
    "    print(y)\n",
    "    "
   ]
  },
  {
   "cell_type": "code",
   "execution_count": 16,
   "id": "309a729e",
   "metadata": {},
   "outputs": [
    {
     "name": "stdout",
     "output_type": "stream",
     "text": [
      "10\n",
      "local\n",
      "10\n"
     ]
    },
    {
     "ename": "NameError",
     "evalue": "name 'Y' is not defined",
     "output_type": "error",
     "traceback": [
      "\u001b[1;31m---------------------------------------------------------------------------\u001b[0m",
      "\u001b[1;31mNameError\u001b[0m                                 Traceback (most recent call last)",
      "Cell \u001b[1;32mIn[16], line 3\u001b[0m\n\u001b[0;32m      1\u001b[0m show()\n\u001b[0;32m      2\u001b[0m \u001b[38;5;28mprint\u001b[39m(x)\n\u001b[1;32m----> 3\u001b[0m \u001b[38;5;28mprint\u001b[39m(\u001b[43mY\u001b[49m)  \u001b[38;5;66;03m#local cannot be accessed in global scope hence error\u001b[39;00m\n",
      "\u001b[1;31mNameError\u001b[0m: name 'Y' is not defined"
     ]
    }
   ],
   "source": [
    "show()\n",
    "print(x)\n",
    "print(Y)  #local cannot be accessed in global scope hence error"
   ]
  },
  {
   "cell_type": "code",
   "execution_count": 17,
   "id": "aa391332",
   "metadata": {},
   "outputs": [],
   "source": [
    "del x  #delete x from global scope"
   ]
  },
  {
   "cell_type": "code",
   "execution_count": 20,
   "id": "ad4cc4a4",
   "metadata": {},
   "outputs": [],
   "source": [
    "#enclosures\n",
    "\n",
    "def outer():\n",
    "    x = 10   #it is not in global scope now but also not in local scope of inner function hence accessed by keyword nonlocal\n",
    "    \n",
    "    def inner():\n",
    "        nonlocal x    #if not used then x = 10 could never be used as it search x in global scope which is not there\n",
    "        x += 5\n",
    "        print(x)\n",
    "        \n",
    "    inner()\n",
    "    print(x)"
   ]
  },
  {
   "cell_type": "code",
   "execution_count": 21,
   "id": "67fa2085",
   "metadata": {},
   "outputs": [
    {
     "name": "stdout",
     "output_type": "stream",
     "text": [
      "15\n",
      "15\n"
     ]
    }
   ],
   "source": [
    "outer()"
   ]
  },
  {
   "cell_type": "markdown",
   "id": "f710b44b",
   "metadata": {},
   "source": [
    "## Default arguments"
   ]
  },
  {
   "cell_type": "code",
   "execution_count": 23,
   "id": "9ead6bec",
   "metadata": {},
   "outputs": [],
   "source": [
    "def show(a, b, c):   #formal parameter\n",
    "    print(a)\n",
    "    print(b)\n",
    "    print(c)\n",
    "    "
   ]
  },
  {
   "cell_type": "code",
   "execution_count": 24,
   "id": "f9a8f220",
   "metadata": {},
   "outputs": [
    {
     "name": "stdout",
     "output_type": "stream",
     "text": [
      "hello\n",
      "world\n",
      "python\n"
     ]
    }
   ],
   "source": [
    "show(\"hello\", \"world\", \"python\") #actual parameter"
   ]
  },
  {
   "cell_type": "code",
   "execution_count": 25,
   "id": "69234992",
   "metadata": {},
   "outputs": [
    {
     "name": "stdout",
     "output_type": "stream",
     "text": [
      "python\n",
      "hello\n",
      "world\n"
     ]
    }
   ],
   "source": [
    "show(b = \"hello\", c = \"world\", a = \"python\") #keyworkd arguments"
   ]
  },
  {
   "cell_type": "code",
   "execution_count": 26,
   "id": "c29fcac8",
   "metadata": {},
   "outputs": [],
   "source": [
    "print?"
   ]
  },
  {
   "cell_type": "code",
   "execution_count": 27,
   "id": "b1484107",
   "metadata": {},
   "outputs": [
    {
     "name": "stdout",
     "output_type": "stream",
     "text": [
      "jatin katyal is mentor\n"
     ]
    }
   ],
   "source": [
    "print(\"jatin\", \"katyal\", \"is\", \"mentor\")"
   ]
  },
  {
   "cell_type": "markdown",
   "id": "7a79ef3f",
   "metadata": {},
   "source": [
    "## Packing arguments\n",
    "- args pack arguments\n",
    "- kwargs pack key-value arguments\n",
    "\n",
    "- order (parameters , *args , default parameters , **kwargs)"
   ]
  },
  {
   "cell_type": "code",
   "execution_count": 28,
   "id": "c405b2ba",
   "metadata": {},
   "outputs": [],
   "source": [
    "def show(*args):   #def show(a,b,c, *args)\n",
    "    print(args)"
   ]
  },
  {
   "cell_type": "code",
   "execution_count": 29,
   "id": "93236b68",
   "metadata": {},
   "outputs": [
    {
     "name": "stdout",
     "output_type": "stream",
     "text": [
      "()\n"
     ]
    }
   ],
   "source": [
    "show()"
   ]
  },
  {
   "cell_type": "code",
   "execution_count": 30,
   "id": "f4718e7f",
   "metadata": {},
   "outputs": [
    {
     "name": "stdout",
     "output_type": "stream",
     "text": [
      "(1, 3, 4, 'jatin')\n"
     ]
    }
   ],
   "source": [
    "show(1,3,4,'jatin')"
   ]
  },
  {
   "cell_type": "code",
   "execution_count": 35,
   "id": "d2f06334",
   "metadata": {},
   "outputs": [],
   "source": [
    "def show(a, b, c, *args , d = 10 , e = 20 , **kwargs):\n",
    "    print(a)\n",
    "    print(args)\n",
    "    print(d)\n",
    "    print(e)\n",
    "    print(kwargs)"
   ]
  },
  {
   "cell_type": "code",
   "execution_count": 36,
   "id": "e5515164",
   "metadata": {},
   "outputs": [
    {
     "name": "stdout",
     "output_type": "stream",
     "text": [
      "1\n",
      "('jatin', 'katyal')\n",
      "100\n",
      "20\n",
      "{'name': 'jatin'}\n"
     ]
    }
   ],
   "source": [
    "show(1, 2, 3,'jatin', 'katyal', d=100, name = \"jatin\")"
   ]
  },
  {
   "cell_type": "markdown",
   "id": "b55e384e",
   "metadata": {},
   "source": [
    "## Lambda funtion\n",
    "Syntactical Sugar\n",
    "- sytax --  lambda comma separated variables: return statement"
   ]
  },
  {
   "cell_type": "code",
   "execution_count": 37,
   "id": "4f21eba5",
   "metadata": {},
   "outputs": [],
   "source": [
    "def add(a, b):\n",
    "    return a+b"
   ]
  },
  {
   "cell_type": "code",
   "execution_count": 38,
   "id": "66836ad8",
   "metadata": {},
   "outputs": [
    {
     "name": "stdout",
     "output_type": "stream",
     "text": [
      "<function add at 0x000001B28DF6DBC0>\n"
     ]
    }
   ],
   "source": [
    "print(add)"
   ]
  },
  {
   "cell_type": "code",
   "execution_count": 39,
   "id": "da59e793",
   "metadata": {},
   "outputs": [],
   "source": [
    "add = lambda a, b: a+b"
   ]
  },
  {
   "cell_type": "code",
   "execution_count": 40,
   "id": "c5cf213b",
   "metadata": {},
   "outputs": [],
   "source": [
    "a = [5,2,4,5,1]"
   ]
  },
  {
   "cell_type": "code",
   "execution_count": 41,
   "id": "996f0abd",
   "metadata": {},
   "outputs": [
    {
     "data": {
      "text/plain": [
       "[1, 2, 4, 5, 5]"
      ]
     },
     "execution_count": 41,
     "metadata": {},
     "output_type": "execute_result"
    }
   ],
   "source": [
    "sorted(a)"
   ]
  },
  {
   "cell_type": "code",
   "execution_count": 42,
   "id": "ce816676",
   "metadata": {},
   "outputs": [],
   "source": [
    "a = [(\"jaya\", 49 ), (\"anchal\", 49) , (\"isha\", 29), (\"hardshita\" , 48)] "
   ]
  },
  {
   "cell_type": "code",
   "execution_count": 44,
   "id": "67424955",
   "metadata": {},
   "outputs": [
    {
     "data": {
      "text/plain": [
       "[('anchal', 49), ('hardshita', 48), ('isha', 29), ('jaya', 49)]"
      ]
     },
     "execution_count": 44,
     "metadata": {},
     "output_type": "execute_result"
    }
   ],
   "source": [
    "sorted(a)"
   ]
  },
  {
   "cell_type": "code",
   "execution_count": 43,
   "id": "54a3fb16",
   "metadata": {},
   "outputs": [
    {
     "data": {
      "text/plain": [
       "[('isha', 29), ('hardshita', 48), ('jaya', 49), ('anchal', 49)]"
      ]
     },
     "execution_count": 43,
     "metadata": {},
     "output_type": "execute_result"
    }
   ],
   "source": [
    "sorted(a,key = lambda x:x[1]) #sort acc to second value "
   ]
  },
  {
   "cell_type": "markdown",
   "id": "93399907",
   "metadata": {},
   "source": [
    "## Decorators"
   ]
  },
  {
   "cell_type": "code",
   "execution_count": 49,
   "id": "98c38a93",
   "metadata": {},
   "outputs": [],
   "source": [
    "users = {\n",
    "    \"jaya\":\"password\",\n",
    "    \"ritvik\":\"kmv\"\n",
    "}"
   ]
  },
  {
   "cell_type": "code",
   "execution_count": 52,
   "id": "8416152d",
   "metadata": {},
   "outputs": [],
   "source": [
    "def show(username , password):\n",
    "    if username in users and users[username] == password:\n",
    "        print(\"hello world\")\n",
    "    else:\n",
    "        print(\"Incorrect\")"
   ]
  },
  {
   "cell_type": "code",
   "execution_count": 54,
   "id": "1bbd154a",
   "metadata": {},
   "outputs": [
    {
     "name": "stdout",
     "output_type": "stream",
     "text": [
      "Incorrect\n"
     ]
    }
   ],
   "source": [
    "show('jaya', 'dkdhgd')"
   ]
  },
  {
   "cell_type": "code",
   "execution_count": 61,
   "id": "b382c405",
   "metadata": {},
   "outputs": [],
   "source": [
    "def add(username , password, a, b):\n",
    "    if username in users and users[username] == password:\n",
    "            return a+b\n",
    "    else: \n",
    "        print('incorrect')"
   ]
  },
  {
   "cell_type": "code",
   "execution_count": null,
   "id": "dda7f998",
   "metadata": {},
   "outputs": [],
   "source": []
  },
  {
   "cell_type": "code",
   "execution_count": 62,
   "id": "5956c47e",
   "metadata": {},
   "outputs": [],
   "source": [
    "def login_require(func):\n",
    "    def wrapper(username, password, *args , **kwargs):\n",
    "        if username in users and users[username] == password:\n",
    "                #user is authenticated\n",
    "                func(*args, **kwargs)\n",
    "        else:\n",
    "            print(\"incorrect\")\n",
    "    return wrapper"
   ]
  },
  {
   "cell_type": "code",
   "execution_count": 63,
   "id": "4294a257",
   "metadata": {},
   "outputs": [],
   "source": []
  },
  {
   "cell_type": "code",
   "execution_count": 67,
   "id": "0f198b5c",
   "metadata": {},
   "outputs": [],
   "source": [
    "protected_add = login_require(add)\n"
   ]
  },
  {
   "cell_type": "code",
   "execution_count": 68,
   "id": "ff9ff93b",
   "metadata": {},
   "outputs": [
    {
     "name": "stdout",
     "output_type": "stream",
     "text": [
      "incorrect\n"
     ]
    }
   ],
   "source": [
    "protected_add(\"jatin\", \"password\",1,2)"
   ]
  },
  {
   "cell_type": "code",
   "execution_count": null,
   "id": "fffa048d",
   "metadata": {},
   "outputs": [],
   "source": []
  }
 ],
 "metadata": {
  "kernelspec": {
   "display_name": "Python 3 (ipykernel)",
   "language": "python",
   "name": "python3"
  },
  "language_info": {
   "codemirror_mode": {
    "name": "ipython",
    "version": 3
   },
   "file_extension": ".py",
   "mimetype": "text/x-python",
   "name": "python",
   "nbconvert_exporter": "python",
   "pygments_lexer": "ipython3",
   "version": "3.11.4"
  }
 },
 "nbformat": 4,
 "nbformat_minor": 5
}
