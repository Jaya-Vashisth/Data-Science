{
 "cells": [
  {
   "cell_type": "markdown",
   "id": "35237f6b",
   "metadata": {},
   "source": [
    "# Numpy"
   ]
  },
  {
   "cell_type": "code",
   "execution_count": 1,
   "id": "ff6f6498",
   "metadata": {},
   "outputs": [],
   "source": [
    "import numpy as np"
   ]
  },
  {
   "cell_type": "code",
   "execution_count": 2,
   "id": "be399135",
   "metadata": {},
   "outputs": [],
   "source": [
    "# Few important function in numpy"
   ]
  },
  {
   "cell_type": "code",
   "execution_count": 3,
   "id": "73a3335d",
   "metadata": {},
   "outputs": [],
   "source": [
    "a = np.array([1, 3, 5, 7])"
   ]
  },
  {
   "cell_type": "code",
   "execution_count": 4,
   "id": "391b3eed",
   "metadata": {},
   "outputs": [
    {
     "name": "stdout",
     "output_type": "stream",
     "text": [
      "<class 'numpy.ndarray'>\n"
     ]
    }
   ],
   "source": [
    "print(type(a))"
   ]
  },
  {
   "cell_type": "code",
   "execution_count": 5,
   "id": "43fddfdb",
   "metadata": {},
   "outputs": [
    {
     "data": {
      "text/plain": [
       "(4,)"
      ]
     },
     "execution_count": 5,
     "metadata": {},
     "output_type": "execute_result"
    }
   ],
   "source": [
    "a.shape"
   ]
  },
  {
   "cell_type": "code",
   "execution_count": 6,
   "id": "c1b74c89",
   "metadata": {},
   "outputs": [],
   "source": [
    "b = np.array([[1, 3, 4, 6],[3,4,5,6]])"
   ]
  },
  {
   "cell_type": "code",
   "execution_count": 7,
   "id": "e9dee86f",
   "metadata": {},
   "outputs": [
    {
     "data": {
      "text/plain": [
       "(2, 4)"
      ]
     },
     "execution_count": 7,
     "metadata": {},
     "output_type": "execute_result"
    }
   ],
   "source": [
    "b.shape"
   ]
  },
  {
   "cell_type": "code",
   "execution_count": 8,
   "id": "aaaf982e",
   "metadata": {},
   "outputs": [
    {
     "data": {
      "text/plain": [
       "array([[62, 71],\n",
       "       [71, 86]])"
      ]
     },
     "execution_count": 8,
     "metadata": {},
     "output_type": "execute_result"
    }
   ],
   "source": [
    "np.dot(b,b.T)  # dot product of two arrays"
   ]
  },
  {
   "cell_type": "code",
   "execution_count": 9,
   "id": "d9c52a4d",
   "metadata": {},
   "outputs": [
    {
     "data": {
      "text/plain": [
       "array([90, 76, 98, 61, 93, 60, 89, 96, 87, 98])"
      ]
     },
     "execution_count": 9,
     "metadata": {},
     "output_type": "execute_result"
    }
   ],
   "source": [
    "np.random.randint(60, 100, 10)\n"
   ]
  },
  {
   "cell_type": "code",
   "execution_count": 10,
   "id": "f70d5eea",
   "metadata": {},
   "outputs": [],
   "source": [
    "matrix = np.random.randint(60, 100, (5,5))"
   ]
  },
  {
   "cell_type": "code",
   "execution_count": 11,
   "id": "858712ad",
   "metadata": {},
   "outputs": [
    {
     "data": {
      "text/plain": [
       "array([[80, 68, 78, 98, 70],\n",
       "       [96, 65, 89, 81, 91],\n",
       "       [80, 68, 82, 63, 91],\n",
       "       [97, 61, 85, 67, 92],\n",
       "       [81, 60, 74, 86, 97]])"
      ]
     },
     "execution_count": 11,
     "metadata": {},
     "output_type": "execute_result"
    }
   ],
   "source": [
    "matrix"
   ]
  },
  {
   "cell_type": "code",
   "execution_count": 12,
   "id": "57add9aa",
   "metadata": {},
   "outputs": [
    {
     "data": {
      "text/plain": [
       "98"
      ]
     },
     "execution_count": 12,
     "metadata": {},
     "output_type": "execute_result"
    }
   ],
   "source": [
    "np.max(matrix)  #max element"
   ]
  },
  {
   "cell_type": "code",
   "execution_count": 13,
   "id": "e3a1e067",
   "metadata": {},
   "outputs": [
    {
     "data": {
      "text/plain": [
       "60"
      ]
     },
     "execution_count": 13,
     "metadata": {},
     "output_type": "execute_result"
    }
   ],
   "source": [
    "np.min(matrix) # min element"
   ]
  },
  {
   "cell_type": "code",
   "execution_count": 14,
   "id": "ca3901a9",
   "metadata": {},
   "outputs": [],
   "source": [
    "a = np.array([1, 3, 8, 1, 6, 6, 6, 6, 11, 3])"
   ]
  },
  {
   "cell_type": "code",
   "execution_count": 15,
   "id": "5c6fce1d",
   "metadata": {},
   "outputs": [
    {
     "data": {
      "text/plain": [
       "8"
      ]
     },
     "execution_count": 15,
     "metadata": {},
     "output_type": "execute_result"
    }
   ],
   "source": [
    "np.argmax(a)  # return index of the largest element"
   ]
  },
  {
   "cell_type": "code",
   "execution_count": 16,
   "id": "c1552a1a",
   "metadata": {},
   "outputs": [
    {
     "data": {
      "text/plain": [
       "0"
      ]
     },
     "execution_count": 16,
     "metadata": {},
     "output_type": "execute_result"
    }
   ],
   "source": [
    "np.argmin(a)  # index where the smallest element is appearing"
   ]
  },
  {
   "cell_type": "code",
   "execution_count": 17,
   "id": "670ae920",
   "metadata": {},
   "outputs": [
    {
     "data": {
      "text/plain": [
       "(array([ 1,  3,  6,  8, 11]),\n",
       " array([0, 1, 4, 2, 8], dtype=int64),\n",
       " array([2, 2, 4, 1, 1], dtype=int64))"
      ]
     },
     "execution_count": 17,
     "metadata": {},
     "output_type": "execute_result"
    }
   ],
   "source": [
    "# unique values present in the array\n",
    "b = np.unique(a, return_index = True, return_counts=True,)\n",
    "b"
   ]
  },
  {
   "cell_type": "code",
   "execution_count": 18,
   "id": "e6f4bade",
   "metadata": {},
   "outputs": [
    {
     "data": {
      "text/plain": [
       "6"
      ]
     },
     "execution_count": 18,
     "metadata": {},
     "output_type": "execute_result"
    }
   ],
   "source": [
    "# to find the element with the highest frequency\n",
    "indx = np.argmax(b[2])  # return index of element with highest frequency\n",
    "result = b[0][indx]  # to fetch the element from b which has 3 elements\n",
    "result"
   ]
  },
  {
   "cell_type": "code",
   "execution_count": 19,
   "id": "4d48b856",
   "metadata": {},
   "outputs": [
    {
     "data": {
      "text/plain": [
       "array([[80, 68, 78, 98, 70],\n",
       "       [96, 65, 89, 81, 91],\n",
       "       [80, 68, 82, 63, 91],\n",
       "       [97, 61, 85, 67, 92],\n",
       "       [81, 60, 74, 86, 97]])"
      ]
     },
     "execution_count": 19,
     "metadata": {},
     "output_type": "execute_result"
    }
   ],
   "source": [
    "# slicing in the array(1D, 2D, 3D)\n",
    "\n",
    "matrix"
   ]
  },
  {
   "cell_type": "code",
   "execution_count": 20,
   "id": "5802b465",
   "metadata": {},
   "outputs": [
    {
     "data": {
      "text/plain": [
       "array([[68, 82],\n",
       "       [61, 85]])"
      ]
     },
     "execution_count": 20,
     "metadata": {},
     "output_type": "execute_result"
    }
   ],
   "source": [
    "# extract element from row 2,3 and coulumn 1,2\n",
    "\n",
    "matrix[2:4, 1:3]"
   ]
  },
  {
   "cell_type": "code",
   "execution_count": 21,
   "id": "04232bd4",
   "metadata": {},
   "outputs": [
    {
     "name": "stdout",
     "output_type": "stream",
     "text": [
      "[[1. 1. 1.]\n",
      " [1. 1. 1.]]\n"
     ]
    }
   ],
   "source": [
    "b = np.ones((2,3))\n",
    "print(b)"
   ]
  },
  {
   "cell_type": "code",
   "execution_count": 22,
   "id": "2bed5426",
   "metadata": {},
   "outputs": [
    {
     "data": {
      "text/plain": [
       "array([[0., 0., 0.],\n",
       "       [0., 0., 0.],\n",
       "       [0., 0., 0.]])"
      ]
     },
     "execution_count": 22,
     "metadata": {},
     "output_type": "execute_result"
    }
   ],
   "source": [
    "c = np.zeros((3,3))\n",
    "c"
   ]
  },
  {
   "cell_type": "code",
   "execution_count": 23,
   "id": "c351d6e2",
   "metadata": {},
   "outputs": [
    {
     "name": "stdout",
     "output_type": "stream",
     "text": [
      "[[5 5 5 5]\n",
      " [5 5 5 5]\n",
      " [5 5 5 5]]\n"
     ]
    }
   ],
   "source": [
    "# array of some constants\n",
    "c = np.full((3,4),5)\n",
    "print(c)"
   ]
  },
  {
   "cell_type": "code",
   "execution_count": 24,
   "id": "2754ce84",
   "metadata": {},
   "outputs": [
    {
     "name": "stdout",
     "output_type": "stream",
     "text": [
      "[[1. 0. 0. 0.]\n",
      " [0. 1. 0. 0.]\n",
      " [0. 0. 1. 0.]\n",
      " [0. 0. 0. 1.]]\n"
     ]
    }
   ],
   "source": [
    "#identity matrix\n",
    "d = np.eye(4)\n",
    "print(d)"
   ]
  },
  {
   "cell_type": "code",
   "execution_count": 25,
   "id": "613f5c69",
   "metadata": {},
   "outputs": [
    {
     "data": {
      "text/plain": [
       "array([[0.3885114 , 0.82532352, 0.33135814, 0.035379  ],\n",
       "       [0.13398322, 0.54032497, 0.45389551, 0.83085172],\n",
       "       [0.02690409, 0.67351034, 0.04348383, 0.30568168]])"
      ]
     },
     "execution_count": 25,
     "metadata": {},
     "output_type": "execute_result"
    }
   ],
   "source": [
    "#random Matrix\n",
    "randomMatrix = np.random.random((3,4))\n",
    "randomMatrix"
   ]
  },
  {
   "cell_type": "code",
   "execution_count": 26,
   "id": "98de2e86",
   "metadata": {},
   "outputs": [
    {
     "name": "stdout",
     "output_type": "stream",
     "text": [
      "[0.82532352 0.54032497 0.67351034]\n"
     ]
    }
   ],
   "source": [
    "print(randomMatrix[:,1])"
   ]
  },
  {
   "cell_type": "code",
   "execution_count": 27,
   "id": "dea46916",
   "metadata": {},
   "outputs": [
    {
     "name": "stdout",
     "output_type": "stream",
     "text": [
      "[[0.3885114  0.82532352 0.33135814 0.035379  ]\n",
      " [0.13398322 1.         1.         1.        ]\n",
      " [0.02690409 0.67351034 0.04348383 0.30568168]]\n"
     ]
    }
   ],
   "source": [
    "#updating the values\n",
    "randomMatrix[1,1:]=1\n",
    "print(randomMatrix)"
   ]
  },
  {
   "cell_type": "code",
   "execution_count": 28,
   "id": "6293f571",
   "metadata": {},
   "outputs": [
    {
     "name": "stdout",
     "output_type": "stream",
     "text": [
      "[[0 0 0]\n",
      " [0 0 0]\n",
      " [0 0 0]]\n",
      "[[0 0 0]\n",
      " [5 5 5]\n",
      " [0 0 0]]\n"
     ]
    }
   ],
   "source": [
    "#set some rows and columns with any values\n",
    "z = np.zeros((3,3), dtype = int)\n",
    "print(z)\n",
    "z[1,:] = 5\n",
    "print(z)"
   ]
  },
  {
   "cell_type": "code",
   "execution_count": 29,
   "id": "e6ed7f61",
   "metadata": {},
   "outputs": [
    {
     "name": "stdout",
     "output_type": "stream",
     "text": [
      "[[ 6  8]\n",
      " [10 12]]\n",
      "[[ 6  8]\n",
      " [10 12]]\n",
      "[[-4 -4]\n",
      " [-4 -4]]\n",
      "[[ 5 12]\n",
      " [21 32]]\n",
      "[[0.2        0.33333333]\n",
      " [0.42857143 0.5       ]]\n",
      "[[2.23606798 2.44948974]\n",
      " [2.64575131 2.82842712]]\n"
     ]
    }
   ],
   "source": [
    "#mathematical operation\n",
    "\n",
    "x =  np.array([[1,2],[3,4]])\n",
    "y =  np.array([[5,6],[7,8]])\n",
    "\n",
    "#element wise operation\n",
    "print(x+y)\n",
    "print(np.add(x,y))\n",
    "print(np.subtract(x,y))\n",
    "print(np.multiply(x,y))\n",
    "print(np.divide(x,y))\n",
    "print(np.sqrt(y))"
   ]
  },
  {
   "cell_type": "code",
   "execution_count": 30,
   "id": "c37923a9",
   "metadata": {},
   "outputs": [
    {
     "name": "stdout",
     "output_type": "stream",
     "text": [
      "[[1 2]\n",
      " [3 4]]\n",
      "[[5 6]\n",
      " [7 8]]\n",
      "[[19 22]\n",
      " [43 50]]\n"
     ]
    }
   ],
   "source": [
    "# Dot product\n",
    "print(x)\n",
    "print(y)\n",
    "print(np.dot(x,y))"
   ]
  },
  {
   "cell_type": "code",
   "execution_count": 31,
   "id": "ca1b626a",
   "metadata": {},
   "outputs": [
    {
     "data": {
      "text/plain": [
       "30"
      ]
     },
     "execution_count": 31,
     "metadata": {},
     "output_type": "execute_result"
    }
   ],
   "source": [
    "a = np.array([1,2,3,4])\n",
    "b = np.array([1,2,3,4])\n",
    "a.dot(b)"
   ]
  },
  {
   "cell_type": "code",
   "execution_count": 32,
   "id": "c3e051d6",
   "metadata": {},
   "outputs": [
    {
     "name": "stdout",
     "output_type": "stream",
     "text": [
      "10\n"
     ]
    }
   ],
   "source": [
    "print(sum(a))"
   ]
  },
  {
   "cell_type": "code",
   "execution_count": 33,
   "id": "70304395",
   "metadata": {},
   "outputs": [
    {
     "name": "stdout",
     "output_type": "stream",
     "text": [
      "10\n",
      "[4 6]\n"
     ]
    }
   ],
   "source": [
    "print(np.sum(x))\n",
    "print(np.sum(x, axis = 0))"
   ]
  },
  {
   "cell_type": "code",
   "execution_count": 34,
   "id": "98400859",
   "metadata": {},
   "outputs": [
    {
     "name": "stdout",
     "output_type": "stream",
     "text": [
      "[1 2 3 4]\n",
      "[ 1  4  9 16]\n"
     ]
    }
   ],
   "source": [
    "# stacking of arrays\n",
    "print(a)\n",
    "b = b**2\n",
    "print(b)"
   ]
  },
  {
   "cell_type": "code",
   "execution_count": 35,
   "id": "2f136921",
   "metadata": {},
   "outputs": [],
   "source": [
    "s = np.stack((a,b), axis = 0)"
   ]
  },
  {
   "cell_type": "code",
   "execution_count": 36,
   "id": "4ba91350",
   "metadata": {},
   "outputs": [
    {
     "name": "stdout",
     "output_type": "stream",
     "text": [
      "[[ 1  2  3  4]\n",
      " [ 1  4  9 16]]\n",
      "[[ 1  2  3  4]\n",
      " [ 1  4  9 16]]\n"
     ]
    }
   ],
   "source": [
    "# reshape the array\n",
    "print(s)\n",
    "s = s.reshape((2,4))\n",
    "print(s)"
   ]
  },
  {
   "cell_type": "code",
   "execution_count": 37,
   "id": "cde058e5",
   "metadata": {},
   "outputs": [
    {
     "name": "stdout",
     "output_type": "stream",
     "text": [
      "[[ 1  2]\n",
      " [ 3  4]\n",
      " [ 1  4]\n",
      " [ 9 16]]\n",
      "[[ 1  2  3  4]\n",
      " [ 1  4  9 16]]\n"
     ]
    }
   ],
   "source": [
    "# if u know only the number of row/columns u want \n",
    "r = s.reshape(4,-1)\n",
    "c = s.reshape(-1,4)\n",
    "print(r)\n",
    "print(c)"
   ]
  },
  {
   "cell_type": "markdown",
   "id": "961d1d7b",
   "metadata": {},
   "source": [
    "# Numpy random moudule\n",
    "- rand\n",
    "- randn\n",
    "- randint\n",
    "- random\n",
    "- choice\n",
    "- shuffle"
   ]
  },
  {
   "cell_type": "code",
   "execution_count": 38,
   "id": "a58236b5",
   "metadata": {},
   "outputs": [
    {
     "data": {
      "text/plain": [
       "array([0, 1, 2, 3, 4, 5, 6, 7, 8, 9])"
      ]
     },
     "execution_count": 38,
     "metadata": {},
     "output_type": "execute_result"
    }
   ],
   "source": [
    "a = np.arange(10)\n",
    "a\n"
   ]
  },
  {
   "cell_type": "code",
   "execution_count": 39,
   "id": "0cb5386c",
   "metadata": {},
   "outputs": [
    {
     "name": "stdout",
     "output_type": "stream",
     "text": [
      "[2 6 9 7 5 3 4 0 8 1]\n"
     ]
    }
   ],
   "source": [
    "\n",
    "# shuffle the element of the array\n",
    "np.random.shuffle(a)\n",
    "print(a)"
   ]
  },
  {
   "cell_type": "code",
   "execution_count": 40,
   "id": "6ba1e7d7",
   "metadata": {},
   "outputs": [
    {
     "data": {
      "text/plain": [
       "array([[4.17022005e-01, 7.20324493e-01, 1.14374817e-04],\n",
       "       [3.02332573e-01, 1.46755891e-01, 9.23385948e-02]])"
      ]
     },
     "execution_count": 40,
     "metadata": {},
     "output_type": "execute_result"
    }
   ],
   "source": [
    "#to store state of random number\n",
    "np.random.seed(1)\n",
    "a = np.random.rand(2,3)\n",
    "a"
   ]
  },
  {
   "cell_type": "code",
   "execution_count": 41,
   "id": "190486f7",
   "metadata": {},
   "outputs": [
    {
     "name": "stdout",
     "output_type": "stream",
     "text": [
      "[[-0.52817175 -1.07296862  0.86540763]\n",
      " [-2.3015387   1.74481176 -0.7612069 ]]\n"
     ]
    }
   ],
   "source": [
    "# returns values from a standard normal distributions\n",
    "a = np.random.randn(2,3)\n",
    "print(a)"
   ]
  },
  {
   "cell_type": "code",
   "execution_count": 42,
   "id": "0c5f6c21",
   "metadata": {},
   "outputs": [
    {
     "data": {
      "text/plain": [
       "array([7, 8, 6, 8])"
      ]
     },
     "execution_count": 42,
     "metadata": {},
     "output_type": "execute_result"
    }
   ],
   "source": [
    "# gives specified number of elements of the given range\n",
    "a = np.random.randint(4,10,4)\n",
    "a"
   ]
  },
  {
   "cell_type": "code",
   "execution_count": 43,
   "id": "20afaab8",
   "metadata": {},
   "outputs": [
    {
     "name": "stdout",
     "output_type": "stream",
     "text": [
      "8\n"
     ]
    }
   ],
   "source": [
    "#randomly pick one element of the array\n",
    "e = np.random.choice(a)\n",
    "print(e)"
   ]
  },
  {
   "cell_type": "markdown",
   "id": "222dcd8a",
   "metadata": {},
   "source": [
    "# Some more functions - Statistics\n",
    "- min,max\n",
    "- mean\n",
    "- median\n",
    "- average\n",
    "- variance\n",
    "- standard deviation"
   ]
  },
  {
   "cell_type": "code",
   "execution_count": 44,
   "id": "e59b7c91",
   "metadata": {},
   "outputs": [
    {
     "name": "stdout",
     "output_type": "stream",
     "text": [
      "[[1 2 3 4]\n",
      " [7 6 2 0]]\n",
      "0\n",
      "[1 2 2 0]\n",
      "[1 0]\n"
     ]
    }
   ],
   "source": [
    "a = np.array([[1,2,3,4],[7,6,2,0]])\n",
    "print(a)\n",
    "print(np.min(a))\n",
    "\n",
    "#specify axis for direction in case of multidim array\n",
    "print(np.min(a, axis = 0))\n",
    "print(np.min(a, axis = 1 ))"
   ]
  },
  {
   "cell_type": "code",
   "execution_count": 45,
   "id": "553fe97d",
   "metadata": {},
   "outputs": [
    {
     "name": "stdout",
     "output_type": "stream",
     "text": [
      "3.0\n",
      "3.0\n",
      "[4.  4.  2.5 2. ]\n",
      "[2.5  3.75]\n"
     ]
    }
   ],
   "source": [
    "b = np.array([1,2,3,4,5])\n",
    "m = sum(b)/5\n",
    "print(m)\n",
    "\n",
    "print(np.mean(b))\n",
    "print(np.mean(a, axis = 0))\n",
    "print(np.mean(a, axis = 1))"
   ]
  },
  {
   "cell_type": "code",
   "execution_count": 46,
   "id": "3f76f9e9",
   "metadata": {},
   "outputs": [
    {
     "name": "stdout",
     "output_type": "stream",
     "text": [
      "2.0\n"
     ]
    }
   ],
   "source": [
    "c = np.array([1,5,4,2,0])\n",
    "print(np.median(c))"
   ]
  },
  {
   "cell_type": "code",
   "execution_count": 47,
   "id": "221a5a39",
   "metadata": {},
   "outputs": [
    {
     "name": "stdout",
     "output_type": "stream",
     "text": [
      "2.4\n",
      "2.066666666666667\n"
     ]
    }
   ],
   "source": [
    "# mean vs average\n",
    "print(np.mean(c))\n",
    "\n",
    "#weights\n",
    "w = np.array([1,2,3,4,5])\n",
    "print(np.average(c, weights=w))"
   ]
  },
  {
   "cell_type": "code",
   "execution_count": 48,
   "id": "7757e35b",
   "metadata": {},
   "outputs": [
    {
     "name": "stdout",
     "output_type": "stream",
     "text": [
      "1.854723699099141\n",
      "1.854723699099141\n",
      "3.4400000000000004\n"
     ]
    }
   ],
   "source": [
    "#standar deviation\n",
    "u = np.mean(c)\n",
    "mystd = np.sqrt(np.mean(abs(c-u)**2))\n",
    "print(mystd)\n",
    "\n",
    "dev = np.std(c)\n",
    "print(dev)\n",
    "\n",
    "var = np.var(c)\n",
    "print(var)"
   ]
  },
  {
   "cell_type": "code",
   "execution_count": 79,
   "id": "2623ab38",
   "metadata": {},
   "outputs": [],
   "source": [
    "a = np.ones((3,3))\n"
   ]
  },
  {
   "cell_type": "code",
   "execution_count": 52,
   "id": "7907bb14",
   "metadata": {},
   "outputs": [
    {
     "data": {
      "text/plain": [
       "array([1., 1., 1., 1., 1., 1., 1., 1., 1.])"
      ]
     },
     "execution_count": 52,
     "metadata": {},
     "output_type": "execute_result"
    }
   ],
   "source": [
    "a.flatten()"
   ]
  },
  {
   "cell_type": "code",
   "execution_count": 54,
   "id": "e76a3f80",
   "metadata": {},
   "outputs": [
    {
     "data": {
      "text/plain": [
       "array([1., 1., 1., 1., 1., 1., 1., 1., 1.])"
      ]
     },
     "execution_count": 54,
     "metadata": {},
     "output_type": "execute_result"
    }
   ],
   "source": [
    "a.ravel()"
   ]
  },
  {
   "cell_type": "code",
   "execution_count": 58,
   "id": "ed1a18e5",
   "metadata": {},
   "outputs": [
    {
     "data": {
      "text/plain": [
       "array([[1., 1., 1.],\n",
       "       [1., 1., 1.],\n",
       "       [1., 1., 1.]])"
      ]
     },
     "execution_count": 58,
     "metadata": {},
     "output_type": "execute_result"
    }
   ],
   "source": [
    "a"
   ]
  },
  {
   "cell_type": "code",
   "execution_count": 63,
   "id": "43e20423",
   "metadata": {},
   "outputs": [],
   "source": [
    "x =a.reshape(9,)"
   ]
  },
  {
   "cell_type": "code",
   "execution_count": 64,
   "id": "eeaa8ff4",
   "metadata": {},
   "outputs": [
    {
     "data": {
      "text/plain": [
       "array([1., 1., 1., 1., 1., 1., 1., 1., 1.])"
      ]
     },
     "execution_count": 64,
     "metadata": {},
     "output_type": "execute_result"
    }
   ],
   "source": [
    "x"
   ]
  },
  {
   "cell_type": "code",
   "execution_count": 67,
   "id": "54ff9817",
   "metadata": {},
   "outputs": [],
   "source": [
    "a.resize(9,)"
   ]
  },
  {
   "cell_type": "code",
   "execution_count": 68,
   "id": "af3560a8",
   "metadata": {},
   "outputs": [
    {
     "data": {
      "text/plain": [
       "array([1., 1., 1., 1., 1., 1., 1., 1., 1.])"
      ]
     },
     "execution_count": 68,
     "metadata": {},
     "output_type": "execute_result"
    }
   ],
   "source": [
    "a"
   ]
  },
  {
   "cell_type": "code",
   "execution_count": 70,
   "id": "67d10278",
   "metadata": {},
   "outputs": [],
   "source": [
    "b = a.copy()"
   ]
  },
  {
   "cell_type": "code",
   "execution_count": 71,
   "id": "8f302166",
   "metadata": {},
   "outputs": [
    {
     "data": {
      "text/plain": [
       "array([1., 1., 1., 1., 1., 1., 1., 1., 1.])"
      ]
     },
     "execution_count": 71,
     "metadata": {},
     "output_type": "execute_result"
    }
   ],
   "source": [
    "b"
   ]
  },
  {
   "cell_type": "code",
   "execution_count": 74,
   "id": "418c1b2c",
   "metadata": {},
   "outputs": [],
   "source": [
    "c = a.view()"
   ]
  },
  {
   "cell_type": "code",
   "execution_count": 75,
   "id": "50dbbf40",
   "metadata": {},
   "outputs": [
    {
     "data": {
      "text/plain": [
       "array([1., 1., 1., 1., 1., 1., 1., 1., 1.])"
      ]
     },
     "execution_count": 75,
     "metadata": {},
     "output_type": "execute_result"
    }
   ],
   "source": [
    "c"
   ]
  },
  {
   "cell_type": "code",
   "execution_count": 78,
   "id": "84ab671c",
   "metadata": {},
   "outputs": [],
   "source": [
    "a.view?"
   ]
  },
  {
   "cell_type": "code",
   "execution_count": 80,
   "id": "e4f1ef30",
   "metadata": {},
   "outputs": [],
   "source": [
    "l = list(a)"
   ]
  },
  {
   "cell_type": "code",
   "execution_count": 81,
   "id": "75e1e6c5",
   "metadata": {},
   "outputs": [
    {
     "data": {
      "text/plain": [
       "[array([1., 1., 1.]), array([1., 1., 1.]), array([1., 1., 1.])]"
      ]
     },
     "execution_count": 81,
     "metadata": {},
     "output_type": "execute_result"
    }
   ],
   "source": [
    "l"
   ]
  },
  {
   "cell_type": "code",
   "execution_count": 83,
   "id": "9e18c06d",
   "metadata": {},
   "outputs": [],
   "source": [
    "l = a.tolist()"
   ]
  },
  {
   "cell_type": "code",
   "execution_count": 84,
   "id": "e7761f3e",
   "metadata": {},
   "outputs": [
    {
     "data": {
      "text/plain": [
       "[[1.0, 1.0, 1.0], [1.0, 1.0, 1.0], [1.0, 1.0, 1.0]]"
      ]
     },
     "execution_count": 84,
     "metadata": {},
     "output_type": "execute_result"
    }
   ],
   "source": [
    "l"
   ]
  },
  {
   "cell_type": "code",
   "execution_count": 86,
   "id": "38e49052",
   "metadata": {},
   "outputs": [
    {
     "data": {
      "text/plain": [
       "9"
      ]
     },
     "execution_count": 86,
     "metadata": {},
     "output_type": "execute_result"
    }
   ],
   "source": [
    "a.size"
   ]
  },
  {
   "cell_type": "code",
   "execution_count": 89,
   "id": "fe1e2307",
   "metadata": {},
   "outputs": [
    {
     "data": {
      "text/plain": [
       "array([[ 6,  9,  1,  0],\n",
       "       [12,  1,  8,  8],\n",
       "       [13,  3, 10,  9],\n",
       "       [ 8, 14,  7,  3]])"
      ]
     },
     "execution_count": 89,
     "metadata": {},
     "output_type": "execute_result"
    }
   ],
   "source": [
    "d = np.random.randint(0, 15, size = (4,4))\n",
    "d"
   ]
  },
  {
   "cell_type": "code",
   "execution_count": 105,
   "id": "7fa21176",
   "metadata": {},
   "outputs": [],
   "source": [
    "x = d[(d>=5) & (d<=10)]"
   ]
  },
  {
   "cell_type": "code",
   "execution_count": 106,
   "id": "1c7ecf41",
   "metadata": {},
   "outputs": [
    {
     "name": "stdout",
     "output_type": "stream",
     "text": [
      "[ 6  9  8  8 10  9  8  7]\n"
     ]
    }
   ],
   "source": [
    "print(x)"
   ]
  },
  {
   "cell_type": "code",
   "execution_count": 111,
   "id": "a2e85421",
   "metadata": {},
   "outputs": [
    {
     "data": {
      "text/plain": [
       "array([[2],\n",
       "       [4],\n",
       "       [5],\n",
       "       [6],\n",
       "       [8]])"
      ]
     },
     "execution_count": 111,
     "metadata": {},
     "output_type": "execute_result"
    }
   ],
   "source": [
    "# transpose of a matrix\n",
    "\n",
    "x = np.array([[2],[4],[5],[6],[8]])\n",
    "x"
   ]
  },
  {
   "cell_type": "code",
   "execution_count": 110,
   "id": "c89a6b58",
   "metadata": {},
   "outputs": [
    {
     "data": {
      "text/plain": [
       "array([[2, 4, 5, 6, 8]])"
      ]
     },
     "execution_count": 110,
     "metadata": {},
     "output_type": "execute_result"
    }
   ],
   "source": [
    "x.T"
   ]
  },
  {
   "cell_type": "code",
   "execution_count": 117,
   "id": "0d843625",
   "metadata": {},
   "outputs": [],
   "source": [
    "# transpose of tensor\n",
    "t =  np.zeros((50,25,3),dtype = 'uint8')"
   ]
  },
  {
   "cell_type": "code",
   "execution_count": 118,
   "id": "6d9d3e20",
   "metadata": {},
   "outputs": [
    {
     "data": {
      "text/plain": [
       "array([[[0, 0, 0],\n",
       "        [0, 0, 0],\n",
       "        [0, 0, 0],\n",
       "        ...,\n",
       "        [0, 0, 0],\n",
       "        [0, 0, 0],\n",
       "        [0, 0, 0]],\n",
       "\n",
       "       [[0, 0, 0],\n",
       "        [0, 0, 0],\n",
       "        [0, 0, 0],\n",
       "        ...,\n",
       "        [0, 0, 0],\n",
       "        [0, 0, 0],\n",
       "        [0, 0, 0]],\n",
       "\n",
       "       [[0, 0, 0],\n",
       "        [0, 0, 0],\n",
       "        [0, 0, 0],\n",
       "        ...,\n",
       "        [0, 0, 0],\n",
       "        [0, 0, 0],\n",
       "        [0, 0, 0]],\n",
       "\n",
       "       ...,\n",
       "\n",
       "       [[0, 0, 0],\n",
       "        [0, 0, 0],\n",
       "        [0, 0, 0],\n",
       "        ...,\n",
       "        [0, 0, 0],\n",
       "        [0, 0, 0],\n",
       "        [0, 0, 0]],\n",
       "\n",
       "       [[0, 0, 0],\n",
       "        [0, 0, 0],\n",
       "        [0, 0, 0],\n",
       "        ...,\n",
       "        [0, 0, 0],\n",
       "        [0, 0, 0],\n",
       "        [0, 0, 0]],\n",
       "\n",
       "       [[0, 0, 0],\n",
       "        [0, 0, 0],\n",
       "        [0, 0, 0],\n",
       "        ...,\n",
       "        [0, 0, 0],\n",
       "        [0, 0, 0],\n",
       "        [0, 0, 0]]], dtype=uint8)"
      ]
     },
     "execution_count": 118,
     "metadata": {},
     "output_type": "execute_result"
    }
   ],
   "source": [
    "t"
   ]
  },
  {
   "cell_type": "code",
   "execution_count": 119,
   "id": "e5309ffe",
   "metadata": {},
   "outputs": [
    {
     "data": {
      "image/png": "[encoded data removed]",
      "text/plain": [
       "<Figure size 640x480 with 1 Axes>"
      ]
     },
     "metadata": {},
     "output_type": "display_data"
    }
   ],
   "source": [
    "import matplotlib.pyplot as plt\n",
    "plt.imshow(T)\n",
    "plt.show()"
   ]
  },
  {
   "cell_type": "code",
   "execution_count": 120,
   "id": "461969a7",
   "metadata": {},
   "outputs": [],
   "source": [
    "t1 = t.T"
   ]
  },
  {
   "cell_type": "code",
   "execution_count": 122,
   "id": "b614da44",
   "metadata": {},
   "outputs": [
    {
     "data": {
      "text/plain": [
       "(3, 25, 50)"
      ]
     },
     "execution_count": 122,
     "metadata": {},
     "output_type": "execute_result"
    }
   ],
   "source": [
    "t1.shape"
   ]
  },
  {
   "cell_type": "code",
   "execution_count": 123,
   "id": "f67f0ca1",
   "metadata": {},
   "outputs": [
    {
     "name": "stdout",
     "output_type": "stream",
     "text": [
      "(3, 50, 25)\n"
     ]
    }
   ],
   "source": [
    "T1 = np.transpose(t , axes = (2,0,1))  #channel first\n",
    "print(T1.shape)"
   ]
  },
  {
   "cell_type": "markdown",
   "id": "1882a877",
   "metadata": {},
   "source": [
    "# Broadcasting\n",
    "- allow to add scaler to a vector and numpy will add it to each elment in the vector\n",
    "- similarly a vector can be added to the matrix"
   ]
  },
  {
   "cell_type": "code",
   "execution_count": 124,
   "id": "b9869aec",
   "metadata": {},
   "outputs": [
    {
     "name": "stdout",
     "output_type": "stream",
     "text": [
      "[1 2 3 4]\n",
      "[5 6 7 8]\n"
     ]
    }
   ],
   "source": [
    "x = np.array([1,2,3,4])\n",
    "print(x)\n",
    "print(x+4)"
   ]
  },
  {
   "cell_type": "code",
   "execution_count": 127,
   "id": "e1d6cdf1",
   "metadata": {},
   "outputs": [
    {
     "name": "stdout",
     "output_type": "stream",
     "text": [
      "[[10 20 30 40]\n",
      " [40 50 60 70]]\n",
      "[[11 22 33 44]\n",
      " [41 52 63 74]]\n"
     ]
    }
   ],
   "source": [
    "# add each elemen of vector x to the column elements of the matrix\n",
    "X =  np.array([[10,20,30, 40],[40,50,60,70]])\n",
    "print(X)\n",
    "print(X + x)"
   ]
  },
  {
   "cell_type": "markdown",
   "id": "887bb192",
   "metadata": {},
   "source": [
    "# Matrix multiplication / dot product"
   ]
  },
  {
   "cell_type": "code",
   "execution_count": 129,
   "id": "6bb1d538",
   "metadata": {},
   "outputs": [
    {
     "data": {
      "text/plain": [
       "array([[0, 4],\n",
       "       [9, 8]])"
      ]
     },
     "execution_count": 129,
     "metadata": {},
     "output_type": "execute_result"
    }
   ],
   "source": [
    "# element wise multiplication \n",
    "a = np.array([[1,2],[3,4]])\n",
    "b = np.array([[0,2],[3,2]])\n",
    "\n",
    "a*b"
   ]
  },
  {
   "cell_type": "code",
   "execution_count": 131,
   "id": "d170ce7b",
   "metadata": {},
   "outputs": [
    {
     "name": "stdout",
     "output_type": "stream",
     "text": [
      "[[ 6  6]\n",
      " [12 14]]\n",
      "[[ 6  6]\n",
      " [12 14]]\n"
     ]
    }
   ],
   "source": [
    "# dot product\n",
    "\n",
    "print(a.dot(b))\n",
    "print(np.dot(a,b))"
   ]
  },
  {
   "cell_type": "markdown",
   "id": "6c1799e6",
   "metadata": {},
   "source": [
    "# Norms \n",
    "- euclidean distance L2\n",
    "   sqrt(xT * x)\n",
    "- l1\n",
    "\n",
    "   "
   ]
  },
  {
   "cell_type": "code",
   "execution_count": 134,
   "id": "6cc98803",
   "metadata": {},
   "outputs": [
    {
     "name": "stdout",
     "output_type": "stream",
     "text": [
      "5.0\n",
      "7.0\n",
      "4.0\n"
     ]
    }
   ],
   "source": [
    "x = np.array([3,4])\n",
    "\n",
    "# l2 normalization\n",
    "lp2 = np.linalg.norm(x)\n",
    "print(lp2)\n",
    "\n",
    "#l1 normalization\n",
    "lp1 = np.linalg.norm(x , ord = 1)\n",
    "print(lp1)\n",
    "\n",
    "lpinf = np.linalg.norm(x , ord = np.inf)\n",
    "print(lpinf)"
   ]
  },
  {
   "cell_type": "markdown",
   "id": "91f94253",
   "metadata": {},
   "source": [
    "# Determinants"
   ]
  },
  {
   "cell_type": "code",
   "execution_count": 137,
   "id": "6406c605",
   "metadata": {},
   "outputs": [
    {
     "name": "stdout",
     "output_type": "stream",
     "text": [
      "-2.0000000000000004\n"
     ]
    }
   ],
   "source": [
    "x = np.array([[1,2], [3,4]])\n",
    "det = np.linalg.det(x)\n",
    "print(det)"
   ]
  },
  {
   "cell_type": "markdown",
   "id": "b6b8e364",
   "metadata": {},
   "source": [
    "# Inverse"
   ]
  },
  {
   "cell_type": "code",
   "execution_count": 143,
   "id": "97c168ae",
   "metadata": {},
   "outputs": [
    {
     "name": "stdout",
     "output_type": "stream",
     "text": [
      "[[-2.   1. ]\n",
      " [ 1.5 -0.5]]\n",
      "[[1.0000000e+00 0.0000000e+00]\n",
      " [8.8817842e-16 1.0000000e+00]]\n",
      "[[0.048 0.024]\n",
      " [0.064 0.032]]\n"
     ]
    }
   ],
   "source": [
    "x_inv = np.linalg.inv(x)\n",
    "print(x_inv)\n",
    "print(x.dot(x_inv))\n",
    "\n",
    "# singular matrix of which inverse don't exist\n",
    "y = np.array([[6,8],[3,4]])\n",
    "# psudo inverse \n",
    "pinv = np.linalg.pinv(y)\n",
    "print(pinv)"
   ]
  },
  {
   "cell_type": "markdown",
   "id": "5853a591",
   "metadata": {},
   "source": [
    "# Solve a system of linear equation"
   ]
  },
  {
   "cell_type": "code",
   "execution_count": 145,
   "id": "b64e3cdc",
   "metadata": {},
   "outputs": [],
   "source": [
    "# equatin 2x + 3y = 8 , 3x + y =5\n",
    "\n",
    "a = np.array([[2,3], [3,1]])\n",
    "b = np.array([8,5])"
   ]
  },
  {
   "cell_type": "code",
   "execution_count": 146,
   "id": "9d3d5190",
   "metadata": {},
   "outputs": [
    {
     "data": {
      "text/plain": [
       "array([1., 2.])"
      ]
     },
     "execution_count": 146,
     "metadata": {},
     "output_type": "execute_result"
    }
   ],
   "source": [
    "np.linalg.solve(a,b)"
   ]
  }
 ],
 "metadata": {
  "kernelspec": {
   "display_name": "Python 3 (ipykernel)",
   "language": "python",
   "name": "python3"
  },
  "language_info": {
   "codemirror_mode": {
    "name": "ipython",
    "version": 3
   },
   "file_extension": ".py",
   "mimetype": "text/x-python",
   "name": "python",
   "nbconvert_exporter": "python",
   "pygments_lexer": "ipython3",
   "version": "3.11.4"
  }
 },
 "nbformat": 4,
 "nbformat_minor": 5
}
