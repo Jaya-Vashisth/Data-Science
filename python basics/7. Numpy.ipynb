{
 "cells": [
  {
   "cell_type": "markdown",
   "id": "35237f6b",
   "metadata": {},
   "source": [
    "# Numpy"
   ]
  },
  {
   "cell_type": "code",
   "execution_count": 1,
   "id": "ff6f6498",
   "metadata": {},
   "outputs": [],
   "source": [
    "import numpy as np"
   ]
  },
  {
   "cell_type": "code",
   "execution_count": 2,
   "id": "be399135",
   "metadata": {},
   "outputs": [],
   "source": [
    "# Few important function in numpy"
   ]
  },
  {
   "cell_type": "code",
   "execution_count": 3,
   "id": "73a3335d",
   "metadata": {},
   "outputs": [],
   "source": [
    "a = np.array([1, 3, 5, 7])"
   ]
  },
  {
   "cell_type": "code",
   "execution_count": 4,
   "id": "391b3eed",
   "metadata": {},
   "outputs": [
    {
     "name": "stdout",
     "output_type": "stream",
     "text": [
      "<class 'numpy.ndarray'>\n"
     ]
    }
   ],
   "source": [
    "print(type(a))"
   ]
  },
  {
   "cell_type": "code",
   "execution_count": 5,
   "id": "43fddfdb",
   "metadata": {},
   "outputs": [
    {
     "data": {
      "text/plain": [
       "(4,)"
      ]
     },
     "execution_count": 5,
     "metadata": {},
     "output_type": "execute_result"
    }
   ],
   "source": [
    "a.shape"
   ]
  },
  {
   "cell_type": "code",
   "execution_count": 6,
   "id": "c1b74c89",
   "metadata": {},
   "outputs": [],
   "source": [
    "b = np.array([[1, 3, 4, 6],[3,4,5,6]])"
   ]
  },
  {
   "cell_type": "code",
   "execution_count": 7,
   "id": "e9dee86f",
   "metadata": {},
   "outputs": [
    {
     "data": {
      "text/plain": [
       "(2, 4)"
      ]
     },
     "execution_count": 7,
     "metadata": {},
     "output_type": "execute_result"
    }
   ],
   "source": [
    "b.shape"
   ]
  },
  {
   "cell_type": "code",
   "execution_count": 8,
   "id": "aaaf982e",
   "metadata": {},
   "outputs": [
    {
     "data": {
      "text/plain": [
       "array([[62, 71],\n",
       "       [71, 86]])"
      ]
     },
     "execution_count": 8,
     "metadata": {},
     "output_type": "execute_result"
    }
   ],
   "source": [
    "np.dot(b,b.T)  # dot product of two arrays"
   ]
  },
  {
   "cell_type": "code",
   "execution_count": 18,
   "id": "d9c52a4d",
   "metadata": {},
   "outputs": [
    {
     "data": {
      "text/plain": [
       "array([65, 71, 85, 82, 90, 87, 77, 69, 90, 60])"
      ]
     },
     "execution_count": 18,
     "metadata": {},
     "output_type": "execute_result"
    }
   ],
   "source": [
    "np.random.randint(60, 100, 10)\n"
   ]
  },
  {
   "cell_type": "code",
   "execution_count": 20,
   "id": "f70d5eea",
   "metadata": {},
   "outputs": [],
   "source": [
    "matrix = np.random.randint(60, 100, (5,5))"
   ]
  },
  {
   "cell_type": "code",
   "execution_count": 21,
   "id": "858712ad",
   "metadata": {},
   "outputs": [
    {
     "data": {
      "text/plain": [
       "array([[62, 68, 76, 63, 71],\n",
       "       [89, 96, 80, 63, 88],\n",
       "       [74, 95, 84, 68, 96],\n",
       "       [89, 89, 88, 64, 62],\n",
       "       [96, 93, 92, 67, 71]])"
      ]
     },
     "execution_count": 21,
     "metadata": {},
     "output_type": "execute_result"
    }
   ],
   "source": [
    "matrix"
   ]
  },
  {
   "cell_type": "code",
   "execution_count": 22,
   "id": "57add9aa",
   "metadata": {},
   "outputs": [
    {
     "data": {
      "text/plain": [
       "96"
      ]
     },
     "execution_count": 22,
     "metadata": {},
     "output_type": "execute_result"
    }
   ],
   "source": [
    "np.max(matrix)  #max element"
   ]
  },
  {
   "cell_type": "code",
   "execution_count": 23,
   "id": "e3a1e067",
   "metadata": {},
   "outputs": [
    {
     "data": {
      "text/plain": [
       "62"
      ]
     },
     "execution_count": 23,
     "metadata": {},
     "output_type": "execute_result"
    }
   ],
   "source": [
    "np.min(matrix) # min element"
   ]
  },
  {
   "cell_type": "code",
   "execution_count": 28,
   "id": "ca3901a9",
   "metadata": {},
   "outputs": [],
   "source": [
    "a = np.array([1, 3, 8, 1, 6, 6, 6, 6, 11, 3])"
   ]
  },
  {
   "cell_type": "code",
   "execution_count": 29,
   "id": "5c6fce1d",
   "metadata": {},
   "outputs": [
    {
     "data": {
      "text/plain": [
       "8"
      ]
     },
     "execution_count": 29,
     "metadata": {},
     "output_type": "execute_result"
    }
   ],
   "source": [
    "np.argmax(a)  # return index of the largest element"
   ]
  },
  {
   "cell_type": "code",
   "execution_count": 30,
   "id": "c1552a1a",
   "metadata": {},
   "outputs": [
    {
     "data": {
      "text/plain": [
       "0"
      ]
     },
     "execution_count": 30,
     "metadata": {},
     "output_type": "execute_result"
    }
   ],
   "source": [
    "np.argmin(a)  # index where the smallest element is appearing"
   ]
  },
  {
   "cell_type": "code",
   "execution_count": 43,
   "id": "670ae920",
   "metadata": {},
   "outputs": [
    {
     "data": {
      "text/plain": [
       "(array([ 1,  3,  6,  8, 11]),\n",
       " array([0, 1, 4, 2, 8], dtype=int64),\n",
       " array([2, 2, 4, 1, 1], dtype=int64))"
      ]
     },
     "execution_count": 43,
     "metadata": {},
     "output_type": "execute_result"
    }
   ],
   "source": [
    "# unique values present in the array\n",
    "b = np.unique(a, return_index = True, return_counts=True,)\n",
    "b"
   ]
  },
  {
   "cell_type": "code",
   "execution_count": 50,
   "id": "e6f4bade",
   "metadata": {},
   "outputs": [
    {
     "data": {
      "text/plain": [
       "6"
      ]
     },
     "execution_count": 50,
     "metadata": {},
     "output_type": "execute_result"
    }
   ],
   "source": [
    "# to find the element with the highest frequency\n",
    "indx = np.argmax(b[2])  # return index of element with highest frequency\n",
    "result = b[0][indx]  # to fetch the element from b which has 3 elements\n",
    "result"
   ]
  },
  {
   "cell_type": "code",
   "execution_count": 51,
   "id": "4d48b856",
   "metadata": {},
   "outputs": [
    {
     "data": {
      "text/plain": [
       "array([[62, 68, 76, 63, 71],\n",
       "       [89, 96, 80, 63, 88],\n",
       "       [74, 95, 84, 68, 96],\n",
       "       [89, 89, 88, 64, 62],\n",
       "       [96, 93, 92, 67, 71]])"
      ]
     },
     "execution_count": 51,
     "metadata": {},
     "output_type": "execute_result"
    }
   ],
   "source": [
    "# slicing in the array(1D, 2D, 3D)\n",
    "\n",
    "matrix"
   ]
  },
  {
   "cell_type": "code",
   "execution_count": 52,
   "id": "5802b465",
   "metadata": {},
   "outputs": [
    {
     "data": {
      "text/plain": [
       "array([[95, 84],\n",
       "       [89, 88]])"
      ]
     },
     "execution_count": 52,
     "metadata": {},
     "output_type": "execute_result"
    }
   ],
   "source": [
    "# extract element from row 2,3 and coulumn 1,2\n",
    "\n",
    "matrix[2:4, 1:3]"
   ]
  },
  {
   "cell_type": "code",
   "execution_count": null,
   "id": "04232bd4",
   "metadata": {},
   "outputs": [],
   "source": []
  },
  {
   "cell_type": "code",
   "execution_count": null,
   "id": "2bed5426",
   "metadata": {},
   "outputs": [],
   "source": []
  }
 ],
 "metadata": {
  "kernelspec": {
   "display_name": "Python 3 (ipykernel)",
   "language": "python",
   "name": "python3"
  },
  "language_info": {
   "codemirror_mode": {
    "name": "ipython",
    "version": 3
   },
   "file_extension": ".py",
   "mimetype": "text/x-python",
   "name": "python",
   "nbconvert_exporter": "python",
   "pygments_lexer": "ipython3",
   "version": "3.11.4"
  }
 },
 "nbformat": 4,
 "nbformat_minor": 5
}
